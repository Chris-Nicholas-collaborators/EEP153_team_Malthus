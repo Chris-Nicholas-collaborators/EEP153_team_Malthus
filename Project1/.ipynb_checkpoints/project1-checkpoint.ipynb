{
 "cells": [
  {
   "cell_type": "markdown",
   "metadata": {},
   "source": []
  },
  {
   "cell_type": "markdown",
   "metadata": {},
   "source": [
    "## Project 1 - Team Malthus\n",
    "### Introduction\n",
    "For our project, our group is focusing on ...\n",
    "### Import Libraries"
   ]
  },
  {
   "cell_type": "code",
   "execution_count": 21,
   "metadata": {},
   "outputs": [
    {
     "data": {
      "text/html": [
       "        <script type=\"text/javascript\">\n",
       "        window.PlotlyConfig = {MathJaxConfig: 'local'};\n",
       "        if (window.MathJax && window.MathJax.Hub && window.MathJax.Hub.Config) {window.MathJax.Hub.Config({SVG: {font: \"STIX-Web\"}});}\n",
       "        if (typeof require !== 'undefined') {\n",
       "        require.undef(\"plotly\");\n",
       "        requirejs.config({\n",
       "            paths: {\n",
       "                'plotly': ['https://cdn.plot.ly/plotly-2.27.0.min']\n",
       "            }\n",
       "        });\n",
       "        require(['plotly'], function(Plotly) {\n",
       "            window._Plotly = Plotly;\n",
       "        });\n",
       "        }\n",
       "        </script>\n",
       "        "
      ]
     },
     "metadata": {},
     "output_type": "display_data"
    }
   ],
   "source": [
    "import wbdata\n",
    "import pandas as pd\n",
    "import datetime\n",
    "import cufflinks as cf\n",
    "cf.go_offline()"
   ]
  },
  {
   "cell_type": "markdown",
   "metadata": {},
   "source": [
    "### Load Data"
   ]
  },
  {
   "cell_type": "code",
   "execution_count": 4,
   "metadata": {},
   "outputs": [
    {
     "data": {
      "text/plain": [
       "  id  name\n",
       "----  --------------------------------------------------------------------\n",
       "   1  Doing Business\n",
       "   2  World Development Indicators\n",
       "   3  Worldwide Governance Indicators\n",
       "   5  Subnational Malnutrition Database\n",
       "   6  International Debt Statistics\n",
       "  11  Africa Development Indicators\n",
       "  12  Education Statistics\n",
       "  13  Enterprise Surveys\n",
       "  14  Gender Statistics\n",
       "  15  Global Economic Monitor\n",
       "  16  Health Nutrition and Population Statistics\n",
       "  18  IDA Results Measurement System\n",
       "  19  Millennium Development Goals\n",
       "  20  Quarterly Public Sector Debt\n",
       "  22  Quarterly External Debt Statistics SDDS\n",
       "  23  Quarterly External Debt Statistics GDDS\n",
       "  25  Jobs\n",
       "  27  Global Economic Prospects\n",
       "  28  Global Financial Inclusion\n",
       "  29  The Atlas of Social Protection: Indicators of Resilience and Equity\n",
       "  30  Exporter Dynamics Database – Indicators at Country-Year Level\n",
       "  31  Country Policy and Institutional Assessment\n",
       "  32  Global Financial Development\n",
       "  33  G20 Financial Inclusion Indicators\n",
       "  34  Global Partnership for Education\n",
       "  35  Sustainable Energy for All\n",
       "  37  LAC Equity Lab\n",
       "  38  Subnational Poverty\n",
       "  39  Health Nutrition and Population Statistics by Wealth Quintile\n",
       "  40  Population estimates and projections\n",
       "  41  Country Partnership Strategy for India (FY2013 - 17)\n",
       "  43  Adjusted Net Savings\n",
       "  45  Indonesia Database for Policy and Economic Research\n",
       "  46  Sustainable Development Goals\n",
       "  50  Subnational Population\n",
       "  54  Joint External Debt Hub\n",
       "  57  WDI Database Archives\n",
       "  58  Universal Health Coverage\n",
       "  59  Wealth Accounts\n",
       "  60  Economic Fitness\n",
       "  61  PPPs Regulatory Quality\n",
       "  62  International Comparison Program (ICP) 2011\n",
       "  63  Human Capital Index\n",
       "  64  Worldwide Bureaucracy Indicators\n",
       "  65  Health Equity and Financial Protection Indicators\n",
       "  66  Logistics Performance Index\n",
       "  67  PEFA 2011\n",
       "  68  PEFA 2016\n",
       "  69  Global Financial Inclusion and Consumer Protection Survey\n",
       "  70  Economic Fitness 2\n",
       "  71  International Comparison Program (ICP) 2005\n",
       "  73  Global Financial Inclusion and Consumer Protection Survey (Internal)\n",
       "  75  Environment, Social and Governance (ESG) Data\n",
       "  76  Remittance Prices Worldwide (Sending Countries)\n",
       "  77  Remittance Prices Worldwide (Receiving Countries)\n",
       "  78  ICP 2017\n",
       "  79  PEFA_GRPFM\n",
       "  80  Gender Disaggregated Labor Database (GDLD)\n",
       "  81  International Debt Statistics: DSSI\n",
       "  82  Global Public Procurement\n",
       "  83  Statistical Performance Indicators (SPI)\n",
       "  84  Education Policy\n",
       "  85  PEFA_2021_SNG\n",
       "  86  Global Jobs Indicators Database (JOIN)\n",
       "  87  Country Climate and Development Report (CCDR)\n",
       "  88  Food Prices for Nutrition\n",
       "  89  Identification for Development (ID4D) Data"
      ]
     },
     "execution_count": 4,
     "metadata": {},
     "output_type": "execute_result"
    }
   ],
   "source": [
    "wbdata.get_source()                                                           "
   ]
  },
  {
   "cell_type": "code",
   "execution_count": 5,
   "metadata": {},
   "outputs": [
    {
     "data": {
      "text/plain": [
       "id                 name\n",
       "-----------------  -------------------------------------------------------------------\n",
       "SH.DTH.0509        Number of deaths ages 5-9 years\n",
       "SH.DTH.0514        Number of deaths ages 5-14 years\n",
       "SH.DTH.1014        Number of deaths ages 10-14 years\n",
       "SH.DTH.1019        Number of deaths ages 10-19 years\n",
       "SH.DTH.1519        Number of deaths ages 15-19 years\n",
       "SH.DTH.2024        Number of deaths ages 20-24 years\n",
       "SH.DTH.IMRT        Number of infant deaths\n",
       "SH.DTH.IMRT.FE     Number of infant deaths, female\n",
       "SH.DTH.IMRT.MA     Number of infant deaths, male\n",
       "SH.DTH.MORT        Number of under-five deaths\n",
       "SH.DTH.MORT.FE     Number of under-five deaths, female\n",
       "SH.DTH.MORT.MA     Number of under-five deaths, male\n",
       "SH.DTH.NMRT        Number of neonatal deaths\n",
       "SH.DYN.0509        Probability of dying among children ages 5-9 years (per 1,000)\n",
       "SH.DYN.0514        Probability of dying at age 5-14 years (per 1,000 children age 5)\n",
       "SH.DYN.1014        Probability of dying among adolescents ages 10-14 years (per 1,000)\n",
       "SH.DYN.1019        Probability of dying among adolescents ages 10-19 years (per 1,000)\n",
       "SH.DYN.1519        Probability of dying among adolescents ages 15-19 years (per 1,000)\n",
       "SH.DYN.2024        Probability of dying among youth ages 20-24 years (per 1,000)\n",
       "SH.DYN.MORT        Mortality rate, under-5 (per 1,000 live births)\n",
       "SH.DYN.MORT.FE     Mortality rate, under-5, female (per 1,000 live births)\n",
       "SH.DYN.MORT.MA     Mortality rate, under-5, male (per 1,000 live births)\n",
       "SH.DYN.NMRT        Mortality rate, neonatal (per 1,000 live births)\n",
       "SM.POP.NETM        Net migration\n",
       "SP.DYN.AMRT.FE     Mortality rate, adult, female (per 1,000 female adults)\n",
       "SP.DYN.AMRT.MA     Mortality rate, adult, male (per 1,000 male adults)\n",
       "SP.DYN.CBRT.IN     Birth rate, crude (per 1,000 people)\n",
       "SP.DYN.CDRT.IN     Death rate, crude (per 1,000 people)\n",
       "SP.DYN.IMRT.FE.IN  Mortality rate, infant, female (per 1,000 live births)\n",
       "SP.DYN.IMRT.IN     Mortality rate, infant (per 1,000 live births)\n",
       "SP.DYN.IMRT.MA.IN  Mortality rate, infant, male (per 1,000 live births)\n",
       "SP.DYN.LE00.FE.IN  Life expectancy at birth, female (years)\n",
       "SP.DYN.LE00.IN     Life expectancy at birth, total (years)\n",
       "SP.DYN.LE00.MA.IN  Life expectancy at birth, male (years)\n",
       "SP.DYN.TFRT.IN     Fertility rate, total (births per woman)\n",
       "SP.POP.0004.FE     Population ages 00-04, female\n",
       "SP.POP.0004.FE.5Y  Population ages 00-04, female (% of female population)\n",
       "SP.POP.0004.MA     Population ages 00-04, male\n",
       "SP.POP.0004.MA.5Y  Population ages 00-04, male (% of male population)\n",
       "SP.POP.0014.FE.IN  Population ages 0-14, female\n",
       "SP.POP.0014.FE.ZS  Population ages 0-14, female (% of female population)\n",
       "SP.POP.0014.MA.IN  Population ages 0-14, male\n",
       "SP.POP.0014.MA.ZS  Population ages 0-14, male (% of male population)\n",
       "SP.POP.0014.TO     Population ages 0-14, total\n",
       "SP.POP.0014.TO.ZS  Population ages 0-14 (% of total population)\n",
       "SP.POP.0509.FE     Population ages 05-09, female\n",
       "SP.POP.0509.FE.5Y  Population ages 05-09, female (% of female population)\n",
       "SP.POP.0509.MA     Population ages 05-09, male\n",
       "SP.POP.0509.MA.5Y  Population ages 05-09, male (% of male population)\n",
       "SP.POP.1014.FE     Population ages 10-14, female\n",
       "SP.POP.1014.FE.5Y  Population ages 10-14, female (% of female population)\n",
       "SP.POP.1014.MA     Population ages 10-14, male\n",
       "SP.POP.1014.MA.5Y  Population ages 10-14, male (% of male population)\n",
       "SP.POP.1519.FE     Population ages 15-19, female\n",
       "SP.POP.1519.FE.5Y  Population ages 15-19, female (% of female population)\n",
       "SP.POP.1519.MA     Population ages 15-19, male\n",
       "SP.POP.1519.MA.5Y  Population ages 15-19, male (% of male population)\n",
       "SP.POP.1564.FE.IN  Population ages 15-64, female\n",
       "SP.POP.1564.FE.ZS  Population ages 15-64, female (% of female population)\n",
       "SP.POP.1564.MA.IN  Population ages 15-64, male\n",
       "SP.POP.1564.MA.ZS  Population ages 15-64, male (% of male population)\n",
       "SP.POP.1564.TO     Population ages 15-64, total\n",
       "SP.POP.1564.TO.ZS  Population ages 15-64 (% of total population)\n",
       "SP.POP.2024.FE     Population ages 20-24, female\n",
       "SP.POP.2024.FE.5Y  Population ages 20-24, female (% of female population)\n",
       "SP.POP.2024.MA     Population ages 20-24, male\n",
       "SP.POP.2024.MA.5Y  Population ages 20-24, male (% of male population)\n",
       "SP.POP.2529.FE     Population ages 25-29, female\n",
       "SP.POP.2529.FE.5Y  Population ages 25-29, female (% of female population)\n",
       "SP.POP.2529.MA     Population ages 25-29, male\n",
       "SP.POP.2529.MA.5Y  Population ages 25-29, male (% of male population)\n",
       "SP.POP.3034.FE     Population ages 30-34, female\n",
       "SP.POP.3034.FE.5Y  Population ages 30-34, female (% of female population)\n",
       "SP.POP.3034.MA     Population ages 30-34, male\n",
       "SP.POP.3034.MA.5Y  Population ages 30-34, male (% of male population)\n",
       "SP.POP.3539.FE     Population ages 35-39, female\n",
       "SP.POP.3539.FE.5Y  Population ages 35-39, female (% of female population)\n",
       "SP.POP.3539.MA     Population ages 35-39, male\n",
       "SP.POP.3539.MA.5Y  Population ages 35-39, male (% of male population)\n",
       "SP.POP.4044.FE     Population ages 40-44, female\n",
       "SP.POP.4044.FE.5Y  Population ages 40-44, female (% of female population)\n",
       "SP.POP.4044.MA     Population ages 40-44, male\n",
       "SP.POP.4044.MA.5Y  Population ages 40-44, male (% of male population)\n",
       "SP.POP.4549.FE     Population ages 45-49, female\n",
       "SP.POP.4549.FE.5Y  Population ages 45-49, female (% of female population)\n",
       "SP.POP.4549.MA     Population ages 45-49, male\n",
       "SP.POP.4549.MA.5Y  Population ages 45-49, male (% of male population)\n",
       "SP.POP.5054.FE     Population ages 50-54, female\n",
       "SP.POP.5054.FE.5Y  Population ages 50-54, female (% of female population)\n",
       "SP.POP.5054.MA     Population ages 50-54, male\n",
       "SP.POP.5054.MA.5Y  Population ages 50-54, male (% of male population)\n",
       "SP.POP.5559.FE     Population ages 55-59, female\n",
       "SP.POP.5559.FE.5Y  Population ages 55-59, female (% of female population)\n",
       "SP.POP.5559.MA     Population ages 55-59, male\n",
       "SP.POP.5559.MA.5Y  Population ages 55-59, male (% of male population)\n",
       "SP.POP.6064.FE     Population ages 60-64, female\n",
       "SP.POP.6064.FE.5Y  Population ages 60-64, female (% of female population)\n",
       "SP.POP.6064.MA     Population ages 60-64, male\n",
       "SP.POP.6064.MA.5Y  Population ages 60-64, male (% of male population)\n",
       "SP.POP.6569.FE     Population ages 65-69, female\n",
       "SP.POP.6569.FE.5Y  Population ages 65-69, female (% of female population)\n",
       "SP.POP.6569.MA     Population ages 65-69, male\n",
       "SP.POP.6569.MA.5Y  Population ages 65-69, male (% of male population)\n",
       "SP.POP.65UP.FE.IN  Population ages 65 and above, female\n",
       "SP.POP.65UP.FE.ZS  Population ages 65 and above, female (% of female population)\n",
       "SP.POP.65UP.MA.IN  Population ages 65 and above, male\n",
       "SP.POP.65UP.MA.ZS  Population ages 65 and above, male (% of male population)\n",
       "SP.POP.65UP.TO     Population ages 65 and above, total\n",
       "SP.POP.65UP.TO.ZS  Population ages 65 and above (% of total population)\n",
       "SP.POP.7074.FE     Population ages 70-74, female\n",
       "SP.POP.7074.FE.5Y  Population ages 70-74, female (% of female population)\n",
       "SP.POP.7074.MA     Population ages 70-74, male\n",
       "SP.POP.7074.MA.5Y  Population ages 70-74, male (% of male population)\n",
       "SP.POP.7579.FE     Population ages 75-79, female\n",
       "SP.POP.7579.FE.5Y  Population ages 75-79, female (% of female population)\n",
       "SP.POP.7579.MA     Population ages 75-79, male\n",
       "SP.POP.7579.MA.5Y  Population ages 75-79, male (% of male population)\n",
       "SP.POP.80UP.FE     Population ages 80 and above, female\n",
       "SP.POP.80UP.FE.5Y  Population ages 80 and above, female (% of female population)\n",
       "SP.POP.80UP.MA     Population ages 80 and above, male\n",
       "SP.POP.80UP.MA.5Y  Population ages 80 and above, male (% of male population)\n",
       "SP.POP.AG00.FE.IN  Age population, age 00, female, interpolated\n",
       "SP.POP.AG00.MA.IN  Age population, age 00, male, interpolated\n",
       "SP.POP.AG01.FE.IN  Age population, age 01, female, interpolated\n",
       "SP.POP.AG01.MA.IN  Age population, age 01, male, interpolated\n",
       "SP.POP.AG02.FE.IN  Age population, age 02, female, interpolated\n",
       "SP.POP.AG02.MA.IN  Age population, age 02, male, interpolated\n",
       "SP.POP.AG03.FE.IN  Age population, age 03, female, interpolated\n",
       "SP.POP.AG03.MA.IN  Age population, age 03, male, interpolated\n",
       "SP.POP.AG04.FE.IN  Age population, age 04, female, interpolated\n",
       "SP.POP.AG04.MA.IN  Age population, age 04, male, interpolated\n",
       "SP.POP.AG05.FE.IN  Age population, age 05, female, interpolated\n",
       "SP.POP.AG05.MA.IN  Age population, age 05, male, interpolated\n",
       "SP.POP.AG06.FE.IN  Age population, age 06, female, interpolated\n",
       "SP.POP.AG06.MA.IN  Age population, age 06, male, interpolated\n",
       "SP.POP.AG07.FE.IN  Age population, age 07, female, interpolated\n",
       "SP.POP.AG07.MA.IN  Age population, age 07, male, interpolated\n",
       "SP.POP.AG08.FE.IN  Age population, age 08, female, interpolated\n",
       "SP.POP.AG08.MA.IN  Age population, age 08, male, interpolated\n",
       "SP.POP.AG09.FE.IN  Age population, age 09, female, interpolated\n",
       "SP.POP.AG09.MA.IN  Age population, age 09, male, interpolated\n",
       "SP.POP.AG10.FE.IN  Age population, age 10, female, interpolated\n",
       "SP.POP.AG10.MA.IN  Age population, age 10, male, interpolated\n",
       "SP.POP.AG11.FE.IN  Age population, age 11, female, interpolated\n",
       "SP.POP.AG11.MA.IN  Age population, age 11, male, interpolated\n",
       "SP.POP.AG12.FE.IN  Age population, age 12, female, interpolated\n",
       "SP.POP.AG12.MA.IN  Age population, age 12, male, interpolated\n",
       "SP.POP.AG13.FE.IN  Age population, age 13, female, interpolated\n",
       "SP.POP.AG13.MA.IN  Age population, age 13, male, interpolated\n",
       "SP.POP.AG14.FE.IN  Age population, age 14, female, interpolated\n",
       "SP.POP.AG14.MA.IN  Age population, age 14, male, interpolated\n",
       "SP.POP.AG15.FE.IN  Age population, age 15, female, interpolated\n",
       "SP.POP.AG15.MA.IN  Age population, age 15, male, interpolated\n",
       "SP.POP.AG16.FE.IN  Age population, age 16, female, interpolated\n",
       "SP.POP.AG16.MA.IN  Age population, age 16, male, interpolated\n",
       "SP.POP.AG17.FE.IN  Age population, age 17, female, interpolated\n",
       "SP.POP.AG17.MA.IN  Age population, age 17, male, interpolated\n",
       "SP.POP.AG18.FE.IN  Age population, age 18, female, interpolated\n",
       "SP.POP.AG18.MA.IN  Age population, age 18, male, interpolated\n",
       "SP.POP.AG19.FE.IN  Age population, age 19, female, interpolated\n",
       "SP.POP.AG19.MA.IN  Age population, age 19, male, interpolated\n",
       "SP.POP.AG20.FE.IN  Age population, age 20, female, interpolated\n",
       "SP.POP.AG20.MA.IN  Age population, age 20, male, interpolated\n",
       "SP.POP.AG21.FE.IN  Age population, age 21, female, interpolated\n",
       "SP.POP.AG21.MA.IN  Age population, age 21, male, interpolated\n",
       "SP.POP.AG22.FE.IN  Age population, age 22, female, interpolated\n",
       "SP.POP.AG22.MA.IN  Age population, age 22, male, interpolated\n",
       "SP.POP.AG23.FE.IN  Age population, age 23, female, interpolated\n",
       "SP.POP.AG23.MA.IN  Age population, age 23, male, interpolated\n",
       "SP.POP.AG24.FE.IN  Age population, age 24, female, interpolated\n",
       "SP.POP.AG24.MA.IN  Age population, age 24, male, interpolated\n",
       "SP.POP.AG25.FE.IN  Age population, age 25, female, interpolated\n",
       "SP.POP.AG25.MA.IN  Age population, age 25, male, interpolated\n",
       "SP.POP.BRTH.MF     Sex ratio at birth (male births per female births)\n",
       "SP.POP.DPND        Age dependency ratio (% of working-age population)\n",
       "SP.POP.DPND.OL     Age dependency ratio, old (% of working-age population)\n",
       "SP.POP.DPND.YG     Age dependency ratio, young (% of working-age population)\n",
       "SP.POP.GROW        Population growth (annual %)\n",
       "SP.POP.TOTL        Population, total\n",
       "SP.POP.TOTL.FE.IN  Population, female\n",
       "SP.POP.TOTL.FE.ZS  Population, female (% of total population)\n",
       "SP.POP.TOTL.MA.IN  Population, male\n",
       "SP.POP.TOTL.MA.ZS  Population, male (% of total population)\n",
       "SP.RUR.TOTL        Rural population\n",
       "SP.RUR.TOTL.ZG     Rural population growth (annual %)\n",
       "SP.RUR.TOTL.ZS     Rural population (% of total population)\n",
       "SP.URB.GROW        Urban population growth (annual %)\n",
       "SP.URB.TOTL        Urban population\n",
       "SP.URB.TOTL.IN.ZS  Urban population (% of total population)"
      ]
     },
     "execution_count": 5,
     "metadata": {},
     "output_type": "execute_result"
    }
   ],
   "source": [
    "#  40  Population estimates and projections\n",
    "\n",
    "wbdata.get_indicator(source=40) "
   ]
  },
  {
   "cell_type": "code",
   "execution_count": 7,
   "metadata": {},
   "outputs": [
    {
     "data": {
      "text/plain": [
       "[{'indicator': {'id': 'SP.POP.GROW', 'value': 'Population growth (annual %)'},\n",
       "  'country': {'id': 'NA', 'value': 'Namibia'},\n",
       "  'countryiso3code': 'NAM',\n",
       "  'date': '2022',\n",
       "  'value': 1.44635918427576,\n",
       "  'unit': '',\n",
       "  'obs_status': '',\n",
       "  'decimal': 1},\n",
       " {'indicator': {'id': 'SP.POP.GROW', 'value': 'Population growth (annual %)'},\n",
       "  'country': {'id': 'NA', 'value': 'Namibia'},\n",
       "  'countryiso3code': 'NAM',\n",
       "  'date': '2021',\n",
       "  'value': 1.63585889002733,\n",
       "  'unit': '',\n",
       "  'obs_status': '',\n",
       "  'decimal': 1},\n",
       " {'indicator': {'id': 'SP.POP.GROW', 'value': 'Population growth (annual %)'},\n",
       "  'country': {'id': 'NA', 'value': 'Namibia'},\n",
       "  'countryiso3code': 'NAM',\n",
       "  'date': '2020',\n",
       "  'value': 1.72031062423917,\n",
       "  'unit': '',\n",
       "  'obs_status': '',\n",
       "  'decimal': 1},\n",
       " {'indicator': {'id': 'SP.POP.GROW', 'value': 'Population growth (annual %)'},\n",
       "  'country': {'id': 'NA', 'value': 'Namibia'},\n",
       "  'countryiso3code': 'NAM',\n",
       "  'date': '2019',\n",
       "  'value': 1.68846817343864,\n",
       "  'unit': '',\n",
       "  'obs_status': '',\n",
       "  'decimal': 1},\n",
       " {'indicator': {'id': 'SP.POP.GROW', 'value': 'Population growth (annual %)'},\n",
       "  'country': {'id': 'NA', 'value': 'Namibia'},\n",
       "  'countryiso3code': 'NAM',\n",
       "  'date': '2018',\n",
       "  'value': 1.72516455160384,\n",
       "  'unit': '',\n",
       "  'obs_status': '',\n",
       "  'decimal': 1},\n",
       " {'indicator': {'id': 'SP.POP.GROW', 'value': 'Population growth (annual %)'},\n",
       "  'country': {'id': 'NA', 'value': 'Namibia'},\n",
       "  'countryiso3code': 'NAM',\n",
       "  'date': '2017',\n",
       "  'value': 1.75699918544662,\n",
       "  'unit': '',\n",
       "  'obs_status': '',\n",
       "  'decimal': 1},\n",
       " {'indicator': {'id': 'SP.POP.GROW', 'value': 'Population growth (annual %)'},\n",
       "  'country': {'id': 'NA', 'value': 'Namibia'},\n",
       "  'countryiso3code': 'NAM',\n",
       "  'date': '2016',\n",
       "  'value': 1.76502653275581,\n",
       "  'unit': '',\n",
       "  'obs_status': '',\n",
       "  'decimal': 1},\n",
       " {'indicator': {'id': 'SP.POP.GROW', 'value': 'Population growth (annual %)'},\n",
       "  'country': {'id': 'NA', 'value': 'Namibia'},\n",
       "  'countryiso3code': 'NAM',\n",
       "  'date': '2015',\n",
       "  'value': 1.75460038083267,\n",
       "  'unit': '',\n",
       "  'obs_status': '',\n",
       "  'decimal': 1},\n",
       " {'indicator': {'id': 'SP.POP.GROW', 'value': 'Population growth (annual %)'},\n",
       "  'country': {'id': 'NA', 'value': 'Namibia'},\n",
       "  'countryiso3code': 'NAM',\n",
       "  'date': '2014',\n",
       "  'value': 1.73094393878771,\n",
       "  'unit': '',\n",
       "  'obs_status': '',\n",
       "  'decimal': 1},\n",
       " {'indicator': {'id': 'SP.POP.GROW', 'value': 'Population growth (annual %)'},\n",
       "  'country': {'id': 'NA', 'value': 'Namibia'},\n",
       "  'countryiso3code': 'NAM',\n",
       "  'date': '2013',\n",
       "  'value': 1.69446732352455,\n",
       "  'unit': '',\n",
       "  'obs_status': '',\n",
       "  'decimal': 1},\n",
       " {'indicator': {'id': 'SP.POP.GROW', 'value': 'Population growth (annual %)'},\n",
       "  'country': {'id': 'NA', 'value': 'Namibia'},\n",
       "  'countryiso3code': 'NAM',\n",
       "  'date': '2012',\n",
       "  'value': 1.63406204857906,\n",
       "  'unit': '',\n",
       "  'obs_status': '',\n",
       "  'decimal': 1},\n",
       " {'indicator': {'id': 'SP.POP.GROW', 'value': 'Population growth (annual %)'},\n",
       "  'country': {'id': 'NA', 'value': 'Namibia'},\n",
       "  'countryiso3code': 'NAM',\n",
       "  'date': '2011',\n",
       "  'value': 1.56298266563295,\n",
       "  'unit': '',\n",
       "  'obs_status': '',\n",
       "  'decimal': 1},\n",
       " {'indicator': {'id': 'SP.POP.GROW', 'value': 'Population growth (annual %)'},\n",
       "  'country': {'id': 'NA', 'value': 'Namibia'},\n",
       "  'countryiso3code': 'NAM',\n",
       "  'date': '2010',\n",
       "  'value': 1.5047354003649,\n",
       "  'unit': '',\n",
       "  'obs_status': '',\n",
       "  'decimal': 1},\n",
       " {'indicator': {'id': 'SP.POP.GROW', 'value': 'Population growth (annual %)'},\n",
       "  'country': {'id': 'NA', 'value': 'Namibia'},\n",
       "  'countryiso3code': 'NAM',\n",
       "  'date': '2009',\n",
       "  'value': 1.4303035696071,\n",
       "  'unit': '',\n",
       "  'obs_status': '',\n",
       "  'decimal': 1},\n",
       " {'indicator': {'id': 'SP.POP.GROW', 'value': 'Population growth (annual %)'},\n",
       "  'country': {'id': 'NA', 'value': 'Namibia'},\n",
       "  'countryiso3code': 'NAM',\n",
       "  'date': '2008',\n",
       "  'value': 1.33630166361813,\n",
       "  'unit': '',\n",
       "  'obs_status': '',\n",
       "  'decimal': 1},\n",
       " {'indicator': {'id': 'SP.POP.GROW', 'value': 'Population growth (annual %)'},\n",
       "  'country': {'id': 'NA', 'value': 'Namibia'},\n",
       "  'countryiso3code': 'NAM',\n",
       "  'date': '2007',\n",
       "  'value': 1.2473242341721,\n",
       "  'unit': '',\n",
       "  'obs_status': '',\n",
       "  'decimal': 1},\n",
       " {'indicator': {'id': 'SP.POP.GROW', 'value': 'Population growth (annual %)'},\n",
       "  'country': {'id': 'NA', 'value': 'Namibia'},\n",
       "  'countryiso3code': 'NAM',\n",
       "  'date': '2006',\n",
       "  'value': 1.19983522844956,\n",
       "  'unit': '',\n",
       "  'obs_status': '',\n",
       "  'decimal': 1},\n",
       " {'indicator': {'id': 'SP.POP.GROW', 'value': 'Population growth (annual %)'},\n",
       "  'country': {'id': 'NA', 'value': 'Namibia'},\n",
       "  'countryiso3code': 'NAM',\n",
       "  'date': '2005',\n",
       "  'value': 1.20234000182313,\n",
       "  'unit': '',\n",
       "  'obs_status': '',\n",
       "  'decimal': 1},\n",
       " {'indicator': {'id': 'SP.POP.GROW', 'value': 'Population growth (annual %)'},\n",
       "  'country': {'id': 'NA', 'value': 'Namibia'},\n",
       "  'countryiso3code': 'NAM',\n",
       "  'date': '2004',\n",
       "  'value': 1.24422104996521,\n",
       "  'unit': '',\n",
       "  'obs_status': '',\n",
       "  'decimal': 1},\n",
       " {'indicator': {'id': 'SP.POP.GROW', 'value': 'Population growth (annual %)'},\n",
       "  'country': {'id': 'NA', 'value': 'Namibia'},\n",
       "  'countryiso3code': 'NAM',\n",
       "  'date': '2003',\n",
       "  'value': 1.41434290218581,\n",
       "  'unit': '',\n",
       "  'obs_status': '',\n",
       "  'decimal': 1},\n",
       " {'indicator': {'id': 'SP.POP.GROW', 'value': 'Population growth (annual %)'},\n",
       "  'country': {'id': 'NA', 'value': 'Namibia'},\n",
       "  'countryiso3code': 'NAM',\n",
       "  'date': '2002',\n",
       "  'value': 1.71558953640231,\n",
       "  'unit': '',\n",
       "  'obs_status': '',\n",
       "  'decimal': 1},\n",
       " {'indicator': {'id': 'SP.POP.GROW', 'value': 'Population growth (annual %)'},\n",
       "  'country': {'id': 'NA', 'value': 'Namibia'},\n",
       "  'countryiso3code': 'NAM',\n",
       "  'date': '2001',\n",
       "  'value': 2.02757940882814,\n",
       "  'unit': '',\n",
       "  'obs_status': '',\n",
       "  'decimal': 1},\n",
       " {'indicator': {'id': 'SP.POP.GROW', 'value': 'Population growth (annual %)'},\n",
       "  'country': {'id': 'NA', 'value': 'Namibia'},\n",
       "  'countryiso3code': 'NAM',\n",
       "  'date': '2000',\n",
       "  'value': 2.27194936669291,\n",
       "  'unit': '',\n",
       "  'obs_status': '',\n",
       "  'decimal': 1},\n",
       " {'indicator': {'id': 'SP.POP.GROW', 'value': 'Population growth (annual %)'},\n",
       "  'country': {'id': 'NA', 'value': 'Namibia'},\n",
       "  'countryiso3code': 'NAM',\n",
       "  'date': '1999',\n",
       "  'value': 2.40883758441721,\n",
       "  'unit': '',\n",
       "  'obs_status': '',\n",
       "  'decimal': 1},\n",
       " {'indicator': {'id': 'SP.POP.GROW', 'value': 'Population growth (annual %)'},\n",
       "  'country': {'id': 'NA', 'value': 'Namibia'},\n",
       "  'countryiso3code': 'NAM',\n",
       "  'date': '1998',\n",
       "  'value': 2.49115076791854,\n",
       "  'unit': '',\n",
       "  'obs_status': '',\n",
       "  'decimal': 1},\n",
       " {'indicator': {'id': 'SP.POP.GROW', 'value': 'Population growth (annual %)'},\n",
       "  'country': {'id': 'NA', 'value': 'Namibia'},\n",
       "  'countryiso3code': 'NAM',\n",
       "  'date': '1997',\n",
       "  'value': 2.58297473472435,\n",
       "  'unit': '',\n",
       "  'obs_status': '',\n",
       "  'decimal': 1},\n",
       " {'indicator': {'id': 'SP.POP.GROW', 'value': 'Population growth (annual %)'},\n",
       "  'country': {'id': 'NA', 'value': 'Namibia'},\n",
       "  'countryiso3code': 'NAM',\n",
       "  'date': '1996',\n",
       "  'value': 2.74610275033798,\n",
       "  'unit': '',\n",
       "  'obs_status': '',\n",
       "  'decimal': 1},\n",
       " {'indicator': {'id': 'SP.POP.GROW', 'value': 'Population growth (annual %)'},\n",
       "  'country': {'id': 'NA', 'value': 'Namibia'},\n",
       "  'countryiso3code': 'NAM',\n",
       "  'date': '1995',\n",
       "  'value': 2.96631636921689,\n",
       "  'unit': '',\n",
       "  'obs_status': '',\n",
       "  'decimal': 1},\n",
       " {'indicator': {'id': 'SP.POP.GROW', 'value': 'Population growth (annual %)'},\n",
       "  'country': {'id': 'NA', 'value': 'Namibia'},\n",
       "  'countryiso3code': 'NAM',\n",
       "  'date': '1994',\n",
       "  'value': 3.16913849081237,\n",
       "  'unit': '',\n",
       "  'obs_status': '',\n",
       "  'decimal': 1},\n",
       " {'indicator': {'id': 'SP.POP.GROW', 'value': 'Population growth (annual %)'},\n",
       "  'country': {'id': 'NA', 'value': 'Namibia'},\n",
       "  'countryiso3code': 'NAM',\n",
       "  'date': '1993',\n",
       "  'value': 3.24084628891261,\n",
       "  'unit': '',\n",
       "  'obs_status': '',\n",
       "  'decimal': 1},\n",
       " {'indicator': {'id': 'SP.POP.GROW', 'value': 'Population growth (annual %)'},\n",
       "  'country': {'id': 'NA', 'value': 'Namibia'},\n",
       "  'countryiso3code': 'NAM',\n",
       "  'date': '1992',\n",
       "  'value': 3.20257696605466,\n",
       "  'unit': '',\n",
       "  'obs_status': '',\n",
       "  'decimal': 1},\n",
       " {'indicator': {'id': 'SP.POP.GROW', 'value': 'Population growth (annual %)'},\n",
       "  'country': {'id': 'NA', 'value': 'Namibia'},\n",
       "  'countryiso3code': 'NAM',\n",
       "  'date': '1991',\n",
       "  'value': 3.34768971230455,\n",
       "  'unit': '',\n",
       "  'obs_status': '',\n",
       "  'decimal': 1},\n",
       " {'indicator': {'id': 'SP.POP.GROW', 'value': 'Population growth (annual %)'},\n",
       "  'country': {'id': 'NA', 'value': 'Namibia'},\n",
       "  'countryiso3code': 'NAM',\n",
       "  'date': '1990',\n",
       "  'value': 6.09436073046608,\n",
       "  'unit': '',\n",
       "  'obs_status': '',\n",
       "  'decimal': 1},\n",
       " {'indicator': {'id': 'SP.POP.GROW', 'value': 'Population growth (annual %)'},\n",
       "  'country': {'id': 'NA', 'value': 'Namibia'},\n",
       "  'countryiso3code': 'NAM',\n",
       "  'date': '1989',\n",
       "  'value': 6.42210939531102,\n",
       "  'unit': '',\n",
       "  'obs_status': '',\n",
       "  'decimal': 1},\n",
       " {'indicator': {'id': 'SP.POP.GROW', 'value': 'Population growth (annual %)'},\n",
       "  'country': {'id': 'NA', 'value': 'Namibia'},\n",
       "  'countryiso3code': 'NAM',\n",
       "  'date': '1988',\n",
       "  'value': 3.58337624484119,\n",
       "  'unit': '',\n",
       "  'obs_status': '',\n",
       "  'decimal': 1},\n",
       " {'indicator': {'id': 'SP.POP.GROW', 'value': 'Population growth (annual %)'},\n",
       "  'country': {'id': 'NA', 'value': 'Namibia'},\n",
       "  'countryiso3code': 'NAM',\n",
       "  'date': '1987',\n",
       "  'value': 3.26537163746685,\n",
       "  'unit': '',\n",
       "  'obs_status': '',\n",
       "  'decimal': 1},\n",
       " {'indicator': {'id': 'SP.POP.GROW', 'value': 'Population growth (annual %)'},\n",
       "  'country': {'id': 'NA', 'value': 'Namibia'},\n",
       "  'countryiso3code': 'NAM',\n",
       "  'date': '1986',\n",
       "  'value': 3.12256945652249,\n",
       "  'unit': '',\n",
       "  'obs_status': '',\n",
       "  'decimal': 1},\n",
       " {'indicator': {'id': 'SP.POP.GROW', 'value': 'Population growth (annual %)'},\n",
       "  'country': {'id': 'NA', 'value': 'Namibia'},\n",
       "  'countryiso3code': 'NAM',\n",
       "  'date': '1985',\n",
       "  'value': 2.90614919793084,\n",
       "  'unit': '',\n",
       "  'obs_status': '',\n",
       "  'decimal': 1},\n",
       " {'indicator': {'id': 'SP.POP.GROW', 'value': 'Population growth (annual %)'},\n",
       "  'country': {'id': 'NA', 'value': 'Namibia'},\n",
       "  'countryiso3code': 'NAM',\n",
       "  'date': '1984',\n",
       "  'value': 2.75997433504885,\n",
       "  'unit': '',\n",
       "  'obs_status': '',\n",
       "  'decimal': 1},\n",
       " {'indicator': {'id': 'SP.POP.GROW', 'value': 'Population growth (annual %)'},\n",
       "  'country': {'id': 'NA', 'value': 'Namibia'},\n",
       "  'countryiso3code': 'NAM',\n",
       "  'date': '1983',\n",
       "  'value': 2.70446507258018,\n",
       "  'unit': '',\n",
       "  'obs_status': '',\n",
       "  'decimal': 1},\n",
       " {'indicator': {'id': 'SP.POP.GROW', 'value': 'Population growth (annual %)'},\n",
       "  'country': {'id': 'NA', 'value': 'Namibia'},\n",
       "  'countryiso3code': 'NAM',\n",
       "  'date': '1982',\n",
       "  'value': 1.81909503749973,\n",
       "  'unit': '',\n",
       "  'obs_status': '',\n",
       "  'decimal': 1},\n",
       " {'indicator': {'id': 'SP.POP.GROW', 'value': 'Population growth (annual %)'},\n",
       "  'country': {'id': 'NA', 'value': 'Namibia'},\n",
       "  'countryiso3code': 'NAM',\n",
       "  'date': '1981',\n",
       "  'value': 1.16127103883721,\n",
       "  'unit': '',\n",
       "  'obs_status': '',\n",
       "  'decimal': 1},\n",
       " {'indicator': {'id': 'SP.POP.GROW', 'value': 'Population growth (annual %)'},\n",
       "  'country': {'id': 'NA', 'value': 'Namibia'},\n",
       "  'countryiso3code': 'NAM',\n",
       "  'date': '1980',\n",
       "  'value': 1.930410097462,\n",
       "  'unit': '',\n",
       "  'obs_status': '',\n",
       "  'decimal': 1},\n",
       " {'indicator': {'id': 'SP.POP.GROW', 'value': 'Population growth (annual %)'},\n",
       "  'country': {'id': 'NA', 'value': 'Namibia'},\n",
       "  'countryiso3code': 'NAM',\n",
       "  'date': '1979',\n",
       "  'value': 1.61226474644176,\n",
       "  'unit': '',\n",
       "  'obs_status': '',\n",
       "  'decimal': 1},\n",
       " {'indicator': {'id': 'SP.POP.GROW', 'value': 'Population growth (annual %)'},\n",
       "  'country': {'id': 'NA', 'value': 'Namibia'},\n",
       "  'countryiso3code': 'NAM',\n",
       "  'date': '1978',\n",
       "  'value': 1.70377521121895,\n",
       "  'unit': '',\n",
       "  'obs_status': '',\n",
       "  'decimal': 1},\n",
       " {'indicator': {'id': 'SP.POP.GROW', 'value': 'Population growth (annual %)'},\n",
       "  'country': {'id': 'NA', 'value': 'Namibia'},\n",
       "  'countryiso3code': 'NAM',\n",
       "  'date': '1977',\n",
       "  'value': 2.65548175657098,\n",
       "  'unit': '',\n",
       "  'obs_status': '',\n",
       "  'decimal': 1},\n",
       " {'indicator': {'id': 'SP.POP.GROW', 'value': 'Population growth (annual %)'},\n",
       "  'country': {'id': 'NA', 'value': 'Namibia'},\n",
       "  'countryiso3code': 'NAM',\n",
       "  'date': '1976',\n",
       "  'value': 2.84182748542272,\n",
       "  'unit': '',\n",
       "  'obs_status': '',\n",
       "  'decimal': 1},\n",
       " {'indicator': {'id': 'SP.POP.GROW', 'value': 'Population growth (annual %)'},\n",
       "  'country': {'id': 'NA', 'value': 'Namibia'},\n",
       "  'countryiso3code': 'NAM',\n",
       "  'date': '1975',\n",
       "  'value': 3.0675443304544,\n",
       "  'unit': '',\n",
       "  'obs_status': '',\n",
       "  'decimal': 1},\n",
       " {'indicator': {'id': 'SP.POP.GROW', 'value': 'Population growth (annual %)'},\n",
       "  'country': {'id': 'NA', 'value': 'Namibia'},\n",
       "  'countryiso3code': 'NAM',\n",
       "  'date': '1974',\n",
       "  'value': 3.00594151221225,\n",
       "  'unit': '',\n",
       "  'obs_status': '',\n",
       "  'decimal': 1},\n",
       " {'indicator': {'id': 'SP.POP.GROW', 'value': 'Population growth (annual %)'},\n",
       "  'country': {'id': 'NA', 'value': 'Namibia'},\n",
       "  'countryiso3code': 'NAM',\n",
       "  'date': '1973',\n",
       "  'value': 2.99100503428902,\n",
       "  'unit': '',\n",
       "  'obs_status': '',\n",
       "  'decimal': 1},\n",
       " {'indicator': {'id': 'SP.POP.GROW', 'value': 'Population growth (annual %)'},\n",
       "  'country': {'id': 'NA', 'value': 'Namibia'},\n",
       "  'countryiso3code': 'NAM',\n",
       "  'date': '1972',\n",
       "  'value': 2.99400217719842,\n",
       "  'unit': '',\n",
       "  'obs_status': '',\n",
       "  'decimal': 1},\n",
       " {'indicator': {'id': 'SP.POP.GROW', 'value': 'Population growth (annual %)'},\n",
       "  'country': {'id': 'NA', 'value': 'Namibia'},\n",
       "  'countryiso3code': 'NAM',\n",
       "  'date': '1971',\n",
       "  'value': 2.94223756636724,\n",
       "  'unit': '',\n",
       "  'obs_status': '',\n",
       "  'decimal': 1},\n",
       " {'indicator': {'id': 'SP.POP.GROW', 'value': 'Population growth (annual %)'},\n",
       "  'country': {'id': 'NA', 'value': 'Namibia'},\n",
       "  'countryiso3code': 'NAM',\n",
       "  'date': '1970',\n",
       "  'value': 2.90281974909526,\n",
       "  'unit': '',\n",
       "  'obs_status': '',\n",
       "  'decimal': 1},\n",
       " {'indicator': {'id': 'SP.POP.GROW', 'value': 'Population growth (annual %)'},\n",
       "  'country': {'id': 'NA', 'value': 'Namibia'},\n",
       "  'countryiso3code': 'NAM',\n",
       "  'date': '1969',\n",
       "  'value': 2.83058914324168,\n",
       "  'unit': '',\n",
       "  'obs_status': '',\n",
       "  'decimal': 1},\n",
       " {'indicator': {'id': 'SP.POP.GROW', 'value': 'Population growth (annual %)'},\n",
       "  'country': {'id': 'NA', 'value': 'Namibia'},\n",
       "  'countryiso3code': 'NAM',\n",
       "  'date': '1968',\n",
       "  'value': 2.75565466046345,\n",
       "  'unit': '',\n",
       "  'obs_status': '',\n",
       "  'decimal': 1},\n",
       " {'indicator': {'id': 'SP.POP.GROW', 'value': 'Population growth (annual %)'},\n",
       "  'country': {'id': 'NA', 'value': 'Namibia'},\n",
       "  'countryiso3code': 'NAM',\n",
       "  'date': '1967',\n",
       "  'value': 2.66778792625351,\n",
       "  'unit': '',\n",
       "  'obs_status': '',\n",
       "  'decimal': 1},\n",
       " {'indicator': {'id': 'SP.POP.GROW', 'value': 'Population growth (annual %)'},\n",
       "  'country': {'id': 'NA', 'value': 'Namibia'},\n",
       "  'countryiso3code': 'NAM',\n",
       "  'date': '1966',\n",
       "  'value': 2.54098408314936,\n",
       "  'unit': '',\n",
       "  'obs_status': '',\n",
       "  'decimal': 1},\n",
       " {'indicator': {'id': 'SP.POP.GROW', 'value': 'Population growth (annual %)'},\n",
       "  'country': {'id': 'NA', 'value': 'Namibia'},\n",
       "  'countryiso3code': 'NAM',\n",
       "  'date': '1965',\n",
       "  'value': 2.43607717525374,\n",
       "  'unit': '',\n",
       "  'obs_status': '',\n",
       "  'decimal': 1},\n",
       " {'indicator': {'id': 'SP.POP.GROW', 'value': 'Population growth (annual %)'},\n",
       "  'country': {'id': 'NA', 'value': 'Namibia'},\n",
       "  'countryiso3code': 'NAM',\n",
       "  'date': '1964',\n",
       "  'value': 2.31550617255799,\n",
       "  'unit': '',\n",
       "  'obs_status': '',\n",
       "  'decimal': 1},\n",
       " {'indicator': {'id': 'SP.POP.GROW', 'value': 'Population growth (annual %)'},\n",
       "  'country': {'id': 'NA', 'value': 'Namibia'},\n",
       "  'countryiso3code': 'NAM',\n",
       "  'date': '1963',\n",
       "  'value': 2.18351749145652,\n",
       "  'unit': '',\n",
       "  'obs_status': '',\n",
       "  'decimal': 1},\n",
       " {'indicator': {'id': 'SP.POP.GROW', 'value': 'Population growth (annual %)'},\n",
       "  'country': {'id': 'NA', 'value': 'Namibia'},\n",
       "  'countryiso3code': 'NAM',\n",
       "  'date': '1962',\n",
       "  'value': 2.03819990200126,\n",
       "  'unit': '',\n",
       "  'obs_status': '',\n",
       "  'decimal': 1},\n",
       " {'indicator': {'id': 'SP.POP.GROW', 'value': 'Population growth (annual %)'},\n",
       "  'country': {'id': 'NA', 'value': 'Namibia'},\n",
       "  'countryiso3code': 'NAM',\n",
       "  'date': '1961',\n",
       "  'value': 1.8870907128584,\n",
       "  'unit': '',\n",
       "  'obs_status': '',\n",
       "  'decimal': 1},\n",
       " {'indicator': {'id': 'SP.POP.GROW', 'value': 'Population growth (annual %)'},\n",
       "  'country': {'id': 'NA', 'value': 'Namibia'},\n",
       "  'countryiso3code': 'NAM',\n",
       "  'date': '1960',\n",
       "  'value': None,\n",
       "  'unit': '',\n",
       "  'obs_status': '',\n",
       "  'decimal': 1}]"
      ]
     },
     "execution_count": 7,
     "metadata": {},
     "output_type": "execute_result"
    }
   ],
   "source": [
    "#Population growth (annual %)\n",
    "wbdata.get_data(\"SP.POP.GROW\", country=\"NAM\")"
   ]
  },
  {
   "cell_type": "code",
   "execution_count": 8,
   "metadata": {},
   "outputs": [
    {
     "data": {
      "text/plain": [
       "[{'indicator': {'id': 'SP.POP.GROW', 'value': 'Population growth (annual %)'},\n",
       "  'country': {'id': 'NA', 'value': 'Namibia'},\n",
       "  'countryiso3code': 'NAM',\n",
       "  'date': '2022',\n",
       "  'value': 1.44635918427576,\n",
       "  'unit': '',\n",
       "  'obs_status': '',\n",
       "  'decimal': 1},\n",
       " {'indicator': {'id': 'SP.POP.GROW', 'value': 'Population growth (annual %)'},\n",
       "  'country': {'id': 'NA', 'value': 'Namibia'},\n",
       "  'countryiso3code': 'NAM',\n",
       "  'date': '2021',\n",
       "  'value': 1.63585889002733,\n",
       "  'unit': '',\n",
       "  'obs_status': '',\n",
       "  'decimal': 1},\n",
       " {'indicator': {'id': 'SP.POP.GROW', 'value': 'Population growth (annual %)'},\n",
       "  'country': {'id': 'NA', 'value': 'Namibia'},\n",
       "  'countryiso3code': 'NAM',\n",
       "  'date': '2020',\n",
       "  'value': 1.72031062423917,\n",
       "  'unit': '',\n",
       "  'obs_status': '',\n",
       "  'decimal': 1},\n",
       " {'indicator': {'id': 'SP.POP.GROW', 'value': 'Population growth (annual %)'},\n",
       "  'country': {'id': 'NA', 'value': 'Namibia'},\n",
       "  'countryiso3code': 'NAM',\n",
       "  'date': '2019',\n",
       "  'value': 1.68846817343864,\n",
       "  'unit': '',\n",
       "  'obs_status': '',\n",
       "  'decimal': 1},\n",
       " {'indicator': {'id': 'SP.POP.GROW', 'value': 'Population growth (annual %)'},\n",
       "  'country': {'id': 'NA', 'value': 'Namibia'},\n",
       "  'countryiso3code': 'NAM',\n",
       "  'date': '2018',\n",
       "  'value': 1.72516455160384,\n",
       "  'unit': '',\n",
       "  'obs_status': '',\n",
       "  'decimal': 1},\n",
       " {'indicator': {'id': 'SP.POP.GROW', 'value': 'Population growth (annual %)'},\n",
       "  'country': {'id': 'NA', 'value': 'Namibia'},\n",
       "  'countryiso3code': 'NAM',\n",
       "  'date': '2017',\n",
       "  'value': 1.75699918544662,\n",
       "  'unit': '',\n",
       "  'obs_status': '',\n",
       "  'decimal': 1},\n",
       " {'indicator': {'id': 'SP.POP.GROW', 'value': 'Population growth (annual %)'},\n",
       "  'country': {'id': 'NA', 'value': 'Namibia'},\n",
       "  'countryiso3code': 'NAM',\n",
       "  'date': '2016',\n",
       "  'value': 1.76502653275581,\n",
       "  'unit': '',\n",
       "  'obs_status': '',\n",
       "  'decimal': 1},\n",
       " {'indicator': {'id': 'SP.POP.GROW', 'value': 'Population growth (annual %)'},\n",
       "  'country': {'id': 'NA', 'value': 'Namibia'},\n",
       "  'countryiso3code': 'NAM',\n",
       "  'date': '2015',\n",
       "  'value': 1.75460038083267,\n",
       "  'unit': '',\n",
       "  'obs_status': '',\n",
       "  'decimal': 1},\n",
       " {'indicator': {'id': 'SP.POP.GROW', 'value': 'Population growth (annual %)'},\n",
       "  'country': {'id': 'NA', 'value': 'Namibia'},\n",
       "  'countryiso3code': 'NAM',\n",
       "  'date': '2014',\n",
       "  'value': 1.73094393878771,\n",
       "  'unit': '',\n",
       "  'obs_status': '',\n",
       "  'decimal': 1},\n",
       " {'indicator': {'id': 'SP.POP.GROW', 'value': 'Population growth (annual %)'},\n",
       "  'country': {'id': 'NA', 'value': 'Namibia'},\n",
       "  'countryiso3code': 'NAM',\n",
       "  'date': '2013',\n",
       "  'value': 1.69446732352455,\n",
       "  'unit': '',\n",
       "  'obs_status': '',\n",
       "  'decimal': 1},\n",
       " {'indicator': {'id': 'SP.POP.GROW', 'value': 'Population growth (annual %)'},\n",
       "  'country': {'id': 'NA', 'value': 'Namibia'},\n",
       "  'countryiso3code': 'NAM',\n",
       "  'date': '2012',\n",
       "  'value': 1.63406204857906,\n",
       "  'unit': '',\n",
       "  'obs_status': '',\n",
       "  'decimal': 1},\n",
       " {'indicator': {'id': 'SP.POP.GROW', 'value': 'Population growth (annual %)'},\n",
       "  'country': {'id': 'NA', 'value': 'Namibia'},\n",
       "  'countryiso3code': 'NAM',\n",
       "  'date': '2011',\n",
       "  'value': 1.56298266563295,\n",
       "  'unit': '',\n",
       "  'obs_status': '',\n",
       "  'decimal': 1},\n",
       " {'indicator': {'id': 'SP.POP.GROW', 'value': 'Population growth (annual %)'},\n",
       "  'country': {'id': 'NA', 'value': 'Namibia'},\n",
       "  'countryiso3code': 'NAM',\n",
       "  'date': '2010',\n",
       "  'value': 1.5047354003649,\n",
       "  'unit': '',\n",
       "  'obs_status': '',\n",
       "  'decimal': 1},\n",
       " {'indicator': {'id': 'SP.POP.GROW', 'value': 'Population growth (annual %)'},\n",
       "  'country': {'id': 'NA', 'value': 'Namibia'},\n",
       "  'countryiso3code': 'NAM',\n",
       "  'date': '2009',\n",
       "  'value': 1.4303035696071,\n",
       "  'unit': '',\n",
       "  'obs_status': '',\n",
       "  'decimal': 1},\n",
       " {'indicator': {'id': 'SP.POP.GROW', 'value': 'Population growth (annual %)'},\n",
       "  'country': {'id': 'NA', 'value': 'Namibia'},\n",
       "  'countryiso3code': 'NAM',\n",
       "  'date': '2008',\n",
       "  'value': 1.33630166361813,\n",
       "  'unit': '',\n",
       "  'obs_status': '',\n",
       "  'decimal': 1},\n",
       " {'indicator': {'id': 'SP.POP.GROW', 'value': 'Population growth (annual %)'},\n",
       "  'country': {'id': 'NA', 'value': 'Namibia'},\n",
       "  'countryiso3code': 'NAM',\n",
       "  'date': '2007',\n",
       "  'value': 1.2473242341721,\n",
       "  'unit': '',\n",
       "  'obs_status': '',\n",
       "  'decimal': 1},\n",
       " {'indicator': {'id': 'SP.POP.GROW', 'value': 'Population growth (annual %)'},\n",
       "  'country': {'id': 'NA', 'value': 'Namibia'},\n",
       "  'countryiso3code': 'NAM',\n",
       "  'date': '2006',\n",
       "  'value': 1.19983522844956,\n",
       "  'unit': '',\n",
       "  'obs_status': '',\n",
       "  'decimal': 1},\n",
       " {'indicator': {'id': 'SP.POP.GROW', 'value': 'Population growth (annual %)'},\n",
       "  'country': {'id': 'NA', 'value': 'Namibia'},\n",
       "  'countryiso3code': 'NAM',\n",
       "  'date': '2005',\n",
       "  'value': 1.20234000182313,\n",
       "  'unit': '',\n",
       "  'obs_status': '',\n",
       "  'decimal': 1},\n",
       " {'indicator': {'id': 'SP.POP.GROW', 'value': 'Population growth (annual %)'},\n",
       "  'country': {'id': 'NA', 'value': 'Namibia'},\n",
       "  'countryiso3code': 'NAM',\n",
       "  'date': '2004',\n",
       "  'value': 1.24422104996521,\n",
       "  'unit': '',\n",
       "  'obs_status': '',\n",
       "  'decimal': 1},\n",
       " {'indicator': {'id': 'SP.POP.GROW', 'value': 'Population growth (annual %)'},\n",
       "  'country': {'id': 'NA', 'value': 'Namibia'},\n",
       "  'countryiso3code': 'NAM',\n",
       "  'date': '2003',\n",
       "  'value': 1.41434290218581,\n",
       "  'unit': '',\n",
       "  'obs_status': '',\n",
       "  'decimal': 1},\n",
       " {'indicator': {'id': 'SP.POP.GROW', 'value': 'Population growth (annual %)'},\n",
       "  'country': {'id': 'NA', 'value': 'Namibia'},\n",
       "  'countryiso3code': 'NAM',\n",
       "  'date': '2002',\n",
       "  'value': 1.71558953640231,\n",
       "  'unit': '',\n",
       "  'obs_status': '',\n",
       "  'decimal': 1},\n",
       " {'indicator': {'id': 'SP.POP.GROW', 'value': 'Population growth (annual %)'},\n",
       "  'country': {'id': 'NA', 'value': 'Namibia'},\n",
       "  'countryiso3code': 'NAM',\n",
       "  'date': '2001',\n",
       "  'value': 2.02757940882814,\n",
       "  'unit': '',\n",
       "  'obs_status': '',\n",
       "  'decimal': 1},\n",
       " {'indicator': {'id': 'SP.POP.GROW', 'value': 'Population growth (annual %)'},\n",
       "  'country': {'id': 'NA', 'value': 'Namibia'},\n",
       "  'countryiso3code': 'NAM',\n",
       "  'date': '2000',\n",
       "  'value': 2.27194936669291,\n",
       "  'unit': '',\n",
       "  'obs_status': '',\n",
       "  'decimal': 1},\n",
       " {'indicator': {'id': 'SP.POP.GROW', 'value': 'Population growth (annual %)'},\n",
       "  'country': {'id': 'NA', 'value': 'Namibia'},\n",
       "  'countryiso3code': 'NAM',\n",
       "  'date': '1999',\n",
       "  'value': 2.40883758441721,\n",
       "  'unit': '',\n",
       "  'obs_status': '',\n",
       "  'decimal': 1},\n",
       " {'indicator': {'id': 'SP.POP.GROW', 'value': 'Population growth (annual %)'},\n",
       "  'country': {'id': 'NA', 'value': 'Namibia'},\n",
       "  'countryiso3code': 'NAM',\n",
       "  'date': '1998',\n",
       "  'value': 2.49115076791854,\n",
       "  'unit': '',\n",
       "  'obs_status': '',\n",
       "  'decimal': 1},\n",
       " {'indicator': {'id': 'SP.POP.GROW', 'value': 'Population growth (annual %)'},\n",
       "  'country': {'id': 'NA', 'value': 'Namibia'},\n",
       "  'countryiso3code': 'NAM',\n",
       "  'date': '1997',\n",
       "  'value': 2.58297473472435,\n",
       "  'unit': '',\n",
       "  'obs_status': '',\n",
       "  'decimal': 1},\n",
       " {'indicator': {'id': 'SP.POP.GROW', 'value': 'Population growth (annual %)'},\n",
       "  'country': {'id': 'NA', 'value': 'Namibia'},\n",
       "  'countryiso3code': 'NAM',\n",
       "  'date': '1996',\n",
       "  'value': 2.74610275033798,\n",
       "  'unit': '',\n",
       "  'obs_status': '',\n",
       "  'decimal': 1},\n",
       " {'indicator': {'id': 'SP.POP.GROW', 'value': 'Population growth (annual %)'},\n",
       "  'country': {'id': 'NA', 'value': 'Namibia'},\n",
       "  'countryiso3code': 'NAM',\n",
       "  'date': '1995',\n",
       "  'value': 2.96631636921689,\n",
       "  'unit': '',\n",
       "  'obs_status': '',\n",
       "  'decimal': 1},\n",
       " {'indicator': {'id': 'SP.POP.GROW', 'value': 'Population growth (annual %)'},\n",
       "  'country': {'id': 'NA', 'value': 'Namibia'},\n",
       "  'countryiso3code': 'NAM',\n",
       "  'date': '1994',\n",
       "  'value': 3.16913849081237,\n",
       "  'unit': '',\n",
       "  'obs_status': '',\n",
       "  'decimal': 1},\n",
       " {'indicator': {'id': 'SP.POP.GROW', 'value': 'Population growth (annual %)'},\n",
       "  'country': {'id': 'NA', 'value': 'Namibia'},\n",
       "  'countryiso3code': 'NAM',\n",
       "  'date': '1993',\n",
       "  'value': 3.24084628891261,\n",
       "  'unit': '',\n",
       "  'obs_status': '',\n",
       "  'decimal': 1},\n",
       " {'indicator': {'id': 'SP.POP.GROW', 'value': 'Population growth (annual %)'},\n",
       "  'country': {'id': 'NA', 'value': 'Namibia'},\n",
       "  'countryiso3code': 'NAM',\n",
       "  'date': '1992',\n",
       "  'value': 3.20257696605466,\n",
       "  'unit': '',\n",
       "  'obs_status': '',\n",
       "  'decimal': 1},\n",
       " {'indicator': {'id': 'SP.POP.GROW', 'value': 'Population growth (annual %)'},\n",
       "  'country': {'id': 'NA', 'value': 'Namibia'},\n",
       "  'countryiso3code': 'NAM',\n",
       "  'date': '1991',\n",
       "  'value': 3.34768971230455,\n",
       "  'unit': '',\n",
       "  'obs_status': '',\n",
       "  'decimal': 1},\n",
       " {'indicator': {'id': 'SP.POP.GROW', 'value': 'Population growth (annual %)'},\n",
       "  'country': {'id': 'NA', 'value': 'Namibia'},\n",
       "  'countryiso3code': 'NAM',\n",
       "  'date': '1990',\n",
       "  'value': 6.09436073046608,\n",
       "  'unit': '',\n",
       "  'obs_status': '',\n",
       "  'decimal': 1},\n",
       " {'indicator': {'id': 'SP.POP.GROW', 'value': 'Population growth (annual %)'},\n",
       "  'country': {'id': 'NA', 'value': 'Namibia'},\n",
       "  'countryiso3code': 'NAM',\n",
       "  'date': '1989',\n",
       "  'value': 6.42210939531102,\n",
       "  'unit': '',\n",
       "  'obs_status': '',\n",
       "  'decimal': 1},\n",
       " {'indicator': {'id': 'SP.POP.GROW', 'value': 'Population growth (annual %)'},\n",
       "  'country': {'id': 'NA', 'value': 'Namibia'},\n",
       "  'countryiso3code': 'NAM',\n",
       "  'date': '1988',\n",
       "  'value': 3.58337624484119,\n",
       "  'unit': '',\n",
       "  'obs_status': '',\n",
       "  'decimal': 1},\n",
       " {'indicator': {'id': 'SP.POP.GROW', 'value': 'Population growth (annual %)'},\n",
       "  'country': {'id': 'NA', 'value': 'Namibia'},\n",
       "  'countryiso3code': 'NAM',\n",
       "  'date': '1987',\n",
       "  'value': 3.26537163746685,\n",
       "  'unit': '',\n",
       "  'obs_status': '',\n",
       "  'decimal': 1},\n",
       " {'indicator': {'id': 'SP.POP.GROW', 'value': 'Population growth (annual %)'},\n",
       "  'country': {'id': 'NA', 'value': 'Namibia'},\n",
       "  'countryiso3code': 'NAM',\n",
       "  'date': '1986',\n",
       "  'value': 3.12256945652249,\n",
       "  'unit': '',\n",
       "  'obs_status': '',\n",
       "  'decimal': 1},\n",
       " {'indicator': {'id': 'SP.POP.GROW', 'value': 'Population growth (annual %)'},\n",
       "  'country': {'id': 'NA', 'value': 'Namibia'},\n",
       "  'countryiso3code': 'NAM',\n",
       "  'date': '1985',\n",
       "  'value': 2.90614919793084,\n",
       "  'unit': '',\n",
       "  'obs_status': '',\n",
       "  'decimal': 1},\n",
       " {'indicator': {'id': 'SP.POP.GROW', 'value': 'Population growth (annual %)'},\n",
       "  'country': {'id': 'NA', 'value': 'Namibia'},\n",
       "  'countryiso3code': 'NAM',\n",
       "  'date': '1984',\n",
       "  'value': 2.75997433504885,\n",
       "  'unit': '',\n",
       "  'obs_status': '',\n",
       "  'decimal': 1},\n",
       " {'indicator': {'id': 'SP.POP.GROW', 'value': 'Population growth (annual %)'},\n",
       "  'country': {'id': 'NA', 'value': 'Namibia'},\n",
       "  'countryiso3code': 'NAM',\n",
       "  'date': '1983',\n",
       "  'value': 2.70446507258018,\n",
       "  'unit': '',\n",
       "  'obs_status': '',\n",
       "  'decimal': 1},\n",
       " {'indicator': {'id': 'SP.POP.GROW', 'value': 'Population growth (annual %)'},\n",
       "  'country': {'id': 'NA', 'value': 'Namibia'},\n",
       "  'countryiso3code': 'NAM',\n",
       "  'date': '1982',\n",
       "  'value': 1.81909503749973,\n",
       "  'unit': '',\n",
       "  'obs_status': '',\n",
       "  'decimal': 1},\n",
       " {'indicator': {'id': 'SP.POP.GROW', 'value': 'Population growth (annual %)'},\n",
       "  'country': {'id': 'NA', 'value': 'Namibia'},\n",
       "  'countryiso3code': 'NAM',\n",
       "  'date': '1981',\n",
       "  'value': 1.16127103883721,\n",
       "  'unit': '',\n",
       "  'obs_status': '',\n",
       "  'decimal': 1},\n",
       " {'indicator': {'id': 'SP.POP.GROW', 'value': 'Population growth (annual %)'},\n",
       "  'country': {'id': 'NA', 'value': 'Namibia'},\n",
       "  'countryiso3code': 'NAM',\n",
       "  'date': '1980',\n",
       "  'value': 1.930410097462,\n",
       "  'unit': '',\n",
       "  'obs_status': '',\n",
       "  'decimal': 1},\n",
       " {'indicator': {'id': 'SP.POP.GROW', 'value': 'Population growth (annual %)'},\n",
       "  'country': {'id': 'NA', 'value': 'Namibia'},\n",
       "  'countryiso3code': 'NAM',\n",
       "  'date': '1979',\n",
       "  'value': 1.61226474644176,\n",
       "  'unit': '',\n",
       "  'obs_status': '',\n",
       "  'decimal': 1},\n",
       " {'indicator': {'id': 'SP.POP.GROW', 'value': 'Population growth (annual %)'},\n",
       "  'country': {'id': 'NA', 'value': 'Namibia'},\n",
       "  'countryiso3code': 'NAM',\n",
       "  'date': '1978',\n",
       "  'value': 1.70377521121895,\n",
       "  'unit': '',\n",
       "  'obs_status': '',\n",
       "  'decimal': 1},\n",
       " {'indicator': {'id': 'SP.POP.GROW', 'value': 'Population growth (annual %)'},\n",
       "  'country': {'id': 'NA', 'value': 'Namibia'},\n",
       "  'countryiso3code': 'NAM',\n",
       "  'date': '1977',\n",
       "  'value': 2.65548175657098,\n",
       "  'unit': '',\n",
       "  'obs_status': '',\n",
       "  'decimal': 1},\n",
       " {'indicator': {'id': 'SP.POP.GROW', 'value': 'Population growth (annual %)'},\n",
       "  'country': {'id': 'NA', 'value': 'Namibia'},\n",
       "  'countryiso3code': 'NAM',\n",
       "  'date': '1976',\n",
       "  'value': 2.84182748542272,\n",
       "  'unit': '',\n",
       "  'obs_status': '',\n",
       "  'decimal': 1},\n",
       " {'indicator': {'id': 'SP.POP.GROW', 'value': 'Population growth (annual %)'},\n",
       "  'country': {'id': 'NA', 'value': 'Namibia'},\n",
       "  'countryiso3code': 'NAM',\n",
       "  'date': '1975',\n",
       "  'value': 3.0675443304544,\n",
       "  'unit': '',\n",
       "  'obs_status': '',\n",
       "  'decimal': 1},\n",
       " {'indicator': {'id': 'SP.POP.GROW', 'value': 'Population growth (annual %)'},\n",
       "  'country': {'id': 'NA', 'value': 'Namibia'},\n",
       "  'countryiso3code': 'NAM',\n",
       "  'date': '1974',\n",
       "  'value': 3.00594151221225,\n",
       "  'unit': '',\n",
       "  'obs_status': '',\n",
       "  'decimal': 1},\n",
       " {'indicator': {'id': 'SP.POP.GROW', 'value': 'Population growth (annual %)'},\n",
       "  'country': {'id': 'NA', 'value': 'Namibia'},\n",
       "  'countryiso3code': 'NAM',\n",
       "  'date': '1973',\n",
       "  'value': 2.99100503428902,\n",
       "  'unit': '',\n",
       "  'obs_status': '',\n",
       "  'decimal': 1},\n",
       " {'indicator': {'id': 'SP.POP.GROW', 'value': 'Population growth (annual %)'},\n",
       "  'country': {'id': 'NA', 'value': 'Namibia'},\n",
       "  'countryiso3code': 'NAM',\n",
       "  'date': '1972',\n",
       "  'value': 2.99400217719842,\n",
       "  'unit': '',\n",
       "  'obs_status': '',\n",
       "  'decimal': 1},\n",
       " {'indicator': {'id': 'SP.POP.GROW', 'value': 'Population growth (annual %)'},\n",
       "  'country': {'id': 'NA', 'value': 'Namibia'},\n",
       "  'countryiso3code': 'NAM',\n",
       "  'date': '1971',\n",
       "  'value': 2.94223756636724,\n",
       "  'unit': '',\n",
       "  'obs_status': '',\n",
       "  'decimal': 1},\n",
       " {'indicator': {'id': 'SP.POP.GROW', 'value': 'Population growth (annual %)'},\n",
       "  'country': {'id': 'NA', 'value': 'Namibia'},\n",
       "  'countryiso3code': 'NAM',\n",
       "  'date': '1970',\n",
       "  'value': 2.90281974909526,\n",
       "  'unit': '',\n",
       "  'obs_status': '',\n",
       "  'decimal': 1},\n",
       " {'indicator': {'id': 'SP.POP.GROW', 'value': 'Population growth (annual %)'},\n",
       "  'country': {'id': 'NA', 'value': 'Namibia'},\n",
       "  'countryiso3code': 'NAM',\n",
       "  'date': '1969',\n",
       "  'value': 2.83058914324168,\n",
       "  'unit': '',\n",
       "  'obs_status': '',\n",
       "  'decimal': 1},\n",
       " {'indicator': {'id': 'SP.POP.GROW', 'value': 'Population growth (annual %)'},\n",
       "  'country': {'id': 'NA', 'value': 'Namibia'},\n",
       "  'countryiso3code': 'NAM',\n",
       "  'date': '1968',\n",
       "  'value': 2.75565466046345,\n",
       "  'unit': '',\n",
       "  'obs_status': '',\n",
       "  'decimal': 1},\n",
       " {'indicator': {'id': 'SP.POP.GROW', 'value': 'Population growth (annual %)'},\n",
       "  'country': {'id': 'NA', 'value': 'Namibia'},\n",
       "  'countryiso3code': 'NAM',\n",
       "  'date': '1967',\n",
       "  'value': 2.66778792625351,\n",
       "  'unit': '',\n",
       "  'obs_status': '',\n",
       "  'decimal': 1},\n",
       " {'indicator': {'id': 'SP.POP.GROW', 'value': 'Population growth (annual %)'},\n",
       "  'country': {'id': 'NA', 'value': 'Namibia'},\n",
       "  'countryiso3code': 'NAM',\n",
       "  'date': '1966',\n",
       "  'value': 2.54098408314936,\n",
       "  'unit': '',\n",
       "  'obs_status': '',\n",
       "  'decimal': 1},\n",
       " {'indicator': {'id': 'SP.POP.GROW', 'value': 'Population growth (annual %)'},\n",
       "  'country': {'id': 'NA', 'value': 'Namibia'},\n",
       "  'countryiso3code': 'NAM',\n",
       "  'date': '1965',\n",
       "  'value': 2.43607717525374,\n",
       "  'unit': '',\n",
       "  'obs_status': '',\n",
       "  'decimal': 1},\n",
       " {'indicator': {'id': 'SP.POP.GROW', 'value': 'Population growth (annual %)'},\n",
       "  'country': {'id': 'NA', 'value': 'Namibia'},\n",
       "  'countryiso3code': 'NAM',\n",
       "  'date': '1964',\n",
       "  'value': 2.31550617255799,\n",
       "  'unit': '',\n",
       "  'obs_status': '',\n",
       "  'decimal': 1},\n",
       " {'indicator': {'id': 'SP.POP.GROW', 'value': 'Population growth (annual %)'},\n",
       "  'country': {'id': 'NA', 'value': 'Namibia'},\n",
       "  'countryiso3code': 'NAM',\n",
       "  'date': '1963',\n",
       "  'value': 2.18351749145652,\n",
       "  'unit': '',\n",
       "  'obs_status': '',\n",
       "  'decimal': 1},\n",
       " {'indicator': {'id': 'SP.POP.GROW', 'value': 'Population growth (annual %)'},\n",
       "  'country': {'id': 'NA', 'value': 'Namibia'},\n",
       "  'countryiso3code': 'NAM',\n",
       "  'date': '1962',\n",
       "  'value': 2.03819990200126,\n",
       "  'unit': '',\n",
       "  'obs_status': '',\n",
       "  'decimal': 1},\n",
       " {'indicator': {'id': 'SP.POP.GROW', 'value': 'Population growth (annual %)'},\n",
       "  'country': {'id': 'NA', 'value': 'Namibia'},\n",
       "  'countryiso3code': 'NAM',\n",
       "  'date': '1961',\n",
       "  'value': 1.8870907128584,\n",
       "  'unit': '',\n",
       "  'obs_status': '',\n",
       "  'decimal': 1},\n",
       " {'indicator': {'id': 'SP.POP.GROW', 'value': 'Population growth (annual %)'},\n",
       "  'country': {'id': 'NA', 'value': 'Namibia'},\n",
       "  'countryiso3code': 'NAM',\n",
       "  'date': '1960',\n",
       "  'value': None,\n",
       "  'unit': '',\n",
       "  'obs_status': '',\n",
       "  'decimal': 1}]"
      ]
     },
     "execution_count": 8,
     "metadata": {},
     "output_type": "execute_result"
    }
   ],
   "source": [
    "data_date = datetime.datetime(1980, 1, 1), datetime.datetime(2020, 1, 1)\n",
    "wbdata.get_data(\"SP.POP.GROW\", country=\"NAM\")"
   ]
  },
  {
   "cell_type": "code",
   "execution_count": 22,
   "metadata": {},
   "outputs": [],
   "source": [
    "\n",
    "def get_population_df (country):\n",
    "    countries = [country]\n",
    "    indicators = {\"SP.POP.GROW\": \"population_growth\"}\n",
    "    return wbdata.get_dataframe(indicators, country=countries, convert_date=True)   \n"
   ]
  },
  {
   "cell_type": "code",
   "execution_count": 16,
   "metadata": {},
   "outputs": [
    {
     "data": {
      "text/html": [
       "<div>\n",
       "<style scoped>\n",
       "    .dataframe tbody tr th:only-of-type {\n",
       "        vertical-align: middle;\n",
       "    }\n",
       "\n",
       "    .dataframe tbody tr th {\n",
       "        vertical-align: top;\n",
       "    }\n",
       "\n",
       "    .dataframe thead th {\n",
       "        text-align: right;\n",
       "    }\n",
       "</style>\n",
       "<table border=\"1\" class=\"dataframe\">\n",
       "  <thead>\n",
       "    <tr style=\"text-align: right;\">\n",
       "      <th></th>\n",
       "      <th>population_growth</th>\n",
       "    </tr>\n",
       "    <tr>\n",
       "      <th>date</th>\n",
       "      <th></th>\n",
       "    </tr>\n",
       "  </thead>\n",
       "  <tbody>\n",
       "    <tr>\n",
       "      <th>2022-01-01</th>\n",
       "      <td>1.446359</td>\n",
       "    </tr>\n",
       "    <tr>\n",
       "      <th>2021-01-01</th>\n",
       "      <td>1.635859</td>\n",
       "    </tr>\n",
       "    <tr>\n",
       "      <th>2020-01-01</th>\n",
       "      <td>1.720311</td>\n",
       "    </tr>\n",
       "    <tr>\n",
       "      <th>2019-01-01</th>\n",
       "      <td>1.688468</td>\n",
       "    </tr>\n",
       "    <tr>\n",
       "      <th>2018-01-01</th>\n",
       "      <td>1.725165</td>\n",
       "    </tr>\n",
       "    <tr>\n",
       "      <th>2017-01-01</th>\n",
       "      <td>1.756999</td>\n",
       "    </tr>\n",
       "    <tr>\n",
       "      <th>2016-01-01</th>\n",
       "      <td>1.765027</td>\n",
       "    </tr>\n",
       "    <tr>\n",
       "      <th>2015-01-01</th>\n",
       "      <td>1.754600</td>\n",
       "    </tr>\n",
       "    <tr>\n",
       "      <th>2014-01-01</th>\n",
       "      <td>1.730944</td>\n",
       "    </tr>\n",
       "    <tr>\n",
       "      <th>2013-01-01</th>\n",
       "      <td>1.694467</td>\n",
       "    </tr>\n",
       "    <tr>\n",
       "      <th>2012-01-01</th>\n",
       "      <td>1.634062</td>\n",
       "    </tr>\n",
       "    <tr>\n",
       "      <th>2011-01-01</th>\n",
       "      <td>1.562983</td>\n",
       "    </tr>\n",
       "    <tr>\n",
       "      <th>2010-01-01</th>\n",
       "      <td>1.504735</td>\n",
       "    </tr>\n",
       "    <tr>\n",
       "      <th>2009-01-01</th>\n",
       "      <td>1.430304</td>\n",
       "    </tr>\n",
       "    <tr>\n",
       "      <th>2008-01-01</th>\n",
       "      <td>1.336302</td>\n",
       "    </tr>\n",
       "    <tr>\n",
       "      <th>2007-01-01</th>\n",
       "      <td>1.247324</td>\n",
       "    </tr>\n",
       "    <tr>\n",
       "      <th>2006-01-01</th>\n",
       "      <td>1.199835</td>\n",
       "    </tr>\n",
       "    <tr>\n",
       "      <th>2005-01-01</th>\n",
       "      <td>1.202340</td>\n",
       "    </tr>\n",
       "    <tr>\n",
       "      <th>2004-01-01</th>\n",
       "      <td>1.244221</td>\n",
       "    </tr>\n",
       "    <tr>\n",
       "      <th>2003-01-01</th>\n",
       "      <td>1.414343</td>\n",
       "    </tr>\n",
       "  </tbody>\n",
       "</table>\n",
       "</div>"
      ],
      "text/plain": [
       "            population_growth\n",
       "date                         \n",
       "2022-01-01           1.446359\n",
       "2021-01-01           1.635859\n",
       "2020-01-01           1.720311\n",
       "2019-01-01           1.688468\n",
       "2018-01-01           1.725165\n",
       "2017-01-01           1.756999\n",
       "2016-01-01           1.765027\n",
       "2015-01-01           1.754600\n",
       "2014-01-01           1.730944\n",
       "2013-01-01           1.694467\n",
       "2012-01-01           1.634062\n",
       "2011-01-01           1.562983\n",
       "2010-01-01           1.504735\n",
       "2009-01-01           1.430304\n",
       "2008-01-01           1.336302\n",
       "2007-01-01           1.247324\n",
       "2006-01-01           1.199835\n",
       "2005-01-01           1.202340\n",
       "2004-01-01           1.244221\n",
       "2003-01-01           1.414343"
      ]
     },
     "execution_count": 16,
     "metadata": {},
     "output_type": "execute_result"
    }
   ],
   "source": []
  },
  {
   "cell_type": "code",
   "execution_count": 19,
   "metadata": {},
   "outputs": [
    {
     "data": {
      "text/html": [
       "        <script type=\"text/javascript\">\n",
       "        window.PlotlyConfig = {MathJaxConfig: 'local'};\n",
       "        if (window.MathJax && window.MathJax.Hub && window.MathJax.Hub.Config) {window.MathJax.Hub.Config({SVG: {font: \"STIX-Web\"}});}\n",
       "        if (typeof require !== 'undefined') {\n",
       "        require.undef(\"plotly\");\n",
       "        requirejs.config({\n",
       "            paths: {\n",
       "                'plotly': ['https://cdn.plot.ly/plotly-2.27.0.min']\n",
       "            }\n",
       "        });\n",
       "        require(['plotly'], function(Plotly) {\n",
       "            window._Plotly = Plotly;\n",
       "        });\n",
       "        }\n",
       "        </script>\n",
       "        "
      ]
     },
     "metadata": {},
     "output_type": "display_data"
    }
   ],
   "source": []
  },
  {
   "cell_type": "code",
   "execution_count": 20,
   "metadata": {},
   "outputs": [
    {
     "data": {
      "application/vnd.plotly.v1+json": {
       "config": {
        "linkText": "Export to plot.ly",
        "plotlyServerURL": "https://plot.ly",
        "showLink": true
       },
       "data": [
        {
         "line": {
          "color": "rgba(255, 153, 51, 1.0)",
          "dash": "solid",
          "shape": "linear",
          "width": 1.3
         },
         "mode": "lines",
         "name": "population_growth",
         "text": "",
         "type": "scatter",
         "x": [
          "2022-01-01",
          "2021-01-01",
          "2020-01-01",
          "2019-01-01",
          "2018-01-01",
          "2017-01-01",
          "2016-01-01",
          "2015-01-01",
          "2014-01-01",
          "2013-01-01",
          "2012-01-01",
          "2011-01-01",
          "2010-01-01",
          "2009-01-01",
          "2008-01-01",
          "2007-01-01",
          "2006-01-01",
          "2005-01-01",
          "2004-01-01",
          "2003-01-01",
          "2002-01-01",
          "2001-01-01",
          "2000-01-01",
          "1999-01-01",
          "1998-01-01",
          "1997-01-01",
          "1996-01-01",
          "1995-01-01",
          "1994-01-01",
          "1993-01-01",
          "1992-01-01",
          "1991-01-01",
          "1990-01-01",
          "1989-01-01",
          "1988-01-01",
          "1987-01-01",
          "1986-01-01",
          "1985-01-01",
          "1984-01-01",
          "1983-01-01",
          "1982-01-01",
          "1981-01-01",
          "1980-01-01",
          "1979-01-01",
          "1978-01-01",
          "1977-01-01",
          "1976-01-01",
          "1975-01-01",
          "1974-01-01",
          "1973-01-01",
          "1972-01-01",
          "1971-01-01",
          "1970-01-01",
          "1969-01-01",
          "1968-01-01",
          "1967-01-01",
          "1966-01-01",
          "1965-01-01",
          "1964-01-01",
          "1963-01-01",
          "1962-01-01",
          "1961-01-01",
          "1960-01-01"
         ],
         "y": [
          1.44635918427576,
          1.63585889002733,
          1.72031062423917,
          1.68846817343864,
          1.72516455160384,
          1.75699918544662,
          1.76502653275581,
          1.75460038083267,
          1.73094393878771,
          1.69446732352455,
          1.63406204857906,
          1.56298266563295,
          1.5047354003649,
          1.4303035696071,
          1.33630166361813,
          1.2473242341721,
          1.19983522844956,
          1.20234000182313,
          1.24422104996521,
          1.41434290218581,
          1.71558953640231,
          2.02757940882814,
          2.27194936669291,
          2.40883758441721,
          2.49115076791854,
          2.58297473472435,
          2.74610275033798,
          2.96631636921689,
          3.16913849081237,
          3.24084628891261,
          3.20257696605466,
          3.34768971230455,
          6.09436073046608,
          6.42210939531102,
          3.58337624484119,
          3.26537163746685,
          3.12256945652249,
          2.90614919793084,
          2.75997433504885,
          2.70446507258018,
          1.81909503749973,
          1.16127103883721,
          1.930410097462,
          1.61226474644176,
          1.70377521121895,
          2.65548175657098,
          2.84182748542272,
          3.0675443304544,
          3.00594151221225,
          2.99100503428902,
          2.99400217719842,
          2.94223756636724,
          2.90281974909526,
          2.83058914324168,
          2.75565466046345,
          2.66778792625351,
          2.54098408314936,
          2.43607717525374,
          2.31550617255799,
          2.18351749145652,
          2.03819990200126,
          1.8870907128584,
          ""
         ]
        }
       ],
       "layout": {
        "autosize": true,
        "legend": {
         "bgcolor": "#F5F6F9",
         "font": {
          "color": "#4D5663"
         }
        },
        "paper_bgcolor": "#F5F6F9",
        "plot_bgcolor": "#F5F6F9",
        "template": {
         "data": {
          "bar": [
           {
            "error_x": {
             "color": "#2a3f5f"
            },
            "error_y": {
             "color": "#2a3f5f"
            },
            "marker": {
             "line": {
              "color": "#E5ECF6",
              "width": 0.5
             },
             "pattern": {
              "fillmode": "overlay",
              "size": 10,
              "solidity": 0.2
             }
            },
            "type": "bar"
           }
          ],
          "barpolar": [
           {
            "marker": {
             "line": {
              "color": "#E5ECF6",
              "width": 0.5
             },
             "pattern": {
              "fillmode": "overlay",
              "size": 10,
              "solidity": 0.2
             }
            },
            "type": "barpolar"
           }
          ],
          "carpet": [
           {
            "aaxis": {
             "endlinecolor": "#2a3f5f",
             "gridcolor": "white",
             "linecolor": "white",
             "minorgridcolor": "white",
             "startlinecolor": "#2a3f5f"
            },
            "baxis": {
             "endlinecolor": "#2a3f5f",
             "gridcolor": "white",
             "linecolor": "white",
             "minorgridcolor": "white",
             "startlinecolor": "#2a3f5f"
            },
            "type": "carpet"
           }
          ],
          "choropleth": [
           {
            "colorbar": {
             "outlinewidth": 0,
             "ticks": ""
            },
            "type": "choropleth"
           }
          ],
          "contour": [
           {
            "colorbar": {
             "outlinewidth": 0,
             "ticks": ""
            },
            "colorscale": [
             [
              0,
              "#0d0887"
             ],
             [
              0.1111111111111111,
              "#46039f"
             ],
             [
              0.2222222222222222,
              "#7201a8"
             ],
             [
              0.3333333333333333,
              "#9c179e"
             ],
             [
              0.4444444444444444,
              "#bd3786"
             ],
             [
              0.5555555555555556,
              "#d8576b"
             ],
             [
              0.6666666666666666,
              "#ed7953"
             ],
             [
              0.7777777777777778,
              "#fb9f3a"
             ],
             [
              0.8888888888888888,
              "#fdca26"
             ],
             [
              1,
              "#f0f921"
             ]
            ],
            "type": "contour"
           }
          ],
          "contourcarpet": [
           {
            "colorbar": {
             "outlinewidth": 0,
             "ticks": ""
            },
            "type": "contourcarpet"
           }
          ],
          "heatmap": [
           {
            "colorbar": {
             "outlinewidth": 0,
             "ticks": ""
            },
            "colorscale": [
             [
              0,
              "#0d0887"
             ],
             [
              0.1111111111111111,
              "#46039f"
             ],
             [
              0.2222222222222222,
              "#7201a8"
             ],
             [
              0.3333333333333333,
              "#9c179e"
             ],
             [
              0.4444444444444444,
              "#bd3786"
             ],
             [
              0.5555555555555556,
              "#d8576b"
             ],
             [
              0.6666666666666666,
              "#ed7953"
             ],
             [
              0.7777777777777778,
              "#fb9f3a"
             ],
             [
              0.8888888888888888,
              "#fdca26"
             ],
             [
              1,
              "#f0f921"
             ]
            ],
            "type": "heatmap"
           }
          ],
          "heatmapgl": [
           {
            "colorbar": {
             "outlinewidth": 0,
             "ticks": ""
            },
            "colorscale": [
             [
              0,
              "#0d0887"
             ],
             [
              0.1111111111111111,
              "#46039f"
             ],
             [
              0.2222222222222222,
              "#7201a8"
             ],
             [
              0.3333333333333333,
              "#9c179e"
             ],
             [
              0.4444444444444444,
              "#bd3786"
             ],
             [
              0.5555555555555556,
              "#d8576b"
             ],
             [
              0.6666666666666666,
              "#ed7953"
             ],
             [
              0.7777777777777778,
              "#fb9f3a"
             ],
             [
              0.8888888888888888,
              "#fdca26"
             ],
             [
              1,
              "#f0f921"
             ]
            ],
            "type": "heatmapgl"
           }
          ],
          "histogram": [
           {
            "marker": {
             "pattern": {
              "fillmode": "overlay",
              "size": 10,
              "solidity": 0.2
             }
            },
            "type": "histogram"
           }
          ],
          "histogram2d": [
           {
            "colorbar": {
             "outlinewidth": 0,
             "ticks": ""
            },
            "colorscale": [
             [
              0,
              "#0d0887"
             ],
             [
              0.1111111111111111,
              "#46039f"
             ],
             [
              0.2222222222222222,
              "#7201a8"
             ],
             [
              0.3333333333333333,
              "#9c179e"
             ],
             [
              0.4444444444444444,
              "#bd3786"
             ],
             [
              0.5555555555555556,
              "#d8576b"
             ],
             [
              0.6666666666666666,
              "#ed7953"
             ],
             [
              0.7777777777777778,
              "#fb9f3a"
             ],
             [
              0.8888888888888888,
              "#fdca26"
             ],
             [
              1,
              "#f0f921"
             ]
            ],
            "type": "histogram2d"
           }
          ],
          "histogram2dcontour": [
           {
            "colorbar": {
             "outlinewidth": 0,
             "ticks": ""
            },
            "colorscale": [
             [
              0,
              "#0d0887"
             ],
             [
              0.1111111111111111,
              "#46039f"
             ],
             [
              0.2222222222222222,
              "#7201a8"
             ],
             [
              0.3333333333333333,
              "#9c179e"
             ],
             [
              0.4444444444444444,
              "#bd3786"
             ],
             [
              0.5555555555555556,
              "#d8576b"
             ],
             [
              0.6666666666666666,
              "#ed7953"
             ],
             [
              0.7777777777777778,
              "#fb9f3a"
             ],
             [
              0.8888888888888888,
              "#fdca26"
             ],
             [
              1,
              "#f0f921"
             ]
            ],
            "type": "histogram2dcontour"
           }
          ],
          "mesh3d": [
           {
            "colorbar": {
             "outlinewidth": 0,
             "ticks": ""
            },
            "type": "mesh3d"
           }
          ],
          "parcoords": [
           {
            "line": {
             "colorbar": {
              "outlinewidth": 0,
              "ticks": ""
             }
            },
            "type": "parcoords"
           }
          ],
          "pie": [
           {
            "automargin": true,
            "type": "pie"
           }
          ],
          "scatter": [
           {
            "fillpattern": {
             "fillmode": "overlay",
             "size": 10,
             "solidity": 0.2
            },
            "type": "scatter"
           }
          ],
          "scatter3d": [
           {
            "line": {
             "colorbar": {
              "outlinewidth": 0,
              "ticks": ""
             }
            },
            "marker": {
             "colorbar": {
              "outlinewidth": 0,
              "ticks": ""
             }
            },
            "type": "scatter3d"
           }
          ],
          "scattercarpet": [
           {
            "marker": {
             "colorbar": {
              "outlinewidth": 0,
              "ticks": ""
             }
            },
            "type": "scattercarpet"
           }
          ],
          "scattergeo": [
           {
            "marker": {
             "colorbar": {
              "outlinewidth": 0,
              "ticks": ""
             }
            },
            "type": "scattergeo"
           }
          ],
          "scattergl": [
           {
            "marker": {
             "colorbar": {
              "outlinewidth": 0,
              "ticks": ""
             }
            },
            "type": "scattergl"
           }
          ],
          "scattermapbox": [
           {
            "marker": {
             "colorbar": {
              "outlinewidth": 0,
              "ticks": ""
             }
            },
            "type": "scattermapbox"
           }
          ],
          "scatterpolar": [
           {
            "marker": {
             "colorbar": {
              "outlinewidth": 0,
              "ticks": ""
             }
            },
            "type": "scatterpolar"
           }
          ],
          "scatterpolargl": [
           {
            "marker": {
             "colorbar": {
              "outlinewidth": 0,
              "ticks": ""
             }
            },
            "type": "scatterpolargl"
           }
          ],
          "scatterternary": [
           {
            "marker": {
             "colorbar": {
              "outlinewidth": 0,
              "ticks": ""
             }
            },
            "type": "scatterternary"
           }
          ],
          "surface": [
           {
            "colorbar": {
             "outlinewidth": 0,
             "ticks": ""
            },
            "colorscale": [
             [
              0,
              "#0d0887"
             ],
             [
              0.1111111111111111,
              "#46039f"
             ],
             [
              0.2222222222222222,
              "#7201a8"
             ],
             [
              0.3333333333333333,
              "#9c179e"
             ],
             [
              0.4444444444444444,
              "#bd3786"
             ],
             [
              0.5555555555555556,
              "#d8576b"
             ],
             [
              0.6666666666666666,
              "#ed7953"
             ],
             [
              0.7777777777777778,
              "#fb9f3a"
             ],
             [
              0.8888888888888888,
              "#fdca26"
             ],
             [
              1,
              "#f0f921"
             ]
            ],
            "type": "surface"
           }
          ],
          "table": [
           {
            "cells": {
             "fill": {
              "color": "#EBF0F8"
             },
             "line": {
              "color": "white"
             }
            },
            "header": {
             "fill": {
              "color": "#C8D4E3"
             },
             "line": {
              "color": "white"
             }
            },
            "type": "table"
           }
          ]
         },
         "layout": {
          "annotationdefaults": {
           "arrowcolor": "#2a3f5f",
           "arrowhead": 0,
           "arrowwidth": 1
          },
          "autotypenumbers": "strict",
          "coloraxis": {
           "colorbar": {
            "outlinewidth": 0,
            "ticks": ""
           }
          },
          "colorscale": {
           "diverging": [
            [
             0,
             "#8e0152"
            ],
            [
             0.1,
             "#c51b7d"
            ],
            [
             0.2,
             "#de77ae"
            ],
            [
             0.3,
             "#f1b6da"
            ],
            [
             0.4,
             "#fde0ef"
            ],
            [
             0.5,
             "#f7f7f7"
            ],
            [
             0.6,
             "#e6f5d0"
            ],
            [
             0.7,
             "#b8e186"
            ],
            [
             0.8,
             "#7fbc41"
            ],
            [
             0.9,
             "#4d9221"
            ],
            [
             1,
             "#276419"
            ]
           ],
           "sequential": [
            [
             0,
             "#0d0887"
            ],
            [
             0.1111111111111111,
             "#46039f"
            ],
            [
             0.2222222222222222,
             "#7201a8"
            ],
            [
             0.3333333333333333,
             "#9c179e"
            ],
            [
             0.4444444444444444,
             "#bd3786"
            ],
            [
             0.5555555555555556,
             "#d8576b"
            ],
            [
             0.6666666666666666,
             "#ed7953"
            ],
            [
             0.7777777777777778,
             "#fb9f3a"
            ],
            [
             0.8888888888888888,
             "#fdca26"
            ],
            [
             1,
             "#f0f921"
            ]
           ],
           "sequentialminus": [
            [
             0,
             "#0d0887"
            ],
            [
             0.1111111111111111,
             "#46039f"
            ],
            [
             0.2222222222222222,
             "#7201a8"
            ],
            [
             0.3333333333333333,
             "#9c179e"
            ],
            [
             0.4444444444444444,
             "#bd3786"
            ],
            [
             0.5555555555555556,
             "#d8576b"
            ],
            [
             0.6666666666666666,
             "#ed7953"
            ],
            [
             0.7777777777777778,
             "#fb9f3a"
            ],
            [
             0.8888888888888888,
             "#fdca26"
            ],
            [
             1,
             "#f0f921"
            ]
           ]
          },
          "colorway": [
           "#636efa",
           "#EF553B",
           "#00cc96",
           "#ab63fa",
           "#FFA15A",
           "#19d3f3",
           "#FF6692",
           "#B6E880",
           "#FF97FF",
           "#FECB52"
          ],
          "font": {
           "color": "#2a3f5f"
          },
          "geo": {
           "bgcolor": "white",
           "lakecolor": "white",
           "landcolor": "#E5ECF6",
           "showlakes": true,
           "showland": true,
           "subunitcolor": "white"
          },
          "hoverlabel": {
           "align": "left"
          },
          "hovermode": "closest",
          "mapbox": {
           "style": "light"
          },
          "paper_bgcolor": "white",
          "plot_bgcolor": "#E5ECF6",
          "polar": {
           "angularaxis": {
            "gridcolor": "white",
            "linecolor": "white",
            "ticks": ""
           },
           "bgcolor": "#E5ECF6",
           "radialaxis": {
            "gridcolor": "white",
            "linecolor": "white",
            "ticks": ""
           }
          },
          "scene": {
           "xaxis": {
            "backgroundcolor": "#E5ECF6",
            "gridcolor": "white",
            "gridwidth": 2,
            "linecolor": "white",
            "showbackground": true,
            "ticks": "",
            "zerolinecolor": "white"
           },
           "yaxis": {
            "backgroundcolor": "#E5ECF6",
            "gridcolor": "white",
            "gridwidth": 2,
            "linecolor": "white",
            "showbackground": true,
            "ticks": "",
            "zerolinecolor": "white"
           },
           "zaxis": {
            "backgroundcolor": "#E5ECF6",
            "gridcolor": "white",
            "gridwidth": 2,
            "linecolor": "white",
            "showbackground": true,
            "ticks": "",
            "zerolinecolor": "white"
           }
          },
          "shapedefaults": {
           "line": {
            "color": "#2a3f5f"
           }
          },
          "ternary": {
           "aaxis": {
            "gridcolor": "white",
            "linecolor": "white",
            "ticks": ""
           },
           "baxis": {
            "gridcolor": "white",
            "linecolor": "white",
            "ticks": ""
           },
           "bgcolor": "#E5ECF6",
           "caxis": {
            "gridcolor": "white",
            "linecolor": "white",
            "ticks": ""
           }
          },
          "title": {
           "x": 0.05
          },
          "xaxis": {
           "automargin": true,
           "gridcolor": "white",
           "linecolor": "white",
           "ticks": "",
           "title": {
            "standoff": 15
           },
           "zerolinecolor": "white",
           "zerolinewidth": 2
          },
          "yaxis": {
           "automargin": true,
           "gridcolor": "white",
           "linecolor": "white",
           "ticks": "",
           "title": {
            "standoff": 15
           },
           "zerolinecolor": "white",
           "zerolinewidth": 2
          }
         }
        },
        "title": {
         "font": {
          "color": "#4D5663"
         },
         "text": "Fact I: Growth Rates over Time"
        },
        "xaxis": {
         "autorange": true,
         "gridcolor": "#E1E5ED",
         "range": [
          "1960-01-01",
          "2022-01-01"
         ],
         "showgrid": true,
         "tickfont": {
          "color": "#4D5663"
         },
         "title": {
          "font": {
           "color": "#4D5663"
          },
          "text": "Year"
         },
         "type": "date",
         "zerolinecolor": "#E1E5ED"
        },
        "yaxis": {
         "autorange": true,
         "gridcolor": "#E1E5ED",
         "range": [
          0.8690022412553318,
          6.714378192892899
         ],
         "showgrid": true,
         "tickfont": {
          "color": "#4D5663"
         },
         "title": {
          "font": {
           "color": "#4D5663"
          },
          "text": "Population"
         },
         "type": "linear",
         "zerolinecolor": "#E1E5ED"
        }
       }
      },
      "image/png": "[encoded data removed]",
      "text/html": [
       "<div>                            <div id=\"683272a3-513d-4942-a342-56716a836cc8\" class=\"plotly-graph-div\" style=\"height:525px; width:100%;\"></div>            <script type=\"text/javascript\">                require([\"plotly\"], function(Plotly) {                    window.PLOTLYENV=window.PLOTLYENV || {};\n",
       "                    window.PLOTLYENV.BASE_URL='https://plot.ly';                                    if (document.getElementById(\"683272a3-513d-4942-a342-56716a836cc8\")) {                    Plotly.newPlot(                        \"683272a3-513d-4942-a342-56716a836cc8\",                        [{\"line\":{\"color\":\"rgba(255, 153, 51, 1.0)\",\"dash\":\"solid\",\"shape\":\"linear\",\"width\":1.3},\"mode\":\"lines\",\"name\":\"population_growth\",\"text\":\"\",\"x\":[\"2022-01-01\",\"2021-01-01\",\"2020-01-01\",\"2019-01-01\",\"2018-01-01\",\"2017-01-01\",\"2016-01-01\",\"2015-01-01\",\"2014-01-01\",\"2013-01-01\",\"2012-01-01\",\"2011-01-01\",\"2010-01-01\",\"2009-01-01\",\"2008-01-01\",\"2007-01-01\",\"2006-01-01\",\"2005-01-01\",\"2004-01-01\",\"2003-01-01\",\"2002-01-01\",\"2001-01-01\",\"2000-01-01\",\"1999-01-01\",\"1998-01-01\",\"1997-01-01\",\"1996-01-01\",\"1995-01-01\",\"1994-01-01\",\"1993-01-01\",\"1992-01-01\",\"1991-01-01\",\"1990-01-01\",\"1989-01-01\",\"1988-01-01\",\"1987-01-01\",\"1986-01-01\",\"1985-01-01\",\"1984-01-01\",\"1983-01-01\",\"1982-01-01\",\"1981-01-01\",\"1980-01-01\",\"1979-01-01\",\"1978-01-01\",\"1977-01-01\",\"1976-01-01\",\"1975-01-01\",\"1974-01-01\",\"1973-01-01\",\"1972-01-01\",\"1971-01-01\",\"1970-01-01\",\"1969-01-01\",\"1968-01-01\",\"1967-01-01\",\"1966-01-01\",\"1965-01-01\",\"1964-01-01\",\"1963-01-01\",\"1962-01-01\",\"1961-01-01\",\"1960-01-01\"],\"y\":[1.44635918427576,1.63585889002733,1.72031062423917,1.68846817343864,1.72516455160384,1.75699918544662,1.76502653275581,1.75460038083267,1.73094393878771,1.69446732352455,1.63406204857906,1.56298266563295,1.5047354003649,1.4303035696071,1.33630166361813,1.2473242341721,1.19983522844956,1.20234000182313,1.24422104996521,1.41434290218581,1.71558953640231,2.02757940882814,2.27194936669291,2.40883758441721,2.49115076791854,2.58297473472435,2.74610275033798,2.96631636921689,3.16913849081237,3.24084628891261,3.20257696605466,3.34768971230455,6.09436073046608,6.42210939531102,3.58337624484119,3.26537163746685,3.12256945652249,2.90614919793084,2.75997433504885,2.70446507258018,1.81909503749973,1.16127103883721,1.930410097462,1.61226474644176,1.70377521121895,2.65548175657098,2.84182748542272,3.0675443304544,3.00594151221225,2.99100503428902,2.99400217719842,2.94223756636724,2.90281974909526,2.83058914324168,2.75565466046345,2.66778792625351,2.54098408314936,2.43607717525374,2.31550617255799,2.18351749145652,2.03819990200126,1.8870907128584,\"\"],\"type\":\"scatter\"}],                        {\"legend\":{\"bgcolor\":\"#F5F6F9\",\"font\":{\"color\":\"#4D5663\"}},\"paper_bgcolor\":\"#F5F6F9\",\"plot_bgcolor\":\"#F5F6F9\",\"template\":{\"data\":{\"barpolar\":[{\"marker\":{\"line\":{\"color\":\"#E5ECF6\",\"width\":0.5},\"pattern\":{\"fillmode\":\"overlay\",\"size\":10,\"solidity\":0.2}},\"type\":\"barpolar\"}],\"bar\":[{\"error_x\":{\"color\":\"#2a3f5f\"},\"error_y\":{\"color\":\"#2a3f5f\"},\"marker\":{\"line\":{\"color\":\"#E5ECF6\",\"width\":0.5},\"pattern\":{\"fillmode\":\"overlay\",\"size\":10,\"solidity\":0.2}},\"type\":\"bar\"}],\"carpet\":[{\"aaxis\":{\"endlinecolor\":\"#2a3f5f\",\"gridcolor\":\"white\",\"linecolor\":\"white\",\"minorgridcolor\":\"white\",\"startlinecolor\":\"#2a3f5f\"},\"baxis\":{\"endlinecolor\":\"#2a3f5f\",\"gridcolor\":\"white\",\"linecolor\":\"white\",\"minorgridcolor\":\"white\",\"startlinecolor\":\"#2a3f5f\"},\"type\":\"carpet\"}],\"choropleth\":[{\"colorbar\":{\"outlinewidth\":0,\"ticks\":\"\"},\"type\":\"choropleth\"}],\"contourcarpet\":[{\"colorbar\":{\"outlinewidth\":0,\"ticks\":\"\"},\"type\":\"contourcarpet\"}],\"contour\":[{\"colorbar\":{\"outlinewidth\":0,\"ticks\":\"\"},\"colorscale\":[[0.0,\"#0d0887\"],[0.1111111111111111,\"#46039f\"],[0.2222222222222222,\"#7201a8\"],[0.3333333333333333,\"#9c179e\"],[0.4444444444444444,\"#bd3786\"],[0.5555555555555556,\"#d8576b\"],[0.6666666666666666,\"#ed7953\"],[0.7777777777777778,\"#fb9f3a\"],[0.8888888888888888,\"#fdca26\"],[1.0,\"#f0f921\"]],\"type\":\"contour\"}],\"heatmapgl\":[{\"colorbar\":{\"outlinewidth\":0,\"ticks\":\"\"},\"colorscale\":[[0.0,\"#0d0887\"],[0.1111111111111111,\"#46039f\"],[0.2222222222222222,\"#7201a8\"],[0.3333333333333333,\"#9c179e\"],[0.4444444444444444,\"#bd3786\"],[0.5555555555555556,\"#d8576b\"],[0.6666666666666666,\"#ed7953\"],[0.7777777777777778,\"#fb9f3a\"],[0.8888888888888888,\"#fdca26\"],[1.0,\"#f0f921\"]],\"type\":\"heatmapgl\"}],\"heatmap\":[{\"colorbar\":{\"outlinewidth\":0,\"ticks\":\"\"},\"colorscale\":[[0.0,\"#0d0887\"],[0.1111111111111111,\"#46039f\"],[0.2222222222222222,\"#7201a8\"],[0.3333333333333333,\"#9c179e\"],[0.4444444444444444,\"#bd3786\"],[0.5555555555555556,\"#d8576b\"],[0.6666666666666666,\"#ed7953\"],[0.7777777777777778,\"#fb9f3a\"],[0.8888888888888888,\"#fdca26\"],[1.0,\"#f0f921\"]],\"type\":\"heatmap\"}],\"histogram2dcontour\":[{\"colorbar\":{\"outlinewidth\":0,\"ticks\":\"\"},\"colorscale\":[[0.0,\"#0d0887\"],[0.1111111111111111,\"#46039f\"],[0.2222222222222222,\"#7201a8\"],[0.3333333333333333,\"#9c179e\"],[0.4444444444444444,\"#bd3786\"],[0.5555555555555556,\"#d8576b\"],[0.6666666666666666,\"#ed7953\"],[0.7777777777777778,\"#fb9f3a\"],[0.8888888888888888,\"#fdca26\"],[1.0,\"#f0f921\"]],\"type\":\"histogram2dcontour\"}],\"histogram2d\":[{\"colorbar\":{\"outlinewidth\":0,\"ticks\":\"\"},\"colorscale\":[[0.0,\"#0d0887\"],[0.1111111111111111,\"#46039f\"],[0.2222222222222222,\"#7201a8\"],[0.3333333333333333,\"#9c179e\"],[0.4444444444444444,\"#bd3786\"],[0.5555555555555556,\"#d8576b\"],[0.6666666666666666,\"#ed7953\"],[0.7777777777777778,\"#fb9f3a\"],[0.8888888888888888,\"#fdca26\"],[1.0,\"#f0f921\"]],\"type\":\"histogram2d\"}],\"histogram\":[{\"marker\":{\"pattern\":{\"fillmode\":\"overlay\",\"size\":10,\"solidity\":0.2}},\"type\":\"histogram\"}],\"mesh3d\":[{\"colorbar\":{\"outlinewidth\":0,\"ticks\":\"\"},\"type\":\"mesh3d\"}],\"parcoords\":[{\"line\":{\"colorbar\":{\"outlinewidth\":0,\"ticks\":\"\"}},\"type\":\"parcoords\"}],\"pie\":[{\"automargin\":true,\"type\":\"pie\"}],\"scatter3d\":[{\"line\":{\"colorbar\":{\"outlinewidth\":0,\"ticks\":\"\"}},\"marker\":{\"colorbar\":{\"outlinewidth\":0,\"ticks\":\"\"}},\"type\":\"scatter3d\"}],\"scattercarpet\":[{\"marker\":{\"colorbar\":{\"outlinewidth\":0,\"ticks\":\"\"}},\"type\":\"scattercarpet\"}],\"scattergeo\":[{\"marker\":{\"colorbar\":{\"outlinewidth\":0,\"ticks\":\"\"}},\"type\":\"scattergeo\"}],\"scattergl\":[{\"marker\":{\"colorbar\":{\"outlinewidth\":0,\"ticks\":\"\"}},\"type\":\"scattergl\"}],\"scattermapbox\":[{\"marker\":{\"colorbar\":{\"outlinewidth\":0,\"ticks\":\"\"}},\"type\":\"scattermapbox\"}],\"scatterpolargl\":[{\"marker\":{\"colorbar\":{\"outlinewidth\":0,\"ticks\":\"\"}},\"type\":\"scatterpolargl\"}],\"scatterpolar\":[{\"marker\":{\"colorbar\":{\"outlinewidth\":0,\"ticks\":\"\"}},\"type\":\"scatterpolar\"}],\"scatter\":[{\"fillpattern\":{\"fillmode\":\"overlay\",\"size\":10,\"solidity\":0.2},\"type\":\"scatter\"}],\"scatterternary\":[{\"marker\":{\"colorbar\":{\"outlinewidth\":0,\"ticks\":\"\"}},\"type\":\"scatterternary\"}],\"surface\":[{\"colorbar\":{\"outlinewidth\":0,\"ticks\":\"\"},\"colorscale\":[[0.0,\"#0d0887\"],[0.1111111111111111,\"#46039f\"],[0.2222222222222222,\"#7201a8\"],[0.3333333333333333,\"#9c179e\"],[0.4444444444444444,\"#bd3786\"],[0.5555555555555556,\"#d8576b\"],[0.6666666666666666,\"#ed7953\"],[0.7777777777777778,\"#fb9f3a\"],[0.8888888888888888,\"#fdca26\"],[1.0,\"#f0f921\"]],\"type\":\"surface\"}],\"table\":[{\"cells\":{\"fill\":{\"color\":\"#EBF0F8\"},\"line\":{\"color\":\"white\"}},\"header\":{\"fill\":{\"color\":\"#C8D4E3\"},\"line\":{\"color\":\"white\"}},\"type\":\"table\"}]},\"layout\":{\"annotationdefaults\":{\"arrowcolor\":\"#2a3f5f\",\"arrowhead\":0,\"arrowwidth\":1},\"autotypenumbers\":\"strict\",\"coloraxis\":{\"colorbar\":{\"outlinewidth\":0,\"ticks\":\"\"}},\"colorscale\":{\"diverging\":[[0,\"#8e0152\"],[0.1,\"#c51b7d\"],[0.2,\"#de77ae\"],[0.3,\"#f1b6da\"],[0.4,\"#fde0ef\"],[0.5,\"#f7f7f7\"],[0.6,\"#e6f5d0\"],[0.7,\"#b8e186\"],[0.8,\"#7fbc41\"],[0.9,\"#4d9221\"],[1,\"#276419\"]],\"sequential\":[[0.0,\"#0d0887\"],[0.1111111111111111,\"#46039f\"],[0.2222222222222222,\"#7201a8\"],[0.3333333333333333,\"#9c179e\"],[0.4444444444444444,\"#bd3786\"],[0.5555555555555556,\"#d8576b\"],[0.6666666666666666,\"#ed7953\"],[0.7777777777777778,\"#fb9f3a\"],[0.8888888888888888,\"#fdca26\"],[1.0,\"#f0f921\"]],\"sequentialminus\":[[0.0,\"#0d0887\"],[0.1111111111111111,\"#46039f\"],[0.2222222222222222,\"#7201a8\"],[0.3333333333333333,\"#9c179e\"],[0.4444444444444444,\"#bd3786\"],[0.5555555555555556,\"#d8576b\"],[0.6666666666666666,\"#ed7953\"],[0.7777777777777778,\"#fb9f3a\"],[0.8888888888888888,\"#fdca26\"],[1.0,\"#f0f921\"]]},\"colorway\":[\"#636efa\",\"#EF553B\",\"#00cc96\",\"#ab63fa\",\"#FFA15A\",\"#19d3f3\",\"#FF6692\",\"#B6E880\",\"#FF97FF\",\"#FECB52\"],\"font\":{\"color\":\"#2a3f5f\"},\"geo\":{\"bgcolor\":\"white\",\"lakecolor\":\"white\",\"landcolor\":\"#E5ECF6\",\"showlakes\":true,\"showland\":true,\"subunitcolor\":\"white\"},\"hoverlabel\":{\"align\":\"left\"},\"hovermode\":\"closest\",\"mapbox\":{\"style\":\"light\"},\"paper_bgcolor\":\"white\",\"plot_bgcolor\":\"#E5ECF6\",\"polar\":{\"angularaxis\":{\"gridcolor\":\"white\",\"linecolor\":\"white\",\"ticks\":\"\"},\"bgcolor\":\"#E5ECF6\",\"radialaxis\":{\"gridcolor\":\"white\",\"linecolor\":\"white\",\"ticks\":\"\"}},\"scene\":{\"xaxis\":{\"backgroundcolor\":\"#E5ECF6\",\"gridcolor\":\"white\",\"gridwidth\":2,\"linecolor\":\"white\",\"showbackground\":true,\"ticks\":\"\",\"zerolinecolor\":\"white\"},\"yaxis\":{\"backgroundcolor\":\"#E5ECF6\",\"gridcolor\":\"white\",\"gridwidth\":2,\"linecolor\":\"white\",\"showbackground\":true,\"ticks\":\"\",\"zerolinecolor\":\"white\"},\"zaxis\":{\"backgroundcolor\":\"#E5ECF6\",\"gridcolor\":\"white\",\"gridwidth\":2,\"linecolor\":\"white\",\"showbackground\":true,\"ticks\":\"\",\"zerolinecolor\":\"white\"}},\"shapedefaults\":{\"line\":{\"color\":\"#2a3f5f\"}},\"ternary\":{\"aaxis\":{\"gridcolor\":\"white\",\"linecolor\":\"white\",\"ticks\":\"\"},\"baxis\":{\"gridcolor\":\"white\",\"linecolor\":\"white\",\"ticks\":\"\"},\"bgcolor\":\"#E5ECF6\",\"caxis\":{\"gridcolor\":\"white\",\"linecolor\":\"white\",\"ticks\":\"\"}},\"title\":{\"x\":0.05},\"xaxis\":{\"automargin\":true,\"gridcolor\":\"white\",\"linecolor\":\"white\",\"ticks\":\"\",\"title\":{\"standoff\":15},\"zerolinecolor\":\"white\",\"zerolinewidth\":2},\"yaxis\":{\"automargin\":true,\"gridcolor\":\"white\",\"linecolor\":\"white\",\"ticks\":\"\",\"title\":{\"standoff\":15},\"zerolinecolor\":\"white\",\"zerolinewidth\":2}}},\"title\":{\"font\":{\"color\":\"#4D5663\"},\"text\":\"Fact I: Growth Rates over Time\"},\"xaxis\":{\"gridcolor\":\"#E1E5ED\",\"showgrid\":true,\"tickfont\":{\"color\":\"#4D5663\"},\"title\":{\"font\":{\"color\":\"#4D5663\"},\"text\":\"Year\"},\"zerolinecolor\":\"#E1E5ED\"},\"yaxis\":{\"gridcolor\":\"#E1E5ED\",\"showgrid\":true,\"tickfont\":{\"color\":\"#4D5663\"},\"title\":{\"font\":{\"color\":\"#4D5663\"},\"text\":\"Population\"},\"zerolinecolor\":\"#E1E5ED\"}},                        {\"showLink\": true, \"linkText\": \"Export to plot.ly\", \"plotlyServerURL\": \"https://plot.ly\", \"responsive\": true}                    ).then(function(){\n",
       "                            \n",
       "var gd = document.getElementById('683272a3-513d-4942-a342-56716a836cc8');\n",
       "var x = new MutationObserver(function (mutations, observer) {{\n",
       "        var display = window.getComputedStyle(gd).display;\n",
       "        if (!display || display === 'none') {{\n",
       "            console.log([gd, 'removed!']);\n",
       "            Plotly.purge(gd);\n",
       "            observer.disconnect();\n",
       "        }}\n",
       "}});\n",
       "\n",
       "// Listen for the removal of the full notebook cells\n",
       "var notebookContainer = gd.closest('#notebook-container');\n",
       "if (notebookContainer) {{\n",
       "    x.observe(notebookContainer, {childList: true});\n",
       "}}\n",
       "\n",
       "// Listen for the clearing of the current output cell\n",
       "var outputEl = gd.closest('.output');\n",
       "if (outputEl) {{\n",
       "    x.observe(outputEl, {childList: true});\n",
       "}}\n",
       "\n",
       "                        })                };                });            </script>        </div>"
      ]
     },
     "metadata": {},
     "output_type": "display_data"
    }
   ],
   "source": [
    "nambia_df.iplot(title=\"Fact I: Growth Rates over Time\",xTitle='Year',yTitle='Population')"
   ]
  },
  {
   "cell_type": "code",
   "execution_count": null,
   "metadata": {},
   "outputs": [],
   "source": []
  }
 ],
 "metadata": {
  "kernelspec": {
   "display_name": "Python 3 (ipykernel)",
   "language": "python",
   "name": "python3"
  },
  "language_info": {
   "codemirror_mode": {
    "name": "ipython",
    "version": 3
   },
   "file_extension": ".py",
   "mimetype": "text/x-python",
   "name": "python",
   "nbconvert_exporter": "python",
   "pygments_lexer": "ipython3",
   "version": "3.9.15"
  }
 },
 "nbformat": 4,
 "nbformat_minor": 4
}
