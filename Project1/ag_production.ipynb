{
  "cells": [
    {
      "cell_type": "markdown",
      "metadata": {},
      "source": [
        "## Lecture III How is agricultural production increasing?\n\n"
      ]
    },
    {
      "cell_type": "markdown",
      "metadata": {},
      "source": [
        "We&rsquo;ve seen that growth in food production is typically greater than\npopulation growth.  But where is this growth coming from?\n\nFood (and crops in particular) are the classical example of\nproduction.  The &ldquo;classical&rdquo; economists in the 18th century, when\nmost income came from agriculture, thought there were three main\n&ldquo;factors&rdquo; of production:\n\n-   Land\n-   Labor\n-   Capital\n\nThus one might write the technical relationship between &ldquo;factors&rdquo; (or\ninputs) and output as\n$$\n    \\text{Crop output} = F(\\mbox{Land},\\mbox{Labor},\\mbox{Capital}).\n $$\n\n"
      ]
    },
    {
      "cell_type": "markdown",
      "metadata": {},
      "source": [
        "### Functional forms\n\n"
      ]
    },
    {
      "cell_type": "markdown",
      "metadata": {},
      "source": [
        "We have good reason to think that $F$ displays constant returns to\nscale; i.e., is homogeneous of degree one.  Write it as\n$F(x_1,x_2,\\dots,x_n)$ (thus abstracting from the classical factors\nof production).\n\nObservationally, it&rsquo;s also often the case the cost share for\ndifferent factors of production remains constant, even when prices\nchange.  If we combine these facts (linearly homogeneous, constant\ncost shares) with an assumption that farmers operating this\nproduction function are profit maximizing price-takers and a\ntechnical assumption that $F$ is continuously differentiable, then\none can prove that $F$ is &ldquo;Cobb-Douglas&rdquo;, or\n$$\n      F(x_1,x_2,\\dots,x_n) = A\\prod_{i=1}^nx_i^{\\alpha_i},\n  $$\nwhere $\\sum_{i=1}^n\\alpha_i=1$.  This is a result first established\nby the economist Paul Douglas and the mathematician Charles Cobb in 1928.\n\nIf we observe output at time $t$ for country $j$, say $y^j_t$ and inputs $x^j_{it}$, we can take the\nlogarithm of the Cobb-Douglas production function, obtaining\n$$\n     \\log y^j_t = \\log A^j_t + \\sum_{i=1}^n\\alpha^j_i\\log(x^j_{it}).\n  $$\nNote that we&rsquo;ve allowed the cost-share parameters $\\alpha$ to vary\nacross both inputs and also countries, but *not* over time.\n\n"
      ]
    },
    {
      "cell_type": "markdown",
      "metadata": {},
      "source": [
        "### Total Factor Productivity\n\n"
      ]
    },
    {
      "cell_type": "markdown",
      "metadata": {},
      "source": [
        "The term $A$ is sometimes called &ldquo;Total Factor Productivity&rdquo; (TFP),\nbecause increases in $A$ increase productivity of all factors.  If\nwe take differences in log output over time we get\n$$\n      \\Delta\\log y^j_t = \\Delta\\log A^j_t + \\sum_{i=1}^n\\alpha^j_i\\Delta\\log(x^j_{it}).\n   $$\nRecall that changes in logs approximate percent changes or growth\nrates, so we can use this equation to decompose output growth into\ngrowth in input use and TFP growth.\n\n"
      ]
    },
    {
      "cell_type": "markdown",
      "metadata": {},
      "source": [
        "### Data on Food Production\n\n"
      ]
    },
    {
      "cell_type": "markdown",
      "metadata": {},
      "source": [
        "What’s happened to food production over recent decades?\nSee\n[https://www.ers.usda.gov/data-products/international-agricultural-productivity/](https://www.ers.usda.gov/data-products/international-agricultural-productivity/).\n\nData on TFP, output, factor use, and factor shares can be found at\n[https://docs.google.com/spreadsheets/d/1J_Yoo2eBgABBy8Hnvh2Vf7GYowELZBYTVwt-3NtjUsc/](https://docs.google.com/spreadsheets/d/1J_Yoo2eBgABBy8Hnvh2Vf7GYowELZBYTVwt-3NtjUsc/),\nwhich is publicly readable.\n\n"
      ]
    },
    {
      "cell_type": "markdown",
      "metadata": {},
      "source": [
        "### Reading Sheets\n\n"
      ]
    },
    {
      "cell_type": "markdown",
      "metadata": {},
      "source": [
        "I&rsquo;ve written a python package `eep153_tools` which includes tools to\nhandle authentication as well as reading google sheets as pandas\nDataFrames.  First we have to deal with authentication, by decrypting\ncredentials to access particular files (you should only have to do\nthis part once):\n\n"
      ]
    },
    {
      "cell_type": "code",
      "execution_count": 1,
      "metadata": {},
      "outputs": [],
      "source": [
        "!pip install eep153_tools\n!pip install python_gnupg\n\nfrom eep153_tools.sheets import decrypt_credentials\ndecrypt_credentials('../students.json.gpg')"
      ]
    },
    {
      "cell_type": "markdown",
      "metadata": {},
      "source": [
        "To check that this worked, the following gives a list of\nemails for &ldquo;service<sub>accounts</sub>&rdquo; that now have credentials&#x2013;you can\nthen &ldquo;share&rdquo; google sheets with these.\n\n"
      ]
    },
    {
      "cell_type": "code",
      "execution_count": 1,
      "metadata": {},
      "outputs": [],
      "source": [
        "!ls ~/.eep153.service_accounts/"
      ]
    },
    {
      "cell_type": "markdown",
      "metadata": {},
      "source": [
        "With those credentials established\n\n"
      ]
    },
    {
      "cell_type": "code",
      "execution_count": 1,
      "metadata": {},
      "outputs": [],
      "source": [
        "from eep153_tools.sheets import read_sheets\n\n#### Read a bunch of google worksheets into a dictionary of dataframes\ndata = read_sheets('https://docs.google.com/spreadsheets/d/1J_Yoo2eBgABBy8Hnvh2Vf7GYowELZBYTVwt-3NtjUsc/edit#gid=1532023339')['Data']\n\ndata.keys()"
      ]
    },
    {
      "cell_type": "markdown",
      "metadata": {},
      "source": [
        "This gives a dictionary of dataframes, but these dataframes need to be\ntidied up some.  For example, look at `Outall_Index`:\n\n"
      ]
    },
    {
      "cell_type": "code",
      "execution_count": 1,
      "metadata": {},
      "outputs": [],
      "source": [
        "data['Outall_Index'].head()"
      ]
    },
    {
      "cell_type": "markdown",
      "metadata": {},
      "source": [
        "We really just want selected columns, and an index that depends on country and year:\n\n"
      ]
    },
    {
      "cell_type": "code",
      "execution_count": 1,
      "metadata": {},
      "outputs": [],
      "source": [
        "import pandas as pd\n\nData = {'Level':'Level','Country':'Country/Territory','WDI Code':'ISO3','Year':'Year','Output':'Outall_Index','TFP':'TFP_Index','Land':'Land_Index','Labor':'Labor_Index','Capital':'Capital_Index','Materials':'Materials_Index'}\n\n\ndf = data.rename(columns={v:k for k,v in Data.items()})\ndf = df[Data.keys()].set_index(['WDI Code','Level','Country','Year'])\n\n# Deal with some duplicate indices (drops regions)\ndf = df.loc[~df.index.duplicated(),:]\ndf"
      ]
    },
    {
      "cell_type": "markdown",
      "metadata": {},
      "source": [
        "### Visualizing data on ag production\n\n"
      ]
    },
    {
      "cell_type": "markdown",
      "metadata": {},
      "source": [
        "Plot growth in output for all countries for 1961 on:\n\n"
      ]
    },
    {
      "cell_type": "code",
      "execution_count": 1,
      "metadata": {},
      "outputs": [],
      "source": [
        "import cufflinks as cf\ncf.go_offline()\n\ndf['Output'].unstack().T.iplot(title=\"Index of Agricultural Output\",\n                               yTitle='Value of Output Index',\n                               xTitle='Year')"
      ]
    },
    {
      "cell_type": "markdown",
      "metadata": {},
      "source": [
        "Compare world growth in outputs, inputs, and TFP:\n\n"
      ]
    },
    {
      "cell_type": "code",
      "execution_count": 1,
      "metadata": {},
      "outputs": [],
      "source": [
        "import numpy as np\n\nworld = df.xs('World',level='Level').replace(0,np.nan).dropna(how='any')\n\n# Drop unnecessary index levels\nworld = world.droplevel(['WDI Code','Country'])\n\n# Put in log differences\ndworld = np.log(world).diff()\ndworld['Inputs'] = dworld['Output'] - dworld['TFP']\n\ndworld.mean()"
      ]
    },
    {
      "cell_type": "markdown",
      "metadata": {},
      "source": [
        "And a graph of growth rates:\n\n"
      ]
    },
    {
      "cell_type": "code",
      "execution_count": 1,
      "metadata": {},
      "outputs": [],
      "source": [
        "dworld[['Output','Inputs','TFP']].iplot(title=\"Growth rates of output, inputs, & TFP\",\n                                           xTitle=\"Year\")"
      ]
    },
    {
      "cell_type": "markdown",
      "metadata": {},
      "source": [
        "That&rsquo;s the overall picture for the world.  Now &ldquo;drill down&rdquo; and\nconsider just production in the US:\n\n"
      ]
    },
    {
      "cell_type": "code",
      "execution_count": 1,
      "metadata": {},
      "outputs": [],
      "source": [
        "select = df.xs('USA',level='WDI Code').dropna(how='any')\n\n# Drop unnecessary index levels\nselect = select.droplevel(['Level','Country'])\n\ndselect = np.log(select).diff()\ndselect['Inputs'] = dselect['Output'] - dselect['TFP']\n\ndselect.mean()"
      ]
    },
    {
      "cell_type": "markdown",
      "metadata": {},
      "source": [
        "And here a graph of growth in indices of inputs & outputs since 1961:\n\n"
      ]
    },
    {
      "cell_type": "code",
      "execution_count": 1,
      "metadata": {},
      "outputs": [],
      "source": [
        "select = df.xs('USA',level='WDI Code').dropna(how='any').droplevel(['Level','Country'])\n\nselect = select/select.loc[1961,:]\nselect.iplot()"
      ]
    },
    {
      "cell_type": "markdown",
      "metadata": {},
      "source": [
        "Compare with India, which in recent years has had a level of\nagricultural output close to that of the US:\n\n"
      ]
    },
    {
      "cell_type": "code",
      "execution_count": 1,
      "metadata": {},
      "outputs": [],
      "source": [
        "select = df.xs('IND',level='WDI Code').dropna(how='any').droplevel(['Level','Country'])\n\nselect = select/select.loc[1961,:]\nselect.iplot()"
      ]
    }
  ],
  "metadata": {
    "org": null,
    "kernelspec": {
      "display_name": "Python 3",
      "language": "python",
      "name": "python3"
    },
    "language_info": {
      "codemirror_mode": {
        "name": "ipython",
        "version": 3
      },
      "file_extension": ".py",
      "mimetype": "text/x-python",
      "name": "python",
      "nbconvert_exporter": "python",
      "pygments_lexer": "ipython3",
      "version": "3.5.2"
    }
  },
  "nbformat": 4,
  "nbformat_minor": 0
}
