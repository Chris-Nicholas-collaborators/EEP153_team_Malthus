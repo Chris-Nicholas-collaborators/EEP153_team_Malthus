{
  "cells": [
    {
      "cell_type": "markdown",
      "metadata": {},
      "source": [
        "## Lecture III How is agricultural production increasing?\n",
        "\n"
      ]
    },
    {
      "cell_type": "markdown",
      "metadata": {},
      "source": [
        "We&rsquo;ve seen that growth in food production is typically greater than\n",
        "population growth.  But where is this growth coming from?\n",
        "\n",
        "Food (and crops in particular) are the classical example of\n",
        "production.  The &ldquo;classical&rdquo; economists in the 18th century, when\n",
        "most income came from agriculture, thought there were three main\n",
        "&ldquo;factors&rdquo; of production:\n",
        "\n",
        "-   Land\n",
        "-   Labor\n",
        "-   Capital\n",
        "\n",
        "Thus one might write the technical relationship between &ldquo;factors&rdquo; (or\n",
        "inputs) and output as\n",
        "$$\n",
        "    \\text{Crop output} = F(\\mbox{Land},\\mbox{Labor},\\mbox{Capital}).\n",
        " $$\n",
        "\n"
      ]
    },
    {
      "cell_type": "markdown",
      "metadata": {},
      "source": [
        "### Functional forms\n",
        "\n"
      ]
    },
    {
      "cell_type": "markdown",
      "metadata": {},
      "source": [
        "We have good reason to think that $F$ displays constant returns to\n",
        "scale; i.e., is homogeneous of degree one.  Write it as\n",
        "$F(x_1,x_2,\\dots,x_n)$ (thus abstracting from the classical factors\n",
        "of production).\n",
        "\n",
        "Observationally, it&rsquo;s also often the case the cost share for\n",
        "different factors of production remains constant, even when prices\n",
        "change.  If we combine these facts (linearly homogeneous, constant\n",
        "cost shares) with an assumption that farmers operating this\n",
        "production function are profit maximizing price-takers and a\n",
        "technical assumption that $F$ is continuously differentiable, then\n",
        "one can prove that $F$ is &ldquo;Cobb-Douglas&rdquo;, or\n",
        "$$\n",
        "      F(x_1,x_2,\\dots,x_n) = A\\prod_{i=1}^nx_i^{\\alpha_i},\n",
        "  $$\n",
        "where $\\sum_{i=1}^n\\alpha_i=1$.  This is a result first established\n",
        "by the economist Paul Douglas and the mathematician Charles Cobb in 1928.\n",
        "\n",
        "If we observe output at time $t$ for country $j$, say $y^j_t$ and inputs $x^j_{it}$, we can take the\n",
        "logarithm of the Cobb-Douglas production function, obtaining\n",
        "$$\n",
        "     \\log y^j_t = \\log A^j_t + \\sum_{i=1}^n\\alpha^j_i\\log(x^j_{it}).\n",
        "  $$\n",
        "Note that we&rsquo;ve allowed the cost-share parameters $\\alpha$ to vary\n",
        "across both inputs and also countries, but *not* over time.\n",
        "\n"
      ]
    },
    {
      "cell_type": "markdown",
      "metadata": {},
      "source": [
        "### Total Factor Productivity\n",
        "\n"
      ]
    },
    {
      "cell_type": "markdown",
      "metadata": {},
      "source": [
        "The term $A$ is sometimes called &ldquo;Total Factor Productivity&rdquo; (TFP),\n",
        "because increases in $A$ increase productivity of all factors.  If\n",
        "we take differences in log output over time we get\n",
        "$$\n",
        "      \\Delta\\log y^j_t = \\Delta\\log A^j_t + \\sum_{i=1}^n\\alpha^j_i\\Delta\\log(x^j_{it}).\n",
        "   $$\n",
        "Recall that changes in logs approximate percent changes or growth\n",
        "rates, so we can use this equation to decompose output growth into\n",
        "growth in input use and TFP growth.\n",
        "\n"
      ]
    },
    {
      "cell_type": "markdown",
      "metadata": {},
      "source": [
        "### Data on Food Production\n",
        "\n"
      ]
    },
    {
      "cell_type": "markdown",
      "metadata": {},
      "source": [
        "What’s happened to food production over recent decades?\n",
        "See\n",
        "[https://www.ers.usda.gov/data-products/international-agricultural-productivity/](https://www.ers.usda.gov/data-products/international-agricultural-productivity/).\n",
        "\n",
        "Data on TFP, output, factor use, and factor shares can be found at\n",
        "[https://docs.google.com/spreadsheets/d/1J_Yoo2eBgABBy8Hnvh2Vf7GYowELZBYTVwt-3NtjUsc/](https://docs.google.com/spreadsheets/d/1J_Yoo2eBgABBy8Hnvh2Vf7GYowELZBYTVwt-3NtjUsc/),\n",
        "which is publicly readable.\n",
        "\n"
      ]
    },
    {
      "cell_type": "markdown",
      "metadata": {},
      "source": [
        "### Reading Sheets\n",
        "\n"
      ]
    },
    {
      "cell_type": "markdown",
      "metadata": {},
      "source": [
        "I&rsquo;ve written a python package `eep153_tools` which includes tools to\n",
        "handle authentication as well as reading google sheets as pandas\n",
        "DataFrames.  First we have to deal with authentication, by decrypting\n",
        "credentials to access particular files (you should only have to do\n",
        "this part once):\n",
        "\n"
      ]
    },
    {
      "cell_type": "code",
      "execution_count": 4,
      "metadata": {},
      "outputs": [
        {
          "ename": "FileNotFoundError",
          "evalue": "[Errno 2] No such file or directory: '../students.json.gpg'",
          "output_type": "error",
          "traceback": [
            "\u001b[0;31m---------------------------------------------------------------------------\u001b[0m",
            "\u001b[0;31mFileNotFoundError\u001b[0m                         Traceback (most recent call last)",
            "Cell \u001b[0;32mIn[4], line 5\u001b[0m\n\u001b[1;32m      1\u001b[0m \u001b[38;5;66;03m# %pip install eep153_tools\u001b[39;00m\n\u001b[1;32m      2\u001b[0m \u001b[38;5;66;03m# %pip install python_gnupg\u001b[39;00m\n\u001b[1;32m      4\u001b[0m \u001b[38;5;28;01mfrom\u001b[39;00m \u001b[38;5;21;01meep153_tools\u001b[39;00m\u001b[38;5;21;01m.\u001b[39;00m\u001b[38;5;21;01msheets\u001b[39;00m \u001b[38;5;28;01mimport\u001b[39;00m decrypt_credentials\n\u001b[0;32m----> 5\u001b[0m \u001b[43mdecrypt_credentials\u001b[49m\u001b[43m(\u001b[49m\u001b[38;5;124;43m'\u001b[39;49m\u001b[38;5;124;43m../students.json.gpg\u001b[39;49m\u001b[38;5;124;43m'\u001b[39;49m\u001b[43m)\u001b[49m\n",
            "File \u001b[0;32m~/src/EEP153/EEP153_team_Malthus/.venv/lib/python3.8/site-packages/eep153_tools/sheets.py:12\u001b[0m, in \u001b[0;36mdecrypt_credentials\u001b[0;34m(encrypted_key_file, destination)\u001b[0m\n\u001b[1;32m     10\u001b[0m gpg \u001b[38;5;241m=\u001b[39m gnupg\u001b[38;5;241m.\u001b[39mGPG()\n\u001b[1;32m     11\u001b[0m passphrase \u001b[38;5;241m=\u001b[39m \u001b[38;5;28minput\u001b[39m(\u001b[38;5;124m'\u001b[39m\u001b[38;5;124mInput secret passphrase for \u001b[39m\u001b[38;5;132;01m%s\u001b[39;00m\u001b[38;5;124m to create google drive credentials: \u001b[39m\u001b[38;5;124m'\u001b[39m \u001b[38;5;241m%\u001b[39m encrypted_key_file)\n\u001b[0;32m---> 12\u001b[0m \u001b[38;5;28;01mwith\u001b[39;00m \u001b[38;5;28;43mopen\u001b[39;49m\u001b[43m(\u001b[49m\u001b[43mencrypted_key_file\u001b[49m\u001b[43m,\u001b[49m\u001b[38;5;124;43m'\u001b[39;49m\u001b[38;5;124;43mrb\u001b[39;49m\u001b[38;5;124;43m'\u001b[39;49m\u001b[43m)\u001b[49m \u001b[38;5;28;01mas\u001b[39;00m f:\n\u001b[1;32m     13\u001b[0m     status \u001b[38;5;241m=\u001b[39m gpg\u001b[38;5;241m.\u001b[39mdecrypt_file(f,passphrase\u001b[38;5;241m=\u001b[39mpassphrase)\n\u001b[1;32m     14\u001b[0m     \u001b[38;5;28;01mif\u001b[39;00m \u001b[38;5;129;01mnot\u001b[39;00m status\u001b[38;5;241m.\u001b[39mok:\n",
            "\u001b[0;31mFileNotFoundError\u001b[0m: [Errno 2] No such file or directory: '../students.json.gpg'"
          ]
        }
      ],
      "source": [
        "# %pip install eep153_tools\n",
        "# %pip install python_gnupg\n",
        "\n",
        "from eep153_tools.sheets import decrypt_credentials\n",
        "decrypt_credentials('../students.json.gpg')"
      ]
    },
    {
      "cell_type": "markdown",
      "metadata": {},
      "source": [
        "To check that this worked, the following gives a list of\n",
        "emails for &ldquo;service<sub>accounts</sub>&rdquo; that now have credentials&#x2013;you can\n",
        "then &ldquo;share&rdquo; google sheets with these.\n",
        "\n"
      ]
    },
    {
      "cell_type": "code",
      "execution_count": 1,
      "metadata": {},
      "outputs": [],
      "source": [
        "!ls ~/.eep153.service_accounts/"
      ]
    },
    {
      "cell_type": "markdown",
      "metadata": {},
      "source": [
        "With those credentials established\n",
        "\n"
      ]
    },
    {
      "cell_type": "code",
      "execution_count": 1,
      "metadata": {},
      "outputs": [],
      "source": [
        "from eep153_tools.sheets import read_sheets\n",
        "\n",
        "#### Read a bunch of google worksheets into a dictionary of dataframes\n",
        "data = read_sheets('https://docs.google.com/spreadsheets/d/1J_Yoo2eBgABBy8Hnvh2Vf7GYowELZBYTVwt-3NtjUsc/edit#gid=1532023339')['Data']\n",
        "\n",
        "data.keys()"
      ]
    },
    {
      "cell_type": "markdown",
      "metadata": {},
      "source": [
        "This gives a dictionary of dataframes, but these dataframes need to be\n",
        "tidied up some.  For example, look at `Outall_Index`:\n",
        "\n"
      ]
    },
    {
      "cell_type": "code",
      "execution_count": 1,
      "metadata": {},
      "outputs": [],
      "source": [
        "data['Outall_Index'].head()"
      ]
    },
    {
      "cell_type": "markdown",
      "metadata": {},
      "source": [
        "We really just want selected columns, and an index that depends on country and year:\n",
        "\n"
      ]
    },
    {
      "cell_type": "code",
      "execution_count": 1,
      "metadata": {},
      "outputs": [],
      "source": [
        "import pandas as pd\n",
        "\n",
        "Data = {'Level':'Level','Country':'Country/Territory','WDI Code':'ISO3','Year':'Year','Output':'Outall_Index','TFP':'TFP_Index','Land':'Land_Index','Labor':'Labor_Index','Capital':'Capital_Index','Materials':'Materials_Index'}\n",
        "\n",
        "\n",
        "df = data.rename(columns={v:k for k,v in Data.items()})\n",
        "df = df[Data.keys()].set_index(['WDI Code','Level','Country','Year'])\n",
        "\n",
        "# Deal with some duplicate indices (drops regions)\n",
        "df = df.loc[~df.index.duplicated(),:]\n",
        "df"
      ]
    },
    {
      "cell_type": "markdown",
      "metadata": {},
      "source": [
        "### Visualizing data on ag production\n",
        "\n"
      ]
    },
    {
      "cell_type": "markdown",
      "metadata": {},
      "source": [
        "Plot growth in output for all countries for 1961 on:\n",
        "\n"
      ]
    },
    {
      "cell_type": "code",
      "execution_count": 2,
      "metadata": {},
      "outputs": [
        {
          "data": {
            "text/html": [
              "        <script type=\"text/javascript\">\n",
              "        window.PlotlyConfig = {MathJaxConfig: 'local'};\n",
              "        if (window.MathJax && window.MathJax.Hub && window.MathJax.Hub.Config) {window.MathJax.Hub.Config({SVG: {font: \"STIX-Web\"}});}\n",
              "        if (typeof require !== 'undefined') {\n",
              "        require.undef(\"plotly\");\n",
              "        requirejs.config({\n",
              "            paths: {\n",
              "                'plotly': ['https://cdn.plot.ly/plotly-2.27.0.min']\n",
              "            }\n",
              "        });\n",
              "        require(['plotly'], function(Plotly) {\n",
              "            window._Plotly = Plotly;\n",
              "        });\n",
              "        }\n",
              "        </script>\n",
              "        "
            ]
          },
          "metadata": {},
          "output_type": "display_data"
        },
        {
          "ename": "NameError",
          "evalue": "name 'df' is not defined",
          "output_type": "error",
          "traceback": [
            "\u001b[0;31m---------------------------------------------------------------------------\u001b[0m",
            "\u001b[0;31mNameError\u001b[0m                                 Traceback (most recent call last)",
            "Cell \u001b[0;32mIn[2], line 4\u001b[0m\n\u001b[1;32m      1\u001b[0m \u001b[38;5;28;01mimport\u001b[39;00m \u001b[38;5;21;01mcufflinks\u001b[39;00m \u001b[38;5;28;01mas\u001b[39;00m \u001b[38;5;21;01mcf\u001b[39;00m\n\u001b[1;32m      2\u001b[0m cf\u001b[38;5;241m.\u001b[39mgo_offline()\n\u001b[0;32m----> 4\u001b[0m \u001b[43mdf\u001b[49m[\u001b[38;5;124m'\u001b[39m\u001b[38;5;124mOutput\u001b[39m\u001b[38;5;124m'\u001b[39m]\u001b[38;5;241m.\u001b[39munstack()\u001b[38;5;241m.\u001b[39mT\u001b[38;5;241m.\u001b[39miplot(title\u001b[38;5;241m=\u001b[39m\u001b[38;5;124m\"\u001b[39m\u001b[38;5;124mIndex of Agricultural Output\u001b[39m\u001b[38;5;124m\"\u001b[39m,\n\u001b[1;32m      5\u001b[0m                                yTitle\u001b[38;5;241m=\u001b[39m\u001b[38;5;124m'\u001b[39m\u001b[38;5;124mValue of Output Index\u001b[39m\u001b[38;5;124m'\u001b[39m,\n\u001b[1;32m      6\u001b[0m                                xTitle\u001b[38;5;241m=\u001b[39m\u001b[38;5;124m'\u001b[39m\u001b[38;5;124mYear\u001b[39m\u001b[38;5;124m'\u001b[39m)\n",
            "\u001b[0;31mNameError\u001b[0m: name 'df' is not defined"
          ]
        }
      ],
      "source": [
        "import cufflinks as cf\n",
        "cf.go_offline()\n",
        "\n",
        "df['Output'].unstack().T.iplot(title=\"Index of Agricultural Output\",\n",
        "                               yTitle='Value of Output Index',\n",
        "                               xTitle='Year')"
      ]
    },
    {
      "cell_type": "markdown",
      "metadata": {},
      "source": [
        "Compare world growth in outputs, inputs, and TFP:\n",
        "\n"
      ]
    },
    {
      "cell_type": "code",
      "execution_count": 1,
      "metadata": {},
      "outputs": [
        {
          "ename": "NameError",
          "evalue": "name 'df' is not defined",
          "output_type": "error",
          "traceback": [
            "\u001b[0;31m---------------------------------------------------------------------------\u001b[0m",
            "\u001b[0;31mNameError\u001b[0m                                 Traceback (most recent call last)",
            "Cell \u001b[0;32mIn[1], line 3\u001b[0m\n\u001b[1;32m      1\u001b[0m \u001b[38;5;28;01mimport\u001b[39;00m \u001b[38;5;21;01mnumpy\u001b[39;00m \u001b[38;5;28;01mas\u001b[39;00m \u001b[38;5;21;01mnp\u001b[39;00m\n\u001b[0;32m----> 3\u001b[0m world \u001b[38;5;241m=\u001b[39m \u001b[43mdf\u001b[49m\u001b[38;5;241m.\u001b[39mxs(\u001b[38;5;124m'\u001b[39m\u001b[38;5;124mWorld\u001b[39m\u001b[38;5;124m'\u001b[39m,level\u001b[38;5;241m=\u001b[39m\u001b[38;5;124m'\u001b[39m\u001b[38;5;124mLevel\u001b[39m\u001b[38;5;124m'\u001b[39m)\u001b[38;5;241m.\u001b[39mreplace(\u001b[38;5;241m0\u001b[39m,np\u001b[38;5;241m.\u001b[39mnan)\u001b[38;5;241m.\u001b[39mdropna(how\u001b[38;5;241m=\u001b[39m\u001b[38;5;124m'\u001b[39m\u001b[38;5;124many\u001b[39m\u001b[38;5;124m'\u001b[39m)\n\u001b[1;32m      5\u001b[0m \u001b[38;5;66;03m# Drop unnecessary index levels\u001b[39;00m\n\u001b[1;32m      6\u001b[0m world \u001b[38;5;241m=\u001b[39m world\u001b[38;5;241m.\u001b[39mdroplevel([\u001b[38;5;124m'\u001b[39m\u001b[38;5;124mWDI Code\u001b[39m\u001b[38;5;124m'\u001b[39m,\u001b[38;5;124m'\u001b[39m\u001b[38;5;124mCountry\u001b[39m\u001b[38;5;124m'\u001b[39m])\n",
            "\u001b[0;31mNameError\u001b[0m: name 'df' is not defined"
          ]
        }
      ],
      "source": [
        "import numpy as np\n",
        "\n",
        "world = df.xs('World',level='Level').replace(0,np.nan).dropna(how='any')\n",
        "\n",
        "# Drop unnecessary index levels\n",
        "world = world.droplevel(['WDI Code','Country'])\n",
        "\n",
        "# Put in log differences\n",
        "dworld = np.log(world).diff()\n",
        "dworld['Inputs'] = dworld['Output'] - dworld['TFP']\n",
        "\n",
        "dworld.mean()"
      ]
    },
    {
      "cell_type": "markdown",
      "metadata": {},
      "source": [
        "And a graph of growth rates:\n",
        "\n"
      ]
    },
    {
      "cell_type": "code",
      "execution_count": 1,
      "metadata": {},
      "outputs": [],
      "source": [
        "dworld[['Output','Inputs','TFP']].iplot(title=\"Growth rates of output, inputs, & TFP\",\n",
        "                                           xTitle=\"Year\")"
      ]
    },
    {
      "cell_type": "markdown",
      "metadata": {},
      "source": [
        "That&rsquo;s the overall picture for the world.  Now &ldquo;drill down&rdquo; and\n",
        "consider just production in the US:\n",
        "\n"
      ]
    },
    {
      "cell_type": "code",
      "execution_count": 1,
      "metadata": {},
      "outputs": [],
      "source": [
        "select = df.xs('USA',level='WDI Code').dropna(how='any')\n",
        "\n",
        "# Drop unnecessary index levels\n",
        "select = select.droplevel(['Level','Country'])\n",
        "\n",
        "dselect = np.log(select).diff()\n",
        "dselect['Inputs'] = dselect['Output'] - dselect['TFP']\n",
        "\n",
        "dselect.mean()"
      ]
    },
    {
      "cell_type": "markdown",
      "metadata": {},
      "source": [
        "And here a graph of growth in indices of inputs & outputs since 1961:\n",
        "\n"
      ]
    },
    {
      "cell_type": "code",
      "execution_count": 1,
      "metadata": {},
      "outputs": [],
      "source": [
        "select = df.xs('USA',level='WDI Code').dropna(how='any').droplevel(['Level','Country'])\n",
        "\n",
        "select = select/select.loc[1961,:]\n",
        "select.iplot()"
      ]
    },
    {
      "cell_type": "markdown",
      "metadata": {},
      "source": [
        "Compare with India, which in recent years has had a level of\n",
        "agricultural output close to that of the US:\n",
        "\n"
      ]
    },
    {
      "cell_type": "code",
      "execution_count": 1,
      "metadata": {},
      "outputs": [],
      "source": [
        "select = df.xs('IND',level='WDI Code').dropna(how='any').droplevel(['Level','Country'])\n",
        "\n",
        "select = select/select.loc[1961,:]\n",
        "select.iplot()"
      ]
    }
  ],
  "metadata": {
    "kernelspec": {
      "display_name": "Python 3",
      "language": "python",
      "name": "python3"
    },
    "language_info": {
      "codemirror_mode": {
        "name": "ipython",
        "version": 3
      },
      "file_extension": ".py",
      "mimetype": "text/x-python",
      "name": "python",
      "nbconvert_exporter": "python",
      "pygments_lexer": "ipython3",
      "version": "3.8.0"
    },
    "org": null
  },
  "nbformat": 4,
  "nbformat_minor": 0
}
