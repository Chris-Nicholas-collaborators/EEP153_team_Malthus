{
  "cells": [
    {
      "cell_type": "markdown",
      "metadata": {},
      "source": [
        "## Population Lecture II\n\n"
      ]
    },
    {
      "cell_type": "markdown",
      "metadata": {},
      "source": [
        "### Preface\n\n"
      ]
    },
    {
      "cell_type": "markdown",
      "metadata": {},
      "source": [
        "Some packages we need to have installed (skip this if already installed):\n\n"
      ]
    },
    {
      "cell_type": "code",
      "execution_count": 1,
      "metadata": {},
      "outputs": [],
      "source": [
        "!pip install plotly\n!pip install wbdata\n!pip install cufflinks"
      ]
    },
    {
      "cell_type": "markdown",
      "metadata": {},
      "source": [
        "### Malthus\n\n"
      ]
    },
    {
      "cell_type": "markdown",
      "metadata": {},
      "source": [
        "Among all the things ever written by social scientists (or\n    &ldquo;political philosophers&rdquo;, to use a term he would have recognized),\n    Malthus&rsquo; [&ldquo;Essay on Population&rdquo; (1798)](https://oll.libertyfund.org/titles/malthus-an-essay-on-the-principle-of-population-1798-1st-ed) must be among the most\n    influential.  You can find the first edition at the link above.\n    The main argument is spelled out in Chapter 1, which I encourage\n    you to read.  A key point of the essay begins with [two postulata](https://oll.libertyfund.org/titles/311#Malthus_0195_20):\n\n-   **First:** That food is necessary to the existence of man.\n-   **Secondly:** That the passion between the sexes is necessary and\n    will remain nearly in its present state.\n\nThese lead to a conclusion:\n\n>     Assuming then, my postulata as granted, I say, that the power of\n>     population is indefinitely greater than the power in the earth to\n>     produce subsistence for man.  Population, when unchecked, increases\n>     in a geometrical ratio. Subsistence increases only in an\n>     arithmetical ratio. A slight acquaintance with numbers will shew\n>     the immensity of the first power in comparison of the second.\n\n"
      ]
    },
    {
      "cell_type": "markdown",
      "metadata": {},
      "source": [
        "#### Malthus meets math\n\n"
      ]
    },
    {
      "cell_type": "markdown",
      "metadata": {},
      "source": [
        "Malthus&rsquo; argument boils down to a mathematical assertion: that\n    population grows at an exponential rate, while food production\n    increases only linearly.  We might write this as\n    $$\n       \\mbox{Population}_t = \\mbox{Population}_0e^{rt},\n    $$\n    where $r$ is the rate of population growth, and $t$ is the number\n    of years that have passed; and\n\n$$\n       \\mbox{Food}_t = \\mbox{Food}_0 + mt.\n    $$\n If we lack a &ldquo;slight acquaintance&rdquo; with numbers a graph makes the\n point:\n\n"
      ]
    },
    {
      "cell_type": "code",
      "execution_count": 1,
      "metadata": {},
      "outputs": [],
      "source": [
        "from plotly.offline import init_notebook_mode, iplot\nimport numpy as np\nfrom scipy.optimize import newton\n\ninit_notebook_mode(connected=True)\n\n# Play with these constants\n## for exponential\nP0 = 1\nr = 0.02\n\n## for line\nF0 = 10\nm = 100\n\nfood_production = lambda t,m=m: F0+m*t\n\npopulation = lambda t,r=r: P0*np.exp(r*t)\n\ndiff = lambda t,r=r,m=m: food_production(t,m) - population(t,r)\n\n# Point where curves cross\n\ndef choose_xaxis(r,m,x0=10):\n    \"\"\"\n    Find a range of x so that curves intersect\n    \"\"\"\n    tstar = -1\n    try:\n        while tstar <= 0:\n            tstar = newton(lambda t: diff(t,r,m),x0,maxiter=1000)\n            x0 = x0*10\n        return np.linspace(0,tstar*1.1,100)\n    except RuntimeError: # Failed to find root\n        return np.linspace(0,1000,100)"
      ]
    },
    {
      "cell_type": "code",
      "execution_count": 1,
      "metadata": {},
      "outputs": [],
      "source": [
        "import plotly.graph_objs as go\nfrom ipywidgets import interactive, HBox, VBox\n\nT = choose_xaxis(r,m)\n\ndata = [dict(name='Food production',\n             #visible = False,\n             line=dict(color='blue', width=6),\n             x = T,\n             y = [food_production(t) for t in T]),\n        dict(name='Population',\n             #visible = False,\n             line=dict(color='red', width=6),\n             x = T,\n             y = [population(t) for t in T])]\n\nlayout = dict()\n\n#fig = dict(data=data, layout=layout)\n#plot(fig)\n\nf = go.FigureWidget(data=data,layout=layout)\n\ndef update_pop(r,m):\n    T = choose_xaxis(r,m)\n    f.data[1].y = [population(t,r) for t in T]\n    f.data[0].x = T\n    f.data[1].x = T\n\nr_slider = interactive(update_pop,r=(0.0,0.08,.01),m=(0,500,20))\nvb = VBox((f, r_slider))\nvb.layout.align_items = 'center'\nvb"
      ]
    },
    {
      "cell_type": "markdown",
      "metadata": {},
      "source": [
        "### Food Production\n\n"
      ]
    },
    {
      "cell_type": "markdown",
      "metadata": {},
      "source": [
        "Malthus thought that population would have to increase at an\n   exponential rate.  We&rsquo;ve seen that in fact the rate of population\n   increase has been roughly linear over the last six decades. (There\n   are no guarantees about the future!)\n\nMalthus also thought that food production (&ldquo;subsistence&rdquo;) could\nonly increase linearly (&ldquo;arithmetically&rdquo;).  We&rsquo;ll next take a look\nto see what the data say about this.\n\n"
      ]
    },
    {
      "cell_type": "markdown",
      "metadata": {},
      "source": [
        "#### Preface\n\n"
      ]
    },
    {
      "cell_type": "code",
      "execution_count": 1,
      "metadata": {},
      "outputs": [],
      "source": [
        "import numpy as np\nimport wbdata\nimport cufflinks as cf\ncf.go_offline()\n\ndef fix_date_index(df):\n    idx_vars = df.index.names\n    new = df.reset_index()\n    new.date = new.date.astype(int)\n    return new.set_index(idx_vars)"
      ]
    },
    {
      "cell_type": "markdown",
      "metadata": {},
      "source": [
        "#### Finding data\n\n"
      ]
    },
    {
      "cell_type": "markdown",
      "metadata": {},
      "source": [
        "Maybe there&rsquo;s something relevant to food production in the WDI\n indicators?\n\n"
      ]
    },
    {
      "cell_type": "code",
      "execution_count": 1,
      "metadata": {},
      "outputs": [],
      "source": [
        "wbdata.get_topic()"
      ]
    },
    {
      "cell_type": "markdown",
      "metadata": {},
      "source": [
        "&ldquo;Agriculture & Rural Development&rdquo; sounds relevant.  Let&rsquo;s see what\n variables are available:\n\n"
      ]
    },
    {
      "cell_type": "code",
      "execution_count": 1,
      "metadata": {},
      "outputs": [],
      "source": [
        "wbdata.get_indicator(topic=1)"
      ]
    },
    {
      "cell_type": "markdown",
      "metadata": {},
      "source": [
        "#### Cereal production & land\n\n"
      ]
    },
    {
      "cell_type": "markdown",
      "metadata": {},
      "source": [
        "The great majority of food (as measured by calories) originates in the\n form of cereals; some of these are turned into products directly\n consumed by humans (bread, rice, hominy); others are used to feed\n livestock, which humans subsequently eat.  So what&rsquo;s happened to\n cereal production over the last few decades?\n\n"
      ]
    },
    {
      "cell_type": "code",
      "execution_count": 1,
      "metadata": {},
      "outputs": [],
      "source": [
        "vars = {\"AG.PRD.CREL.MT\":\"Cereal production\"}\n\n\nuse=[\"CHN\",\"USA\",\"IND\",\"FRA\",\"RUS\",\"WLD\"]\n\ncereals = fix_date_index(wbdata.get_dataframe(vars,country=use)).squeeze().unstack('country')\n\n# Use this to find top producers:\n#big_producers = cereals.query('date==2020').squeeze().sort_values(ascending=False)\n#big_producers.head(20)\n\ncereals.iplot(xTitle=\"Year\",yTitle=\"Metric Tons\",\n              title=\"Cereal Production by Top 5 (in 2020)\")"
      ]
    },
    {
      "cell_type": "markdown",
      "metadata": {},
      "source": [
        "#### FAO Food Index\n\n"
      ]
    },
    {
      "cell_type": "markdown",
      "metadata": {},
      "source": [
        "The FAO compiles a series of data meant to measure changes in the\n    supply of food of all sorts, including both plant and animal\n    sources.  \n\nFrom this we don&rsquo;t get levels; instead the series is normalized to an\narbitrary year.  Let&rsquo;s let each series take the value of 100 in the\nyear 2000, and compare this with a similarly normalized description of\nworld population:\n\n"
      ]
    },
    {
      "cell_type": "code",
      "execution_count": 1,
      "metadata": {},
      "outputs": [],
      "source": [
        "vars = {\"AG.PRD.LVSK.XD\":\"Livestock index\",\n        \"AG.PRD.FOOD.XD\":\"Food index\",\n        \"AG.PRD.CROP.XD\":\"Crop index\",\n        \"SP.POP.TOTL\":\"Population\"}\n\nfood = fix_date_index(wbdata.get_dataframe(vars)).dropna()\n# Add population back...\nPopulation = food.Population\n\n# Weight indices by population\nfood = food.filter(regex='index$').multiply(Population,axis=0)\n\n# No \"WLD\" or other regions; add up all countries\nfood = food.groupby('date').sum().replace(0,np.nan).dropna()\n\n\nfood.sort_index(inplace=True)\n\n# Normalize so 2000 = 1\nfood = food/food.loc[2000,:]\n\nfood.iplot(xTitle=\"Year\",yTitle=\"Index\")"
      ]
    },
    {
      "cell_type": "markdown",
      "metadata": {},
      "source": [
        "And here in growth rates:\n\n"
      ]
    },
    {
      "cell_type": "code",
      "execution_count": 1,
      "metadata": {},
      "outputs": [],
      "source": [
        "np.log(food).diff().iplot(xTitle=\"Year\",yTitle=\"Growth rates\")"
      ]
    }
  ],
  "metadata": {
    "org": null,
    "kernelspec": {
      "display_name": "Python 3",
      "language": "python",
      "name": "python3"
    },
    "language_info": {
      "codemirror_mode": {
        "name": "ipython",
        "version": 3
      },
      "file_extension": ".py",
      "mimetype": "text/x-python",
      "name": "python",
      "nbconvert_exporter": "python",
      "pygments_lexer": "ipython3",
      "version": "3.5.2"
    }
  },
  "nbformat": 4,
  "nbformat_minor": 0
}
