{
  "cells": [
    {
      "cell_type": "markdown",
      "metadata": {},
      "source": [
        "## Population Lecture I\n",
        "\n"
      ]
    },
    {
      "cell_type": "markdown",
      "metadata": {},
      "source": [
        "### Introduction\n",
        "\n"
      ]
    },
    {
      "cell_type": "markdown",
      "metadata": {},
      "source": [
        "Today we&rsquo;ll introduce some key &ldquo;stylized facts&rdquo; about human\n",
        "population and its growth.  None of these are &ldquo;causal&rdquo; statements,\n",
        "just observations about relationships.\n",
        "\n",
        "-   **Fact I:** Population growth is fundamentally exponential, but the\n",
        "    rate of growth has fallen over time.\n",
        "-   **Fact II:** Population growth rates are generally higher in places\n",
        "    where people are poorer.\n",
        "-   **Fact III:** Variation in growth rates across countries is\n",
        "    accounted for more by variation in fertility than by mortality.\n",
        "\n"
      ]
    },
    {
      "cell_type": "markdown",
      "metadata": {},
      "source": [
        "### Getting Data\n",
        "\n"
      ]
    },
    {
      "cell_type": "markdown",
      "metadata": {
        "slideshow": {
          "slide_type": "slide"
        }
      },
      "source": [
        "#### The World Development Indicators & `wbdata`\n",
        "\n"
      ]
    },
    {
      "cell_type": "markdown",
      "metadata": {},
      "source": [
        "The World Bank maintains a large set of &ldquo;World Development Indicators&rdquo; (WDI),\n",
        "including information on population.  \n",
        "\n",
        "-   API for WDI is available at [https://datahelpdesk.worldbank.org/knowledgebase/articles/889392-about-the-indicators-api-documentation](https://datahelpdesk.worldbank.org/knowledgebase/articles/889392-about-the-indicators-api-documentation)\n",
        "\n",
        "-   A `python` module that uses the API is `wbdata`, written by Oliver Sherouse.\n",
        "\n",
        "-   Available at [http://github.com/OliverSherouse/wbdata](http://github.com/OliverSherouse/wbdata).\n",
        "\n",
        "-   Documented at [https://wbdata.readthedocs.io](https://wbdata.readthedocs.io).\n",
        "\n"
      ]
    },
    {
      "cell_type": "markdown",
      "metadata": {},
      "source": [
        "#### Getting Population Data Using wbdata\n",
        "\n"
      ]
    },
    {
      "cell_type": "markdown",
      "metadata": {
        "slideshow": {
          "slide_type": "slide"
        }
      },
      "source": [
        "##### Goals\n",
        "\n"
      ]
    },
    {
      "cell_type": "markdown",
      "metadata": {},
      "source": [
        "We want to devise ways to visualize the following:\n",
        "\n",
        "-   Global population growth from 1960 to the present;\n",
        "-   Population growth rates versus GDP per capita;\n",
        "-   Age-sex population pyramids.\n",
        "\n"
      ]
    },
    {
      "cell_type": "markdown",
      "metadata": {
        "slideshow": {
          "slide_type": "slide"
        }
      },
      "source": [
        "##### Methods (using wbdata)\n",
        "\n"
      ]
    },
    {
      "cell_type": "markdown",
      "metadata": {},
      "source": [
        "We walk through the process of getting data from the WDI into a\n",
        "`pandas` DataFrame. \n",
        "\n",
        "The `wbdata` module has several key functions we&rsquo;ll want to use:\n",
        "\n",
        "-   **`search_countries()`:** Returns code for different countries or\n",
        "    regions.\n",
        "-   **`get_source()`:** Gives list of different data sources that can\n",
        "    be accessed using the module; returns a numeric key;\n",
        "-   **`get_indicator()`:** Given a source, this returns a list of\n",
        "    available variables (indicators).\n",
        "-   **`get_dataframe()`:** Given a source and a list of indicators,\n",
        "    this returns a dataframe populated with the requested data\n",
        "    for whatever\n",
        "\n",
        "Begin by importing the module:\n",
        "\n"
      ]
    },
    {
      "cell_type": "code",
      "execution_count": 2,
      "metadata": {},
      "outputs": [],
      "source": [
        "## If import fails with \"ModuleNotFoundError\"\n",
        "## uncomment below & try again\n",
        "# !pip install wbdata\n",
        "\n",
        "import wbdata"
      ]
    },
    {
      "cell_type": "markdown",
      "metadata": {
        "slideshow": {
          "slide_type": "slide"
        }
      },
      "source": [
        "###### `wbdata.search_countries()`\n",
        "\n"
      ]
    },
    {
      "cell_type": "markdown",
      "metadata": {},
      "source": [
        "What countries and regions are available?  Looking up the country\n",
        "  codes, or searching for particular strings:\n",
        "\n"
      ]
    },
    {
      "cell_type": "code",
      "execution_count": 3,
      "metadata": {},
      "outputs": [
        {
          "data": {
            "text/plain": [
              "id    name\n",
              "----  --------------------------------------------------------------------------------\n",
              "ABW   Aruba\n",
              "AFE   Africa Eastern and Southern\n",
              "AFG   Afghanistan\n",
              "AFR   Africa\n",
              "AFW   Africa Western and Central\n",
              "AGO   Angola\n",
              "ALB   Albania\n",
              "AND   Andorra\n",
              "ARB   Arab World\n",
              "ARE   United Arab Emirates\n",
              "ARG   Argentina\n",
              "ARM   Armenia\n",
              "ASM   American Samoa\n",
              "ATG   Antigua and Barbuda\n",
              "AUS   Australia\n",
              "AUT   Austria\n",
              "AZE   Azerbaijan\n",
              "BDI   Burundi\n",
              "BEA   East Asia & Pacific (IBRD-only countries)\n",
              "BEC   Europe & Central Asia (IBRD-only countries)\n",
              "BEL   Belgium\n",
              "BEN   Benin\n",
              "BFA   Burkina Faso\n",
              "BGD   Bangladesh\n",
              "BGR   Bulgaria\n",
              "BHI   IBRD countries classified as high income\n",
              "BHR   Bahrain\n",
              "BHS   Bahamas, The\n",
              "BIH   Bosnia and Herzegovina\n",
              "BLA   Latin America & the Caribbean (IBRD-only countries)\n",
              "BLR   Belarus\n",
              "BLZ   Belize\n",
              "BMN   Middle East & North Africa (IBRD-only countries)\n",
              "BMU   Bermuda\n",
              "BOL   Bolivia\n",
              "BRA   Brazil\n",
              "BRB   Barbados\n",
              "BRN   Brunei Darussalam\n",
              "BSS   Sub-Saharan Africa (IBRD-only countries)\n",
              "BTN   Bhutan\n",
              "BWA   Botswana\n",
              "CAA   Sub-Saharan Africa (IFC classification)\n",
              "CAF   Central African Republic\n",
              "CAN   Canada\n",
              "CEA   East Asia and the Pacific (IFC classification)\n",
              "CEB   Central Europe and the Baltics\n",
              "CEU   Europe and Central Asia (IFC classification)\n",
              "CHE   Switzerland\n",
              "CHI   Channel Islands\n",
              "CHL   Chile\n",
              "CHN   China\n",
              "CIV   Cote d'Ivoire\n",
              "CLA   Latin America and the Caribbean (IFC classification)\n",
              "CME   Middle East and North Africa (IFC classification)\n",
              "CMR   Cameroon\n",
              "COD   Congo, Dem. Rep.\n",
              "COG   Congo, Rep.\n",
              "COL   Colombia\n",
              "COM   Comoros\n",
              "CPV   Cabo Verde\n",
              "CRI   Costa Rica\n",
              "CSA   South Asia (IFC classification)\n",
              "CSS   Caribbean small states\n",
              "CUB   Cuba\n",
              "CUW   Curacao\n",
              "CYM   Cayman Islands\n",
              "CYP   Cyprus\n",
              "CZE   Czechia\n",
              "DEA   East Asia & Pacific (IDA-eligible countries)\n",
              "DEC   Europe & Central Asia (IDA-eligible countries)\n",
              "DEU   Germany\n",
              "DJI   Djibouti\n",
              "DLA   Latin America & the Caribbean (IDA-eligible countries)\n",
              "DMA   Dominica\n",
              "DMN   Middle East & North Africa (IDA-eligible countries)\n",
              "DNK   Denmark\n",
              "DNS   IDA countries in Sub-Saharan Africa not classified as fragile situations\n",
              "DOM   Dominican Republic\n",
              "DSA   South Asia (IDA-eligible countries)\n",
              "DSF   IDA countries in Sub-Saharan Africa classified as fragile situations\n",
              "DSS   Sub-Saharan Africa (IDA-eligible countries)\n",
              "DZA   Algeria\n",
              "EAP   East Asia & Pacific (excluding high income)\n",
              "EAR   Early-demographic dividend\n",
              "EAS   East Asia & Pacific\n",
              "ECA   Europe & Central Asia (excluding high income)\n",
              "ECS   Europe & Central Asia\n",
              "ECU   Ecuador\n",
              "EGY   Egypt, Arab Rep.\n",
              "EMU   Euro area\n",
              "ERI   Eritrea\n",
              "ESP   Spain\n",
              "EST   Estonia\n",
              "ETH   Ethiopia\n",
              "EUU   European Union\n",
              "FCS   Fragile and conflict affected situations\n",
              "FIN   Finland\n",
              "FJI   Fiji\n",
              "FRA   France\n",
              "FRO   Faroe Islands\n",
              "FSM   Micronesia, Fed. Sts.\n",
              "FXS   IDA countries classified as fragile situations, excluding Sub-Saharan Africa\n",
              "GAB   Gabon\n",
              "GBR   United Kingdom\n",
              "GEO   Georgia\n",
              "GHA   Ghana\n",
              "GIB   Gibraltar\n",
              "GIN   Guinea\n",
              "GMB   Gambia, The\n",
              "GNB   Guinea-Bissau\n",
              "GNQ   Equatorial Guinea\n",
              "GRC   Greece\n",
              "GRD   Grenada\n",
              "GRL   Greenland\n",
              "GTM   Guatemala\n",
              "GUM   Guam\n",
              "GUY   Guyana\n",
              "HIC   High income\n",
              "HKG   Hong Kong SAR, China\n",
              "HND   Honduras\n",
              "HPC   Heavily indebted poor countries (HIPC)\n",
              "HRV   Croatia\n",
              "HTI   Haiti\n",
              "HUN   Hungary\n",
              "IBB   IBRD, including blend\n",
              "IBD   IBRD only\n",
              "IBT   IDA & IBRD total\n",
              "IDA   IDA total\n",
              "IDB   IDA blend\n",
              "IDN   Indonesia\n",
              "IDX   IDA only\n",
              "IMN   Isle of Man\n",
              "IND   India\n",
              "INX   Not classified\n",
              "IRL   Ireland\n",
              "IRN   Iran, Islamic Rep.\n",
              "IRQ   Iraq\n",
              "ISL   Iceland\n",
              "ISR   Israel\n",
              "ITA   Italy\n",
              "JAM   Jamaica\n",
              "JOR   Jordan\n",
              "JPN   Japan\n",
              "KAZ   Kazakhstan\n",
              "KEN   Kenya\n",
              "KGZ   Kyrgyz Republic\n",
              "KHM   Cambodia\n",
              "KIR   Kiribati\n",
              "KNA   St. Kitts and Nevis\n",
              "KOR   Korea, Rep.\n",
              "KWT   Kuwait\n",
              "LAC   Latin America & Caribbean (excluding high income)\n",
              "LAO   Lao PDR\n",
              "LBN   Lebanon\n",
              "LBR   Liberia\n",
              "LBY   Libya\n",
              "LCA   St. Lucia\n",
              "LCN   Latin America & Caribbean\n",
              "LDC   Least developed countries: UN classification\n",
              "LIC   Low income\n",
              "LIE   Liechtenstein\n",
              "LKA   Sri Lanka\n",
              "LMC   Lower middle income\n",
              "LMY   Low & middle income\n",
              "LSO   Lesotho\n",
              "LTE   Late-demographic dividend\n",
              "LTU   Lithuania\n",
              "LUX   Luxembourg\n",
              "LVA   Latvia\n",
              "MAC   Macao SAR, China\n",
              "MAF   St. Martin (French part)\n",
              "MAR   Morocco\n",
              "MCO   Monaco\n",
              "MDA   Moldova\n",
              "MDE   Middle East (developing only)\n",
              "MDG   Madagascar\n",
              "MDV   Maldives\n",
              "MEA   Middle East & North Africa\n",
              "MEX   Mexico\n",
              "MHL   Marshall Islands\n",
              "MIC   Middle income\n",
              "MKD   North Macedonia\n",
              "MLI   Mali\n",
              "MLT   Malta\n",
              "MMR   Myanmar\n",
              "MNA   Middle East & North Africa (excluding high income)\n",
              "MNE   Montenegro\n",
              "MNG   Mongolia\n",
              "MNP   Northern Mariana Islands\n",
              "MOZ   Mozambique\n",
              "MRT   Mauritania\n",
              "MUS   Mauritius\n",
              "MWI   Malawi\n",
              "MYS   Malaysia\n",
              "NAC   North America\n",
              "NAF   North Africa\n",
              "NAM   Namibia\n",
              "NCL   New Caledonia\n",
              "NER   Niger\n",
              "NGA   Nigeria\n",
              "NIC   Nicaragua\n",
              "NLD   Netherlands\n",
              "NOR   Norway\n",
              "NPL   Nepal\n",
              "NRS   Non-resource rich Sub-Saharan Africa countries\n",
              "NRU   Nauru\n",
              "NXS   IDA countries not classified as fragile situations, excluding Sub-Saharan Africa\n",
              "NZL   New Zealand\n",
              "OED   OECD members\n",
              "OMN   Oman\n",
              "OSS   Other small states\n",
              "PAK   Pakistan\n",
              "PAN   Panama\n",
              "PER   Peru\n",
              "PHL   Philippines\n",
              "PLW   Palau\n",
              "PNG   Papua New Guinea\n",
              "POL   Poland\n",
              "PRE   Pre-demographic dividend\n",
              "PRI   Puerto Rico\n",
              "PRK   Korea, Dem. People's Rep.\n",
              "PRT   Portugal\n",
              "PRY   Paraguay\n",
              "PSE   West Bank and Gaza\n",
              "PSS   Pacific island small states\n",
              "PST   Post-demographic dividend\n",
              "PYF   French Polynesia\n",
              "QAT   Qatar\n",
              "ROU   Romania\n",
              "RRS   Resource rich Sub-Saharan Africa countries\n",
              "RUS   Russian Federation\n",
              "RWA   Rwanda\n",
              "SAS   South Asia\n",
              "SAU   Saudi Arabia\n",
              "SDN   Sudan\n",
              "SEN   Senegal\n",
              "SGP   Singapore\n",
              "SLB   Solomon Islands\n",
              "SLE   Sierra Leone\n",
              "SLV   El Salvador\n",
              "SMR   San Marino\n",
              "SOM   Somalia\n",
              "SRB   Serbia\n",
              "SSA   Sub-Saharan Africa (excluding high income)\n",
              "SSD   South Sudan\n",
              "SSF   Sub-Saharan Africa\n",
              "SST   Small states\n",
              "STP   Sao Tome and Principe\n",
              "SUR   Suriname\n",
              "SVK   Slovak Republic\n",
              "SVN   Slovenia\n",
              "SWE   Sweden\n",
              "SWZ   Eswatini\n",
              "SXM   Sint Maarten (Dutch part)\n",
              "SXZ   Sub-Saharan Africa excluding South Africa\n",
              "SYC   Seychelles\n",
              "SYR   Syrian Arab Republic\n",
              "TCA   Turks and Caicos Islands\n",
              "TCD   Chad\n",
              "TEA   East Asia & Pacific (IDA & IBRD countries)\n",
              "TEC   Europe & Central Asia (IDA & IBRD countries)\n",
              "TGO   Togo\n",
              "THA   Thailand\n",
              "TJK   Tajikistan\n",
              "TKM   Turkmenistan\n",
              "TLA   Latin America & the Caribbean (IDA & IBRD countries)\n",
              "TLS   Timor-Leste\n",
              "TMN   Middle East & North Africa (IDA & IBRD countries)\n",
              "TON   Tonga\n",
              "TSA   South Asia (IDA & IBRD)\n",
              "TSS   Sub-Saharan Africa (IDA & IBRD countries)\n",
              "TTO   Trinidad and Tobago\n",
              "TUN   Tunisia\n",
              "TUR   Turkiye\n",
              "TUV   Tuvalu\n",
              "TZA   Tanzania\n",
              "UGA   Uganda\n",
              "UKR   Ukraine\n",
              "UMC   Upper middle income\n",
              "URY   Uruguay\n",
              "USA   United States\n",
              "UZB   Uzbekistan\n",
              "VCT   St. Vincent and the Grenadines\n",
              "VEN   Venezuela, RB\n",
              "VGB   British Virgin Islands\n",
              "VIR   Virgin Islands (U.S.)\n",
              "VNM   Viet Nam\n",
              "VUT   Vanuatu\n",
              "WLD   World\n",
              "WSM   Samoa\n",
              "XKX   Kosovo\n",
              "XZN   Sub-Saharan Africa excluding South Africa and Nigeria\n",
              "YEM   Yemen, Rep.\n",
              "ZAF   South Africa\n",
              "ZMB   Zambia\n",
              "ZWE   Zimbabwe"
            ]
          },
          "execution_count": 3,
          "metadata": {},
          "output_type": "execute_result"
        }
      ],
      "source": [
        "import wbdata\n",
        "\n",
        "# Return list of all country/region codes:\n",
        "wbdata.get_country()\n",
        "\n",
        "# Return list matching a query term:\n",
        "#wbdata.search_countries(\"World\")\n",
        "\n",
        "## Try your own search!\n",
        "# wbdata.search_countries(\"\")"
      ]
    },
    {
      "cell_type": "markdown",
      "metadata": {
        "slideshow": {
          "slide_type": "slide"
        }
      },
      "source": [
        "###### `wbdata.get_source()`\n",
        "\n"
      ]
    },
    {
      "cell_type": "markdown",
      "metadata": {},
      "source": [
        "To see possible datasets we can access via the API, use `get_source()`\n",
        "\n"
      ]
    },
    {
      "cell_type": "code",
      "execution_count": 5,
      "metadata": {},
      "outputs": [
        {
          "data": {
            "text/plain": [
              "  id  name\n",
              "----  --------------------------------------------------------------------\n",
              "   1  Doing Business\n",
              "   2  World Development Indicators\n",
              "   3  Worldwide Governance Indicators\n",
              "   5  Subnational Malnutrition Database\n",
              "   6  International Debt Statistics\n",
              "  11  Africa Development Indicators\n",
              "  12  Education Statistics\n",
              "  13  Enterprise Surveys\n",
              "  14  Gender Statistics\n",
              "  15  Global Economic Monitor\n",
              "  16  Health Nutrition and Population Statistics\n",
              "  18  IDA Results Measurement System\n",
              "  19  Millennium Development Goals\n",
              "  20  Quarterly Public Sector Debt\n",
              "  22  Quarterly External Debt Statistics SDDS\n",
              "  23  Quarterly External Debt Statistics GDDS\n",
              "  25  Jobs\n",
              "  27  Global Economic Prospects\n",
              "  28  Global Financial Inclusion\n",
              "  29  The Atlas of Social Protection: Indicators of Resilience and Equity\n",
              "  30  Exporter Dynamics Database – Indicators at Country-Year Level\n",
              "  31  Country Policy and Institutional Assessment\n",
              "  32  Global Financial Development\n",
              "  33  G20 Financial Inclusion Indicators\n",
              "  34  Global Partnership for Education\n",
              "  35  Sustainable Energy for All\n",
              "  37  LAC Equity Lab\n",
              "  38  Subnational Poverty\n",
              "  39  Health Nutrition and Population Statistics by Wealth Quintile\n",
              "  40  Population estimates and projections\n",
              "  41  Country Partnership Strategy for India (FY2013 - 17)\n",
              "  43  Adjusted Net Savings\n",
              "  45  Indonesia Database for Policy and Economic Research\n",
              "  46  Sustainable Development Goals\n",
              "  50  Subnational Population\n",
              "  54  Joint External Debt Hub\n",
              "  57  WDI Database Archives\n",
              "  58  Universal Health Coverage\n",
              "  59  Wealth Accounts\n",
              "  60  Economic Fitness\n",
              "  61  PPPs Regulatory Quality\n",
              "  62  International Comparison Program (ICP) 2011\n",
              "  63  Human Capital Index\n",
              "  64  Worldwide Bureaucracy Indicators\n",
              "  65  Health Equity and Financial Protection Indicators\n",
              "  66  Logistics Performance Index\n",
              "  67  PEFA 2011\n",
              "  68  PEFA 2016\n",
              "  69  Global Financial Inclusion and Consumer Protection Survey\n",
              "  70  Economic Fitness 2\n",
              "  71  International Comparison Program (ICP) 2005\n",
              "  73  Global Financial Inclusion and Consumer Protection Survey (Internal)\n",
              "  75  Environment, Social and Governance (ESG) Data\n",
              "  76  Remittance Prices Worldwide (Sending Countries)\n",
              "  77  Remittance Prices Worldwide (Receiving Countries)\n",
              "  78  ICP 2017\n",
              "  79  PEFA_GRPFM\n",
              "  80  Gender Disaggregated Labor Database (GDLD)\n",
              "  81  International Debt Statistics: DSSI\n",
              "  82  Global Public Procurement\n",
              "  83  Statistical Performance Indicators (SPI)\n",
              "  84  Education Policy\n",
              "  85  PEFA_2021_SNG\n",
              "  86  Global Jobs Indicators Database (JOIN)\n",
              "  87  Country Climate and Development Report (CCDR)\n",
              "  88  Food Prices for Nutrition\n",
              "  89  Identification for Development (ID4D) Data"
            ]
          },
          "execution_count": 5,
          "metadata": {},
          "output_type": "execute_result"
        }
      ],
      "source": [
        "wbdata.get_source()"
      ]
    },
    {
      "cell_type": "markdown",
      "metadata": {
        "slideshow": {
          "slide_type": "slide"
        }
      },
      "source": [
        "###### `wbdata.get_indicator()`\n",
        "\n"
      ]
    },
    {
      "cell_type": "markdown",
      "metadata": {},
      "source": [
        "&ldquo;Population estimates and projections&rdquo; looks promising.\n",
        " See what indicators/variables are available?\n",
        "\n"
      ]
    },
    {
      "cell_type": "code",
      "execution_count": 6,
      "metadata": {},
      "outputs": [
        {
          "data": {
            "text/plain": [
              "id                    name\n",
              "--------------------  ----------------------------------------------------------------------------------------------------------------------------------------\n",
              "HD.HCI.OVRL           Human Capital Index (HCI) (scale 0-1)\n",
              "HD.HCI.OVRL.FE        Human Capital Index (HCI), Female (scale 0-1)\n",
              "HD.HCI.OVRL.LB        Human Capital Index (HCI), Lower Bound (scale 0-1)\n",
              "HD.HCI.OVRL.LB.FE     Human Capital Index (HCI), Female, Lower Bound (scale 0-1)\n",
              "HD.HCI.OVRL.LB.MA     Human Capital Index (HCI), Male, Lower Bound (scale 0-1)\n",
              "HD.HCI.OVRL.MA        Human Capital Index (HCI), Male (scale 0-1)\n",
              "HD.HCI.OVRL.UB        Human Capital Index (HCI), Upper Bound (scale 0-1)\n",
              "HD.HCI.OVRL.UB.FE     Human Capital Index (HCI), Female, Upper Bound (scale 0-1)\n",
              "HD.HCI.OVRL.UB.MA     Human Capital Index (HCI), Male, Upper Bound (scale 0-1)\n",
              "NY.GNP.PCAP.CD        GNI per capita, Atlas method (current US$)\n",
              "SE.ADT.1524.LT.FM.ZS  Literacy rate, youth (ages 15-24), gender parity index (GPI)\n",
              "SE.ADT.1524.LT.MA.ZS  Literacy rate, youth male (% of males ages 15-24)\n",
              "SE.ADT.1524.LT.ZS     Literacy rate, youth total (% of people ages 15-24)\n",
              "SE.ADT.LITR.FE.ZS     Literacy rate, adult female (% of females ages 15 and above)\n",
              "SE.ADT.LITR.MA.ZS     Literacy rate, adult male (% of males ages 15 and above)\n",
              "SE.ADT.LITR.ZS        Literacy rate, adult total (% of people ages 15 and above)\n",
              "SE.ENR.ORPH           Ratio of school attendance of orphans to school attendance of non-orphans ages 10-14\n",
              "SE.PRM.CMPT.FE.ZS     Primary completion rate, female (% of relevant age group)\n",
              "SE.PRM.CMPT.MA.ZS     Primary completion rate, male (% of relevant age group)\n",
              "SE.PRM.CMPT.ZS        Primary completion rate, total (% of relevant age group)\n",
              "SE.PRM.ENRR           School enrollment, primary (% gross)\n",
              "SE.PRM.ENRR.FE        School enrollment, primary, female (% gross)\n",
              "SE.PRM.ENRR.MA        School enrollment, primary, male (% gross)\n",
              "SE.PRM.NENR           School enrollment, primary (% net)\n",
              "SE.PRM.NENR.FE        School enrollment, primary, female (% net)\n",
              "SE.PRM.NENR.MA        School enrollment, primary, male (% net)\n",
              "SE.SEC.ENRR           School enrollment, secondary (% gross)\n",
              "SE.SEC.ENRR.FE        School enrollment, secondary, female (% gross)\n",
              "SE.SEC.ENRR.MA        School enrollment, secondary, male (% gross)\n",
              "SE.SEC.NENR           School enrollment, secondary (% net)\n",
              "SE.SEC.NENR.FE        School enrollment, secondary, female (% net)\n",
              "SE.SEC.NENR.MA        School enrollment, secondary, male (% net)\n",
              "SE.TER.ENRR           School enrollment, tertiary (% gross)\n",
              "SE.TER.ENRR.FE        School enrollment, tertiary, female (% gross)\n",
              "SE.XPD.TOTL.GD.ZS     Government expenditure on education, total (% of GDP)\n",
              "SH.ALC.PCAP.FE.LI     Total alcohol consumption per capita, female (liters of pure alcohol, projected estimates, female 15+ years of age)\n",
              "SH.ALC.PCAP.LI        Total alcohol consumption per capita (liters of pure alcohol, projected estimates, 15+ years of age)\n",
              "SH.ALC.PCAP.MA.LI     Total alcohol consumption per capita, male (liters of pure alcohol, projected estimates, male 15+ years of age)\n",
              "SH.ANM.ALLW.ZS        Prevalence of anemia among women of reproductive age (% of women ages 15-49)\n",
              "SH.ANM.CHLD.ZS        Prevalence of anemia among children (% of children ages 6-59 months)\n",
              "SH.ANM.NPRG.ZS        Prevalence of anemia among non-pregnant women (% of women ages 15-49)\n",
              "SH.CON.1524.FE.ZS     Condom use, population ages 15-24, female (% of females ages 15-24)\n",
              "SH.CON.1524.MA.ZS     Condom use, population ages 15-24, male (% of males ages 15-24)\n",
              "SH.CON.AIDS.FE.ZS     Condom use at last high-risk sex, adult female (% ages 15-49)\n",
              "SH.CON.AIDS.MA.ZS     Condom use at last high-risk sex, adult male (% ages 15-49)\n",
              "SH.DTH.0509           Number of deaths ages 5-9 years\n",
              "SH.DTH.0509.FE        Number of deaths ages 5-9 years, female\n",
              "SH.DTH.0509.MA        Number of deaths ages 5-9 years, male\n",
              "SH.DTH.1014           Number of deaths ages 10-14 years\n",
              "SH.DTH.1014.FE        Number of deaths ages 10-14 years, female\n",
              "SH.DTH.1014.MA        Number of deaths ages 10-14 years, male\n",
              "SH.DTH.1019           Number of deaths ages 10-19 years\n",
              "SH.DTH.1019.FE        Number of deaths ages 10-19 years, female\n",
              "SH.DTH.1019.MA        Number of deaths ages 10-19 years, male\n",
              "SH.DTH.1519           Number of deaths ages 15-19 years\n",
              "SH.DTH.1519.FE        Number of deaths ages 15-19 years, female\n",
              "SH.DTH.1519.MA        Number of deaths ages 15-19 years, male\n",
              "SH.DTH.2024           Number of deaths ages 20-24 years\n",
              "SH.DTH.2024.FE        Number of deaths ages 20-24 years, female\n",
              "SH.DTH.2024.MA        Number of deaths ages 20-24 years, male\n",
              "SH.DTH.COMM.ZS        Cause of death, by communicable diseases and maternal, prenatal and nutrition conditions (% of total)\n",
              "SH.DTH.IMRT           Number of infant deaths\n",
              "SH.DTH.IMRT.FE        Number of infant deaths, female\n",
              "SH.DTH.IMRT.MA        Number of infant deaths, male\n",
              "SH.DTH.INJR.ZS        Cause of death, by injury (% of total)\n",
              "SH.DTH.MORT           Number of under-five deaths\n",
              "SH.DTH.MORT.FE        Number of under-five deaths, female\n",
              "SH.DTH.MORT.MA        Number of under-five deaths, male\n",
              "SH.DTH.NCOM.ZS        Cause of death, by non-communicable diseases (% of total)\n",
              "SH.DTH.NMRT           Number of neonatal deaths\n",
              "SH.DTH.STLB           Number of stillbirths\n",
              "SH.DYN.0509           Probability of dying among children ages 5-9 years (per 1,000)\n",
              "SH.DYN.0509.FE        Probability of dying among children ages 5-9 years, female (per 1,000)\n",
              "SH.DYN.0509.MA        Probability of dying among children ages 5-9 years, male (per 1,000)\n",
              "SH.DYN.1014           Probability of dying among adolescents ages 10-14 years (per 1,000)\n",
              "SH.DYN.1014.FE        Probability of dying among adolescents ages 10-14 years, female (per 1,000)\n",
              "SH.DYN.1014.MA        Probability of dying among adolescents ages 10-14 years, male (per 1,000)\n",
              "SH.DYN.1019           Probability of dying among adolescents ages 10-19 years (per 1,000)\n",
              "SH.DYN.1019.FE        Probability of dying among adolescents ages 10-19 years, female (per 1,000)\n",
              "SH.DYN.1019.MA        Probability of dying among adolescents ages 10-19 years, male (per 1,000)\n",
              "SH.DYN.1519           Probability of dying among adolescents ages 15-19 years (per 1,000)\n",
              "SH.DYN.1519.FE        Probability of dying among adolescents ages 15-19 years, female (per 1,000)\n",
              "SH.DYN.1519.MA        Probability of dying among adolescents ages 15-19 years, male (per 1,000)\n",
              "SH.DYN.2024           Probability of dying among youth ages 20-24 years (per 1,000)\n",
              "SH.DYN.2024.FE        Probability of dying among youth ages 20-24 years, female (per 1,000)\n",
              "SH.DYN.2024.MA        Probability of dying among youth ages 20-24 years, male (per 1,000)\n",
              "SH.DYN.AIDS           Adults (ages 15+) living with HIV\n",
              "SH.DYN.AIDS.DH        AIDS estimated deaths (UNAIDS estimates)\n",
              "SH.DYN.AIDS.FE.ZS     Women's share of population ages 15+ living with HIV (%)\n",
              "SH.DYN.AIDS.ZS        Prevalence of HIV, total (% of population ages 15-49)\n",
              "SH.DYN.MORT           Mortality rate, under-5 (per 1,000 live births)\n",
              "SH.DYN.MORT.FE        Mortality rate, under-5, female (per 1,000 live births)\n",
              "SH.DYN.MORT.MA        Mortality rate, under-5, male (per 1,000 live births)\n",
              "SH.DYN.NCOM.FE.ZS     Mortality from CVD, cancer, diabetes or CRD between exact ages 30 and 70, female (%)\n",
              "SH.DYN.NCOM.MA.ZS     Mortality from CVD, cancer, diabetes or CRD between exact ages 30 and 70, male (%)\n",
              "SH.DYN.NCOM.ZS        Mortality from CVD, cancer, diabetes or CRD between exact ages 30 and 70 (%)\n",
              "SH.DYN.NMRT           Mortality rate, neonatal (per 1,000 live births)\n",
              "SH.DYN.STLB           Stillbirth rate (per 1,000 total births)\n",
              "SH.FPL.SATI.ZS        Demand for family planning satisfied by any methods (% of married women with demand for family planning)\n",
              "SH.FPL.SATM.ZS        Demand for family planning satisfied by modern methods (% of married women with demand for family planning)\n",
              "SH.H2O.BASW.RU.ZS     People using at least basic drinking water services, rural (% of rural population)\n",
              "SH.H2O.BASW.UR.ZS     People using at least basic drinking water services, urban (% of urban population)\n",
              "SH.H2O.BASW.ZS        People using at least basic drinking water services (% of population)\n",
              "SH.H2O.SMDW.RU.ZS     People using safely managed drinking water services, rural (% of rural population)\n",
              "SH.H2O.SMDW.UR.ZS     People using safely managed drinking water services, urban (% of urban population)\n",
              "SH.H2O.SMDW.ZS        People using safely managed drinking water services (% of population)\n",
              "SH.HIV.0014           Children (0-14) living with HIV\n",
              "SH.HIV.1524.FE.ZS     Prevalence of HIV, female (% ages 15-24)\n",
              "SH.HIV.1524.KW.FE.ZS  Comprehensive correct knowledge of HIV/AIDS, ages 15-24, female (2 prevent ways and reject 3 misconceptions)\n",
              "SH.HIV.1524.KW.MA.ZS  Comprehensive correct knowledge of HIV/AIDS, ages 15-24, male (2 prevent ways and reject 3 misconceptions)\n",
              "SH.HIV.1524.MA.ZS     Prevalence of HIV, male (% ages 15-24)\n",
              "SH.HIV.ARTC.ZS        Antiretroviral therapy coverage (% of people living with HIV)\n",
              "SH.HIV.INCD           Adults (ages 15-49) newly infected with HIV\n",
              "SH.HIV.INCD.14        Children (ages 0-14) newly infected with HIV\n",
              "SH.HIV.INCD.50.P3     Incidence of HIV, ages 50+ (per 1,000 uninfected population ages 50+)\n",
              "SH.HIV.INCD.TL        Adults (ages 15+) and children (ages 0-14) newly infected with HIV\n",
              "SH.HIV.INCD.TL.P3     Incidence of HIV, all (per 1,000 uninfected population)\n",
              "SH.HIV.INCD.YG        Young people (ages 15-24) newly infected with HIV\n",
              "SH.HIV.INCD.YG.P3     Incidence of HIV, ages 15-24 (per 1,000 uninfected population ages 15-24)\n",
              "SH.HIV.INCD.ZS        Incidence of HIV, ages 15-49 (per 1,000 uninfected population ages 15-49)\n",
              "SH.HIV.KNOW.FE.ZS     Comprehensive correct knowledge of HIV/AIDS, ages 15-49, female (2 prevent ways and reject 3 misconceptions)\n",
              "SH.HIV.KNOW.MA.ZS     Comprehensive correct knowledge of HIV/AIDS, ages 15-49, male (2 prevent ways and reject 3 misconceptions)\n",
              "SH.HIV.ORPH           Children orphaned by HIV/AIDS\n",
              "SH.HIV.PMTC.ZS        Antiretroviral therapy coverage for PMTCT (% of pregnant women living with HIV)\n",
              "SH.HIV.TOTL           Adults (ages 15+) and children (0-14 years) living with HIV\n",
              "SH.HTN.PREV.FE.ZS     Prevalence of hypertension, female (% of female adults ages 30-79)\n",
              "SH.HTN.PREV.MA.ZS     Prevalence of hypertension, male (% of male adults ages 30-79)\n",
              "SH.HTN.PREV.ZS        Prevalence of hypertension (% of adults ages 30-79)\n",
              "SH.HTN.TRET.FE.ZS     Treatment for hypertension, female (% of female adults ages 30-79 with hypertension)\n",
              "SH.HTN.TRET.MA.ZS     Treatment for hypertension, male (% of male adults ages 30-79 with hypertension)\n",
              "SH.HTN.TRET.ZS        Treatment for hypertension (% of adults ages 30-79 with hypertension)\n",
              "SH.IMM.HEPB           Immunization, HepB3 (% of one-year-old children)\n",
              "SH.IMM.HIB3           Immunization, Hib3 (% of children ages 12-23 months)\n",
              "SH.IMM.IBCG           Immunization, BCG (% of one-year-old children)\n",
              "SH.IMM.IDPT           Immunization, DPT (% of children ages 12-23 months)\n",
              "SH.IMM.MEA2           Immunization, measles second dose (% of children by the nationally recommended age)\n",
              "SH.IMM.MEAS           Immunization, measles (% of children ages 12-23 months)\n",
              "SH.IMM.POL3           Immunization, Pol3 (% of one-year-old children)\n",
              "SH.MED.BEDS.ZS        Hospital beds (per 1,000 people)\n",
              "SH.MED.CMHW.P3        Community health workers (per 1,000 people)\n",
              "SH.MED.NUMW.P3        Nurses and midwives (per 1,000 people)\n",
              "SH.MED.PHYS.ZS        Physicians (per 1,000 people)\n",
              "SH.MED.SAOP.P5        Specialist surgical workforce (per 100,000 population)\n",
              "SH.MLR.INCD.P3        Incidence of malaria (per 1,000 population at risk)\n",
              "SH.MLR.IPTP.ZS        Intermittent preventive treatment (IPT) of malaria in pregnancy (% of pregnant women)\n",
              "SH.MLR.NETS.ZS        Use of insecticide-treated bed nets (% of under-5 population)\n",
              "SH.MLR.TRET.ZS        Children with fever receiving antimalarial drugs (% of children under age 5 with fever)\n",
              "SH.MMR.DTHS           Number of maternal deaths\n",
              "SH.MMR.LEVE           Length of paid maternity leave (calendar days)\n",
              "SH.MMR.RISK           Lifetime risk of maternal death (1 in: rate varies by country)\n",
              "SH.MMR.RISK.ZS        Lifetime risk of maternal death (%)\n",
              "SH.MMR.WAGE.ZS        Maternal leave benefits (% of wages paid in covered period)\n",
              "SH.PRG.ANEM           Prevalence of anemia among pregnant women (%)\n",
              "SH.PRG.SYPH.ZS        Prevalence of syphilis (% of women attending antenatal care)\n",
              "SH.PRV.SMOK           Prevalence of current tobacco use (% of adults)\n",
              "SH.PRV.SMOK.FE        Prevalence of current tobacco use, females (% of female adults)\n",
              "SH.PRV.SMOK.MA        Prevalence of current tobacco use, males (% of male adults)\n",
              "SH.SGR.CRSK.ZS        Risk of catastrophic expenditure for surgical care (% of people at risk)\n",
              "SH.SGR.IRSK.ZS        Risk of impoverishing expenditure for surgical care (% of people at risk)\n",
              "SH.SGR.PROC.P5        Number of surgical procedures (per 100,000 population)\n",
              "SH.STA.AIRP.FE.P5     Mortality rate attributed to household and ambient air pollution, age-standardized, female (per 100,000 female population)\n",
              "SH.STA.AIRP.MA.P5     Mortality rate attributed to household and ambient air pollution, age-standardized, male (per 100,000 male population)\n",
              "SH.STA.AIRP.P5        Mortality rate attributed to household and ambient air pollution, age-standardized (per 100,000 population)\n",
              "SH.STA.ANV4.ZS        Pregnant women receiving prenatal care of at least four visits (% of pregnant women)\n",
              "SH.STA.ANVC.ZS        Pregnant women receiving prenatal care (%)\n",
              "SH.STA.ARIC.ZS        ARI treatment (% of children under 5 taken to a health provider)\n",
              "SH.STA.BASS.RU.ZS     People using at least basic sanitation services, rural (% of rural population)\n",
              "SH.STA.BASS.UR.ZS     People using at least basic sanitation services, urban (% of urban population)\n",
              "SH.STA.BASS.ZS        People using at least basic sanitation services (% of population)\n",
              "SH.STA.BFED.ZS        Exclusive breastfeeding (% of children under 6 months)\n",
              "SH.STA.BRTC.ZS        Births attended by skilled health staff (% of total)\n",
              "SH.STA.BRTW.ZS        Low-birthweight babies (% of births)\n",
              "SH.STA.DIAB.ZS        Diabetes prevalence (% of population ages 20 to 79)\n",
              "SH.STA.HYGN.RU.ZS     People with basic handwashing facilities including soap and water, rural (% of rural population)\n",
              "SH.STA.HYGN.UR.ZS     People with basic handwashing facilities including soap and water, urban (% of urban population)\n",
              "SH.STA.HYGN.ZS        People with basic handwashing facilities including soap and water (% of population)\n",
              "SH.STA.IYCF.ZS        Infant and young child feeding practices, all 3 IYCF (% children ages 6-23 months)\n",
              "SH.STA.MALN.FE.ZS     Prevalence of underweight, weight for age, female (% of children under 5)\n",
              "SH.STA.MALN.MA.ZS     Prevalence of underweight, weight for age, male (% of children under 5)\n",
              "SH.STA.MALN.ZS        Prevalence of underweight, weight for age (% of children under 5)\n",
              "SH.STA.MALR           Malaria cases reported\n",
              "SH.STA.MMRT           Maternal mortality ratio (modeled estimate, per 100,000 live births)\n",
              "SH.STA.MMRT.NE        Maternal mortality ratio (national estimate, per 100,000 live births)\n",
              "SH.STA.ODFC.RU.ZS     People practicing open defecation, rural (% of rural population)\n",
              "SH.STA.ODFC.UR.ZS     People practicing open defecation, urban (% of urban population)\n",
              "SH.STA.ODFC.ZS        People practicing open defecation (% of population)\n",
              "SH.STA.ORCF.ZS        Diarrhea treatment (% of children under 5 receiving oral rehydration and continued feeding)\n",
              "SH.STA.ORTH           Diarrhea treatment (% of children under 5 who received ORS packet)\n",
              "SH.STA.OWAD.FE.ZS     Prevalence of overweight, female (% of female adults)\n",
              "SH.STA.OWAD.MA.ZS     Prevalence of overweight, male (% of male adults)\n",
              "SH.STA.OWAD.ZS        Prevalence of overweight (% of adults)\n",
              "SH.STA.OWGH.FE.ZS     Prevalence of overweight, weight for height, female (% of children under 5)\n",
              "SH.STA.OWGH.MA.ZS     Prevalence of overweight, weight for height, male (% of children under 5)\n",
              "SH.STA.OWGH.ME.ZS     Prevalence of overweight (modeled estimate, % of children under 5)\n",
              "SH.STA.OWGH.ZS        Prevalence of overweight, weight for height (% of children under 5)\n",
              "SH.STA.PNVC.ZS        Postnatal care coverage (% mothers)\n",
              "SH.STA.POIS.P5        Mortality rate attributed to unintentional poisoning (per 100,000 population)\n",
              "SH.STA.POIS.P5.FE     Mortality rate attributed to unintentional poisoning, female (per 100,000 female population)\n",
              "SH.STA.POIS.P5.MA     Mortality rate attributed to unintentional poisoning, male (per 100,000 male population)\n",
              "SH.STA.SMSS.RU.ZS     People using safely managed sanitation services, rural (% of rural population)\n",
              "SH.STA.SMSS.UR.ZS     People using safely managed sanitation services, urban (% of urban population)\n",
              "SH.STA.SMSS.ZS        People using safely managed sanitation services (% of population)\n",
              "SH.STA.STNT.FE.ZS     Prevalence of stunting, height for age, female (% of children under 5)\n",
              "SH.STA.STNT.MA.ZS     Prevalence of stunting, height for age, male (% of children under 5)\n",
              "SH.STA.STNT.ME.ZS     Prevalence of stunting, height for age (modeled estimate, % of children under 5)\n",
              "SH.STA.STNT.ZS        Prevalence of stunting, height for age (% of children under 5)\n",
              "SH.STA.SUIC.FE.P5     Suicide mortality rate, female (per 100,000 female population)\n",
              "SH.STA.SUIC.MA.P5     Suicide mortality rate, male (per 100,000 male population)\n",
              "SH.STA.SUIC.P5        Suicide mortality rate (per 100,000 population)\n",
              "SH.STA.TRAF.FE.P5     Mortality caused by road traffic injury, female (per 100,000 female population)\n",
              "SH.STA.TRAF.MA.P5     Mortality caused by road traffic injury, male (per 100,000 male population)\n",
              "SH.STA.TRAF.P5        Mortality caused by road traffic injury (per 100,000 population)\n",
              "SH.STA.WASH.FE.P5     Mortality rate attributed to unsafe water, unsafe sanitation and lack of hygiene, female (per 100,000 female population)\n",
              "SH.STA.WASH.MA.P5     Mortality rate attributed to unsafe water, unsafe sanitation and lack of hygiene, male (per 100,000 male population)\n",
              "SH.STA.WASH.P5        Mortality rate attributed to unsafe water, unsafe sanitation and lack of hygiene (per 100,000 population)\n",
              "SH.STA.WAST.FE.ZS     Prevalence of wasting, weight for height, female (% of children under 5)\n",
              "SH.STA.WAST.MA.ZS     Prevalence of wasting, weight for height, male (% of children under 5)\n",
              "SH.STA.WAST.ZS        Prevalence of wasting, weight for height (% of children under 5)\n",
              "SH.SVR.WAST.FE.ZS     Prevalence of severe wasting, weight for height, female (% of children under 5)\n",
              "SH.SVR.WAST.MA.ZS     Prevalence of severe wasting, weight for height, male (% of children under 5)\n",
              "SH.SVR.WAST.ZS        Prevalence of severe wasting, weight for height (% of children under 5)\n",
              "SH.TBS.CURE.ZS        Tuberculosis treatment success rate (% of new cases)\n",
              "SH.TBS.DTEC.ZS        Tuberculosis case detection rate (%, all forms)\n",
              "SH.TBS.INCD           Incidence of tuberculosis (per 100,000 people)\n",
              "SH.TBS.MORT           Tuberculosis death rate (per 100,000 people)\n",
              "SH.UHC.FBP1.TO        Number of people pushed further below the $2.15 ($ 2017 PPP) poverty line by out-of-pocket health care expenditure\n",
              "SH.UHC.FBP1.ZS        Proportion of population pushed further below the $2.15 ($ 2017 PPP) poverty line by out-of-pocket health care expenditure (%)\n",
              "SH.UHC.FBP2.TO        Number of people pushed further below the $3.65 ($ 2017 PPP) poverty line by out-of-pocket health care expenditure\n",
              "SH.UHC.FBP2.ZS        Proportion of population pushed further below the $3.65 ($ 2017 PPP) poverty line by out-of-pocket health care expenditure (%)\n",
              "SH.UHC.FBPR.TO        Number of people pushed further below the 60% median consumption poverty line by out-of-pocket health care expenditure\n",
              "SH.UHC.FBPR.ZS        Proportion of population pushed further below the 60% median consumption poverty line by out-of-pocket health care expenditure (%)\n",
              "SH.UHC.NOP1.TO        Number of people pushed below the $2.15 ($ 2017 PPP) poverty line by out-of-pocket health care expenditure\n",
              "SH.UHC.NOP1.ZS        Proportion of population pushed below the $2.15 ($ 2017 PPP) poverty line by out-of-pocket health care expenditure (%)\n",
              "SH.UHC.NOP2.TO        Number of people pushed below the $3.65 ($ 2017 PPP) poverty line by out-of-pocket health care expenditure\n",
              "SH.UHC.NOP2.ZS        Proportion of population pushed below the $3.65 ($ 2017 PPP) poverty line by out-of-pocket health care expenditure (%)\n",
              "SH.UHC.NOPR.TO        Number of people pushed below the 60% median consumption poverty line by out-of-pocket health care expenditure\n",
              "SH.UHC.NOPR.ZS        Proportion of population pushed below the 60% median consumption poverty line by out-of-pocket health expenditure (%)\n",
              "SH.UHC.OOPC.10.TO     Number of people spending more than 10% of household consumption or income on out-of-pocket health care expenditure\n",
              "SH.UHC.OOPC.10.ZS     Proportion of population spending more than 10% of household consumption or income on out-of-pocket health care expenditure (%)\n",
              "SH.UHC.OOPC.25.TO     Number of people spending more than 25% of household consumption or income on out-of-pocket health care expenditure\n",
              "SH.UHC.OOPC.25.ZS     Proportion of population spending more than 25% of household consumption or income on out-of-pocket health care expenditure (%)\n",
              "SH.UHC.SRVS.CV.XD     UHC service coverage index\n",
              "SH.UHC.TOT1.TO        Number of people pushed or further pushed below the $2.15 ($ 2017 PPP) poverty line by out-of-pocket health care expenditure\n",
              "SH.UHC.TOT1.ZS        Proportion of population pushed or further pushed below the $2.15 ($ 2017 PPP) poverty line by out-of-pocket health care expenditure (%)\n",
              "SH.UHC.TOT2.TO        Number of people pushed or further pushed below the $3.65 ($ 2017 PPP) poverty line by out-of-pocket health care expenditure\n",
              "SH.UHC.TOT2.ZS        Proportion of population pushed or further pushed below the $3.65 ($ 2017 PPP) poverty line by out-of-pocket health care expenditure (%)\n",
              "SH.UHC.TOTR.TO        Number of people pushed or further pushed below the 60% median consumption poverty line by out-of-pocket health care expenditure\n",
              "SH.UHC.TOTR.ZS        Proportion of population pushed or further pushed below the 60% median consumption poverty line by out-of-pocket health expenditure (%)\n",
              "SH.VAC.TTNS.ZS        Newborns protected against tetanus (%)\n",
              "SH.XPD.CHEX.GD.ZS     Current health expenditure (% of GDP)\n",
              "SH.XPD.CHEX.PC.CD     Current health expenditure per capita (current US$)\n",
              "SH.XPD.CHEX.PP.CD     Current health expenditure per capita, PPP (current international $)\n",
              "SH.XPD.EHEX.CH.ZS     External health expenditure (% of current health expenditure)\n",
              "SH.XPD.EHEX.EH.ZS     External health expenditure channeled through government (% of external health expenditure)\n",
              "SH.XPD.EHEX.PC.CD     External health expenditure per capita (current US$)\n",
              "SH.XPD.EHEX.PP.CD     External health expenditure per capita, PPP (current international $)\n",
              "SH.XPD.GHED.CH.ZS     Domestic general government health expenditure (% of current health expenditure)\n",
              "SH.XPD.GHED.GD.ZS     Domestic general government health expenditure (% of GDP)\n",
              "SH.XPD.GHED.GE.ZS     Domestic general government health expenditure (% of general government expenditure)\n",
              "SH.XPD.GHED.PC.CD     Domestic general government health expenditure per capita (current US$)\n",
              "SH.XPD.GHED.PP.CD     Domestic general government health expenditure per capita, PPP (current international $)\n",
              "SH.XPD.KHEX.GD.ZS     Capital health expenditure (% of GDP)\n",
              "SH.XPD.OOPC.CH.ZS     Out-of-pocket expenditure (% of current health expenditure)\n",
              "SH.XPD.OOPC.PC.CD     Out-of-pocket expenditure per capita (current US$)\n",
              "SH.XPD.OOPC.PP.CD     Out-of-pocket expenditure per capita, PPP (current international $)\n",
              "SH.XPD.PVTD.CH.ZS     Domestic private health expenditure (% of current health expenditure)\n",
              "SH.XPD.PVTD.PC.CD     Domestic private health expenditure per capita (current US$)\n",
              "SH.XPD.PVTD.PP.CD     Domestic private health expenditure per capita, PPP (current international $)\n",
              "SI.POV.NAHC           Poverty headcount ratio at national poverty lines (% of population)\n",
              "SI.POV.RUHC           Rural poverty headcount ratio at national poverty lines (% of rural population)\n",
              "SI.POV.URHC           Urban poverty headcount ratio at national poverty lines (% of urban population)\n",
              "SL.EMP.INSV.FE.ZS     Share of women in wage employment in the nonagricultural sector (% of total nonagricultural employment)\n",
              "SL.TLF.TOTL.FE.ZS     Labor force, female (% of total labor force)\n",
              "SL.TLF.TOTL.IN        Labor force, total\n",
              "SL.UEM.TOTL.FE.ZS     Unemployment, female (% of female labor force) (modeled ILO estimate)\n",
              "SL.UEM.TOTL.MA.ZS     Unemployment, male (% of male labor force) (modeled ILO estimate)\n",
              "SL.UEM.TOTL.ZS        Unemployment, total (% of total labor force) (modeled ILO estimate)\n",
              "SM.POP.NETM           Net migration\n",
              "SN.ITK.DEFC           Number of people who are undernourished\n",
              "SN.ITK.DEFC.ZS        Prevalence of undernourishment (% of population)\n",
              "SN.ITK.SALT.ZS        Consumption of iodized salt (% of households)\n",
              "SN.ITK.VITA.ZS        Vitamin A supplementation coverage rate (% of children ages 6-59 months)\n",
              "SP.ADO.TFRT           Adolescent fertility rate (births per 1,000 women ages 15-19)\n",
              "SP.DYN.AMRT.FE        Mortality rate, adult, female (per 1,000 female adults)\n",
              "SP.DYN.AMRT.MA        Mortality rate, adult, male (per 1,000 male adults)\n",
              "SP.DYN.CBRT.IN        Birth rate, crude (per 1,000 people)\n",
              "SP.DYN.CDRT.IN        Death rate, crude (per 1,000 people)\n",
              "SP.DYN.CONM.AL.ZS     Contraceptive prevalence, any modern method (% of all women ages 15-49)\n",
              "SP.DYN.CONM.SA.ZS     Contraceptive prevalence, any modern method (% of sexually active unmarried women ages 15-49)\n",
              "SP.DYN.CONM.ZS        Contraceptive prevalence, any modern method (% of married women ages 15-49)\n",
              "SP.DYN.CONU.AL.ZS     Contraceptive prevalence, any method (% of all women ages 15-49)\n",
              "SP.DYN.CONU.SA.ZS     Contraceptive prevalence, any method (% of sexually active unmarried women ages 15-49)\n",
              "SP.DYN.CONU.ZS        Contraceptive prevalence, any method (% of married women ages 15-49)\n",
              "SP.DYN.IMRT.FE.IN     Mortality rate, infant, female (per 1,000 live births)\n",
              "SP.DYN.IMRT.IN        Mortality rate, infant (per 1,000 live births)\n",
              "SP.DYN.IMRT.MA.IN     Mortality rate, infant, male (per 1,000 live births)\n",
              "SP.DYN.LE00.FE.IN     Life expectancy at birth, female (years)\n",
              "SP.DYN.LE00.IN        Life expectancy at birth, total (years)\n",
              "SP.DYN.LE00.MA.IN     Life expectancy at birth, male (years)\n",
              "SP.DYN.SMAM.FE        Age at first marriage, female\n",
              "SP.DYN.SMAM.MA        Age at first marriage, male\n",
              "SP.DYN.TFRT.IN        Fertility rate, total (births per woman)\n",
              "SP.DYN.TO65.FE.ZS     Survival to age 65, female (% of cohort)\n",
              "SP.DYN.TO65.MA.ZS     Survival to age 65, male (% of cohort)\n",
              "SP.DYN.WFRT           Wanted fertility rate (births per woman)\n",
              "SP.HOU.FEMA.ZS        Female headed households (% of households with a female head)\n",
              "SP.M15.2024.FE.ZS     Women who were first married by age 15 (% of women ages 20-24)\n",
              "SP.M18.2024.FE.ZS     Women who were first married by age 18 (% of women ages 20-24)\n",
              "SP.MTR.1519.ZS        Teenage mothers (% of women ages 15-19 who have had children or are currently pregnant)\n",
              "SP.POP.0004.FE        Population ages 00-04, female\n",
              "SP.POP.0004.FE.5Y     Population ages 00-04, female (% of female population)\n",
              "SP.POP.0004.MA        Population ages 00-04, male\n",
              "SP.POP.0004.MA.5Y     Population ages 00-04, male (% of male population)\n",
              "SP.POP.0014.FE.IN     Population ages 0-14, female\n",
              "SP.POP.0014.FE.ZS     Population ages 0-14, female (% of female population)\n",
              "SP.POP.0014.MA.IN     Population ages 0-14, male\n",
              "SP.POP.0014.MA.ZS     Population ages 0-14, male (% of male population)\n",
              "SP.POP.0014.TO        Population ages 0-14, total\n",
              "SP.POP.0014.TO.ZS     Population ages 0-14 (% of total population)\n",
              "SP.POP.0509.FE        Population ages 05-09, female\n",
              "SP.POP.0509.FE.5Y     Population ages 05-09, female (% of female population)\n",
              "SP.POP.0509.MA        Population ages 05-09, male\n",
              "SP.POP.0509.MA.5Y     Population ages 05-09, male (% of male population)\n",
              "SP.POP.1014.FE        Population ages 10-14, female\n",
              "SP.POP.1014.FE.5Y     Population ages 10-14, female (% of female population)\n",
              "SP.POP.1014.MA        Population ages 10-14, male\n",
              "SP.POP.1014.MA.5Y     Population ages 10-14, male (% of male population)\n",
              "SP.POP.1519.FE        Population ages 15-19, female\n",
              "SP.POP.1519.FE.5Y     Population ages 15-19, female (% of female population)\n",
              "SP.POP.1519.MA        Population ages 15-19, male\n",
              "SP.POP.1519.MA.5Y     Population ages 15-19, male (% of male population)\n",
              "SP.POP.1564.FE.IN     Population ages 15-64, female\n",
              "SP.POP.1564.FE.ZS     Population ages 15-64, female (% of female population)\n",
              "SP.POP.1564.MA.IN     Population ages 15-64, male\n",
              "SP.POP.1564.MA.ZS     Population ages 15-64, male (% of male population)\n",
              "SP.POP.1564.TO        Population ages 15-64, total\n",
              "SP.POP.1564.TO.ZS     Population ages 15-64 (% of total population)\n",
              "SP.POP.2024.FE        Population ages 20-24, female\n",
              "SP.POP.2024.FE.5Y     Population ages 20-24, female (% of female population)\n",
              "SP.POP.2024.MA        Population ages 20-24, male\n",
              "SP.POP.2024.MA.5Y     Population ages 20-24, male (% of male population)\n",
              "SP.POP.2529.FE        Population ages 25-29, female\n",
              "SP.POP.2529.FE.5Y     Population ages 25-29, female (% of female population)\n",
              "SP.POP.2529.MA        Population ages 25-29, male\n",
              "SP.POP.2529.MA.5Y     Population ages 25-29, male (% of male population)\n",
              "SP.POP.3034.FE        Population ages 30-34, female\n",
              "SP.POP.3034.FE.5Y     Population ages 30-34, female (% of female population)\n",
              "SP.POP.3034.MA        Population ages 30-34, male\n",
              "SP.POP.3034.MA.5Y     Population ages 30-34, male (% of male population)\n",
              "SP.POP.3539.FE        Population ages 35-39, female\n",
              "SP.POP.3539.FE.5Y     Population ages 35-39, female (% of female population)\n",
              "SP.POP.3539.MA        Population ages 35-39, male\n",
              "SP.POP.3539.MA.5Y     Population ages 35-39, male (% of male population)\n",
              "SP.POP.4044.FE        Population ages 40-44, female\n",
              "SP.POP.4044.FE.5Y     Population ages 40-44, female (% of female population)\n",
              "SP.POP.4044.MA        Population ages 40-44, male\n",
              "SP.POP.4044.MA.5Y     Population ages 40-44, male (% of male population)\n",
              "SP.POP.4549.FE        Population ages 45-49, female\n",
              "SP.POP.4549.FE.5Y     Population ages 45-49, female (% of female population)\n",
              "SP.POP.4549.MA        Population ages 45-49, male\n",
              "SP.POP.4549.MA.5Y     Population ages 45-49, male (% of male population)\n",
              "SP.POP.5054.FE        Population ages 50-54, female\n",
              "SP.POP.5054.FE.5Y     Population ages 50-54, female (% of female population)\n",
              "SP.POP.5054.MA        Population ages 50-54, male\n",
              "SP.POP.5054.MA.5Y     Population ages 50-54, male (% of male population)\n",
              "SP.POP.5559.FE        Population ages 55-59, female\n",
              "SP.POP.5559.FE.5Y     Population ages 55-59, female (% of female population)\n",
              "SP.POP.5559.MA        Population ages 55-59, male\n",
              "SP.POP.5559.MA.5Y     Population ages 55-59, male (% of male population)\n",
              "SP.POP.6064.FE        Population ages 60-64, female\n",
              "SP.POP.6064.FE.5Y     Population ages 60-64, female (% of female population)\n",
              "SP.POP.6064.MA        Population ages 60-64, male\n",
              "SP.POP.6064.MA.5Y     Population ages 60-64, male (% of male population)\n",
              "SP.POP.6569.FE        Population ages 65-69, female\n",
              "SP.POP.6569.FE.5Y     Population ages 65-69, female (% of female population)\n",
              "SP.POP.6569.MA        Population ages 65-69, male\n",
              "SP.POP.6569.MA.5Y     Population ages 65-69, male (% of male population)\n",
              "SP.POP.65UP.FE.IN     Population ages 65 and above, female\n",
              "SP.POP.65UP.FE.ZS     Population ages 65 and above, female (% of female population)\n",
              "SP.POP.65UP.MA.IN     Population ages 65 and above, male\n",
              "SP.POP.65UP.MA.ZS     Population ages 65 and above, male (% of male population)\n",
              "SP.POP.65UP.TO        Population ages 65 and above, total\n",
              "SP.POP.65UP.TO.ZS     Population ages 65 and above (% of total population)\n",
              "SP.POP.7074.FE        Population ages 70-74, female\n",
              "SP.POP.7074.FE.5Y     Population ages 70-74, female (% of female population)\n",
              "SP.POP.7074.MA        Population ages 70-74, male\n",
              "SP.POP.7074.MA.5Y     Population ages 70-74, male (% of male population)\n",
              "SP.POP.7579.FE        Population ages 75-79, female\n",
              "SP.POP.7579.FE.5Y     Population ages 75-79, female (% of female population)\n",
              "SP.POP.7579.MA        Population ages 75-79, male\n",
              "SP.POP.7579.MA.5Y     Population ages 75-79, male (% of male population)\n",
              "SP.POP.80UP.FE        Population ages 80 and above, female\n",
              "SP.POP.80UP.FE.5Y     Population ages 80 and above, female (% of female population)\n",
              "SP.POP.80UP.MA        Population ages 80 and above, male\n",
              "SP.POP.80UP.MA.5Y     Population ages 80 and above, male (% of male population)\n",
              "SP.POP.AG00.FE.IN     Age population, age 00, female, interpolated\n",
              "SP.POP.AG00.MA.IN     Age population, age 00, male, interpolated\n",
              "SP.POP.AG01.FE.IN     Age population, age 01, female, interpolated\n",
              "SP.POP.AG01.MA.IN     Age population, age 01, male, interpolated\n",
              "SP.POP.AG02.FE.IN     Age population, age 02, female, interpolated\n",
              "SP.POP.AG02.MA.IN     Age population, age 02, male, interpolated\n",
              "SP.POP.AG03.FE.IN     Age population, age 03, female, interpolated\n",
              "SP.POP.AG03.MA.IN     Age population, age 03, male, interpolated\n",
              "SP.POP.AG04.FE.IN     Age population, age 04, female, interpolated\n",
              "SP.POP.AG04.MA.IN     Age population, age 04, male, interpolated\n",
              "SP.POP.AG05.FE.IN     Age population, age 05, female, interpolated\n",
              "SP.POP.AG05.MA.IN     Age population, age 05, male, interpolated\n",
              "SP.POP.AG06.FE.IN     Age population, age 06, female, interpolated\n",
              "SP.POP.AG06.MA.IN     Age population, age 06, male, interpolated\n",
              "SP.POP.AG07.FE.IN     Age population, age 07, female, interpolated\n",
              "SP.POP.AG07.MA.IN     Age population, age 07, male, interpolated\n",
              "SP.POP.AG08.FE.IN     Age population, age 08, female, interpolated\n",
              "SP.POP.AG08.MA.IN     Age population, age 08, male, interpolated\n",
              "SP.POP.AG09.FE.IN     Age population, age 09, female, interpolated\n",
              "SP.POP.AG09.MA.IN     Age population, age 09, male, interpolated\n",
              "SP.POP.AG10.FE.IN     Age population, age 10, female, interpolated\n",
              "SP.POP.AG10.MA.IN     Age population, age 10, male, interpolated\n",
              "SP.POP.AG11.FE.IN     Age population, age 11, female, interpolated\n",
              "SP.POP.AG11.MA.IN     Age population, age 11, male, interpolated\n",
              "SP.POP.AG12.FE.IN     Age population, age 12, female, interpolated\n",
              "SP.POP.AG12.MA.IN     Age population, age 12, male, interpolated\n",
              "SP.POP.AG13.FE.IN     Age population, age 13, female, interpolated\n",
              "SP.POP.AG13.MA.IN     Age population, age 13, male, interpolated\n",
              "SP.POP.AG14.FE.IN     Age population, age 14, female, interpolated\n",
              "SP.POP.AG14.MA.IN     Age population, age 14, male, interpolated\n",
              "SP.POP.AG15.FE.IN     Age population, age 15, female, interpolated\n",
              "SP.POP.AG15.MA.IN     Age population, age 15, male, interpolated\n",
              "SP.POP.AG16.FE.IN     Age population, age 16, female, interpolated\n",
              "SP.POP.AG16.MA.IN     Age population, age 16, male, interpolated\n",
              "SP.POP.AG17.FE.IN     Age population, age 17, female, interpolated\n",
              "SP.POP.AG17.MA.IN     Age population, age 17, male, interpolated\n",
              "SP.POP.AG18.FE.IN     Age population, age 18, female, interpolated\n",
              "SP.POP.AG18.MA.IN     Age population, age 18, male, interpolated\n",
              "SP.POP.AG19.FE.IN     Age population, age 19, female, interpolated\n",
              "SP.POP.AG19.MA.IN     Age population, age 19, male, interpolated\n",
              "SP.POP.AG20.FE.IN     Age population, age 20, female, interpolated\n",
              "SP.POP.AG20.MA.IN     Age population, age 20, male, interpolated\n",
              "SP.POP.AG21.FE.IN     Age population, age 21, female, interpolated\n",
              "SP.POP.AG21.MA.IN     Age population, age 21, male, interpolated\n",
              "SP.POP.AG22.FE.IN     Age population, age 22, female, interpolated\n",
              "SP.POP.AG22.MA.IN     Age population, age 22, male, interpolated\n",
              "SP.POP.AG23.FE.IN     Age population, age 23, female, interpolated\n",
              "SP.POP.AG23.MA.IN     Age population, age 23, male, interpolated\n",
              "SP.POP.AG24.FE.IN     Age population, age 24, female, interpolated\n",
              "SP.POP.AG24.MA.IN     Age population, age 24, male, interpolated\n",
              "SP.POP.AG25.FE.IN     Age population, age 25, female, interpolated\n",
              "SP.POP.AG25.MA.IN     Age population, age 25, male, interpolated\n",
              "SP.POP.BRTH.MF        Sex ratio at birth (male births per female births)\n",
              "SP.POP.DPND           Age dependency ratio (% of working-age population)\n",
              "SP.POP.DPND.OL        Age dependency ratio, old (% of working-age population)\n",
              "SP.POP.DPND.YG        Age dependency ratio, young (% of working-age population)\n",
              "SP.POP.GROW           Population growth (annual %)\n",
              "SP.POP.TOTL           Population, total\n",
              "SP.POP.TOTL.FE.IN     Population, female\n",
              "SP.POP.TOTL.FE.ZS     Population, female (% of total population)\n",
              "SP.POP.TOTL.MA.IN     Population, male\n",
              "SP.POP.TOTL.MA.ZS     Population, male (% of total population)\n",
              "SP.REG.BRTH.FE.ZS     Completeness of birth registration, female (%)\n",
              "SP.REG.BRTH.MA.ZS     Completeness of birth registration, male (%)\n",
              "SP.REG.BRTH.RU.ZS     Completeness of birth registration, rural (%)\n",
              "SP.REG.BRTH.UR.ZS     Completeness of birth registration, urban (%)\n",
              "SP.REG.BRTH.ZS        Completeness of birth registration (%)\n",
              "SP.REG.DTHS.ZS        Completeness of death registration with cause-of-death information (%)\n",
              "SP.RUR.TOTL           Rural population\n",
              "SP.RUR.TOTL.ZG        Rural population growth (annual %)\n",
              "SP.RUR.TOTL.ZS        Rural population (% of total population)\n",
              "SP.URB.GROW           Urban population growth (annual %)\n",
              "SP.URB.TOTL           Urban population\n",
              "SP.URB.TOTL.IN.ZS     Urban population (% of total population)\n",
              "SP.UWT.TFRT           Unmet need for contraception (% of married women ages 15-49)"
            ]
          },
          "execution_count": 6,
          "metadata": {},
          "output_type": "execute_result"
        }
      ],
      "source": [
        "# SOURCE = 40 # \"Population estimates and projections\n",
        "\n",
        "SOURCE = 16 # \"Health Nutrition and Population\n",
        "\n",
        "\n",
        "indicators = wbdata.get_indicator(source=SOURCE)\n",
        "indicators"
      ]
    },
    {
      "cell_type": "markdown",
      "metadata": {},
      "source": [
        "##### Getting Population Over Time\n",
        "\n"
      ]
    },
    {
      "cell_type": "markdown",
      "metadata": {},
      "source": [
        "Let&rsquo;s get data on the global population and see how it has changed over\n",
        " time. The variable `SP.POP.TOTL` seems like a reasonable place to\n",
        " start.  \n",
        "\n",
        "We want to get a `pandas.DataFrame` of total population:\n",
        "\n"
      ]
    },
    {
      "cell_type": "code",
      "execution_count": 7,
      "metadata": {},
      "outputs": [
        {
          "data": {
            "text/html": [
              "<div>\n",
              "<style scoped>\n",
              "    .dataframe tbody tr th:only-of-type {\n",
              "        vertical-align: middle;\n",
              "    }\n",
              "\n",
              "    .dataframe tbody tr th {\n",
              "        vertical-align: top;\n",
              "    }\n",
              "\n",
              "    .dataframe thead th {\n",
              "        text-align: right;\n",
              "    }\n",
              "</style>\n",
              "<table border=\"1\" class=\"dataframe\">\n",
              "  <thead>\n",
              "    <tr style=\"text-align: right;\">\n",
              "      <th></th>\n",
              "      <th>World Population</th>\n",
              "    </tr>\n",
              "    <tr>\n",
              "      <th>date</th>\n",
              "      <th></th>\n",
              "    </tr>\n",
              "  </thead>\n",
              "  <tbody>\n",
              "    <tr>\n",
              "      <th>2022</th>\n",
              "      <td>7.950947e+09</td>\n",
              "    </tr>\n",
              "    <tr>\n",
              "      <th>2021</th>\n",
              "      <td>7.888306e+09</td>\n",
              "    </tr>\n",
              "    <tr>\n",
              "      <th>2020</th>\n",
              "      <td>7.820206e+09</td>\n",
              "    </tr>\n",
              "    <tr>\n",
              "      <th>2019</th>\n",
              "      <td>7.741775e+09</td>\n",
              "    </tr>\n",
              "    <tr>\n",
              "      <th>2018</th>\n",
              "      <td>7.660371e+09</td>\n",
              "    </tr>\n",
              "  </tbody>\n",
              "</table>\n",
              "</div>"
            ],
            "text/plain": [
              "      World Population\n",
              "date                  \n",
              "2022      7.950947e+09\n",
              "2021      7.888306e+09\n",
              "2020      7.820206e+09\n",
              "2019      7.741775e+09\n",
              "2018      7.660371e+09"
            ]
          },
          "execution_count": 7,
          "metadata": {},
          "output_type": "execute_result"
        }
      ],
      "source": [
        "# Give variable for clarity\n",
        "variable_labels = {\"SP.POP.TOTL\":\"World Population\"}\n",
        "\n",
        "world = wbdata.get_dataframe(variable_labels, country=\"WLD\")\n",
        "\n",
        "# Date index is of type string; change to integers\n",
        "world.index = world.index.astype(int)\n",
        "\n",
        "# Print a few years' data\n",
        "world.head()"
      ]
    },
    {
      "cell_type": "markdown",
      "metadata": {},
      "source": [
        "### Plotting Data\n",
        "\n"
      ]
    },
    {
      "cell_type": "markdown",
      "metadata": {},
      "source": [
        "##### Plotting data from pandas.DataFrame\n",
        "\n"
      ]
    },
    {
      "cell_type": "markdown",
      "metadata": {},
      "source": [
        "Let&rsquo;s make a time-series plot of global population.  We&rsquo;ll use the\n",
        " `plot.ly` `cufflinks` module, which integrates with `pandas`.  Here&rsquo;s two lines to set up the plotting environment:\n",
        "\n"
      ]
    },
    {
      "cell_type": "code",
      "execution_count": 6,
      "metadata": {},
      "outputs": [
        {
          "name": "stdout",
          "output_type": "stream",
          "text": [
            "Requirement already satisfied: cufflinks in /Users/christophernicholas/src/EEP153/EEP153_Materials/.venv/lib/python3.8/site-packages (0.17.3)\n",
            "Requirement already satisfied: numpy>=1.9.2 in /Users/christophernicholas/src/EEP153/EEP153_Materials/.venv/lib/python3.8/site-packages (from cufflinks) (1.24.4)\n",
            "Requirement already satisfied: pandas>=0.19.2 in /Users/christophernicholas/src/EEP153/EEP153_Materials/.venv/lib/python3.8/site-packages (from cufflinks) (2.0.3)\n",
            "Requirement already satisfied: plotly>=4.1.1 in /Users/christophernicholas/src/EEP153/EEP153_Materials/.venv/lib/python3.8/site-packages (from cufflinks) (5.18.0)\n",
            "Requirement already satisfied: six>=1.9.0 in /Users/christophernicholas/src/EEP153/EEP153_Materials/.venv/lib/python3.8/site-packages (from cufflinks) (1.16.0)\n",
            "Requirement already satisfied: colorlover>=0.2.1 in /Users/christophernicholas/src/EEP153/EEP153_Materials/.venv/lib/python3.8/site-packages (from cufflinks) (0.3.0)\n",
            "Requirement already satisfied: setuptools>=34.4.1 in /Users/christophernicholas/src/EEP153/EEP153_Materials/.venv/lib/python3.8/site-packages (from cufflinks) (41.2.0)\n",
            "Requirement already satisfied: ipython>=5.3.0 in /Users/christophernicholas/src/EEP153/EEP153_Materials/.venv/lib/python3.8/site-packages (from cufflinks) (8.12.3)\n",
            "Requirement already satisfied: ipywidgets>=7.0.0 in /Users/christophernicholas/src/EEP153/EEP153_Materials/.venv/lib/python3.8/site-packages (from cufflinks) (8.1.1)\n",
            "Requirement already satisfied: backcall in /Users/christophernicholas/src/EEP153/EEP153_Materials/.venv/lib/python3.8/site-packages (from ipython>=5.3.0->cufflinks) (0.2.0)\n",
            "Requirement already satisfied: decorator in /Users/christophernicholas/src/EEP153/EEP153_Materials/.venv/lib/python3.8/site-packages (from ipython>=5.3.0->cufflinks) (5.1.1)\n",
            "Requirement already satisfied: jedi>=0.16 in /Users/christophernicholas/src/EEP153/EEP153_Materials/.venv/lib/python3.8/site-packages (from ipython>=5.3.0->cufflinks) (0.19.1)\n",
            "Requirement already satisfied: matplotlib-inline in /Users/christophernicholas/src/EEP153/EEP153_Materials/.venv/lib/python3.8/site-packages (from ipython>=5.3.0->cufflinks) (0.1.6)\n",
            "Requirement already satisfied: pickleshare in /Users/christophernicholas/src/EEP153/EEP153_Materials/.venv/lib/python3.8/site-packages (from ipython>=5.3.0->cufflinks) (0.7.5)\n",
            "Requirement already satisfied: prompt-toolkit!=3.0.37,<3.1.0,>=3.0.30 in /Users/christophernicholas/src/EEP153/EEP153_Materials/.venv/lib/python3.8/site-packages (from ipython>=5.3.0->cufflinks) (3.0.43)\n",
            "Requirement already satisfied: pygments>=2.4.0 in /Users/christophernicholas/src/EEP153/EEP153_Materials/.venv/lib/python3.8/site-packages (from ipython>=5.3.0->cufflinks) (2.17.2)\n",
            "Requirement already satisfied: stack-data in /Users/christophernicholas/src/EEP153/EEP153_Materials/.venv/lib/python3.8/site-packages (from ipython>=5.3.0->cufflinks) (0.6.3)\n",
            "Requirement already satisfied: traitlets>=5 in /Users/christophernicholas/src/EEP153/EEP153_Materials/.venv/lib/python3.8/site-packages (from ipython>=5.3.0->cufflinks) (5.14.1)\n",
            "Requirement already satisfied: typing-extensions in /Users/christophernicholas/src/EEP153/EEP153_Materials/.venv/lib/python3.8/site-packages (from ipython>=5.3.0->cufflinks) (4.9.0)\n",
            "Requirement already satisfied: pexpect>4.3 in /Users/christophernicholas/src/EEP153/EEP153_Materials/.venv/lib/python3.8/site-packages (from ipython>=5.3.0->cufflinks) (4.9.0)\n",
            "Requirement already satisfied: appnope in /Users/christophernicholas/src/EEP153/EEP153_Materials/.venv/lib/python3.8/site-packages (from ipython>=5.3.0->cufflinks) (0.1.3)\n",
            "Requirement already satisfied: comm>=0.1.3 in /Users/christophernicholas/src/EEP153/EEP153_Materials/.venv/lib/python3.8/site-packages (from ipywidgets>=7.0.0->cufflinks) (0.2.1)\n",
            "Requirement already satisfied: widgetsnbextension~=4.0.9 in /Users/christophernicholas/src/EEP153/EEP153_Materials/.venv/lib/python3.8/site-packages (from ipywidgets>=7.0.0->cufflinks) (4.0.9)\n",
            "Requirement already satisfied: jupyterlab-widgets~=3.0.9 in /Users/christophernicholas/src/EEP153/EEP153_Materials/.venv/lib/python3.8/site-packages (from ipywidgets>=7.0.0->cufflinks) (3.0.9)\n",
            "Requirement already satisfied: python-dateutil>=2.8.2 in /Users/christophernicholas/src/EEP153/EEP153_Materials/.venv/lib/python3.8/site-packages (from pandas>=0.19.2->cufflinks) (2.8.2)\n",
            "Requirement already satisfied: pytz>=2020.1 in /Users/christophernicholas/src/EEP153/EEP153_Materials/.venv/lib/python3.8/site-packages (from pandas>=0.19.2->cufflinks) (2023.3.post1)\n",
            "Requirement already satisfied: tzdata>=2022.1 in /Users/christophernicholas/src/EEP153/EEP153_Materials/.venv/lib/python3.8/site-packages (from pandas>=0.19.2->cufflinks) (2023.4)\n",
            "Requirement already satisfied: tenacity>=6.2.0 in /Users/christophernicholas/src/EEP153/EEP153_Materials/.venv/lib/python3.8/site-packages (from plotly>=4.1.1->cufflinks) (8.2.3)\n",
            "Requirement already satisfied: packaging in /Users/christophernicholas/src/EEP153/EEP153_Materials/.venv/lib/python3.8/site-packages (from plotly>=4.1.1->cufflinks) (23.2)\n",
            "Requirement already satisfied: parso<0.9.0,>=0.8.3 in /Users/christophernicholas/src/EEP153/EEP153_Materials/.venv/lib/python3.8/site-packages (from jedi>=0.16->ipython>=5.3.0->cufflinks) (0.8.3)\n",
            "Requirement already satisfied: ptyprocess>=0.5 in /Users/christophernicholas/src/EEP153/EEP153_Materials/.venv/lib/python3.8/site-packages (from pexpect>4.3->ipython>=5.3.0->cufflinks) (0.7.0)\n",
            "Requirement already satisfied: wcwidth in /Users/christophernicholas/src/EEP153/EEP153_Materials/.venv/lib/python3.8/site-packages (from prompt-toolkit!=3.0.37,<3.1.0,>=3.0.30->ipython>=5.3.0->cufflinks) (0.2.13)\n",
            "Requirement already satisfied: executing>=1.2.0 in /Users/christophernicholas/src/EEP153/EEP153_Materials/.venv/lib/python3.8/site-packages (from stack-data->ipython>=5.3.0->cufflinks) (2.0.1)\n",
            "Requirement already satisfied: asttokens>=2.1.0 in /Users/christophernicholas/src/EEP153/EEP153_Materials/.venv/lib/python3.8/site-packages (from stack-data->ipython>=5.3.0->cufflinks) (2.4.1)\n",
            "Requirement already satisfied: pure-eval in /Users/christophernicholas/src/EEP153/EEP153_Materials/.venv/lib/python3.8/site-packages (from stack-data->ipython>=5.3.0->cufflinks) (0.2.2)\n",
            "Note: you may need to restart the kernel to use updated packages.\n"
          ]
        },
        {
          "data": {
            "text/html": [
              "        <script type=\"text/javascript\">\n",
              "        window.PlotlyConfig = {MathJaxConfig: 'local'};\n",
              "        if (window.MathJax && window.MathJax.Hub && window.MathJax.Hub.Config) {window.MathJax.Hub.Config({SVG: {font: \"STIX-Web\"}});}\n",
              "        if (typeof require !== 'undefined') {\n",
              "        require.undef(\"plotly\");\n",
              "        requirejs.config({\n",
              "            paths: {\n",
              "                'plotly': ['https://cdn.plot.ly/plotly-2.27.0.min']\n",
              "            }\n",
              "        });\n",
              "        require(['plotly'], function(Plotly) {\n",
              "            window._Plotly = Plotly;\n",
              "        });\n",
              "        }\n",
              "        </script>\n",
              "        "
            ]
          },
          "metadata": {},
          "output_type": "display_data"
        }
      ],
      "source": [
        "%pip install cufflinks # IF NECESSARY\n",
        "import cufflinks as cf\n",
        "cf.go_offline()\n",
        "# cf.go_online()"
      ]
    },
    {
      "cell_type": "markdown",
      "metadata": {},
      "source": [
        "##### Plotting Global Population Over time\n",
        "\n"
      ]
    },
    {
      "cell_type": "markdown",
      "metadata": {},
      "source": [
        "With that done, after we have a DataFrame making a plot is just one\n",
        " line of code:\n",
        "\n"
      ]
    },
    {
      "cell_type": "code",
      "execution_count": 7,
      "metadata": {},
      "outputs": [
        {
          "data": {
            "application/vnd.plotly.v1+json": {
              "config": {
                "linkText": "Export to plot.ly",
                "plotlyServerURL": "https://plot.ly",
                "showLink": true
              },
              "data": [
                {
                  "line": {
                    "color": "rgba(255, 153, 51, 1.0)",
                    "dash": "solid",
                    "shape": "linear",
                    "width": 1.3
                  },
                  "mode": "lines",
                  "name": "World Population",
                  "text": "",
                  "type": "scatter",
                  "x": [
                    2022,
                    2021,
                    2020,
                    2019,
                    2018,
                    2017,
                    2016,
                    2015,
                    2014,
                    2013,
                    2012,
                    2011,
                    2010,
                    2009,
                    2008,
                    2007,
                    2006,
                    2005,
                    2004,
                    2003,
                    2002,
                    2001,
                    2000,
                    1999,
                    1998,
                    1997,
                    1996,
                    1995,
                    1994,
                    1993,
                    1992,
                    1991,
                    1990,
                    1989,
                    1988,
                    1987,
                    1986,
                    1985,
                    1984,
                    1983,
                    1982,
                    1981,
                    1980,
                    1979,
                    1978,
                    1977,
                    1976,
                    1975,
                    1974,
                    1973,
                    1972,
                    1971,
                    1970,
                    1969,
                    1968,
                    1967,
                    1966,
                    1965,
                    1964,
                    1963,
                    1962,
                    1961,
                    1960
                  ],
                  "y": [
                    7950946801,
                    7888305693,
                    7820205606,
                    7741774583,
                    7660371127,
                    7576441961,
                    7490415449,
                    7403850164,
                    7317040295,
                    7229303088,
                    7141386257,
                    7054044372,
                    6969985525,
                    6885663352,
                    6801440971,
                    6717567584,
                    6635110367,
                    6552700448,
                    6470924346,
                    6389462496,
                    6308140970,
                    6226348086,
                    6144321462,
                    6062288850,
                    5979726559,
                    5896055962,
                    5811580202,
                    5726736488,
                    5642046034,
                    5556623321,
                    5470164577,
                    5382536929,
                    5293395467,
                    5202582534,
                    5113387878,
                    5024289346,
                    4936006502,
                    4850076923,
                    4766640881,
                    4684875627,
                    4602701335,
                    4520917350,
                    4442348279,
                    4365742277,
                    4289795862,
                    4215826364,
                    4143091942,
                    4070022249,
                    3995888368,
                    3920017410,
                    3843607574,
                    3767930001,
                    3690209960,
                    3614572835,
                    3540164023,
                    3468370526,
                    3398480280,
                    3328209022,
                    3260441925,
                    3193428894,
                    3126849612,
                    3072421801,
                    3031474234
                  ]
                }
              ],
              "layout": {
                "legend": {
                  "bgcolor": "#F5F6F9",
                  "font": {
                    "color": "#4D5663"
                  }
                },
                "paper_bgcolor": "#F5F6F9",
                "plot_bgcolor": "#F5F6F9",
                "template": {
                  "data": {
                    "bar": [
                      {
                        "error_x": {
                          "color": "#2a3f5f"
                        },
                        "error_y": {
                          "color": "#2a3f5f"
                        },
                        "marker": {
                          "line": {
                            "color": "#E5ECF6",
                            "width": 0.5
                          },
                          "pattern": {
                            "fillmode": "overlay",
                            "size": 10,
                            "solidity": 0.2
                          }
                        },
                        "type": "bar"
                      }
                    ],
                    "barpolar": [
                      {
                        "marker": {
                          "line": {
                            "color": "#E5ECF6",
                            "width": 0.5
                          },
                          "pattern": {
                            "fillmode": "overlay",
                            "size": 10,
                            "solidity": 0.2
                          }
                        },
                        "type": "barpolar"
                      }
                    ],
                    "carpet": [
                      {
                        "aaxis": {
                          "endlinecolor": "#2a3f5f",
                          "gridcolor": "white",
                          "linecolor": "white",
                          "minorgridcolor": "white",
                          "startlinecolor": "#2a3f5f"
                        },
                        "baxis": {
                          "endlinecolor": "#2a3f5f",
                          "gridcolor": "white",
                          "linecolor": "white",
                          "minorgridcolor": "white",
                          "startlinecolor": "#2a3f5f"
                        },
                        "type": "carpet"
                      }
                    ],
                    "choropleth": [
                      {
                        "colorbar": {
                          "outlinewidth": 0,
                          "ticks": ""
                        },
                        "type": "choropleth"
                      }
                    ],
                    "contour": [
                      {
                        "colorbar": {
                          "outlinewidth": 0,
                          "ticks": ""
                        },
                        "colorscale": [
                          [
                            0,
                            "#0d0887"
                          ],
                          [
                            0.1111111111111111,
                            "#46039f"
                          ],
                          [
                            0.2222222222222222,
                            "#7201a8"
                          ],
                          [
                            0.3333333333333333,
                            "#9c179e"
                          ],
                          [
                            0.4444444444444444,
                            "#bd3786"
                          ],
                          [
                            0.5555555555555556,
                            "#d8576b"
                          ],
                          [
                            0.6666666666666666,
                            "#ed7953"
                          ],
                          [
                            0.7777777777777778,
                            "#fb9f3a"
                          ],
                          [
                            0.8888888888888888,
                            "#fdca26"
                          ],
                          [
                            1,
                            "#f0f921"
                          ]
                        ],
                        "type": "contour"
                      }
                    ],
                    "contourcarpet": [
                      {
                        "colorbar": {
                          "outlinewidth": 0,
                          "ticks": ""
                        },
                        "type": "contourcarpet"
                      }
                    ],
                    "heatmap": [
                      {
                        "colorbar": {
                          "outlinewidth": 0,
                          "ticks": ""
                        },
                        "colorscale": [
                          [
                            0,
                            "#0d0887"
                          ],
                          [
                            0.1111111111111111,
                            "#46039f"
                          ],
                          [
                            0.2222222222222222,
                            "#7201a8"
                          ],
                          [
                            0.3333333333333333,
                            "#9c179e"
                          ],
                          [
                            0.4444444444444444,
                            "#bd3786"
                          ],
                          [
                            0.5555555555555556,
                            "#d8576b"
                          ],
                          [
                            0.6666666666666666,
                            "#ed7953"
                          ],
                          [
                            0.7777777777777778,
                            "#fb9f3a"
                          ],
                          [
                            0.8888888888888888,
                            "#fdca26"
                          ],
                          [
                            1,
                            "#f0f921"
                          ]
                        ],
                        "type": "heatmap"
                      }
                    ],
                    "heatmapgl": [
                      {
                        "colorbar": {
                          "outlinewidth": 0,
                          "ticks": ""
                        },
                        "colorscale": [
                          [
                            0,
                            "#0d0887"
                          ],
                          [
                            0.1111111111111111,
                            "#46039f"
                          ],
                          [
                            0.2222222222222222,
                            "#7201a8"
                          ],
                          [
                            0.3333333333333333,
                            "#9c179e"
                          ],
                          [
                            0.4444444444444444,
                            "#bd3786"
                          ],
                          [
                            0.5555555555555556,
                            "#d8576b"
                          ],
                          [
                            0.6666666666666666,
                            "#ed7953"
                          ],
                          [
                            0.7777777777777778,
                            "#fb9f3a"
                          ],
                          [
                            0.8888888888888888,
                            "#fdca26"
                          ],
                          [
                            1,
                            "#f0f921"
                          ]
                        ],
                        "type": "heatmapgl"
                      }
                    ],
                    "histogram": [
                      {
                        "marker": {
                          "pattern": {
                            "fillmode": "overlay",
                            "size": 10,
                            "solidity": 0.2
                          }
                        },
                        "type": "histogram"
                      }
                    ],
                    "histogram2d": [
                      {
                        "colorbar": {
                          "outlinewidth": 0,
                          "ticks": ""
                        },
                        "colorscale": [
                          [
                            0,
                            "#0d0887"
                          ],
                          [
                            0.1111111111111111,
                            "#46039f"
                          ],
                          [
                            0.2222222222222222,
                            "#7201a8"
                          ],
                          [
                            0.3333333333333333,
                            "#9c179e"
                          ],
                          [
                            0.4444444444444444,
                            "#bd3786"
                          ],
                          [
                            0.5555555555555556,
                            "#d8576b"
                          ],
                          [
                            0.6666666666666666,
                            "#ed7953"
                          ],
                          [
                            0.7777777777777778,
                            "#fb9f3a"
                          ],
                          [
                            0.8888888888888888,
                            "#fdca26"
                          ],
                          [
                            1,
                            "#f0f921"
                          ]
                        ],
                        "type": "histogram2d"
                      }
                    ],
                    "histogram2dcontour": [
                      {
                        "colorbar": {
                          "outlinewidth": 0,
                          "ticks": ""
                        },
                        "colorscale": [
                          [
                            0,
                            "#0d0887"
                          ],
                          [
                            0.1111111111111111,
                            "#46039f"
                          ],
                          [
                            0.2222222222222222,
                            "#7201a8"
                          ],
                          [
                            0.3333333333333333,
                            "#9c179e"
                          ],
                          [
                            0.4444444444444444,
                            "#bd3786"
                          ],
                          [
                            0.5555555555555556,
                            "#d8576b"
                          ],
                          [
                            0.6666666666666666,
                            "#ed7953"
                          ],
                          [
                            0.7777777777777778,
                            "#fb9f3a"
                          ],
                          [
                            0.8888888888888888,
                            "#fdca26"
                          ],
                          [
                            1,
                            "#f0f921"
                          ]
                        ],
                        "type": "histogram2dcontour"
                      }
                    ],
                    "mesh3d": [
                      {
                        "colorbar": {
                          "outlinewidth": 0,
                          "ticks": ""
                        },
                        "type": "mesh3d"
                      }
                    ],
                    "parcoords": [
                      {
                        "line": {
                          "colorbar": {
                            "outlinewidth": 0,
                            "ticks": ""
                          }
                        },
                        "type": "parcoords"
                      }
                    ],
                    "pie": [
                      {
                        "automargin": true,
                        "type": "pie"
                      }
                    ],
                    "scatter": [
                      {
                        "fillpattern": {
                          "fillmode": "overlay",
                          "size": 10,
                          "solidity": 0.2
                        },
                        "type": "scatter"
                      }
                    ],
                    "scatter3d": [
                      {
                        "line": {
                          "colorbar": {
                            "outlinewidth": 0,
                            "ticks": ""
                          }
                        },
                        "marker": {
                          "colorbar": {
                            "outlinewidth": 0,
                            "ticks": ""
                          }
                        },
                        "type": "scatter3d"
                      }
                    ],
                    "scattercarpet": [
                      {
                        "marker": {
                          "colorbar": {
                            "outlinewidth": 0,
                            "ticks": ""
                          }
                        },
                        "type": "scattercarpet"
                      }
                    ],
                    "scattergeo": [
                      {
                        "marker": {
                          "colorbar": {
                            "outlinewidth": 0,
                            "ticks": ""
                          }
                        },
                        "type": "scattergeo"
                      }
                    ],
                    "scattergl": [
                      {
                        "marker": {
                          "colorbar": {
                            "outlinewidth": 0,
                            "ticks": ""
                          }
                        },
                        "type": "scattergl"
                      }
                    ],
                    "scattermapbox": [
                      {
                        "marker": {
                          "colorbar": {
                            "outlinewidth": 0,
                            "ticks": ""
                          }
                        },
                        "type": "scattermapbox"
                      }
                    ],
                    "scatterpolar": [
                      {
                        "marker": {
                          "colorbar": {
                            "outlinewidth": 0,
                            "ticks": ""
                          }
                        },
                        "type": "scatterpolar"
                      }
                    ],
                    "scatterpolargl": [
                      {
                        "marker": {
                          "colorbar": {
                            "outlinewidth": 0,
                            "ticks": ""
                          }
                        },
                        "type": "scatterpolargl"
                      }
                    ],
                    "scatterternary": [
                      {
                        "marker": {
                          "colorbar": {
                            "outlinewidth": 0,
                            "ticks": ""
                          }
                        },
                        "type": "scatterternary"
                      }
                    ],
                    "surface": [
                      {
                        "colorbar": {
                          "outlinewidth": 0,
                          "ticks": ""
                        },
                        "colorscale": [
                          [
                            0,
                            "#0d0887"
                          ],
                          [
                            0.1111111111111111,
                            "#46039f"
                          ],
                          [
                            0.2222222222222222,
                            "#7201a8"
                          ],
                          [
                            0.3333333333333333,
                            "#9c179e"
                          ],
                          [
                            0.4444444444444444,
                            "#bd3786"
                          ],
                          [
                            0.5555555555555556,
                            "#d8576b"
                          ],
                          [
                            0.6666666666666666,
                            "#ed7953"
                          ],
                          [
                            0.7777777777777778,
                            "#fb9f3a"
                          ],
                          [
                            0.8888888888888888,
                            "#fdca26"
                          ],
                          [
                            1,
                            "#f0f921"
                          ]
                        ],
                        "type": "surface"
                      }
                    ],
                    "table": [
                      {
                        "cells": {
                          "fill": {
                            "color": "#EBF0F8"
                          },
                          "line": {
                            "color": "white"
                          }
                        },
                        "header": {
                          "fill": {
                            "color": "#C8D4E3"
                          },
                          "line": {
                            "color": "white"
                          }
                        },
                        "type": "table"
                      }
                    ]
                  },
                  "layout": {
                    "annotationdefaults": {
                      "arrowcolor": "#2a3f5f",
                      "arrowhead": 0,
                      "arrowwidth": 1
                    },
                    "autotypenumbers": "strict",
                    "coloraxis": {
                      "colorbar": {
                        "outlinewidth": 0,
                        "ticks": ""
                      }
                    },
                    "colorscale": {
                      "diverging": [
                        [
                          0,
                          "#8e0152"
                        ],
                        [
                          0.1,
                          "#c51b7d"
                        ],
                        [
                          0.2,
                          "#de77ae"
                        ],
                        [
                          0.3,
                          "#f1b6da"
                        ],
                        [
                          0.4,
                          "#fde0ef"
                        ],
                        [
                          0.5,
                          "#f7f7f7"
                        ],
                        [
                          0.6,
                          "#e6f5d0"
                        ],
                        [
                          0.7,
                          "#b8e186"
                        ],
                        [
                          0.8,
                          "#7fbc41"
                        ],
                        [
                          0.9,
                          "#4d9221"
                        ],
                        [
                          1,
                          "#276419"
                        ]
                      ],
                      "sequential": [
                        [
                          0,
                          "#0d0887"
                        ],
                        [
                          0.1111111111111111,
                          "#46039f"
                        ],
                        [
                          0.2222222222222222,
                          "#7201a8"
                        ],
                        [
                          0.3333333333333333,
                          "#9c179e"
                        ],
                        [
                          0.4444444444444444,
                          "#bd3786"
                        ],
                        [
                          0.5555555555555556,
                          "#d8576b"
                        ],
                        [
                          0.6666666666666666,
                          "#ed7953"
                        ],
                        [
                          0.7777777777777778,
                          "#fb9f3a"
                        ],
                        [
                          0.8888888888888888,
                          "#fdca26"
                        ],
                        [
                          1,
                          "#f0f921"
                        ]
                      ],
                      "sequentialminus": [
                        [
                          0,
                          "#0d0887"
                        ],
                        [
                          0.1111111111111111,
                          "#46039f"
                        ],
                        [
                          0.2222222222222222,
                          "#7201a8"
                        ],
                        [
                          0.3333333333333333,
                          "#9c179e"
                        ],
                        [
                          0.4444444444444444,
                          "#bd3786"
                        ],
                        [
                          0.5555555555555556,
                          "#d8576b"
                        ],
                        [
                          0.6666666666666666,
                          "#ed7953"
                        ],
                        [
                          0.7777777777777778,
                          "#fb9f3a"
                        ],
                        [
                          0.8888888888888888,
                          "#fdca26"
                        ],
                        [
                          1,
                          "#f0f921"
                        ]
                      ]
                    },
                    "colorway": [
                      "#636efa",
                      "#EF553B",
                      "#00cc96",
                      "#ab63fa",
                      "#FFA15A",
                      "#19d3f3",
                      "#FF6692",
                      "#B6E880",
                      "#FF97FF",
                      "#FECB52"
                    ],
                    "font": {
                      "color": "#2a3f5f"
                    },
                    "geo": {
                      "bgcolor": "white",
                      "lakecolor": "white",
                      "landcolor": "#E5ECF6",
                      "showlakes": true,
                      "showland": true,
                      "subunitcolor": "white"
                    },
                    "hoverlabel": {
                      "align": "left"
                    },
                    "hovermode": "closest",
                    "mapbox": {
                      "style": "light"
                    },
                    "paper_bgcolor": "white",
                    "plot_bgcolor": "#E5ECF6",
                    "polar": {
                      "angularaxis": {
                        "gridcolor": "white",
                        "linecolor": "white",
                        "ticks": ""
                      },
                      "bgcolor": "#E5ECF6",
                      "radialaxis": {
                        "gridcolor": "white",
                        "linecolor": "white",
                        "ticks": ""
                      }
                    },
                    "scene": {
                      "xaxis": {
                        "backgroundcolor": "#E5ECF6",
                        "gridcolor": "white",
                        "gridwidth": 2,
                        "linecolor": "white",
                        "showbackground": true,
                        "ticks": "",
                        "zerolinecolor": "white"
                      },
                      "yaxis": {
                        "backgroundcolor": "#E5ECF6",
                        "gridcolor": "white",
                        "gridwidth": 2,
                        "linecolor": "white",
                        "showbackground": true,
                        "ticks": "",
                        "zerolinecolor": "white"
                      },
                      "zaxis": {
                        "backgroundcolor": "#E5ECF6",
                        "gridcolor": "white",
                        "gridwidth": 2,
                        "linecolor": "white",
                        "showbackground": true,
                        "ticks": "",
                        "zerolinecolor": "white"
                      }
                    },
                    "shapedefaults": {
                      "line": {
                        "color": "#2a3f5f"
                      }
                    },
                    "ternary": {
                      "aaxis": {
                        "gridcolor": "white",
                        "linecolor": "white",
                        "ticks": ""
                      },
                      "baxis": {
                        "gridcolor": "white",
                        "linecolor": "white",
                        "ticks": ""
                      },
                      "bgcolor": "#E5ECF6",
                      "caxis": {
                        "gridcolor": "white",
                        "linecolor": "white",
                        "ticks": ""
                      }
                    },
                    "title": {
                      "x": 0.05
                    },
                    "xaxis": {
                      "automargin": true,
                      "gridcolor": "white",
                      "linecolor": "white",
                      "ticks": "",
                      "title": {
                        "standoff": 15
                      },
                      "zerolinecolor": "white",
                      "zerolinewidth": 2
                    },
                    "yaxis": {
                      "automargin": true,
                      "gridcolor": "white",
                      "linecolor": "white",
                      "ticks": "",
                      "title": {
                        "standoff": 15
                      },
                      "zerolinecolor": "white",
                      "zerolinewidth": 2
                    }
                  }
                },
                "title": {
                  "font": {
                    "color": "#4D5663"
                  },
                  "text": "Fact I: Growth Rates Falling over Time"
                },
                "xaxis": {
                  "gridcolor": "#E1E5ED",
                  "showgrid": true,
                  "tickfont": {
                    "color": "#4D5663"
                  },
                  "title": {
                    "font": {
                      "color": "#4D5663"
                    },
                    "text": "Year"
                  },
                  "zerolinecolor": "#E1E5ED"
                },
                "yaxis": {
                  "gridcolor": "#E1E5ED",
                  "showgrid": true,
                  "tickfont": {
                    "color": "#4D5663"
                  },
                  "title": {
                    "font": {
                      "color": "#4D5663"
                    },
                    "text": "Population"
                  },
                  "zerolinecolor": "#E1E5ED"
                }
              }
            },
            "text/html": [
              "<div>                            <div id=\"879c0482-72f0-4865-97c7-73839fa86d10\" class=\"plotly-graph-div\" style=\"height:525px; width:100%;\"></div>            <script type=\"text/javascript\">                require([\"plotly\"], function(Plotly) {                    window.PLOTLYENV=window.PLOTLYENV || {};\n",
              "                    window.PLOTLYENV.BASE_URL='https://plot.ly';                                    if (document.getElementById(\"879c0482-72f0-4865-97c7-73839fa86d10\")) {                    Plotly.newPlot(                        \"879c0482-72f0-4865-97c7-73839fa86d10\",                        [{\"line\":{\"color\":\"rgba(255, 153, 51, 1.0)\",\"dash\":\"solid\",\"shape\":\"linear\",\"width\":1.3},\"mode\":\"lines\",\"name\":\"World Population\",\"text\":\"\",\"x\":[2022,2021,2020,2019,2018,2017,2016,2015,2014,2013,2012,2011,2010,2009,2008,2007,2006,2005,2004,2003,2002,2001,2000,1999,1998,1997,1996,1995,1994,1993,1992,1991,1990,1989,1988,1987,1986,1985,1984,1983,1982,1981,1980,1979,1978,1977,1976,1975,1974,1973,1972,1971,1970,1969,1968,1967,1966,1965,1964,1963,1962,1961,1960],\"y\":[7950946801.0,7888305693.0,7820205606.0,7741774583.0,7660371127.0,7576441961.0,7490415449.0,7403850164.0,7317040295.0,7229303088.0,7141386257.0,7054044372.0,6969985525.0,6885663352.0,6801440971.0,6717567584.0,6635110367.0,6552700448.0,6470924346.0,6389462496.0,6308140970.0,6226348086.0,6144321462.0,6062288850.0,5979726559.0,5896055962.0,5811580202.0,5726736488.0,5642046034.0,5556623321.0,5470164577.0,5382536929.0,5293395467.0,5202582534.0,5113387878.0,5024289346.0,4936006502.0,4850076923.0,4766640881.0,4684875627.0,4602701335.0,4520917350.0,4442348279.0,4365742277.0,4289795862.0,4215826364.0,4143091942.0,4070022249.0,3995888368.0,3920017410.0,3843607574.0,3767930001.0,3690209960.0,3614572835.0,3540164023.0,3468370526.0,3398480280.0,3328209022.0,3260441925.0,3193428894.0,3126849612.0,3072421801.0,3031474234.0],\"type\":\"scatter\"}],                        {\"legend\":{\"bgcolor\":\"#F5F6F9\",\"font\":{\"color\":\"#4D5663\"}},\"paper_bgcolor\":\"#F5F6F9\",\"plot_bgcolor\":\"#F5F6F9\",\"template\":{\"data\":{\"barpolar\":[{\"marker\":{\"line\":{\"color\":\"#E5ECF6\",\"width\":0.5},\"pattern\":{\"fillmode\":\"overlay\",\"size\":10,\"solidity\":0.2}},\"type\":\"barpolar\"}],\"bar\":[{\"error_x\":{\"color\":\"#2a3f5f\"},\"error_y\":{\"color\":\"#2a3f5f\"},\"marker\":{\"line\":{\"color\":\"#E5ECF6\",\"width\":0.5},\"pattern\":{\"fillmode\":\"overlay\",\"size\":10,\"solidity\":0.2}},\"type\":\"bar\"}],\"carpet\":[{\"aaxis\":{\"endlinecolor\":\"#2a3f5f\",\"gridcolor\":\"white\",\"linecolor\":\"white\",\"minorgridcolor\":\"white\",\"startlinecolor\":\"#2a3f5f\"},\"baxis\":{\"endlinecolor\":\"#2a3f5f\",\"gridcolor\":\"white\",\"linecolor\":\"white\",\"minorgridcolor\":\"white\",\"startlinecolor\":\"#2a3f5f\"},\"type\":\"carpet\"}],\"choropleth\":[{\"colorbar\":{\"outlinewidth\":0,\"ticks\":\"\"},\"type\":\"choropleth\"}],\"contourcarpet\":[{\"colorbar\":{\"outlinewidth\":0,\"ticks\":\"\"},\"type\":\"contourcarpet\"}],\"contour\":[{\"colorbar\":{\"outlinewidth\":0,\"ticks\":\"\"},\"colorscale\":[[0.0,\"#0d0887\"],[0.1111111111111111,\"#46039f\"],[0.2222222222222222,\"#7201a8\"],[0.3333333333333333,\"#9c179e\"],[0.4444444444444444,\"#bd3786\"],[0.5555555555555556,\"#d8576b\"],[0.6666666666666666,\"#ed7953\"],[0.7777777777777778,\"#fb9f3a\"],[0.8888888888888888,\"#fdca26\"],[1.0,\"#f0f921\"]],\"type\":\"contour\"}],\"heatmapgl\":[{\"colorbar\":{\"outlinewidth\":0,\"ticks\":\"\"},\"colorscale\":[[0.0,\"#0d0887\"],[0.1111111111111111,\"#46039f\"],[0.2222222222222222,\"#7201a8\"],[0.3333333333333333,\"#9c179e\"],[0.4444444444444444,\"#bd3786\"],[0.5555555555555556,\"#d8576b\"],[0.6666666666666666,\"#ed7953\"],[0.7777777777777778,\"#fb9f3a\"],[0.8888888888888888,\"#fdca26\"],[1.0,\"#f0f921\"]],\"type\":\"heatmapgl\"}],\"heatmap\":[{\"colorbar\":{\"outlinewidth\":0,\"ticks\":\"\"},\"colorscale\":[[0.0,\"#0d0887\"],[0.1111111111111111,\"#46039f\"],[0.2222222222222222,\"#7201a8\"],[0.3333333333333333,\"#9c179e\"],[0.4444444444444444,\"#bd3786\"],[0.5555555555555556,\"#d8576b\"],[0.6666666666666666,\"#ed7953\"],[0.7777777777777778,\"#fb9f3a\"],[0.8888888888888888,\"#fdca26\"],[1.0,\"#f0f921\"]],\"type\":\"heatmap\"}],\"histogram2dcontour\":[{\"colorbar\":{\"outlinewidth\":0,\"ticks\":\"\"},\"colorscale\":[[0.0,\"#0d0887\"],[0.1111111111111111,\"#46039f\"],[0.2222222222222222,\"#7201a8\"],[0.3333333333333333,\"#9c179e\"],[0.4444444444444444,\"#bd3786\"],[0.5555555555555556,\"#d8576b\"],[0.6666666666666666,\"#ed7953\"],[0.7777777777777778,\"#fb9f3a\"],[0.8888888888888888,\"#fdca26\"],[1.0,\"#f0f921\"]],\"type\":\"histogram2dcontour\"}],\"histogram2d\":[{\"colorbar\":{\"outlinewidth\":0,\"ticks\":\"\"},\"colorscale\":[[0.0,\"#0d0887\"],[0.1111111111111111,\"#46039f\"],[0.2222222222222222,\"#7201a8\"],[0.3333333333333333,\"#9c179e\"],[0.4444444444444444,\"#bd3786\"],[0.5555555555555556,\"#d8576b\"],[0.6666666666666666,\"#ed7953\"],[0.7777777777777778,\"#fb9f3a\"],[0.8888888888888888,\"#fdca26\"],[1.0,\"#f0f921\"]],\"type\":\"histogram2d\"}],\"histogram\":[{\"marker\":{\"pattern\":{\"fillmode\":\"overlay\",\"size\":10,\"solidity\":0.2}},\"type\":\"histogram\"}],\"mesh3d\":[{\"colorbar\":{\"outlinewidth\":0,\"ticks\":\"\"},\"type\":\"mesh3d\"}],\"parcoords\":[{\"line\":{\"colorbar\":{\"outlinewidth\":0,\"ticks\":\"\"}},\"type\":\"parcoords\"}],\"pie\":[{\"automargin\":true,\"type\":\"pie\"}],\"scatter3d\":[{\"line\":{\"colorbar\":{\"outlinewidth\":0,\"ticks\":\"\"}},\"marker\":{\"colorbar\":{\"outlinewidth\":0,\"ticks\":\"\"}},\"type\":\"scatter3d\"}],\"scattercarpet\":[{\"marker\":{\"colorbar\":{\"outlinewidth\":0,\"ticks\":\"\"}},\"type\":\"scattercarpet\"}],\"scattergeo\":[{\"marker\":{\"colorbar\":{\"outlinewidth\":0,\"ticks\":\"\"}},\"type\":\"scattergeo\"}],\"scattergl\":[{\"marker\":{\"colorbar\":{\"outlinewidth\":0,\"ticks\":\"\"}},\"type\":\"scattergl\"}],\"scattermapbox\":[{\"marker\":{\"colorbar\":{\"outlinewidth\":0,\"ticks\":\"\"}},\"type\":\"scattermapbox\"}],\"scatterpolargl\":[{\"marker\":{\"colorbar\":{\"outlinewidth\":0,\"ticks\":\"\"}},\"type\":\"scatterpolargl\"}],\"scatterpolar\":[{\"marker\":{\"colorbar\":{\"outlinewidth\":0,\"ticks\":\"\"}},\"type\":\"scatterpolar\"}],\"scatter\":[{\"fillpattern\":{\"fillmode\":\"overlay\",\"size\":10,\"solidity\":0.2},\"type\":\"scatter\"}],\"scatterternary\":[{\"marker\":{\"colorbar\":{\"outlinewidth\":0,\"ticks\":\"\"}},\"type\":\"scatterternary\"}],\"surface\":[{\"colorbar\":{\"outlinewidth\":0,\"ticks\":\"\"},\"colorscale\":[[0.0,\"#0d0887\"],[0.1111111111111111,\"#46039f\"],[0.2222222222222222,\"#7201a8\"],[0.3333333333333333,\"#9c179e\"],[0.4444444444444444,\"#bd3786\"],[0.5555555555555556,\"#d8576b\"],[0.6666666666666666,\"#ed7953\"],[0.7777777777777778,\"#fb9f3a\"],[0.8888888888888888,\"#fdca26\"],[1.0,\"#f0f921\"]],\"type\":\"surface\"}],\"table\":[{\"cells\":{\"fill\":{\"color\":\"#EBF0F8\"},\"line\":{\"color\":\"white\"}},\"header\":{\"fill\":{\"color\":\"#C8D4E3\"},\"line\":{\"color\":\"white\"}},\"type\":\"table\"}]},\"layout\":{\"annotationdefaults\":{\"arrowcolor\":\"#2a3f5f\",\"arrowhead\":0,\"arrowwidth\":1},\"autotypenumbers\":\"strict\",\"coloraxis\":{\"colorbar\":{\"outlinewidth\":0,\"ticks\":\"\"}},\"colorscale\":{\"diverging\":[[0,\"#8e0152\"],[0.1,\"#c51b7d\"],[0.2,\"#de77ae\"],[0.3,\"#f1b6da\"],[0.4,\"#fde0ef\"],[0.5,\"#f7f7f7\"],[0.6,\"#e6f5d0\"],[0.7,\"#b8e186\"],[0.8,\"#7fbc41\"],[0.9,\"#4d9221\"],[1,\"#276419\"]],\"sequential\":[[0.0,\"#0d0887\"],[0.1111111111111111,\"#46039f\"],[0.2222222222222222,\"#7201a8\"],[0.3333333333333333,\"#9c179e\"],[0.4444444444444444,\"#bd3786\"],[0.5555555555555556,\"#d8576b\"],[0.6666666666666666,\"#ed7953\"],[0.7777777777777778,\"#fb9f3a\"],[0.8888888888888888,\"#fdca26\"],[1.0,\"#f0f921\"]],\"sequentialminus\":[[0.0,\"#0d0887\"],[0.1111111111111111,\"#46039f\"],[0.2222222222222222,\"#7201a8\"],[0.3333333333333333,\"#9c179e\"],[0.4444444444444444,\"#bd3786\"],[0.5555555555555556,\"#d8576b\"],[0.6666666666666666,\"#ed7953\"],[0.7777777777777778,\"#fb9f3a\"],[0.8888888888888888,\"#fdca26\"],[1.0,\"#f0f921\"]]},\"colorway\":[\"#636efa\",\"#EF553B\",\"#00cc96\",\"#ab63fa\",\"#FFA15A\",\"#19d3f3\",\"#FF6692\",\"#B6E880\",\"#FF97FF\",\"#FECB52\"],\"font\":{\"color\":\"#2a3f5f\"},\"geo\":{\"bgcolor\":\"white\",\"lakecolor\":\"white\",\"landcolor\":\"#E5ECF6\",\"showlakes\":true,\"showland\":true,\"subunitcolor\":\"white\"},\"hoverlabel\":{\"align\":\"left\"},\"hovermode\":\"closest\",\"mapbox\":{\"style\":\"light\"},\"paper_bgcolor\":\"white\",\"plot_bgcolor\":\"#E5ECF6\",\"polar\":{\"angularaxis\":{\"gridcolor\":\"white\",\"linecolor\":\"white\",\"ticks\":\"\"},\"bgcolor\":\"#E5ECF6\",\"radialaxis\":{\"gridcolor\":\"white\",\"linecolor\":\"white\",\"ticks\":\"\"}},\"scene\":{\"xaxis\":{\"backgroundcolor\":\"#E5ECF6\",\"gridcolor\":\"white\",\"gridwidth\":2,\"linecolor\":\"white\",\"showbackground\":true,\"ticks\":\"\",\"zerolinecolor\":\"white\"},\"yaxis\":{\"backgroundcolor\":\"#E5ECF6\",\"gridcolor\":\"white\",\"gridwidth\":2,\"linecolor\":\"white\",\"showbackground\":true,\"ticks\":\"\",\"zerolinecolor\":\"white\"},\"zaxis\":{\"backgroundcolor\":\"#E5ECF6\",\"gridcolor\":\"white\",\"gridwidth\":2,\"linecolor\":\"white\",\"showbackground\":true,\"ticks\":\"\",\"zerolinecolor\":\"white\"}},\"shapedefaults\":{\"line\":{\"color\":\"#2a3f5f\"}},\"ternary\":{\"aaxis\":{\"gridcolor\":\"white\",\"linecolor\":\"white\",\"ticks\":\"\"},\"baxis\":{\"gridcolor\":\"white\",\"linecolor\":\"white\",\"ticks\":\"\"},\"bgcolor\":\"#E5ECF6\",\"caxis\":{\"gridcolor\":\"white\",\"linecolor\":\"white\",\"ticks\":\"\"}},\"title\":{\"x\":0.05},\"xaxis\":{\"automargin\":true,\"gridcolor\":\"white\",\"linecolor\":\"white\",\"ticks\":\"\",\"title\":{\"standoff\":15},\"zerolinecolor\":\"white\",\"zerolinewidth\":2},\"yaxis\":{\"automargin\":true,\"gridcolor\":\"white\",\"linecolor\":\"white\",\"ticks\":\"\",\"title\":{\"standoff\":15},\"zerolinecolor\":\"white\",\"zerolinewidth\":2}}},\"title\":{\"font\":{\"color\":\"#4D5663\"},\"text\":\"Fact I: Growth Rates Falling over Time\"},\"xaxis\":{\"gridcolor\":\"#E1E5ED\",\"showgrid\":true,\"tickfont\":{\"color\":\"#4D5663\"},\"title\":{\"font\":{\"color\":\"#4D5663\"},\"text\":\"Year\"},\"zerolinecolor\":\"#E1E5ED\"},\"yaxis\":{\"gridcolor\":\"#E1E5ED\",\"showgrid\":true,\"tickfont\":{\"color\":\"#4D5663\"},\"title\":{\"font\":{\"color\":\"#4D5663\"},\"text\":\"Population\"},\"zerolinecolor\":\"#E1E5ED\"}},                        {\"showLink\": true, \"linkText\": \"Export to plot.ly\", \"plotlyServerURL\": \"https://plot.ly\", \"responsive\": true}                    ).then(function(){\n",
              "                            \n",
              "var gd = document.getElementById('879c0482-72f0-4865-97c7-73839fa86d10');\n",
              "var x = new MutationObserver(function (mutations, observer) {{\n",
              "        var display = window.getComputedStyle(gd).display;\n",
              "        if (!display || display === 'none') {{\n",
              "            console.log([gd, 'removed!']);\n",
              "            Plotly.purge(gd);\n",
              "            observer.disconnect();\n",
              "        }}\n",
              "}});\n",
              "\n",
              "// Listen for the removal of the full notebook cells\n",
              "var notebookContainer = gd.closest('#notebook-container');\n",
              "if (notebookContainer) {{\n",
              "    x.observe(notebookContainer, {childList: true});\n",
              "}}\n",
              "\n",
              "// Listen for the clearing of the current output cell\n",
              "var outputEl = gd.closest('.output');\n",
              "if (outputEl) {{\n",
              "    x.observe(outputEl, {childList: true});\n",
              "}}\n",
              "\n",
              "                        })                };                });            </script>        </div>"
            ]
          },
          "metadata": {},
          "output_type": "display_data"
        }
      ],
      "source": [
        "# Useful arguments to pass include xTitle, yTitle, Title\n",
        "world.iplot(title=\"Fact I: Growth Rates Falling over Time\",xTitle='Year',yTitle='Population')"
      ]
    },
    {
      "cell_type": "markdown",
      "metadata": {},
      "source": [
        "##### Plotting Different Countries&rsquo; Population Growth Rates\n",
        "\n"
      ]
    },
    {
      "cell_type": "markdown",
      "metadata": {},
      "source": [
        "Globally, population growth has been basically linear over the last 60\n",
        " years.\n",
        "\n",
        "-   Increases by 1 billion about every 12 years.\n",
        "-   Implies *rate* of growth falling over time.\n",
        "\n",
        "How do population growth rates vary by country?\n",
        "\n"
      ]
    },
    {
      "cell_type": "code",
      "execution_count": 8,
      "metadata": {},
      "outputs": [
        {
          "data": {
            "application/vnd.plotly.v1+json": {
              "config": {
                "linkText": "Export to plot.ly",
                "plotlyServerURL": "https://plot.ly",
                "showLink": true
              },
              "data": [
                {
                  "line": {
                    "color": "rgba(255, 153, 51, 1.0)",
                    "dash": "solid",
                    "shape": "linear",
                    "width": 1.3
                  },
                  "mode": "lines",
                  "name": "High income",
                  "text": "",
                  "type": "scatter",
                  "x": [
                    1960,
                    1961,
                    1962,
                    1963,
                    1964,
                    1965,
                    1966,
                    1967,
                    1968,
                    1969,
                    1970,
                    1971,
                    1972,
                    1973,
                    1974,
                    1975,
                    1976,
                    1977,
                    1978,
                    1979,
                    1980,
                    1981,
                    1982,
                    1983,
                    1984,
                    1985,
                    1986,
                    1987,
                    1988,
                    1989,
                    1990,
                    1991,
                    1992,
                    1993,
                    1994,
                    1995,
                    1996,
                    1997,
                    1998,
                    1999,
                    2000,
                    2001,
                    2002,
                    2003,
                    2004,
                    2005,
                    2006,
                    2007,
                    2008,
                    2009,
                    2010,
                    2011,
                    2012,
                    2013,
                    2014,
                    2015,
                    2016,
                    2017,
                    2018,
                    2019,
                    2020,
                    2021,
                    2022
                  ],
                  "y": [
                    "",
                    0.012458555475536315,
                    0.012585184062817945,
                    0.012311079544371495,
                    0.012131609344830707,
                    0.011626313203532135,
                    0.01093562180361829,
                    0.010384736163384645,
                    0.010160703349036737,
                    0.01018070628596135,
                    0.01001235683544266,
                    0.01177822460658362,
                    0.010215283719574586,
                    0.009771582290664327,
                    0.009493402425839292,
                    0.009181072753424502,
                    0.008466332207795801,
                    0.008288299702456925,
                    0.008296333828713642,
                    0.008519530517563823,
                    0.008170985128156616,
                    0.008046037486575841,
                    0.007521438177949591,
                    0.006940707507720134,
                    0.006490246486524853,
                    0.0065113562003276115,
                    0.006679751669238954,
                    0.006780603888653758,
                    0.006923204813809036,
                    0.007373082922782714,
                    0.007178714544320286,
                    0.008117295512537481,
                    0.008269718612485377,
                    0.007772475754446617,
                    0.007119899871028679,
                    0.006724713547562544,
                    0.006768767881304427,
                    0.0066021687149948605,
                    0.006389181711629277,
                    0.006259902282391039,
                    0.006099927772634572,
                    0.006088139471120968,
                    0.006124191718260619,
                    0.0061060784635351695,
                    0.00626681847610655,
                    0.006538185301142363,
                    0.0074733415125614044,
                    0.008069854616852723,
                    0.00829383498597025,
                    0.007407778249277186,
                    0.006281804506912181,
                    0.004239336488968348,
                    0.005525108678149593,
                    0.005668535716210954,
                    0.005712504262117335,
                    0.005589374700370797,
                    0.005683673921954124,
                    0.005063065356008423,
                    0.004855028845188514,
                    0.004214503888441357,
                    0.004042054984989107,
                    -0.00036274529175273074,
                    0.002491324455835553
                  ]
                },
                {
                  "line": {
                    "color": "rgba(55, 128, 191, 1.0)",
                    "dash": "solid",
                    "shape": "linear",
                    "width": 1.3
                  },
                  "mode": "lines",
                  "name": "Low income",
                  "text": "",
                  "type": "scatter",
                  "x": [
                    1960,
                    1961,
                    1962,
                    1963,
                    1964,
                    1965,
                    1966,
                    1967,
                    1968,
                    1969,
                    1970,
                    1971,
                    1972,
                    1973,
                    1974,
                    1975,
                    1976,
                    1977,
                    1978,
                    1979,
                    1980,
                    1981,
                    1982,
                    1983,
                    1984,
                    1985,
                    1986,
                    1987,
                    1988,
                    1989,
                    1990,
                    1991,
                    1992,
                    1993,
                    1994,
                    1995,
                    1996,
                    1997,
                    1998,
                    1999,
                    2000,
                    2001,
                    2002,
                    2003,
                    2004,
                    2005,
                    2006,
                    2007,
                    2008,
                    2009,
                    2010,
                    2011,
                    2012,
                    2013,
                    2014,
                    2015,
                    2016,
                    2017,
                    2018,
                    2019,
                    2020,
                    2021,
                    2022
                  ],
                  "y": [
                    "",
                    0.023093355717762165,
                    0.023464658354185985,
                    0.023809447928059058,
                    0.024420839251455106,
                    0.024912240666683516,
                    0.025024654126653445,
                    0.025639250315318662,
                    0.026224618932829458,
                    0.026138600129229417,
                    0.026175888091252375,
                    0.026061331599446902,
                    0.025441905553066135,
                    0.025535635886622998,
                    0.02616056040186976,
                    0.02615745099242517,
                    0.026005171972560248,
                    0.025208150896272485,
                    0.02686887074226263,
                    0.027426270156716726,
                    0.021857945611404972,
                    0.018992639766707953,
                    0.02324244119374086,
                    0.026014876732045167,
                    0.026417309852931226,
                    0.026404247162755468,
                    0.025605075169544023,
                    0.025794863490176567,
                    0.02539374476176448,
                    0.025985997212067957,
                    0.025209016290606456,
                    0.025114486655862578,
                    0.029594689630187077,
                    0.031231736110644448,
                    0.028738603629463455,
                    0.028411742203093837,
                    0.029135247813425025,
                    0.027954209637929495,
                    0.02713401166593954,
                    0.02754239409316739,
                    0.026521254490905477,
                    0.026643941615667188,
                    0.02970673644646027,
                    0.030272784060564106,
                    0.0286861492011532,
                    0.028770688342188322,
                    0.02993183860507287,
                    0.029640582363914092,
                    0.02864691818687959,
                    0.028530629714261124,
                    0.028365348534677537,
                    0.028193601376926836,
                    0.027211768497139133,
                    0.025294174579208573,
                    0.024728977469475666,
                    0.02517054795778506,
                    0.026293645437785784,
                    0.026847025959117587,
                    0.027184828933918936,
                    0.02796263545160116,
                    0.027814669147772975,
                    0.026913287568945066,
                    0.026608050377763703
                  ]
                },
                {
                  "line": {
                    "color": "rgba(50, 171, 96, 1.0)",
                    "dash": "solid",
                    "shape": "linear",
                    "width": 1.3
                  },
                  "mode": "lines",
                  "name": "Lower middle income",
                  "text": "",
                  "type": "scatter",
                  "x": [
                    1960,
                    1961,
                    1962,
                    1963,
                    1964,
                    1965,
                    1966,
                    1967,
                    1968,
                    1969,
                    1970,
                    1971,
                    1972,
                    1973,
                    1974,
                    1975,
                    1976,
                    1977,
                    1978,
                    1979,
                    1980,
                    1981,
                    1982,
                    1983,
                    1984,
                    1985,
                    1986,
                    1987,
                    1988,
                    1989,
                    1990,
                    1991,
                    1992,
                    1993,
                    1994,
                    1995,
                    1996,
                    1997,
                    1998,
                    1999,
                    2000,
                    2001,
                    2002,
                    2003,
                    2004,
                    2005,
                    2006,
                    2007,
                    2008,
                    2009,
                    2010,
                    2011,
                    2012,
                    2013,
                    2014,
                    2015,
                    2016,
                    2017,
                    2018,
                    2019,
                    2020,
                    2021,
                    2022
                  ],
                  "y": [
                    "",
                    0.023768686466954847,
                    0.02375997983358502,
                    0.023869625172540765,
                    0.02384839376468051,
                    0.023499536875014826,
                    0.023073709671884046,
                    0.0229786316920233,
                    0.023133100668953688,
                    0.02321281895602212,
                    0.022946262867396428,
                    0.022200624454267626,
                    0.02248235279467181,
                    0.023348314288288208,
                    0.023380791140898083,
                    0.023341176345681447,
                    0.023472080496869552,
                    0.023660299618647684,
                    0.023425110499019297,
                    0.023709247882418794,
                    0.02488795728106652,
                    0.025815050987059607,
                    0.025442374506543075,
                    0.02470325293977993,
                    0.024441104202836073,
                    0.024389937804272677,
                    0.024287962198794588,
                    0.023930029588807855,
                    0.023557885816831714,
                    0.023260023481061154,
                    0.023269410694616965,
                    0.02279529092814414,
                    0.02164674784864573,
                    0.020877581271403045,
                    0.020558602406470783,
                    0.020315902514376205,
                    0.019829802461984514,
                    0.01955849661951703,
                    0.019397032880664966,
                    0.01906900900386077,
                    0.019067942454888964,
                    0.01896446695921128,
                    0.018201617922727564,
                    0.01770538284133849,
                    0.01765523915436873,
                    0.017172831959193502,
                    0.016695929199368464,
                    0.01643476118979592,
                    0.016075640673495428,
                    0.01600722375120256,
                    0.01633486495088121,
                    0.016295001943301912,
                    0.015875566111628103,
                    0.015852758809167256,
                    0.01577476656951049,
                    0.015345148713276302,
                    0.014962431748621441,
                    0.014665835572575503,
                    0.014271615694216422,
                    0.01380357656978859,
                    0.013537138492104361,
                    0.012825234243823758,
                    0.010309998664272513
                  ]
                },
                {
                  "line": {
                    "color": "rgba(128, 0, 128, 1.0)",
                    "dash": "solid",
                    "shape": "linear",
                    "width": 1.3
                  },
                  "mode": "lines",
                  "name": "Upper middle income",
                  "text": "",
                  "type": "scatter",
                  "x": [
                    1960,
                    1961,
                    1962,
                    1963,
                    1964,
                    1965,
                    1966,
                    1967,
                    1968,
                    1969,
                    1970,
                    1971,
                    1972,
                    1973,
                    1974,
                    1975,
                    1976,
                    1977,
                    1978,
                    1979,
                    1980,
                    1981,
                    1982,
                    1983,
                    1984,
                    1985,
                    1986,
                    1987,
                    1988,
                    1989,
                    1990,
                    1991,
                    1992,
                    1993,
                    1994,
                    1995,
                    1996,
                    1997,
                    1998,
                    1999,
                    2000,
                    2001,
                    2002,
                    2003,
                    2004,
                    2005,
                    2006,
                    2007,
                    2008,
                    2009,
                    2010,
                    2011,
                    2012,
                    2013,
                    2014,
                    2015,
                    2016,
                    2017,
                    2018,
                    2019,
                    2020,
                    2021,
                    2022
                  ],
                  "y": [
                    "",
                    0.004907394002245269,
                    0.015221083364185262,
                    0.02416727632537885,
                    0.02339916659247976,
                    0.02337497342816164,
                    0.02486954584745149,
                    0.02378021170527589,
                    0.0239789133310353,
                    0.02461178348236004,
                    0.024599326944500177,
                    0.024403786354152857,
                    0.022734489273599223,
                    0.021745704294779955,
                    0.020463836741186014,
                    0.018661326792713595,
                    0.01745053817800013,
                    0.016454870968285462,
                    0.016324729159705953,
                    0.016208237411856175,
                    0.015678516274597598,
                    0.015596963855930568,
                    0.016520036764163137,
                    0.0163965946454816,
                    0.01570784241271639,
                    0.015753503662374158,
                    0.016267883081692247,
                    0.016803310753591205,
                    0.016634740044771945,
                    0.01578681736650367,
                    0.01592194235007227,
                    0.014294199205089342,
                    0.013147110540135287,
                    0.012574345956398503,
                    0.012364177989059755,
                    0.011826178893205253,
                    0.011561991140833783,
                    0.011275518050222644,
                    0.010693041446266704,
                    0.00993498382150193,
                    0.009378663401143683,
                    0.008905072374592038,
                    0.008467171116929961,
                    0.008117591500852228,
                    0.007887717401885652,
                    0.00782966033445831,
                    0.007407522328236382,
                    0.00695503556114474,
                    0.00746240547094601,
                    0.0076011609254393875,
                    0.0073482592828710835,
                    0.007755382700430857,
                    0.008572528261893808,
                    0.008652579267387495,
                    0.008285934206522683,
                    0.007893963375313007,
                    0.007510196013971182,
                    0.007471466353155876,
                    0.006898611351218165,
                    0.006199346336885014,
                    0.00496257951107637,
                    0.0037561662119429684,
                    0.0029649511449036936
                  ]
                },
                {
                  "line": {
                    "color": "rgba(219, 64, 82, 1.0)",
                    "dash": "solid",
                    "shape": "linear",
                    "width": 1.3
                  },
                  "mode": "lines",
                  "name": "World",
                  "text": "",
                  "type": "scatter",
                  "x": [
                    1960,
                    1961,
                    1962,
                    1963,
                    1964,
                    1965,
                    1966,
                    1967,
                    1968,
                    1969,
                    1970,
                    1971,
                    1972,
                    1973,
                    1974,
                    1975,
                    1976,
                    1977,
                    1978,
                    1979,
                    1980,
                    1981,
                    1982,
                    1983,
                    1984,
                    1985,
                    1986,
                    1987,
                    1988,
                    1989,
                    1990,
                    1991,
                    1992,
                    1993,
                    1994,
                    1995,
                    1996,
                    1997,
                    1998,
                    1999,
                    2000,
                    2001,
                    2002,
                    2003,
                    2004,
                    2005,
                    2006,
                    2007,
                    2008,
                    2009,
                    2010,
                    2011,
                    2012,
                    2013,
                    2014,
                    2015,
                    2016,
                    2017,
                    2018,
                    2019,
                    2020,
                    2021,
                    2022
                  ],
                  "y": [
                    "",
                    0.013417063802176443,
                    0.017559873065966514,
                    0.02106924398016119,
                    0.020767518088060655,
                    0.020571582070861183,
                    0.020894027149740424,
                    0.02035653939054427,
                    0.02048816563476663,
                    0.020800623783685523,
                    0.020709672125942546,
                    0.020842423149552758,
                    0.019885618655219872,
                    0.01968469715156118,
                    0.01916982934111644,
                    0.018382541564172072,
                    0.017793888955999648,
                    0.01740327040111822,
                    0.017393521810912915,
                    0.017549079646585142,
                    0.01739490145795486,
                    0.017531798494779594,
                    0.017928451080610586,
                    0.017695990400614647,
                    0.017302470729795516,
                    0.01735272623328754,
                    0.017562038627172427,
                    0.017727416399115015,
                    0.017578154096550946,
                    0.017292969097002953,
                    0.017304761724396656,
                    0.016699905990844144,
                    0.01614889201313474,
                    0.015681904220095078,
                    0.015256164305636588,
                    0.014899048420385697,
                    0.014706693443915952,
                    0.014431132787429135,
                    0.014091194635678761,
                    0.01371258579373702,
                    0.01344088897463891,
                    0.013261663139317648,
                    0.013051037758348372,
                    0.012809131756146286,
                    0.012668816349421519,
                    0.012558282050683545,
                    0.01249805488798117,
                    0.012350820635024462,
                    0.012408374890195972,
                    0.01230697772859557,
                    0.012171673051309284,
                    0.011987974113058186,
                    0.0123057890217666,
                    0.012235728675879187,
                    0.012063275101684923,
                    0.011794242412246803,
                    0.011624105809708851,
                    0.011419428020367661,
                    0.011016741411378206,
                    0.010570503032873546,
                    0.0100799109272387,
                    0.008670524194034357,
                    0.007909645307485391
                  ]
                }
              ],
              "layout": {
                "legend": {
                  "bgcolor": "#F5F6F9",
                  "font": {
                    "color": "#4D5663"
                  }
                },
                "paper_bgcolor": "#F5F6F9",
                "plot_bgcolor": "#F5F6F9",
                "template": {
                  "data": {
                    "bar": [
                      {
                        "error_x": {
                          "color": "#2a3f5f"
                        },
                        "error_y": {
                          "color": "#2a3f5f"
                        },
                        "marker": {
                          "line": {
                            "color": "#E5ECF6",
                            "width": 0.5
                          },
                          "pattern": {
                            "fillmode": "overlay",
                            "size": 10,
                            "solidity": 0.2
                          }
                        },
                        "type": "bar"
                      }
                    ],
                    "barpolar": [
                      {
                        "marker": {
                          "line": {
                            "color": "#E5ECF6",
                            "width": 0.5
                          },
                          "pattern": {
                            "fillmode": "overlay",
                            "size": 10,
                            "solidity": 0.2
                          }
                        },
                        "type": "barpolar"
                      }
                    ],
                    "carpet": [
                      {
                        "aaxis": {
                          "endlinecolor": "#2a3f5f",
                          "gridcolor": "white",
                          "linecolor": "white",
                          "minorgridcolor": "white",
                          "startlinecolor": "#2a3f5f"
                        },
                        "baxis": {
                          "endlinecolor": "#2a3f5f",
                          "gridcolor": "white",
                          "linecolor": "white",
                          "minorgridcolor": "white",
                          "startlinecolor": "#2a3f5f"
                        },
                        "type": "carpet"
                      }
                    ],
                    "choropleth": [
                      {
                        "colorbar": {
                          "outlinewidth": 0,
                          "ticks": ""
                        },
                        "type": "choropleth"
                      }
                    ],
                    "contour": [
                      {
                        "colorbar": {
                          "outlinewidth": 0,
                          "ticks": ""
                        },
                        "colorscale": [
                          [
                            0,
                            "#0d0887"
                          ],
                          [
                            0.1111111111111111,
                            "#46039f"
                          ],
                          [
                            0.2222222222222222,
                            "#7201a8"
                          ],
                          [
                            0.3333333333333333,
                            "#9c179e"
                          ],
                          [
                            0.4444444444444444,
                            "#bd3786"
                          ],
                          [
                            0.5555555555555556,
                            "#d8576b"
                          ],
                          [
                            0.6666666666666666,
                            "#ed7953"
                          ],
                          [
                            0.7777777777777778,
                            "#fb9f3a"
                          ],
                          [
                            0.8888888888888888,
                            "#fdca26"
                          ],
                          [
                            1,
                            "#f0f921"
                          ]
                        ],
                        "type": "contour"
                      }
                    ],
                    "contourcarpet": [
                      {
                        "colorbar": {
                          "outlinewidth": 0,
                          "ticks": ""
                        },
                        "type": "contourcarpet"
                      }
                    ],
                    "heatmap": [
                      {
                        "colorbar": {
                          "outlinewidth": 0,
                          "ticks": ""
                        },
                        "colorscale": [
                          [
                            0,
                            "#0d0887"
                          ],
                          [
                            0.1111111111111111,
                            "#46039f"
                          ],
                          [
                            0.2222222222222222,
                            "#7201a8"
                          ],
                          [
                            0.3333333333333333,
                            "#9c179e"
                          ],
                          [
                            0.4444444444444444,
                            "#bd3786"
                          ],
                          [
                            0.5555555555555556,
                            "#d8576b"
                          ],
                          [
                            0.6666666666666666,
                            "#ed7953"
                          ],
                          [
                            0.7777777777777778,
                            "#fb9f3a"
                          ],
                          [
                            0.8888888888888888,
                            "#fdca26"
                          ],
                          [
                            1,
                            "#f0f921"
                          ]
                        ],
                        "type": "heatmap"
                      }
                    ],
                    "heatmapgl": [
                      {
                        "colorbar": {
                          "outlinewidth": 0,
                          "ticks": ""
                        },
                        "colorscale": [
                          [
                            0,
                            "#0d0887"
                          ],
                          [
                            0.1111111111111111,
                            "#46039f"
                          ],
                          [
                            0.2222222222222222,
                            "#7201a8"
                          ],
                          [
                            0.3333333333333333,
                            "#9c179e"
                          ],
                          [
                            0.4444444444444444,
                            "#bd3786"
                          ],
                          [
                            0.5555555555555556,
                            "#d8576b"
                          ],
                          [
                            0.6666666666666666,
                            "#ed7953"
                          ],
                          [
                            0.7777777777777778,
                            "#fb9f3a"
                          ],
                          [
                            0.8888888888888888,
                            "#fdca26"
                          ],
                          [
                            1,
                            "#f0f921"
                          ]
                        ],
                        "type": "heatmapgl"
                      }
                    ],
                    "histogram": [
                      {
                        "marker": {
                          "pattern": {
                            "fillmode": "overlay",
                            "size": 10,
                            "solidity": 0.2
                          }
                        },
                        "type": "histogram"
                      }
                    ],
                    "histogram2d": [
                      {
                        "colorbar": {
                          "outlinewidth": 0,
                          "ticks": ""
                        },
                        "colorscale": [
                          [
                            0,
                            "#0d0887"
                          ],
                          [
                            0.1111111111111111,
                            "#46039f"
                          ],
                          [
                            0.2222222222222222,
                            "#7201a8"
                          ],
                          [
                            0.3333333333333333,
                            "#9c179e"
                          ],
                          [
                            0.4444444444444444,
                            "#bd3786"
                          ],
                          [
                            0.5555555555555556,
                            "#d8576b"
                          ],
                          [
                            0.6666666666666666,
                            "#ed7953"
                          ],
                          [
                            0.7777777777777778,
                            "#fb9f3a"
                          ],
                          [
                            0.8888888888888888,
                            "#fdca26"
                          ],
                          [
                            1,
                            "#f0f921"
                          ]
                        ],
                        "type": "histogram2d"
                      }
                    ],
                    "histogram2dcontour": [
                      {
                        "colorbar": {
                          "outlinewidth": 0,
                          "ticks": ""
                        },
                        "colorscale": [
                          [
                            0,
                            "#0d0887"
                          ],
                          [
                            0.1111111111111111,
                            "#46039f"
                          ],
                          [
                            0.2222222222222222,
                            "#7201a8"
                          ],
                          [
                            0.3333333333333333,
                            "#9c179e"
                          ],
                          [
                            0.4444444444444444,
                            "#bd3786"
                          ],
                          [
                            0.5555555555555556,
                            "#d8576b"
                          ],
                          [
                            0.6666666666666666,
                            "#ed7953"
                          ],
                          [
                            0.7777777777777778,
                            "#fb9f3a"
                          ],
                          [
                            0.8888888888888888,
                            "#fdca26"
                          ],
                          [
                            1,
                            "#f0f921"
                          ]
                        ],
                        "type": "histogram2dcontour"
                      }
                    ],
                    "mesh3d": [
                      {
                        "colorbar": {
                          "outlinewidth": 0,
                          "ticks": ""
                        },
                        "type": "mesh3d"
                      }
                    ],
                    "parcoords": [
                      {
                        "line": {
                          "colorbar": {
                            "outlinewidth": 0,
                            "ticks": ""
                          }
                        },
                        "type": "parcoords"
                      }
                    ],
                    "pie": [
                      {
                        "automargin": true,
                        "type": "pie"
                      }
                    ],
                    "scatter": [
                      {
                        "fillpattern": {
                          "fillmode": "overlay",
                          "size": 10,
                          "solidity": 0.2
                        },
                        "type": "scatter"
                      }
                    ],
                    "scatter3d": [
                      {
                        "line": {
                          "colorbar": {
                            "outlinewidth": 0,
                            "ticks": ""
                          }
                        },
                        "marker": {
                          "colorbar": {
                            "outlinewidth": 0,
                            "ticks": ""
                          }
                        },
                        "type": "scatter3d"
                      }
                    ],
                    "scattercarpet": [
                      {
                        "marker": {
                          "colorbar": {
                            "outlinewidth": 0,
                            "ticks": ""
                          }
                        },
                        "type": "scattercarpet"
                      }
                    ],
                    "scattergeo": [
                      {
                        "marker": {
                          "colorbar": {
                            "outlinewidth": 0,
                            "ticks": ""
                          }
                        },
                        "type": "scattergeo"
                      }
                    ],
                    "scattergl": [
                      {
                        "marker": {
                          "colorbar": {
                            "outlinewidth": 0,
                            "ticks": ""
                          }
                        },
                        "type": "scattergl"
                      }
                    ],
                    "scattermapbox": [
                      {
                        "marker": {
                          "colorbar": {
                            "outlinewidth": 0,
                            "ticks": ""
                          }
                        },
                        "type": "scattermapbox"
                      }
                    ],
                    "scatterpolar": [
                      {
                        "marker": {
                          "colorbar": {
                            "outlinewidth": 0,
                            "ticks": ""
                          }
                        },
                        "type": "scatterpolar"
                      }
                    ],
                    "scatterpolargl": [
                      {
                        "marker": {
                          "colorbar": {
                            "outlinewidth": 0,
                            "ticks": ""
                          }
                        },
                        "type": "scatterpolargl"
                      }
                    ],
                    "scatterternary": [
                      {
                        "marker": {
                          "colorbar": {
                            "outlinewidth": 0,
                            "ticks": ""
                          }
                        },
                        "type": "scatterternary"
                      }
                    ],
                    "surface": [
                      {
                        "colorbar": {
                          "outlinewidth": 0,
                          "ticks": ""
                        },
                        "colorscale": [
                          [
                            0,
                            "#0d0887"
                          ],
                          [
                            0.1111111111111111,
                            "#46039f"
                          ],
                          [
                            0.2222222222222222,
                            "#7201a8"
                          ],
                          [
                            0.3333333333333333,
                            "#9c179e"
                          ],
                          [
                            0.4444444444444444,
                            "#bd3786"
                          ],
                          [
                            0.5555555555555556,
                            "#d8576b"
                          ],
                          [
                            0.6666666666666666,
                            "#ed7953"
                          ],
                          [
                            0.7777777777777778,
                            "#fb9f3a"
                          ],
                          [
                            0.8888888888888888,
                            "#fdca26"
                          ],
                          [
                            1,
                            "#f0f921"
                          ]
                        ],
                        "type": "surface"
                      }
                    ],
                    "table": [
                      {
                        "cells": {
                          "fill": {
                            "color": "#EBF0F8"
                          },
                          "line": {
                            "color": "white"
                          }
                        },
                        "header": {
                          "fill": {
                            "color": "#C8D4E3"
                          },
                          "line": {
                            "color": "white"
                          }
                        },
                        "type": "table"
                      }
                    ]
                  },
                  "layout": {
                    "annotationdefaults": {
                      "arrowcolor": "#2a3f5f",
                      "arrowhead": 0,
                      "arrowwidth": 1
                    },
                    "autotypenumbers": "strict",
                    "coloraxis": {
                      "colorbar": {
                        "outlinewidth": 0,
                        "ticks": ""
                      }
                    },
                    "colorscale": {
                      "diverging": [
                        [
                          0,
                          "#8e0152"
                        ],
                        [
                          0.1,
                          "#c51b7d"
                        ],
                        [
                          0.2,
                          "#de77ae"
                        ],
                        [
                          0.3,
                          "#f1b6da"
                        ],
                        [
                          0.4,
                          "#fde0ef"
                        ],
                        [
                          0.5,
                          "#f7f7f7"
                        ],
                        [
                          0.6,
                          "#e6f5d0"
                        ],
                        [
                          0.7,
                          "#b8e186"
                        ],
                        [
                          0.8,
                          "#7fbc41"
                        ],
                        [
                          0.9,
                          "#4d9221"
                        ],
                        [
                          1,
                          "#276419"
                        ]
                      ],
                      "sequential": [
                        [
                          0,
                          "#0d0887"
                        ],
                        [
                          0.1111111111111111,
                          "#46039f"
                        ],
                        [
                          0.2222222222222222,
                          "#7201a8"
                        ],
                        [
                          0.3333333333333333,
                          "#9c179e"
                        ],
                        [
                          0.4444444444444444,
                          "#bd3786"
                        ],
                        [
                          0.5555555555555556,
                          "#d8576b"
                        ],
                        [
                          0.6666666666666666,
                          "#ed7953"
                        ],
                        [
                          0.7777777777777778,
                          "#fb9f3a"
                        ],
                        [
                          0.8888888888888888,
                          "#fdca26"
                        ],
                        [
                          1,
                          "#f0f921"
                        ]
                      ],
                      "sequentialminus": [
                        [
                          0,
                          "#0d0887"
                        ],
                        [
                          0.1111111111111111,
                          "#46039f"
                        ],
                        [
                          0.2222222222222222,
                          "#7201a8"
                        ],
                        [
                          0.3333333333333333,
                          "#9c179e"
                        ],
                        [
                          0.4444444444444444,
                          "#bd3786"
                        ],
                        [
                          0.5555555555555556,
                          "#d8576b"
                        ],
                        [
                          0.6666666666666666,
                          "#ed7953"
                        ],
                        [
                          0.7777777777777778,
                          "#fb9f3a"
                        ],
                        [
                          0.8888888888888888,
                          "#fdca26"
                        ],
                        [
                          1,
                          "#f0f921"
                        ]
                      ]
                    },
                    "colorway": [
                      "#636efa",
                      "#EF553B",
                      "#00cc96",
                      "#ab63fa",
                      "#FFA15A",
                      "#19d3f3",
                      "#FF6692",
                      "#B6E880",
                      "#FF97FF",
                      "#FECB52"
                    ],
                    "font": {
                      "color": "#2a3f5f"
                    },
                    "geo": {
                      "bgcolor": "white",
                      "lakecolor": "white",
                      "landcolor": "#E5ECF6",
                      "showlakes": true,
                      "showland": true,
                      "subunitcolor": "white"
                    },
                    "hoverlabel": {
                      "align": "left"
                    },
                    "hovermode": "closest",
                    "mapbox": {
                      "style": "light"
                    },
                    "paper_bgcolor": "white",
                    "plot_bgcolor": "#E5ECF6",
                    "polar": {
                      "angularaxis": {
                        "gridcolor": "white",
                        "linecolor": "white",
                        "ticks": ""
                      },
                      "bgcolor": "#E5ECF6",
                      "radialaxis": {
                        "gridcolor": "white",
                        "linecolor": "white",
                        "ticks": ""
                      }
                    },
                    "scene": {
                      "xaxis": {
                        "backgroundcolor": "#E5ECF6",
                        "gridcolor": "white",
                        "gridwidth": 2,
                        "linecolor": "white",
                        "showbackground": true,
                        "ticks": "",
                        "zerolinecolor": "white"
                      },
                      "yaxis": {
                        "backgroundcolor": "#E5ECF6",
                        "gridcolor": "white",
                        "gridwidth": 2,
                        "linecolor": "white",
                        "showbackground": true,
                        "ticks": "",
                        "zerolinecolor": "white"
                      },
                      "zaxis": {
                        "backgroundcolor": "#E5ECF6",
                        "gridcolor": "white",
                        "gridwidth": 2,
                        "linecolor": "white",
                        "showbackground": true,
                        "ticks": "",
                        "zerolinecolor": "white"
                      }
                    },
                    "shapedefaults": {
                      "line": {
                        "color": "#2a3f5f"
                      }
                    },
                    "ternary": {
                      "aaxis": {
                        "gridcolor": "white",
                        "linecolor": "white",
                        "ticks": ""
                      },
                      "baxis": {
                        "gridcolor": "white",
                        "linecolor": "white",
                        "ticks": ""
                      },
                      "bgcolor": "#E5ECF6",
                      "caxis": {
                        "gridcolor": "white",
                        "linecolor": "white",
                        "ticks": ""
                      }
                    },
                    "title": {
                      "x": 0.05
                    },
                    "xaxis": {
                      "automargin": true,
                      "gridcolor": "white",
                      "linecolor": "white",
                      "ticks": "",
                      "title": {
                        "standoff": 15
                      },
                      "zerolinecolor": "white",
                      "zerolinewidth": 2
                    },
                    "yaxis": {
                      "automargin": true,
                      "gridcolor": "white",
                      "linecolor": "white",
                      "ticks": "",
                      "title": {
                        "standoff": 15
                      },
                      "zerolinecolor": "white",
                      "zerolinewidth": 2
                    }
                  }
                },
                "title": {
                  "font": {
                    "color": "#4D5663"
                  },
                  "text": "Fact II: Poorer places have higher growth rates"
                },
                "xaxis": {
                  "gridcolor": "#E1E5ED",
                  "showgrid": true,
                  "tickfont": {
                    "color": "#4D5663"
                  },
                  "title": {
                    "font": {
                      "color": "#4D5663"
                    },
                    "text": "Year"
                  },
                  "zerolinecolor": "#E1E5ED"
                },
                "yaxis": {
                  "gridcolor": "#E1E5ED",
                  "showgrid": true,
                  "tickfont": {
                    "color": "#4D5663"
                  },
                  "title": {
                    "font": {
                      "color": "#4D5663"
                    },
                    "text": "Growth Rate"
                  },
                  "zerolinecolor": "#E1E5ED"
                }
              }
            },
            "text/html": [
              "<div>                            <div id=\"cb870d0e-3246-4908-95c9-a63bd27b8e91\" class=\"plotly-graph-div\" style=\"height:525px; width:100%;\"></div>            <script type=\"text/javascript\">                require([\"plotly\"], function(Plotly) {                    window.PLOTLYENV=window.PLOTLYENV || {};\n",
              "                    window.PLOTLYENV.BASE_URL='https://plot.ly';                                    if (document.getElementById(\"cb870d0e-3246-4908-95c9-a63bd27b8e91\")) {                    Plotly.newPlot(                        \"cb870d0e-3246-4908-95c9-a63bd27b8e91\",                        [{\"line\":{\"color\":\"rgba(255, 153, 51, 1.0)\",\"dash\":\"solid\",\"shape\":\"linear\",\"width\":1.3},\"mode\":\"lines\",\"name\":\"High income\",\"text\":\"\",\"x\":[1960,1961,1962,1963,1964,1965,1966,1967,1968,1969,1970,1971,1972,1973,1974,1975,1976,1977,1978,1979,1980,1981,1982,1983,1984,1985,1986,1987,1988,1989,1990,1991,1992,1993,1994,1995,1996,1997,1998,1999,2000,2001,2002,2003,2004,2005,2006,2007,2008,2009,2010,2011,2012,2013,2014,2015,2016,2017,2018,2019,2020,2021,2022],\"y\":[\"\",0.012458555475536315,0.012585184062817945,0.012311079544371495,0.012131609344830707,0.011626313203532135,0.01093562180361829,0.010384736163384645,0.010160703349036737,0.01018070628596135,0.01001235683544266,0.01177822460658362,0.010215283719574586,0.009771582290664327,0.009493402425839292,0.009181072753424502,0.008466332207795801,0.008288299702456925,0.008296333828713642,0.008519530517563823,0.008170985128156616,0.008046037486575841,0.007521438177949591,0.006940707507720134,0.006490246486524853,0.0065113562003276115,0.006679751669238954,0.006780603888653758,0.006923204813809036,0.007373082922782714,0.007178714544320286,0.008117295512537481,0.008269718612485377,0.007772475754446617,0.007119899871028679,0.006724713547562544,0.006768767881304427,0.0066021687149948605,0.006389181711629277,0.006259902282391039,0.006099927772634572,0.006088139471120968,0.006124191718260619,0.0061060784635351695,0.00626681847610655,0.006538185301142363,0.0074733415125614044,0.008069854616852723,0.00829383498597025,0.007407778249277186,0.006281804506912181,0.004239336488968348,0.005525108678149593,0.005668535716210954,0.005712504262117335,0.005589374700370797,0.005683673921954124,0.005063065356008423,0.004855028845188514,0.004214503888441357,0.004042054984989107,-0.00036274529175273074,0.002491324455835553],\"type\":\"scatter\"},{\"line\":{\"color\":\"rgba(55, 128, 191, 1.0)\",\"dash\":\"solid\",\"shape\":\"linear\",\"width\":1.3},\"mode\":\"lines\",\"name\":\"Low income\",\"text\":\"\",\"x\":[1960,1961,1962,1963,1964,1965,1966,1967,1968,1969,1970,1971,1972,1973,1974,1975,1976,1977,1978,1979,1980,1981,1982,1983,1984,1985,1986,1987,1988,1989,1990,1991,1992,1993,1994,1995,1996,1997,1998,1999,2000,2001,2002,2003,2004,2005,2006,2007,2008,2009,2010,2011,2012,2013,2014,2015,2016,2017,2018,2019,2020,2021,2022],\"y\":[\"\",0.023093355717762165,0.023464658354185985,0.023809447928059058,0.024420839251455106,0.024912240666683516,0.025024654126653445,0.025639250315318662,0.026224618932829458,0.026138600129229417,0.026175888091252375,0.026061331599446902,0.025441905553066135,0.025535635886622998,0.02616056040186976,0.02615745099242517,0.026005171972560248,0.025208150896272485,0.02686887074226263,0.027426270156716726,0.021857945611404972,0.018992639766707953,0.02324244119374086,0.026014876732045167,0.026417309852931226,0.026404247162755468,0.025605075169544023,0.025794863490176567,0.02539374476176448,0.025985997212067957,0.025209016290606456,0.025114486655862578,0.029594689630187077,0.031231736110644448,0.028738603629463455,0.028411742203093837,0.029135247813425025,0.027954209637929495,0.02713401166593954,0.02754239409316739,0.026521254490905477,0.026643941615667188,0.02970673644646027,0.030272784060564106,0.0286861492011532,0.028770688342188322,0.02993183860507287,0.029640582363914092,0.02864691818687959,0.028530629714261124,0.028365348534677537,0.028193601376926836,0.027211768497139133,0.025294174579208573,0.024728977469475666,0.02517054795778506,0.026293645437785784,0.026847025959117587,0.027184828933918936,0.02796263545160116,0.027814669147772975,0.026913287568945066,0.026608050377763703],\"type\":\"scatter\"},{\"line\":{\"color\":\"rgba(50, 171, 96, 1.0)\",\"dash\":\"solid\",\"shape\":\"linear\",\"width\":1.3},\"mode\":\"lines\",\"name\":\"Lower middle income\",\"text\":\"\",\"x\":[1960,1961,1962,1963,1964,1965,1966,1967,1968,1969,1970,1971,1972,1973,1974,1975,1976,1977,1978,1979,1980,1981,1982,1983,1984,1985,1986,1987,1988,1989,1990,1991,1992,1993,1994,1995,1996,1997,1998,1999,2000,2001,2002,2003,2004,2005,2006,2007,2008,2009,2010,2011,2012,2013,2014,2015,2016,2017,2018,2019,2020,2021,2022],\"y\":[\"\",0.023768686466954847,0.02375997983358502,0.023869625172540765,0.02384839376468051,0.023499536875014826,0.023073709671884046,0.0229786316920233,0.023133100668953688,0.02321281895602212,0.022946262867396428,0.022200624454267626,0.02248235279467181,0.023348314288288208,0.023380791140898083,0.023341176345681447,0.023472080496869552,0.023660299618647684,0.023425110499019297,0.023709247882418794,0.02488795728106652,0.025815050987059607,0.025442374506543075,0.02470325293977993,0.024441104202836073,0.024389937804272677,0.024287962198794588,0.023930029588807855,0.023557885816831714,0.023260023481061154,0.023269410694616965,0.02279529092814414,0.02164674784864573,0.020877581271403045,0.020558602406470783,0.020315902514376205,0.019829802461984514,0.01955849661951703,0.019397032880664966,0.01906900900386077,0.019067942454888964,0.01896446695921128,0.018201617922727564,0.01770538284133849,0.01765523915436873,0.017172831959193502,0.016695929199368464,0.01643476118979592,0.016075640673495428,0.01600722375120256,0.01633486495088121,0.016295001943301912,0.015875566111628103,0.015852758809167256,0.01577476656951049,0.015345148713276302,0.014962431748621441,0.014665835572575503,0.014271615694216422,0.01380357656978859,0.013537138492104361,0.012825234243823758,0.010309998664272513],\"type\":\"scatter\"},{\"line\":{\"color\":\"rgba(128, 0, 128, 1.0)\",\"dash\":\"solid\",\"shape\":\"linear\",\"width\":1.3},\"mode\":\"lines\",\"name\":\"Upper middle income\",\"text\":\"\",\"x\":[1960,1961,1962,1963,1964,1965,1966,1967,1968,1969,1970,1971,1972,1973,1974,1975,1976,1977,1978,1979,1980,1981,1982,1983,1984,1985,1986,1987,1988,1989,1990,1991,1992,1993,1994,1995,1996,1997,1998,1999,2000,2001,2002,2003,2004,2005,2006,2007,2008,2009,2010,2011,2012,2013,2014,2015,2016,2017,2018,2019,2020,2021,2022],\"y\":[\"\",0.004907394002245269,0.015221083364185262,0.02416727632537885,0.02339916659247976,0.02337497342816164,0.02486954584745149,0.02378021170527589,0.0239789133310353,0.02461178348236004,0.024599326944500177,0.024403786354152857,0.022734489273599223,0.021745704294779955,0.020463836741186014,0.018661326792713595,0.01745053817800013,0.016454870968285462,0.016324729159705953,0.016208237411856175,0.015678516274597598,0.015596963855930568,0.016520036764163137,0.0163965946454816,0.01570784241271639,0.015753503662374158,0.016267883081692247,0.016803310753591205,0.016634740044771945,0.01578681736650367,0.01592194235007227,0.014294199205089342,0.013147110540135287,0.012574345956398503,0.012364177989059755,0.011826178893205253,0.011561991140833783,0.011275518050222644,0.010693041446266704,0.00993498382150193,0.009378663401143683,0.008905072374592038,0.008467171116929961,0.008117591500852228,0.007887717401885652,0.00782966033445831,0.007407522328236382,0.00695503556114474,0.00746240547094601,0.0076011609254393875,0.0073482592828710835,0.007755382700430857,0.008572528261893808,0.008652579267387495,0.008285934206522683,0.007893963375313007,0.007510196013971182,0.007471466353155876,0.006898611351218165,0.006199346336885014,0.00496257951107637,0.0037561662119429684,0.0029649511449036936],\"type\":\"scatter\"},{\"line\":{\"color\":\"rgba(219, 64, 82, 1.0)\",\"dash\":\"solid\",\"shape\":\"linear\",\"width\":1.3},\"mode\":\"lines\",\"name\":\"World\",\"text\":\"\",\"x\":[1960,1961,1962,1963,1964,1965,1966,1967,1968,1969,1970,1971,1972,1973,1974,1975,1976,1977,1978,1979,1980,1981,1982,1983,1984,1985,1986,1987,1988,1989,1990,1991,1992,1993,1994,1995,1996,1997,1998,1999,2000,2001,2002,2003,2004,2005,2006,2007,2008,2009,2010,2011,2012,2013,2014,2015,2016,2017,2018,2019,2020,2021,2022],\"y\":[\"\",0.013417063802176443,0.017559873065966514,0.02106924398016119,0.020767518088060655,0.020571582070861183,0.020894027149740424,0.02035653939054427,0.02048816563476663,0.020800623783685523,0.020709672125942546,0.020842423149552758,0.019885618655219872,0.01968469715156118,0.01916982934111644,0.018382541564172072,0.017793888955999648,0.01740327040111822,0.017393521810912915,0.017549079646585142,0.01739490145795486,0.017531798494779594,0.017928451080610586,0.017695990400614647,0.017302470729795516,0.01735272623328754,0.017562038627172427,0.017727416399115015,0.017578154096550946,0.017292969097002953,0.017304761724396656,0.016699905990844144,0.01614889201313474,0.015681904220095078,0.015256164305636588,0.014899048420385697,0.014706693443915952,0.014431132787429135,0.014091194635678761,0.01371258579373702,0.01344088897463891,0.013261663139317648,0.013051037758348372,0.012809131756146286,0.012668816349421519,0.012558282050683545,0.01249805488798117,0.012350820635024462,0.012408374890195972,0.01230697772859557,0.012171673051309284,0.011987974113058186,0.0123057890217666,0.012235728675879187,0.012063275101684923,0.011794242412246803,0.011624105809708851,0.011419428020367661,0.011016741411378206,0.010570503032873546,0.0100799109272387,0.008670524194034357,0.007909645307485391],\"type\":\"scatter\"}],                        {\"legend\":{\"bgcolor\":\"#F5F6F9\",\"font\":{\"color\":\"#4D5663\"}},\"paper_bgcolor\":\"#F5F6F9\",\"plot_bgcolor\":\"#F5F6F9\",\"template\":{\"data\":{\"barpolar\":[{\"marker\":{\"line\":{\"color\":\"#E5ECF6\",\"width\":0.5},\"pattern\":{\"fillmode\":\"overlay\",\"size\":10,\"solidity\":0.2}},\"type\":\"barpolar\"}],\"bar\":[{\"error_x\":{\"color\":\"#2a3f5f\"},\"error_y\":{\"color\":\"#2a3f5f\"},\"marker\":{\"line\":{\"color\":\"#E5ECF6\",\"width\":0.5},\"pattern\":{\"fillmode\":\"overlay\",\"size\":10,\"solidity\":0.2}},\"type\":\"bar\"}],\"carpet\":[{\"aaxis\":{\"endlinecolor\":\"#2a3f5f\",\"gridcolor\":\"white\",\"linecolor\":\"white\",\"minorgridcolor\":\"white\",\"startlinecolor\":\"#2a3f5f\"},\"baxis\":{\"endlinecolor\":\"#2a3f5f\",\"gridcolor\":\"white\",\"linecolor\":\"white\",\"minorgridcolor\":\"white\",\"startlinecolor\":\"#2a3f5f\"},\"type\":\"carpet\"}],\"choropleth\":[{\"colorbar\":{\"outlinewidth\":0,\"ticks\":\"\"},\"type\":\"choropleth\"}],\"contourcarpet\":[{\"colorbar\":{\"outlinewidth\":0,\"ticks\":\"\"},\"type\":\"contourcarpet\"}],\"contour\":[{\"colorbar\":{\"outlinewidth\":0,\"ticks\":\"\"},\"colorscale\":[[0.0,\"#0d0887\"],[0.1111111111111111,\"#46039f\"],[0.2222222222222222,\"#7201a8\"],[0.3333333333333333,\"#9c179e\"],[0.4444444444444444,\"#bd3786\"],[0.5555555555555556,\"#d8576b\"],[0.6666666666666666,\"#ed7953\"],[0.7777777777777778,\"#fb9f3a\"],[0.8888888888888888,\"#fdca26\"],[1.0,\"#f0f921\"]],\"type\":\"contour\"}],\"heatmapgl\":[{\"colorbar\":{\"outlinewidth\":0,\"ticks\":\"\"},\"colorscale\":[[0.0,\"#0d0887\"],[0.1111111111111111,\"#46039f\"],[0.2222222222222222,\"#7201a8\"],[0.3333333333333333,\"#9c179e\"],[0.4444444444444444,\"#bd3786\"],[0.5555555555555556,\"#d8576b\"],[0.6666666666666666,\"#ed7953\"],[0.7777777777777778,\"#fb9f3a\"],[0.8888888888888888,\"#fdca26\"],[1.0,\"#f0f921\"]],\"type\":\"heatmapgl\"}],\"heatmap\":[{\"colorbar\":{\"outlinewidth\":0,\"ticks\":\"\"},\"colorscale\":[[0.0,\"#0d0887\"],[0.1111111111111111,\"#46039f\"],[0.2222222222222222,\"#7201a8\"],[0.3333333333333333,\"#9c179e\"],[0.4444444444444444,\"#bd3786\"],[0.5555555555555556,\"#d8576b\"],[0.6666666666666666,\"#ed7953\"],[0.7777777777777778,\"#fb9f3a\"],[0.8888888888888888,\"#fdca26\"],[1.0,\"#f0f921\"]],\"type\":\"heatmap\"}],\"histogram2dcontour\":[{\"colorbar\":{\"outlinewidth\":0,\"ticks\":\"\"},\"colorscale\":[[0.0,\"#0d0887\"],[0.1111111111111111,\"#46039f\"],[0.2222222222222222,\"#7201a8\"],[0.3333333333333333,\"#9c179e\"],[0.4444444444444444,\"#bd3786\"],[0.5555555555555556,\"#d8576b\"],[0.6666666666666666,\"#ed7953\"],[0.7777777777777778,\"#fb9f3a\"],[0.8888888888888888,\"#fdca26\"],[1.0,\"#f0f921\"]],\"type\":\"histogram2dcontour\"}],\"histogram2d\":[{\"colorbar\":{\"outlinewidth\":0,\"ticks\":\"\"},\"colorscale\":[[0.0,\"#0d0887\"],[0.1111111111111111,\"#46039f\"],[0.2222222222222222,\"#7201a8\"],[0.3333333333333333,\"#9c179e\"],[0.4444444444444444,\"#bd3786\"],[0.5555555555555556,\"#d8576b\"],[0.6666666666666666,\"#ed7953\"],[0.7777777777777778,\"#fb9f3a\"],[0.8888888888888888,\"#fdca26\"],[1.0,\"#f0f921\"]],\"type\":\"histogram2d\"}],\"histogram\":[{\"marker\":{\"pattern\":{\"fillmode\":\"overlay\",\"size\":10,\"solidity\":0.2}},\"type\":\"histogram\"}],\"mesh3d\":[{\"colorbar\":{\"outlinewidth\":0,\"ticks\":\"\"},\"type\":\"mesh3d\"}],\"parcoords\":[{\"line\":{\"colorbar\":{\"outlinewidth\":0,\"ticks\":\"\"}},\"type\":\"parcoords\"}],\"pie\":[{\"automargin\":true,\"type\":\"pie\"}],\"scatter3d\":[{\"line\":{\"colorbar\":{\"outlinewidth\":0,\"ticks\":\"\"}},\"marker\":{\"colorbar\":{\"outlinewidth\":0,\"ticks\":\"\"}},\"type\":\"scatter3d\"}],\"scattercarpet\":[{\"marker\":{\"colorbar\":{\"outlinewidth\":0,\"ticks\":\"\"}},\"type\":\"scattercarpet\"}],\"scattergeo\":[{\"marker\":{\"colorbar\":{\"outlinewidth\":0,\"ticks\":\"\"}},\"type\":\"scattergeo\"}],\"scattergl\":[{\"marker\":{\"colorbar\":{\"outlinewidth\":0,\"ticks\":\"\"}},\"type\":\"scattergl\"}],\"scattermapbox\":[{\"marker\":{\"colorbar\":{\"outlinewidth\":0,\"ticks\":\"\"}},\"type\":\"scattermapbox\"}],\"scatterpolargl\":[{\"marker\":{\"colorbar\":{\"outlinewidth\":0,\"ticks\":\"\"}},\"type\":\"scatterpolargl\"}],\"scatterpolar\":[{\"marker\":{\"colorbar\":{\"outlinewidth\":0,\"ticks\":\"\"}},\"type\":\"scatterpolar\"}],\"scatter\":[{\"fillpattern\":{\"fillmode\":\"overlay\",\"size\":10,\"solidity\":0.2},\"type\":\"scatter\"}],\"scatterternary\":[{\"marker\":{\"colorbar\":{\"outlinewidth\":0,\"ticks\":\"\"}},\"type\":\"scatterternary\"}],\"surface\":[{\"colorbar\":{\"outlinewidth\":0,\"ticks\":\"\"},\"colorscale\":[[0.0,\"#0d0887\"],[0.1111111111111111,\"#46039f\"],[0.2222222222222222,\"#7201a8\"],[0.3333333333333333,\"#9c179e\"],[0.4444444444444444,\"#bd3786\"],[0.5555555555555556,\"#d8576b\"],[0.6666666666666666,\"#ed7953\"],[0.7777777777777778,\"#fb9f3a\"],[0.8888888888888888,\"#fdca26\"],[1.0,\"#f0f921\"]],\"type\":\"surface\"}],\"table\":[{\"cells\":{\"fill\":{\"color\":\"#EBF0F8\"},\"line\":{\"color\":\"white\"}},\"header\":{\"fill\":{\"color\":\"#C8D4E3\"},\"line\":{\"color\":\"white\"}},\"type\":\"table\"}]},\"layout\":{\"annotationdefaults\":{\"arrowcolor\":\"#2a3f5f\",\"arrowhead\":0,\"arrowwidth\":1},\"autotypenumbers\":\"strict\",\"coloraxis\":{\"colorbar\":{\"outlinewidth\":0,\"ticks\":\"\"}},\"colorscale\":{\"diverging\":[[0,\"#8e0152\"],[0.1,\"#c51b7d\"],[0.2,\"#de77ae\"],[0.3,\"#f1b6da\"],[0.4,\"#fde0ef\"],[0.5,\"#f7f7f7\"],[0.6,\"#e6f5d0\"],[0.7,\"#b8e186\"],[0.8,\"#7fbc41\"],[0.9,\"#4d9221\"],[1,\"#276419\"]],\"sequential\":[[0.0,\"#0d0887\"],[0.1111111111111111,\"#46039f\"],[0.2222222222222222,\"#7201a8\"],[0.3333333333333333,\"#9c179e\"],[0.4444444444444444,\"#bd3786\"],[0.5555555555555556,\"#d8576b\"],[0.6666666666666666,\"#ed7953\"],[0.7777777777777778,\"#fb9f3a\"],[0.8888888888888888,\"#fdca26\"],[1.0,\"#f0f921\"]],\"sequentialminus\":[[0.0,\"#0d0887\"],[0.1111111111111111,\"#46039f\"],[0.2222222222222222,\"#7201a8\"],[0.3333333333333333,\"#9c179e\"],[0.4444444444444444,\"#bd3786\"],[0.5555555555555556,\"#d8576b\"],[0.6666666666666666,\"#ed7953\"],[0.7777777777777778,\"#fb9f3a\"],[0.8888888888888888,\"#fdca26\"],[1.0,\"#f0f921\"]]},\"colorway\":[\"#636efa\",\"#EF553B\",\"#00cc96\",\"#ab63fa\",\"#FFA15A\",\"#19d3f3\",\"#FF6692\",\"#B6E880\",\"#FF97FF\",\"#FECB52\"],\"font\":{\"color\":\"#2a3f5f\"},\"geo\":{\"bgcolor\":\"white\",\"lakecolor\":\"white\",\"landcolor\":\"#E5ECF6\",\"showlakes\":true,\"showland\":true,\"subunitcolor\":\"white\"},\"hoverlabel\":{\"align\":\"left\"},\"hovermode\":\"closest\",\"mapbox\":{\"style\":\"light\"},\"paper_bgcolor\":\"white\",\"plot_bgcolor\":\"#E5ECF6\",\"polar\":{\"angularaxis\":{\"gridcolor\":\"white\",\"linecolor\":\"white\",\"ticks\":\"\"},\"bgcolor\":\"#E5ECF6\",\"radialaxis\":{\"gridcolor\":\"white\",\"linecolor\":\"white\",\"ticks\":\"\"}},\"scene\":{\"xaxis\":{\"backgroundcolor\":\"#E5ECF6\",\"gridcolor\":\"white\",\"gridwidth\":2,\"linecolor\":\"white\",\"showbackground\":true,\"ticks\":\"\",\"zerolinecolor\":\"white\"},\"yaxis\":{\"backgroundcolor\":\"#E5ECF6\",\"gridcolor\":\"white\",\"gridwidth\":2,\"linecolor\":\"white\",\"showbackground\":true,\"ticks\":\"\",\"zerolinecolor\":\"white\"},\"zaxis\":{\"backgroundcolor\":\"#E5ECF6\",\"gridcolor\":\"white\",\"gridwidth\":2,\"linecolor\":\"white\",\"showbackground\":true,\"ticks\":\"\",\"zerolinecolor\":\"white\"}},\"shapedefaults\":{\"line\":{\"color\":\"#2a3f5f\"}},\"ternary\":{\"aaxis\":{\"gridcolor\":\"white\",\"linecolor\":\"white\",\"ticks\":\"\"},\"baxis\":{\"gridcolor\":\"white\",\"linecolor\":\"white\",\"ticks\":\"\"},\"bgcolor\":\"#E5ECF6\",\"caxis\":{\"gridcolor\":\"white\",\"linecolor\":\"white\",\"ticks\":\"\"}},\"title\":{\"x\":0.05},\"xaxis\":{\"automargin\":true,\"gridcolor\":\"white\",\"linecolor\":\"white\",\"ticks\":\"\",\"title\":{\"standoff\":15},\"zerolinecolor\":\"white\",\"zerolinewidth\":2},\"yaxis\":{\"automargin\":true,\"gridcolor\":\"white\",\"linecolor\":\"white\",\"ticks\":\"\",\"title\":{\"standoff\":15},\"zerolinecolor\":\"white\",\"zerolinewidth\":2}}},\"title\":{\"font\":{\"color\":\"#4D5663\"},\"text\":\"Fact II: Poorer places have higher growth rates\"},\"xaxis\":{\"gridcolor\":\"#E1E5ED\",\"showgrid\":true,\"tickfont\":{\"color\":\"#4D5663\"},\"title\":{\"font\":{\"color\":\"#4D5663\"},\"text\":\"Year\"},\"zerolinecolor\":\"#E1E5ED\"},\"yaxis\":{\"gridcolor\":\"#E1E5ED\",\"showgrid\":true,\"tickfont\":{\"color\":\"#4D5663\"},\"title\":{\"font\":{\"color\":\"#4D5663\"},\"text\":\"Growth Rate\"},\"zerolinecolor\":\"#E1E5ED\"}},                        {\"showLink\": true, \"linkText\": \"Export to plot.ly\", \"plotlyServerURL\": \"https://plot.ly\", \"responsive\": true}                    ).then(function(){\n",
              "                            \n",
              "var gd = document.getElementById('cb870d0e-3246-4908-95c9-a63bd27b8e91');\n",
              "var x = new MutationObserver(function (mutations, observer) {{\n",
              "        var display = window.getComputedStyle(gd).display;\n",
              "        if (!display || display === 'none') {{\n",
              "            console.log([gd, 'removed!']);\n",
              "            Plotly.purge(gd);\n",
              "            observer.disconnect();\n",
              "        }}\n",
              "}});\n",
              "\n",
              "// Listen for the removal of the full notebook cells\n",
              "var notebookContainer = gd.closest('#notebook-container');\n",
              "if (notebookContainer) {{\n",
              "    x.observe(notebookContainer, {childList: true});\n",
              "}}\n",
              "\n",
              "// Listen for the clearing of the current output cell\n",
              "var outputEl = gd.closest('.output');\n",
              "if (outputEl) {{\n",
              "    x.observe(outputEl, {childList: true});\n",
              "}}\n",
              "\n",
              "                        })                };                });            </script>        </div>"
            ]
          },
          "metadata": {},
          "output_type": "display_data"
        }
      ],
      "source": [
        "import numpy as np\n",
        "\n",
        "variable_labels = {\"SP.POP.TOTL\":\"Population\"}\n",
        "\n",
        "# Three letter codes come from wbdata.get_country()\n",
        "countries = {\"WLD\":\"World\",\n",
        "             \"LIC\":\"Low income\",\n",
        "             \"LMC\":\"Low-medium income\",\n",
        "             \"UMC\":\"Upper-medium income\",\n",
        "             \"HIC\":\"High income\",\n",
        "            }\n",
        "\n",
        "df = wbdata.get_dataframe(variable_labels, country = countries).squeeze()\n",
        "\n",
        "df = df.unstack('country')\n",
        "# Date index is of type string; change to integers\n",
        "df.index = df.index.astype(int)\n",
        "\n",
        "# Differences (over time) in logs give us growth rates\n",
        "np.log(df).diff().iplot(title=\"Fact II: Poorer places have higher growth rates\",\n",
        "                        yTitle=\"Growth Rate\",xTitle='Year')"
      ]
    },
    {
      "cell_type": "markdown",
      "metadata": {},
      "source": [
        "##### Population Growth vs Per capita GDP\n",
        "\n"
      ]
    },
    {
      "cell_type": "markdown",
      "metadata": {},
      "source": [
        "Our second stylized fact was that there&rsquo;s an inverse association between\n",
        " income and population growth.  We&rsquo;ll investigate this fact here, \n",
        " constructing a scatter plot relating population growth rates to (log) GDP per capita.\n",
        "\n"
      ]
    },
    {
      "cell_type": "code",
      "execution_count": 9,
      "metadata": {},
      "outputs": [
        {
          "data": {
            "application/vnd.plotly.v1+json": {
              "config": {
                "linkText": "Export to plot.ly",
                "plotlyServerURL": "https://plot.ly",
                "showLink": true
              },
              "data": [
                {
                  "line": {
                    "color": "rgba(255, 153, 51, 1.0)",
                    "dash": "solid",
                    "shape": "linear",
                    "width": 1.3
                  },
                  "marker": {
                    "size": 12,
                    "symbol": "circle-dot"
                  },
                  "mode": "markers",
                  "name": "Population Growth Rate",
                  "text": [
                    "Africa Eastern and Southern",
                    "Africa Western and Central",
                    "Arab World",
                    "Caribbean small states",
                    "Central Europe and the Baltics",
                    "Early-demographic dividend",
                    "East Asia & Pacific",
                    "East Asia & Pacific (excluding high income)",
                    "East Asia & Pacific (IDA & IBRD countries)",
                    "Euro area",
                    "Europe & Central Asia",
                    "Europe & Central Asia (excluding high income)",
                    "Europe & Central Asia (IDA & IBRD countries)",
                    "European Union",
                    "Fragile and conflict affected situations",
                    "Heavily indebted poor countries (HIPC)",
                    "High income",
                    "IBRD only",
                    "IDA & IBRD total",
                    "IDA blend",
                    "IDA only",
                    "IDA total",
                    "Late-demographic dividend",
                    "Latin America & Caribbean",
                    "Latin America & Caribbean (excluding high income)",
                    "Latin America & the Caribbean (IDA & IBRD countries)",
                    "Least developed countries: UN classification",
                    "Low & middle income",
                    "Low income",
                    "Lower middle income",
                    "Middle East & North Africa",
                    "Middle East & North Africa (excluding high income)",
                    "Middle East & North Africa (IDA & IBRD countries)",
                    "Middle income",
                    "North America",
                    "Not classified",
                    "OECD members",
                    "Other small states",
                    "Pacific island small states",
                    "Post-demographic dividend",
                    "Pre-demographic dividend",
                    "Small states",
                    "South Asia",
                    "South Asia (IDA & IBRD)",
                    "Sub-Saharan Africa",
                    "Sub-Saharan Africa (excluding high income)",
                    "Sub-Saharan Africa (IDA & IBRD countries)",
                    "Upper middle income",
                    "World",
                    "Afghanistan",
                    "Albania",
                    "Algeria",
                    "American Samoa",
                    "Andorra",
                    "Angola",
                    "Antigua and Barbuda",
                    "Argentina",
                    "Armenia",
                    "Aruba",
                    "Australia",
                    "Austria",
                    "Azerbaijan",
                    "Bahamas, The",
                    "Bahrain",
                    "Bangladesh",
                    "Barbados",
                    "Belarus",
                    "Belgium",
                    "Belize",
                    "Benin",
                    "Bermuda",
                    "Bhutan",
                    "Bolivia",
                    "Bosnia and Herzegovina",
                    "Botswana",
                    "Brazil",
                    "British Virgin Islands",
                    "Brunei Darussalam",
                    "Bulgaria",
                    "Burkina Faso",
                    "Burundi",
                    "Cabo Verde",
                    "Cambodia",
                    "Cameroon",
                    "Canada",
                    "Cayman Islands",
                    "Central African Republic",
                    "Chad",
                    "Channel Islands",
                    "Chile",
                    "China",
                    "Colombia",
                    "Comoros",
                    "Congo, Dem. Rep.",
                    "Congo, Rep.",
                    "Costa Rica",
                    "Cote d'Ivoire",
                    "Croatia",
                    "Cuba",
                    "Curacao",
                    "Cyprus",
                    "Czechia",
                    "Denmark",
                    "Djibouti",
                    "Dominica",
                    "Dominican Republic",
                    "Ecuador",
                    "Egypt, Arab Rep.",
                    "El Salvador",
                    "Equatorial Guinea",
                    "Eritrea",
                    "Estonia",
                    "Eswatini",
                    "Ethiopia",
                    "Faroe Islands",
                    "Fiji",
                    "Finland",
                    "France",
                    "French Polynesia",
                    "Gabon",
                    "Gambia, The",
                    "Georgia",
                    "Germany",
                    "Ghana",
                    "Gibraltar",
                    "Greece",
                    "Greenland",
                    "Grenada",
                    "Guam",
                    "Guatemala",
                    "Guinea",
                    "Guinea-Bissau",
                    "Guyana",
                    "Haiti",
                    "Honduras",
                    "Hong Kong SAR, China",
                    "Hungary",
                    "Iceland",
                    "India",
                    "Indonesia",
                    "Iran, Islamic Rep.",
                    "Iraq",
                    "Ireland",
                    "Isle of Man",
                    "Israel",
                    "Italy",
                    "Jamaica",
                    "Japan",
                    "Jordan",
                    "Kazakhstan",
                    "Kenya",
                    "Kiribati",
                    "Korea, Dem. People's Rep.",
                    "Korea, Rep.",
                    "Kosovo",
                    "Kuwait",
                    "Kyrgyz Republic",
                    "Lao PDR",
                    "Latvia",
                    "Lebanon",
                    "Lesotho",
                    "Liberia",
                    "Libya",
                    "Liechtenstein",
                    "Lithuania",
                    "Luxembourg",
                    "Macao SAR, China",
                    "Madagascar",
                    "Malawi",
                    "Malaysia",
                    "Maldives",
                    "Mali",
                    "Malta",
                    "Marshall Islands",
                    "Mauritania",
                    "Mauritius",
                    "Mexico",
                    "Micronesia, Fed. Sts.",
                    "Moldova",
                    "Monaco",
                    "Mongolia",
                    "Montenegro",
                    "Morocco",
                    "Mozambique",
                    "Myanmar",
                    "Namibia",
                    "Nauru",
                    "Nepal",
                    "Netherlands",
                    "New Caledonia",
                    "New Zealand",
                    "Nicaragua",
                    "Niger",
                    "Nigeria",
                    "North Macedonia",
                    "Northern Mariana Islands",
                    "Norway",
                    "Oman",
                    "Pakistan",
                    "Palau",
                    "Panama",
                    "Papua New Guinea",
                    "Paraguay",
                    "Peru",
                    "Philippines",
                    "Poland",
                    "Portugal",
                    "Puerto Rico",
                    "Qatar",
                    "Romania",
                    "Russian Federation",
                    "Rwanda",
                    "Samoa",
                    "San Marino",
                    "Sao Tome and Principe",
                    "Saudi Arabia",
                    "Senegal",
                    "Serbia",
                    "Seychelles",
                    "Sierra Leone",
                    "Singapore",
                    "Sint Maarten (Dutch part)",
                    "Slovak Republic",
                    "Slovenia",
                    "Solomon Islands",
                    "Somalia",
                    "South Africa",
                    "South Sudan",
                    "Spain",
                    "Sri Lanka",
                    "St. Kitts and Nevis",
                    "St. Lucia",
                    "St. Martin (French part)",
                    "St. Vincent and the Grenadines",
                    "Sudan",
                    "Suriname",
                    "Sweden",
                    "Switzerland",
                    "Syrian Arab Republic",
                    "Tajikistan",
                    "Tanzania",
                    "Thailand",
                    "Timor-Leste",
                    "Togo",
                    "Tonga",
                    "Trinidad and Tobago",
                    "Tunisia",
                    "Turkiye",
                    "Turkmenistan",
                    "Turks and Caicos Islands",
                    "Tuvalu",
                    "Uganda",
                    "Ukraine",
                    "United Arab Emirates",
                    "United Kingdom",
                    "United States",
                    "Uruguay",
                    "Uzbekistan",
                    "Vanuatu",
                    "Venezuela, RB",
                    "Viet Nam",
                    "Virgin Islands (U.S.)",
                    "West Bank and Gaza",
                    "Yemen, Rep.",
                    "Zambia",
                    "Zimbabwe"
                  ],
                  "type": "scatter",
                  "x": [
                    7.212151333974805,
                    7.431344446226868,
                    8.63837357318815,
                    9.087776511740985,
                    9.698795477186636,
                    8.084104567788708,
                    9.348747807703342,
                    9.01954190099539,
                    9.030585203748085,
                    10.55043261278604,
                    10.086716865159742,
                    8.919704398470655,
                    9.042541365093753,
                    10.444548680137816,
                    7.438963168672916,
                    6.875713253879908,
                    10.679267422096812,
                    8.728673210695574,
                    8.49731069903524,
                    7.451484262827903,
                    7.0902843730732785,
                    7.224817218355874,
                    9.182178566868648,
                    8.908312518249113,
                    8.837749417770743,
                    8.879968240861013,
                    6.987364064943767,
                    8.462812466800186,
                    6.4872070014791205,
                    7.660750433540952,
                    8.79174545278664,
                    8.045616570279185,
                    8.04518724912694,
                    8.555991190795998,
                    11.026160077074165,
                    null,
                    10.555584828486792,
                    9.366226753771835,
                    8.215574199063546,
                    10.703262509324471,
                    7.193250539496746,
                    9.278410829586123,
                    7.525017625577813,
                    7.525017625577813,
                    7.306766046477195,
                    7.306161576962512,
                    7.306766046477195,
                    9.066816603513944,
                    9.296723305191017,
                    6.238432232977471,
                    8.583549628641762,
                    8.117954607326162,
                    9.655652741766657,
                    10.524258614642,
                    7.27994285597321,
                    9.63068480445983,
                    9.047920018620248,
                    8.413135768976193,
                    10.086147711237473,
                    10.856462081480364,
                    10.79527036068656,
                    8.349936148660023,
                    10.08573694085603,
                    10.061908554527601,
                    7.711238233634446,
                    9.73403295166171,
                    8.786130351590106,
                    10.727860421048103,
                    8.553555606170049,
                    7.123457738207607,
                    11.587957669644279,
                    8.065057691206844,
                    8.029045975910078,
                    8.715241143751886,
                    8.678473356977108,
                    8.842705575057662,
                    null,
                    10.210212878994183,
                    9.22506566033953,
                    6.7136271916495325,
                    5.379101725964691,
                    8.047637416659937,
                    7.363857568229706,
                    7.338972954927921,
                    10.677054550936717,
                    11.337351159514935,
                    6.076424180251708,
                    6.467344961198433,
                    10.956745488118992,
                    9.485984133419137,
                    9.25039915251705,
                    8.57627104185557,
                    7.326193721496962,
                    6.262763177561134,
                    7.606521383286369,
                    9.407489510954901,
                    7.7617747338988945,
                    9.565908323269909,
                    9.15900207702691,
                    9.702355787353195,
                    10.249960535332633,
                    10.042939854948859,
                    11.015946735800126,
                    7.979934165393947,
                    8.85416100395805,
                    8.877370092744025,
                    8.638560779707866,
                    8.1807568879732,
                    8.284435227774601,
                    8.732133995806468,
                    null,
                    10.068800431873383,
                    8.123529554257717,
                    6.822908024854733,
                    11.038672318184446,
                    8.479634439250471,
                    10.8030332524143,
                    10.575915164157314,
                    9.861920372636838,
                    8.806885641405842,
                    6.556821626297475,
                    8.356024642264972,
                    10.752558330974962,
                    7.6855083790065475,
                    null,
                    9.776636170631441,
                    10.90949241148596,
                    9.040445694556468,
                    10.456822562255251,
                    8.435960848872206,
                    6.978828035741994,
                    6.565628471535645,
                    8.833910775711706,
                    7.157066434831569,
                    7.763922872671974,
                    10.738768425747955,
                    9.688163933727562,
                    10.98272023253888,
                    7.556542825775277,
                    8.267607649692742,
                    7.918053336197682,
                    8.35498886012798,
                    11.361789601701167,
                    11.283897201199787,
                    10.711007328595468,
                    10.371079499845203,
                    8.496432114024165,
                    10.596307895408183,
                    8.293717869645382,
                    9.118404497788553,
                    7.568508781424348,
                    7.247076206105345,
                    null,
                    10.364743624285719,
                    8.36890986542227,
                    10.098137419215908,
                    7.136426903117002,
                    7.860707720705027,
                    9.803457400069211,
                    8.630514291445781,
                    6.821496034987859,
                    6.392803976115832,
                    8.858604406085378,
                    12.015439765780545,
                    9.92240036164718,
                    11.669120086497786,
                    10.531422240746757,
                    6.136439462684824,
                    6.433236819243198,
                    9.226641231220574,
                    8.884169188811958,
                    6.7128421441511605,
                    10.295449777760119,
                    8.620760147741953,
                    7.515503823741949,
                    9.106206091345923,
                    9.093232306605195,
                    8.199577601100916,
                    8.38394575691371,
                    12.114710293325235,
                    8.304290558840266,
                    8.946032491649369,
                    8.088951364932612,
                    6.123768155991217,
                    7.2995363119117345,
                    8.355154551300704,
                    9.222733323349395,
                    7.038072667759684,
                    10.862120469064552,
                    10.459601090029258,
                    10.639708465366981,
                    7.537220839552776,
                    6.336545448185043,
                    7.637530269156349,
                    8.693739810636457,
                    9.758630675866774,
                    11.132250790570772,
                    9.72362036169967,
                    7.187139105074445,
                    9.571457611637642,
                    9.495017925014144,
                    7.8022439381359785,
                    8.585477450615182,
                    8.71006340214304,
                    8.078509239946408,
                    9.668829235162866,
                    10.00975594475802,
                    10.355436329235728,
                    10.865051033117021,
                    9.476348501526942,
                    9.229597890556029,
                    6.65127888603548,
                    8.304673692355749,
                    10.721536574765699,
                    7.675669367468722,
                    9.923195125662602,
                    7.308191699699386,
                    8.953356060535555,
                    9.394328960526682,
                    6.201385545599333,
                    11.023110752274711,
                    10.28271373164365,
                    9.880837521820894,
                    10.14872244550918,
                    7.706370922712645,
                    6.321807441253273,
                    8.657488294998078,
                    null,
                    10.20301035641097,
                    8.256448777947142,
                    9.828422198860617,
                    9.09957916165028,
                    null,
                    9.024776824774525,
                    6.410721639590738,
                    8.475648709693964,
                    10.874984090510637,
                    11.360913314087094,
                    6.2861661150508,
                    6.747974045117349,
                    7.006844154796486,
                    8.853920461261412,
                    7.416714940367943,
                    6.787506155475912,
                    8.435108749746474,
                    9.525581692721273,
                    8.159866328335793,
                    9.064011917421075,
                    8.899780764700472,
                    9.946655334514631,
                    8.449965490217552,
                    6.741560424147449,
                    8.229974292932832,
                    10.535534937260977,
                    10.60204529486517,
                    11.059246017142232,
                    9.658258099820037,
                    7.47267552794803,
                    7.97857039767702,
                    null,
                    8.184889463825673,
                    10.581801392383682,
                    8.081341647925488,
                    6.360459307326557,
                    6.863627544213249,
                    7.22453245956093
                  ],
                  "y": [
                    2.67818371641901,
                    2.61564613985792,
                    1.75789900697592,
                    0.278363632396221,
                    -0.213296992709971,
                    1.1942132122177,
                    0.428125777126169,
                    0.474116990360201,
                    0.474607722037376,
                    0.134533310515209,
                    0.225571530637069,
                    0.343862835452157,
                    0.256594298573717,
                    0.0726749762925749,
                    2.29467629065397,
                    2.81754331814685,
                    0.405023510702989,
                    0.706875805516077,
                    1.11900278966731,
                    2.1035916282577,
                    2.36198019763422,
                    2.27630855493415,
                    0.337119620278159,
                    0.81190393111558,
                    0.911196365264288,
                    0.820442613007259,
                    2.43751718861938,
                    1.14117087896702,
                    2.82051086331371,
                    1.36291804104967,
                    1.42959607452869,
                    1.61642665204242,
                    1.60588466607715,
                    0.954210544446667,
                    0.980198111617312,
                    "",
                    0.547018023742595,
                    1.17475830777339,
                    1.21246653286384,
                    0.36941572328584,
                    2.78956673113984,
                    1.01845678592984,
                    1.12446941929608,
                    1.12446941929608,
                    2.65285160970254,
                    2.6530079112905,
                    2.65285160970254,
                    0.497491350314363,
                    1.01308843546317,
                    3.13474690779163,
                    -0.574206959244013,
                    1.73245672803153,
                    -2.4212497099907,
                    1.76189129507448,
                    3.26834840458456,
                    0.592053942582792,
                    0.970053991438048,
                    -0.533006606500067,
                    0.134255302359952,
                    1.23342825131378,
                    0.415176731565556,
                    0.684365325388407,
                    0.471994444906908,
                    -1.12524267833833,
                    1.14420974001656,
                    0.182929163306018,
                    -0.42347525027949,
                    0.430996815099722,
                    1.48622151575632,
                    2.82913811282206,
                    -0.0281681326390652,
                    0.655471789302584,
                    1.33973922043111,
                    -1.26677102311527,
                    1.85098576387245,
                    0.665176682246802,
                    0.975300318670376,
                    0.835902308961215,
                    -0.60024151846542,
                    2.68878766730686,
                    2.86708219532744,
                    0.96752416855618,
                    1.16005769739725,
                    2.71185365793296,
                    1.0737958268224,
                    1.76406837687354,
                    2.5340939316943,
                    3.16053305963688,
                    1.00023446187106,
                    1.36064363430941,
                    0.238040870229883,
                    1.47010203160178,
                    1.90094081397491,
                    3.22447844328183,
                    2.33208625068898,
                    0.755771068349343,
                    2.50861820334885,
                    -0.433210220837755,
                    -0.141475202325743,
                    -1.59676619476798,
                    0.705573414651573,
                    0.243222682211879,
                    0.291641177476633,
                    1.49363957876332,
                    0.790672282535559,
                    1.07655224672892,
                    1.40190462603926,
                    1.73312957205986,
                    0.199062369975812,
                    2.73226949782894,
                    1.61739994313834,
                    0.197559185177642,
                    0.939644435809807,
                    2.65485915620519,
                    1.41026007721943,
                    0.212846220439299,
                    0.143641197212847,
                    0.271350507669993,
                    0.732338551627656,
                    2.19563704311712,
                    2.56215324974841,
                    0.0686562494680967,
                    0.0816931586494595,
                    2.06626880077022,
                    0.0734012327661469,
                    -0.214592106571664,
                    0.252238303411568,
                    0.762219229220411,
                    0.359326132872351,
                    1.51998785357799,
                    2.51225012110646,
                    2.27645335668636,
                    -0.194366443701065,
                    1.30291995864045,
                    1.622836376932,
                    -0.358932661902885,
                    -0.215067837129585,
                    1.6230862512591,
                    0.95522085775158,
                    0.840389268128048,
                    0.83517614833256,
                    2.36211183923937,
                    1.02911050277336,
                    0.134540647396739,
                    1.76367939210866,
                    -0.487095091717782,
                    0.236519557799568,
                    -0.294194617750067,
                    2.12736281777905,
                    1.29863532544565,
                    2.00970011079671,
                    1.77265475198411,
                    0.434017300434564,
                    0.137869266247028,
                    0.0701311089258031,
                    -1.83282064689651,
                    1.89786382312175,
                    1.47745666003059,
                    -0.701211570733301,
                    -2.07933690590844,
                    1.26784087310275,
                    2.03116860337744,
                    1.28344509210842,
                    0.709498302393315,
                    0.0267667582795671,
                    1.66635867423273,
                    1.88522049742858,
                    2.48242289292055,
                    2.66577178304392,
                    1.19985962233223,
                    1.94913457153784,
                    3.14260365885334,
                    2.21120767752363,
                    -2.9840768300379,
                    2.58400208033153,
                    0.00229068020969373,
                    0.727243815691995,
                    0.650605243674555,
                    -1.09803165876287,
                    -0.302883026724653,
                    1.8970150281402,
                    -0.116139360968958,
                    1.05316017914606,
                    2.90481965930954,
                    0.71947282559554,
                    1.72031062423917,
                    1.49714417461665,
                    1.77426805557613,
                    0.55554079025497,
                    -0.0590057547729274,
                    2.20478869594563,
                    1.37069568464204,
                    3.72710072523223,
                    2.44060888477318,
                    -0.200664046750733,
                    -0.545026237308475,
                    0.588757324043059,
                    -1.29824513056146,
                    1.73302782045863,
                    0.312082286285984,
                    1.4510521369147,
                    2.14763227357632,
                    1.34872957032065,
                    1.45140240084226,
                    1.62663290469171,
                    -0.175062058196296,
                    0.10511412524675,
                    2.71397643163413,
                    -1.68298503942558,
                    -0.550759892541776,
                    -0.230950388878624,
                    2.3967070500013,
                    1.41696799990075,
                    -0.501577644647767,
                    1.86599449843616,
                    0.472667096302666,
                    2.68438184925041,
                    -0.666107601320794,
                    0.853707878128979,
                    2.29903034010859,
                    -0.311904961250833,
                    1.6731008261205,
                    0.0857694756149868,
                    0.669754656164979,
                    2.3713876123354,
                    3.41819734760827,
                    1.22317929511453,
                    1.50626772829854,
                    0.488502131838585,
                    0.530626559530355,
                    -0.146821344830063,
                    0.365547330085114,
                    -1.72979919917872,
                    -0.278684637027924,
                    2.75677878454575,
                    1.12046732560236,
                    0.722703912882934,
                    0.730676195047382,
                    3.30017735470972,
                    2.18442696878278,
                    3.01385328385348,
                    0.235182865291138,
                    1.51582114075127,
                    2.39121902175851,
                    0.28829020228429,
                    -0.119021692717152,
                    0.928583172377061,
                    0.970386031353162,
                    1.4831290153972,
                    2.73839172351897,
                    1.02611570026552,
                    3.33280874526165,
                    -0.574242470135943,
                    0.817694385518168,
                    0.365758263815142,
                    0.964347900193196,
                    0.0197448194187447,
                    1.92212652692564,
                    2.36372959142916,
                    -1.67498559751263,
                    0.906299234852032,
                    -0.35593743409178,
                    2.48654993848325,
                    2.31044739697631,
                    2.9338181351684,
                    2.03111171035477
                  ]
                }
              ],
              "layout": {
                "legend": {
                  "bgcolor": "#F5F6F9",
                  "font": {
                    "color": "#4D5663"
                  }
                },
                "paper_bgcolor": "#F5F6F9",
                "plot_bgcolor": "#F5F6F9",
                "template": {
                  "data": {
                    "bar": [
                      {
                        "error_x": {
                          "color": "#2a3f5f"
                        },
                        "error_y": {
                          "color": "#2a3f5f"
                        },
                        "marker": {
                          "line": {
                            "color": "#E5ECF6",
                            "width": 0.5
                          },
                          "pattern": {
                            "fillmode": "overlay",
                            "size": 10,
                            "solidity": 0.2
                          }
                        },
                        "type": "bar"
                      }
                    ],
                    "barpolar": [
                      {
                        "marker": {
                          "line": {
                            "color": "#E5ECF6",
                            "width": 0.5
                          },
                          "pattern": {
                            "fillmode": "overlay",
                            "size": 10,
                            "solidity": 0.2
                          }
                        },
                        "type": "barpolar"
                      }
                    ],
                    "carpet": [
                      {
                        "aaxis": {
                          "endlinecolor": "#2a3f5f",
                          "gridcolor": "white",
                          "linecolor": "white",
                          "minorgridcolor": "white",
                          "startlinecolor": "#2a3f5f"
                        },
                        "baxis": {
                          "endlinecolor": "#2a3f5f",
                          "gridcolor": "white",
                          "linecolor": "white",
                          "minorgridcolor": "white",
                          "startlinecolor": "#2a3f5f"
                        },
                        "type": "carpet"
                      }
                    ],
                    "choropleth": [
                      {
                        "colorbar": {
                          "outlinewidth": 0,
                          "ticks": ""
                        },
                        "type": "choropleth"
                      }
                    ],
                    "contour": [
                      {
                        "colorbar": {
                          "outlinewidth": 0,
                          "ticks": ""
                        },
                        "colorscale": [
                          [
                            0,
                            "#0d0887"
                          ],
                          [
                            0.1111111111111111,
                            "#46039f"
                          ],
                          [
                            0.2222222222222222,
                            "#7201a8"
                          ],
                          [
                            0.3333333333333333,
                            "#9c179e"
                          ],
                          [
                            0.4444444444444444,
                            "#bd3786"
                          ],
                          [
                            0.5555555555555556,
                            "#d8576b"
                          ],
                          [
                            0.6666666666666666,
                            "#ed7953"
                          ],
                          [
                            0.7777777777777778,
                            "#fb9f3a"
                          ],
                          [
                            0.8888888888888888,
                            "#fdca26"
                          ],
                          [
                            1,
                            "#f0f921"
                          ]
                        ],
                        "type": "contour"
                      }
                    ],
                    "contourcarpet": [
                      {
                        "colorbar": {
                          "outlinewidth": 0,
                          "ticks": ""
                        },
                        "type": "contourcarpet"
                      }
                    ],
                    "heatmap": [
                      {
                        "colorbar": {
                          "outlinewidth": 0,
                          "ticks": ""
                        },
                        "colorscale": [
                          [
                            0,
                            "#0d0887"
                          ],
                          [
                            0.1111111111111111,
                            "#46039f"
                          ],
                          [
                            0.2222222222222222,
                            "#7201a8"
                          ],
                          [
                            0.3333333333333333,
                            "#9c179e"
                          ],
                          [
                            0.4444444444444444,
                            "#bd3786"
                          ],
                          [
                            0.5555555555555556,
                            "#d8576b"
                          ],
                          [
                            0.6666666666666666,
                            "#ed7953"
                          ],
                          [
                            0.7777777777777778,
                            "#fb9f3a"
                          ],
                          [
                            0.8888888888888888,
                            "#fdca26"
                          ],
                          [
                            1,
                            "#f0f921"
                          ]
                        ],
                        "type": "heatmap"
                      }
                    ],
                    "heatmapgl": [
                      {
                        "colorbar": {
                          "outlinewidth": 0,
                          "ticks": ""
                        },
                        "colorscale": [
                          [
                            0,
                            "#0d0887"
                          ],
                          [
                            0.1111111111111111,
                            "#46039f"
                          ],
                          [
                            0.2222222222222222,
                            "#7201a8"
                          ],
                          [
                            0.3333333333333333,
                            "#9c179e"
                          ],
                          [
                            0.4444444444444444,
                            "#bd3786"
                          ],
                          [
                            0.5555555555555556,
                            "#d8576b"
                          ],
                          [
                            0.6666666666666666,
                            "#ed7953"
                          ],
                          [
                            0.7777777777777778,
                            "#fb9f3a"
                          ],
                          [
                            0.8888888888888888,
                            "#fdca26"
                          ],
                          [
                            1,
                            "#f0f921"
                          ]
                        ],
                        "type": "heatmapgl"
                      }
                    ],
                    "histogram": [
                      {
                        "marker": {
                          "pattern": {
                            "fillmode": "overlay",
                            "size": 10,
                            "solidity": 0.2
                          }
                        },
                        "type": "histogram"
                      }
                    ],
                    "histogram2d": [
                      {
                        "colorbar": {
                          "outlinewidth": 0,
                          "ticks": ""
                        },
                        "colorscale": [
                          [
                            0,
                            "#0d0887"
                          ],
                          [
                            0.1111111111111111,
                            "#46039f"
                          ],
                          [
                            0.2222222222222222,
                            "#7201a8"
                          ],
                          [
                            0.3333333333333333,
                            "#9c179e"
                          ],
                          [
                            0.4444444444444444,
                            "#bd3786"
                          ],
                          [
                            0.5555555555555556,
                            "#d8576b"
                          ],
                          [
                            0.6666666666666666,
                            "#ed7953"
                          ],
                          [
                            0.7777777777777778,
                            "#fb9f3a"
                          ],
                          [
                            0.8888888888888888,
                            "#fdca26"
                          ],
                          [
                            1,
                            "#f0f921"
                          ]
                        ],
                        "type": "histogram2d"
                      }
                    ],
                    "histogram2dcontour": [
                      {
                        "colorbar": {
                          "outlinewidth": 0,
                          "ticks": ""
                        },
                        "colorscale": [
                          [
                            0,
                            "#0d0887"
                          ],
                          [
                            0.1111111111111111,
                            "#46039f"
                          ],
                          [
                            0.2222222222222222,
                            "#7201a8"
                          ],
                          [
                            0.3333333333333333,
                            "#9c179e"
                          ],
                          [
                            0.4444444444444444,
                            "#bd3786"
                          ],
                          [
                            0.5555555555555556,
                            "#d8576b"
                          ],
                          [
                            0.6666666666666666,
                            "#ed7953"
                          ],
                          [
                            0.7777777777777778,
                            "#fb9f3a"
                          ],
                          [
                            0.8888888888888888,
                            "#fdca26"
                          ],
                          [
                            1,
                            "#f0f921"
                          ]
                        ],
                        "type": "histogram2dcontour"
                      }
                    ],
                    "mesh3d": [
                      {
                        "colorbar": {
                          "outlinewidth": 0,
                          "ticks": ""
                        },
                        "type": "mesh3d"
                      }
                    ],
                    "parcoords": [
                      {
                        "line": {
                          "colorbar": {
                            "outlinewidth": 0,
                            "ticks": ""
                          }
                        },
                        "type": "parcoords"
                      }
                    ],
                    "pie": [
                      {
                        "automargin": true,
                        "type": "pie"
                      }
                    ],
                    "scatter": [
                      {
                        "fillpattern": {
                          "fillmode": "overlay",
                          "size": 10,
                          "solidity": 0.2
                        },
                        "type": "scatter"
                      }
                    ],
                    "scatter3d": [
                      {
                        "line": {
                          "colorbar": {
                            "outlinewidth": 0,
                            "ticks": ""
                          }
                        },
                        "marker": {
                          "colorbar": {
                            "outlinewidth": 0,
                            "ticks": ""
                          }
                        },
                        "type": "scatter3d"
                      }
                    ],
                    "scattercarpet": [
                      {
                        "marker": {
                          "colorbar": {
                            "outlinewidth": 0,
                            "ticks": ""
                          }
                        },
                        "type": "scattercarpet"
                      }
                    ],
                    "scattergeo": [
                      {
                        "marker": {
                          "colorbar": {
                            "outlinewidth": 0,
                            "ticks": ""
                          }
                        },
                        "type": "scattergeo"
                      }
                    ],
                    "scattergl": [
                      {
                        "marker": {
                          "colorbar": {
                            "outlinewidth": 0,
                            "ticks": ""
                          }
                        },
                        "type": "scattergl"
                      }
                    ],
                    "scattermapbox": [
                      {
                        "marker": {
                          "colorbar": {
                            "outlinewidth": 0,
                            "ticks": ""
                          }
                        },
                        "type": "scattermapbox"
                      }
                    ],
                    "scatterpolar": [
                      {
                        "marker": {
                          "colorbar": {
                            "outlinewidth": 0,
                            "ticks": ""
                          }
                        },
                        "type": "scatterpolar"
                      }
                    ],
                    "scatterpolargl": [
                      {
                        "marker": {
                          "colorbar": {
                            "outlinewidth": 0,
                            "ticks": ""
                          }
                        },
                        "type": "scatterpolargl"
                      }
                    ],
                    "scatterternary": [
                      {
                        "marker": {
                          "colorbar": {
                            "outlinewidth": 0,
                            "ticks": ""
                          }
                        },
                        "type": "scatterternary"
                      }
                    ],
                    "surface": [
                      {
                        "colorbar": {
                          "outlinewidth": 0,
                          "ticks": ""
                        },
                        "colorscale": [
                          [
                            0,
                            "#0d0887"
                          ],
                          [
                            0.1111111111111111,
                            "#46039f"
                          ],
                          [
                            0.2222222222222222,
                            "#7201a8"
                          ],
                          [
                            0.3333333333333333,
                            "#9c179e"
                          ],
                          [
                            0.4444444444444444,
                            "#bd3786"
                          ],
                          [
                            0.5555555555555556,
                            "#d8576b"
                          ],
                          [
                            0.6666666666666666,
                            "#ed7953"
                          ],
                          [
                            0.7777777777777778,
                            "#fb9f3a"
                          ],
                          [
                            0.8888888888888888,
                            "#fdca26"
                          ],
                          [
                            1,
                            "#f0f921"
                          ]
                        ],
                        "type": "surface"
                      }
                    ],
                    "table": [
                      {
                        "cells": {
                          "fill": {
                            "color": "#EBF0F8"
                          },
                          "line": {
                            "color": "white"
                          }
                        },
                        "header": {
                          "fill": {
                            "color": "#C8D4E3"
                          },
                          "line": {
                            "color": "white"
                          }
                        },
                        "type": "table"
                      }
                    ]
                  },
                  "layout": {
                    "annotationdefaults": {
                      "arrowcolor": "#2a3f5f",
                      "arrowhead": 0,
                      "arrowwidth": 1
                    },
                    "autotypenumbers": "strict",
                    "coloraxis": {
                      "colorbar": {
                        "outlinewidth": 0,
                        "ticks": ""
                      }
                    },
                    "colorscale": {
                      "diverging": [
                        [
                          0,
                          "#8e0152"
                        ],
                        [
                          0.1,
                          "#c51b7d"
                        ],
                        [
                          0.2,
                          "#de77ae"
                        ],
                        [
                          0.3,
                          "#f1b6da"
                        ],
                        [
                          0.4,
                          "#fde0ef"
                        ],
                        [
                          0.5,
                          "#f7f7f7"
                        ],
                        [
                          0.6,
                          "#e6f5d0"
                        ],
                        [
                          0.7,
                          "#b8e186"
                        ],
                        [
                          0.8,
                          "#7fbc41"
                        ],
                        [
                          0.9,
                          "#4d9221"
                        ],
                        [
                          1,
                          "#276419"
                        ]
                      ],
                      "sequential": [
                        [
                          0,
                          "#0d0887"
                        ],
                        [
                          0.1111111111111111,
                          "#46039f"
                        ],
                        [
                          0.2222222222222222,
                          "#7201a8"
                        ],
                        [
                          0.3333333333333333,
                          "#9c179e"
                        ],
                        [
                          0.4444444444444444,
                          "#bd3786"
                        ],
                        [
                          0.5555555555555556,
                          "#d8576b"
                        ],
                        [
                          0.6666666666666666,
                          "#ed7953"
                        ],
                        [
                          0.7777777777777778,
                          "#fb9f3a"
                        ],
                        [
                          0.8888888888888888,
                          "#fdca26"
                        ],
                        [
                          1,
                          "#f0f921"
                        ]
                      ],
                      "sequentialminus": [
                        [
                          0,
                          "#0d0887"
                        ],
                        [
                          0.1111111111111111,
                          "#46039f"
                        ],
                        [
                          0.2222222222222222,
                          "#7201a8"
                        ],
                        [
                          0.3333333333333333,
                          "#9c179e"
                        ],
                        [
                          0.4444444444444444,
                          "#bd3786"
                        ],
                        [
                          0.5555555555555556,
                          "#d8576b"
                        ],
                        [
                          0.6666666666666666,
                          "#ed7953"
                        ],
                        [
                          0.7777777777777778,
                          "#fb9f3a"
                        ],
                        [
                          0.8888888888888888,
                          "#fdca26"
                        ],
                        [
                          1,
                          "#f0f921"
                        ]
                      ]
                    },
                    "colorway": [
                      "#636efa",
                      "#EF553B",
                      "#00cc96",
                      "#ab63fa",
                      "#FFA15A",
                      "#19d3f3",
                      "#FF6692",
                      "#B6E880",
                      "#FF97FF",
                      "#FECB52"
                    ],
                    "font": {
                      "color": "#2a3f5f"
                    },
                    "geo": {
                      "bgcolor": "white",
                      "lakecolor": "white",
                      "landcolor": "#E5ECF6",
                      "showlakes": true,
                      "showland": true,
                      "subunitcolor": "white"
                    },
                    "hoverlabel": {
                      "align": "left"
                    },
                    "hovermode": "closest",
                    "mapbox": {
                      "style": "light"
                    },
                    "paper_bgcolor": "white",
                    "plot_bgcolor": "#E5ECF6",
                    "polar": {
                      "angularaxis": {
                        "gridcolor": "white",
                        "linecolor": "white",
                        "ticks": ""
                      },
                      "bgcolor": "#E5ECF6",
                      "radialaxis": {
                        "gridcolor": "white",
                        "linecolor": "white",
                        "ticks": ""
                      }
                    },
                    "scene": {
                      "xaxis": {
                        "backgroundcolor": "#E5ECF6",
                        "gridcolor": "white",
                        "gridwidth": 2,
                        "linecolor": "white",
                        "showbackground": true,
                        "ticks": "",
                        "zerolinecolor": "white"
                      },
                      "yaxis": {
                        "backgroundcolor": "#E5ECF6",
                        "gridcolor": "white",
                        "gridwidth": 2,
                        "linecolor": "white",
                        "showbackground": true,
                        "ticks": "",
                        "zerolinecolor": "white"
                      },
                      "zaxis": {
                        "backgroundcolor": "#E5ECF6",
                        "gridcolor": "white",
                        "gridwidth": 2,
                        "linecolor": "white",
                        "showbackground": true,
                        "ticks": "",
                        "zerolinecolor": "white"
                      }
                    },
                    "shapedefaults": {
                      "line": {
                        "color": "#2a3f5f"
                      }
                    },
                    "ternary": {
                      "aaxis": {
                        "gridcolor": "white",
                        "linecolor": "white",
                        "ticks": ""
                      },
                      "baxis": {
                        "gridcolor": "white",
                        "linecolor": "white",
                        "ticks": ""
                      },
                      "bgcolor": "#E5ECF6",
                      "caxis": {
                        "gridcolor": "white",
                        "linecolor": "white",
                        "ticks": ""
                      }
                    },
                    "title": {
                      "x": 0.05
                    },
                    "xaxis": {
                      "automargin": true,
                      "gridcolor": "white",
                      "linecolor": "white",
                      "ticks": "",
                      "title": {
                        "standoff": 15
                      },
                      "zerolinecolor": "white",
                      "zerolinewidth": 2
                    },
                    "yaxis": {
                      "automargin": true,
                      "gridcolor": "white",
                      "linecolor": "white",
                      "ticks": "",
                      "title": {
                        "standoff": 15
                      },
                      "zerolinecolor": "white",
                      "zerolinewidth": 2
                    }
                  }
                },
                "title": {
                  "font": {
                    "color": "#4D5663"
                  },
                  "text": "Fact II: Population growth is lower in higher-income countries"
                },
                "xaxis": {
                  "gridcolor": "#E1E5ED",
                  "showgrid": true,
                  "tickfont": {
                    "color": "#4D5663"
                  },
                  "title": {
                    "font": {
                      "color": "#4D5663"
                    },
                    "text": "Log GDP per capita"
                  },
                  "zerolinecolor": "#E1E5ED"
                },
                "yaxis": {
                  "gridcolor": "#E1E5ED",
                  "showgrid": true,
                  "tickfont": {
                    "color": "#4D5663"
                  },
                  "title": {
                    "font": {
                      "color": "#4D5663"
                    },
                    "text": "Population Growth Rate"
                  },
                  "zerolinecolor": "#E1E5ED"
                }
              }
            },
            "text/html": [
              "<div>                            <div id=\"17c0289c-95a3-4fb1-8951-72dfe6b7758e\" class=\"plotly-graph-div\" style=\"height:525px; width:100%;\"></div>            <script type=\"text/javascript\">                require([\"plotly\"], function(Plotly) {                    window.PLOTLYENV=window.PLOTLYENV || {};\n",
              "                    window.PLOTLYENV.BASE_URL='https://plot.ly';                                    if (document.getElementById(\"17c0289c-95a3-4fb1-8951-72dfe6b7758e\")) {                    Plotly.newPlot(                        \"17c0289c-95a3-4fb1-8951-72dfe6b7758e\",                        [{\"line\":{\"color\":\"rgba(255, 153, 51, 1.0)\",\"dash\":\"solid\",\"shape\":\"linear\",\"width\":1.3},\"marker\":{\"size\":12,\"symbol\":\"circle-dot\"},\"mode\":\"markers\",\"name\":\"Population Growth Rate\",\"text\":[\"Africa Eastern and Southern\",\"Africa Western and Central\",\"Arab World\",\"Caribbean small states\",\"Central Europe and the Baltics\",\"Early-demographic dividend\",\"East Asia & Pacific\",\"East Asia & Pacific (excluding high income)\",\"East Asia & Pacific (IDA & IBRD countries)\",\"Euro area\",\"Europe & Central Asia\",\"Europe & Central Asia (excluding high income)\",\"Europe & Central Asia (IDA & IBRD countries)\",\"European Union\",\"Fragile and conflict affected situations\",\"Heavily indebted poor countries (HIPC)\",\"High income\",\"IBRD only\",\"IDA & IBRD total\",\"IDA blend\",\"IDA only\",\"IDA total\",\"Late-demographic dividend\",\"Latin America & Caribbean\",\"Latin America & Caribbean (excluding high income)\",\"Latin America & the Caribbean (IDA & IBRD countries)\",\"Least developed countries: UN classification\",\"Low & middle income\",\"Low income\",\"Lower middle income\",\"Middle East & North Africa\",\"Middle East & North Africa (excluding high income)\",\"Middle East & North Africa (IDA & IBRD countries)\",\"Middle income\",\"North America\",\"Not classified\",\"OECD members\",\"Other small states\",\"Pacific island small states\",\"Post-demographic dividend\",\"Pre-demographic dividend\",\"Small states\",\"South Asia\",\"South Asia (IDA & IBRD)\",\"Sub-Saharan Africa\",\"Sub-Saharan Africa (excluding high income)\",\"Sub-Saharan Africa (IDA & IBRD countries)\",\"Upper middle income\",\"World\",\"Afghanistan\",\"Albania\",\"Algeria\",\"American Samoa\",\"Andorra\",\"Angola\",\"Antigua and Barbuda\",\"Argentina\",\"Armenia\",\"Aruba\",\"Australia\",\"Austria\",\"Azerbaijan\",\"Bahamas, The\",\"Bahrain\",\"Bangladesh\",\"Barbados\",\"Belarus\",\"Belgium\",\"Belize\",\"Benin\",\"Bermuda\",\"Bhutan\",\"Bolivia\",\"Bosnia and Herzegovina\",\"Botswana\",\"Brazil\",\"British Virgin Islands\",\"Brunei Darussalam\",\"Bulgaria\",\"Burkina Faso\",\"Burundi\",\"Cabo Verde\",\"Cambodia\",\"Cameroon\",\"Canada\",\"Cayman Islands\",\"Central African Republic\",\"Chad\",\"Channel Islands\",\"Chile\",\"China\",\"Colombia\",\"Comoros\",\"Congo, Dem. Rep.\",\"Congo, Rep.\",\"Costa Rica\",\"Cote d'Ivoire\",\"Croatia\",\"Cuba\",\"Curacao\",\"Cyprus\",\"Czechia\",\"Denmark\",\"Djibouti\",\"Dominica\",\"Dominican Republic\",\"Ecuador\",\"Egypt, Arab Rep.\",\"El Salvador\",\"Equatorial Guinea\",\"Eritrea\",\"Estonia\",\"Eswatini\",\"Ethiopia\",\"Faroe Islands\",\"Fiji\",\"Finland\",\"France\",\"French Polynesia\",\"Gabon\",\"Gambia, The\",\"Georgia\",\"Germany\",\"Ghana\",\"Gibraltar\",\"Greece\",\"Greenland\",\"Grenada\",\"Guam\",\"Guatemala\",\"Guinea\",\"Guinea-Bissau\",\"Guyana\",\"Haiti\",\"Honduras\",\"Hong Kong SAR, China\",\"Hungary\",\"Iceland\",\"India\",\"Indonesia\",\"Iran, Islamic Rep.\",\"Iraq\",\"Ireland\",\"Isle of Man\",\"Israel\",\"Italy\",\"Jamaica\",\"Japan\",\"Jordan\",\"Kazakhstan\",\"Kenya\",\"Kiribati\",\"Korea, Dem. People's Rep.\",\"Korea, Rep.\",\"Kosovo\",\"Kuwait\",\"Kyrgyz Republic\",\"Lao PDR\",\"Latvia\",\"Lebanon\",\"Lesotho\",\"Liberia\",\"Libya\",\"Liechtenstein\",\"Lithuania\",\"Luxembourg\",\"Macao SAR, China\",\"Madagascar\",\"Malawi\",\"Malaysia\",\"Maldives\",\"Mali\",\"Malta\",\"Marshall Islands\",\"Mauritania\",\"Mauritius\",\"Mexico\",\"Micronesia, Fed. Sts.\",\"Moldova\",\"Monaco\",\"Mongolia\",\"Montenegro\",\"Morocco\",\"Mozambique\",\"Myanmar\",\"Namibia\",\"Nauru\",\"Nepal\",\"Netherlands\",\"New Caledonia\",\"New Zealand\",\"Nicaragua\",\"Niger\",\"Nigeria\",\"North Macedonia\",\"Northern Mariana Islands\",\"Norway\",\"Oman\",\"Pakistan\",\"Palau\",\"Panama\",\"Papua New Guinea\",\"Paraguay\",\"Peru\",\"Philippines\",\"Poland\",\"Portugal\",\"Puerto Rico\",\"Qatar\",\"Romania\",\"Russian Federation\",\"Rwanda\",\"Samoa\",\"San Marino\",\"Sao Tome and Principe\",\"Saudi Arabia\",\"Senegal\",\"Serbia\",\"Seychelles\",\"Sierra Leone\",\"Singapore\",\"Sint Maarten (Dutch part)\",\"Slovak Republic\",\"Slovenia\",\"Solomon Islands\",\"Somalia\",\"South Africa\",\"South Sudan\",\"Spain\",\"Sri Lanka\",\"St. Kitts and Nevis\",\"St. Lucia\",\"St. Martin (French part)\",\"St. Vincent and the Grenadines\",\"Sudan\",\"Suriname\",\"Sweden\",\"Switzerland\",\"Syrian Arab Republic\",\"Tajikistan\",\"Tanzania\",\"Thailand\",\"Timor-Leste\",\"Togo\",\"Tonga\",\"Trinidad and Tobago\",\"Tunisia\",\"Turkiye\",\"Turkmenistan\",\"Turks and Caicos Islands\",\"Tuvalu\",\"Uganda\",\"Ukraine\",\"United Arab Emirates\",\"United Kingdom\",\"United States\",\"Uruguay\",\"Uzbekistan\",\"Vanuatu\",\"Venezuela, RB\",\"Viet Nam\",\"Virgin Islands (U.S.)\",\"West Bank and Gaza\",\"Yemen, Rep.\",\"Zambia\",\"Zimbabwe\"],\"x\":[7.212151333974805,7.431344446226868,8.63837357318815,9.087776511740985,9.698795477186636,8.084104567788708,9.348747807703342,9.01954190099539,9.030585203748085,10.55043261278604,10.086716865159742,8.919704398470655,9.042541365093753,10.444548680137816,7.438963168672916,6.875713253879908,10.679267422096812,8.728673210695574,8.49731069903524,7.451484262827903,7.0902843730732785,7.224817218355874,9.182178566868648,8.908312518249113,8.837749417770743,8.879968240861013,6.987364064943767,8.462812466800186,6.4872070014791205,7.660750433540952,8.79174545278664,8.045616570279185,8.04518724912694,8.555991190795998,11.026160077074165,null,10.555584828486792,9.366226753771835,8.215574199063546,10.703262509324471,7.193250539496746,9.278410829586123,7.525017625577813,7.525017625577813,7.306766046477195,7.306161576962512,7.306766046477195,9.066816603513944,9.296723305191017,6.238432232977471,8.583549628641762,8.117954607326162,9.655652741766657,10.524258614642,7.27994285597321,9.63068480445983,9.047920018620248,8.413135768976193,10.086147711237473,10.856462081480364,10.79527036068656,8.349936148660023,10.08573694085603,10.061908554527601,7.711238233634446,9.73403295166171,8.786130351590106,10.727860421048103,8.553555606170049,7.123457738207607,11.587957669644279,8.065057691206844,8.029045975910078,8.715241143751886,8.678473356977108,8.842705575057662,null,10.210212878994183,9.22506566033953,6.7136271916495325,5.379101725964691,8.047637416659937,7.363857568229706,7.338972954927921,10.677054550936717,11.337351159514935,6.076424180251708,6.467344961198433,10.956745488118992,9.485984133419137,9.25039915251705,8.57627104185557,7.326193721496962,6.262763177561134,7.606521383286369,9.407489510954901,7.7617747338988945,9.565908323269909,9.15900207702691,9.702355787353195,10.249960535332633,10.042939854948859,11.015946735800126,7.979934165393947,8.85416100395805,8.877370092744025,8.638560779707866,8.1807568879732,8.284435227774601,8.732133995806468,null,10.068800431873383,8.123529554257717,6.822908024854733,11.038672318184446,8.479634439250471,10.8030332524143,10.575915164157314,9.861920372636838,8.806885641405842,6.556821626297475,8.356024642264972,10.752558330974962,7.6855083790065475,null,9.776636170631441,10.90949241148596,9.040445694556468,10.456822562255251,8.435960848872206,6.978828035741994,6.565628471535645,8.833910775711706,7.157066434831569,7.763922872671974,10.738768425747955,9.688163933727562,10.98272023253888,7.556542825775277,8.267607649692742,7.918053336197682,8.35498886012798,11.361789601701167,11.283897201199787,10.711007328595468,10.371079499845203,8.496432114024165,10.596307895408183,8.293717869645382,9.118404497788553,7.568508781424348,7.247076206105345,null,10.364743624285719,8.36890986542227,10.098137419215908,7.136426903117002,7.860707720705027,9.803457400069211,8.630514291445781,6.821496034987859,6.392803976115832,8.858604406085378,12.015439765780545,9.92240036164718,11.669120086497786,10.531422240746757,6.136439462684824,6.433236819243198,9.226641231220574,8.884169188811958,6.7128421441511605,10.295449777760119,8.620760147741953,7.515503823741949,9.106206091345923,9.093232306605195,8.199577601100916,8.38394575691371,12.114710293325235,8.304290558840266,8.946032491649369,8.088951364932612,6.123768155991217,7.2995363119117345,8.355154551300704,9.222733323349395,7.038072667759684,10.862120469064552,10.459601090029258,10.639708465366981,7.537220839552776,6.336545448185043,7.637530269156349,8.693739810636457,9.758630675866774,11.132250790570772,9.72362036169967,7.187139105074445,9.571457611637642,9.495017925014144,7.8022439381359785,8.585477450615182,8.71006340214304,8.078509239946408,9.668829235162866,10.00975594475802,10.355436329235728,10.865051033117021,9.476348501526942,9.229597890556029,6.65127888603548,8.304673692355749,10.721536574765699,7.675669367468722,9.923195125662602,7.308191699699386,8.953356060535555,9.394328960526682,6.201385545599333,11.023110752274711,10.28271373164365,9.880837521820894,10.14872244550918,7.706370922712645,6.321807441253273,8.657488294998078,null,10.20301035641097,8.256448777947142,9.828422198860617,9.09957916165028,null,9.024776824774525,6.410721639590738,8.475648709693964,10.874984090510637,11.360913314087094,6.2861661150508,6.747974045117349,7.006844154796486,8.853920461261412,7.416714940367943,6.787506155475912,8.435108749746474,9.525581692721273,8.159866328335793,9.064011917421075,8.899780764700472,9.946655334514631,8.449965490217552,6.741560424147449,8.229974292932832,10.535534937260977,10.60204529486517,11.059246017142232,9.658258099820037,7.47267552794803,7.97857039767702,null,8.184889463825673,10.581801392383682,8.081341647925488,6.360459307326557,6.863627544213249,7.22453245956093],\"y\":[2.67818371641901,2.61564613985792,1.75789900697592,0.278363632396221,-0.213296992709971,1.1942132122177,0.428125777126169,0.474116990360201,0.474607722037376,0.134533310515209,0.225571530637069,0.343862835452157,0.256594298573717,0.0726749762925749,2.29467629065397,2.81754331814685,0.405023510702989,0.706875805516077,1.11900278966731,2.1035916282577,2.36198019763422,2.27630855493415,0.337119620278159,0.81190393111558,0.911196365264288,0.820442613007259,2.43751718861938,1.14117087896702,2.82051086331371,1.36291804104967,1.42959607452869,1.61642665204242,1.60588466607715,0.954210544446667,0.980198111617312,\"\",0.547018023742595,1.17475830777339,1.21246653286384,0.36941572328584,2.78956673113984,1.01845678592984,1.12446941929608,1.12446941929608,2.65285160970254,2.6530079112905,2.65285160970254,0.497491350314363,1.01308843546317,3.13474690779163,-0.574206959244013,1.73245672803153,-2.4212497099907,1.76189129507448,3.26834840458456,0.592053942582792,0.970053991438048,-0.533006606500067,0.134255302359952,1.23342825131378,0.415176731565556,0.684365325388407,0.471994444906908,-1.12524267833833,1.14420974001656,0.182929163306018,-0.42347525027949,0.430996815099722,1.48622151575632,2.82913811282206,-0.0281681326390652,0.655471789302584,1.33973922043111,-1.26677102311527,1.85098576387245,0.665176682246802,0.975300318670376,0.835902308961215,-0.60024151846542,2.68878766730686,2.86708219532744,0.96752416855618,1.16005769739725,2.71185365793296,1.0737958268224,1.76406837687354,2.5340939316943,3.16053305963688,1.00023446187106,1.36064363430941,0.238040870229883,1.47010203160178,1.90094081397491,3.22447844328183,2.33208625068898,0.755771068349343,2.50861820334885,-0.433210220837755,-0.141475202325743,-1.59676619476798,0.705573414651573,0.243222682211879,0.291641177476633,1.49363957876332,0.790672282535559,1.07655224672892,1.40190462603926,1.73312957205986,0.199062369975812,2.73226949782894,1.61739994313834,0.197559185177642,0.939644435809807,2.65485915620519,1.41026007721943,0.212846220439299,0.143641197212847,0.271350507669993,0.732338551627656,2.19563704311712,2.56215324974841,0.0686562494680967,0.0816931586494595,2.06626880077022,0.0734012327661469,-0.214592106571664,0.252238303411568,0.762219229220411,0.359326132872351,1.51998785357799,2.51225012110646,2.27645335668636,-0.194366443701065,1.30291995864045,1.622836376932,-0.358932661902885,-0.215067837129585,1.6230862512591,0.95522085775158,0.840389268128048,0.83517614833256,2.36211183923937,1.02911050277336,0.134540647396739,1.76367939210866,-0.487095091717782,0.236519557799568,-0.294194617750067,2.12736281777905,1.29863532544565,2.00970011079671,1.77265475198411,0.434017300434564,0.137869266247028,0.0701311089258031,-1.83282064689651,1.89786382312175,1.47745666003059,-0.701211570733301,-2.07933690590844,1.26784087310275,2.03116860337744,1.28344509210842,0.709498302393315,0.0267667582795671,1.66635867423273,1.88522049742858,2.48242289292055,2.66577178304392,1.19985962233223,1.94913457153784,3.14260365885334,2.21120767752363,-2.9840768300379,2.58400208033153,0.00229068020969373,0.727243815691995,0.650605243674555,-1.09803165876287,-0.302883026724653,1.8970150281402,-0.116139360968958,1.05316017914606,2.90481965930954,0.71947282559554,1.72031062423917,1.49714417461665,1.77426805557613,0.55554079025497,-0.0590057547729274,2.20478869594563,1.37069568464204,3.72710072523223,2.44060888477318,-0.200664046750733,-0.545026237308475,0.588757324043059,-1.29824513056146,1.73302782045863,0.312082286285984,1.4510521369147,2.14763227357632,1.34872957032065,1.45140240084226,1.62663290469171,-0.175062058196296,0.10511412524675,2.71397643163413,-1.68298503942558,-0.550759892541776,-0.230950388878624,2.3967070500013,1.41696799990075,-0.501577644647767,1.86599449843616,0.472667096302666,2.68438184925041,-0.666107601320794,0.853707878128979,2.29903034010859,-0.311904961250833,1.6731008261205,0.0857694756149868,0.669754656164979,2.3713876123354,3.41819734760827,1.22317929511453,1.50626772829854,0.488502131838585,0.530626559530355,-0.146821344830063,0.365547330085114,-1.72979919917872,-0.278684637027924,2.75677878454575,1.12046732560236,0.722703912882934,0.730676195047382,3.30017735470972,2.18442696878278,3.01385328385348,0.235182865291138,1.51582114075127,2.39121902175851,0.28829020228429,-0.119021692717152,0.928583172377061,0.970386031353162,1.4831290153972,2.73839172351897,1.02611570026552,3.33280874526165,-0.574242470135943,0.817694385518168,0.365758263815142,0.964347900193196,0.0197448194187447,1.92212652692564,2.36372959142916,-1.67498559751263,0.906299234852032,-0.35593743409178,2.48654993848325,2.31044739697631,2.9338181351684,2.03111171035477],\"type\":\"scatter\"}],                        {\"legend\":{\"bgcolor\":\"#F5F6F9\",\"font\":{\"color\":\"#4D5663\"}},\"paper_bgcolor\":\"#F5F6F9\",\"plot_bgcolor\":\"#F5F6F9\",\"template\":{\"data\":{\"barpolar\":[{\"marker\":{\"line\":{\"color\":\"#E5ECF6\",\"width\":0.5},\"pattern\":{\"fillmode\":\"overlay\",\"size\":10,\"solidity\":0.2}},\"type\":\"barpolar\"}],\"bar\":[{\"error_x\":{\"color\":\"#2a3f5f\"},\"error_y\":{\"color\":\"#2a3f5f\"},\"marker\":{\"line\":{\"color\":\"#E5ECF6\",\"width\":0.5},\"pattern\":{\"fillmode\":\"overlay\",\"size\":10,\"solidity\":0.2}},\"type\":\"bar\"}],\"carpet\":[{\"aaxis\":{\"endlinecolor\":\"#2a3f5f\",\"gridcolor\":\"white\",\"linecolor\":\"white\",\"minorgridcolor\":\"white\",\"startlinecolor\":\"#2a3f5f\"},\"baxis\":{\"endlinecolor\":\"#2a3f5f\",\"gridcolor\":\"white\",\"linecolor\":\"white\",\"minorgridcolor\":\"white\",\"startlinecolor\":\"#2a3f5f\"},\"type\":\"carpet\"}],\"choropleth\":[{\"colorbar\":{\"outlinewidth\":0,\"ticks\":\"\"},\"type\":\"choropleth\"}],\"contourcarpet\":[{\"colorbar\":{\"outlinewidth\":0,\"ticks\":\"\"},\"type\":\"contourcarpet\"}],\"contour\":[{\"colorbar\":{\"outlinewidth\":0,\"ticks\":\"\"},\"colorscale\":[[0.0,\"#0d0887\"],[0.1111111111111111,\"#46039f\"],[0.2222222222222222,\"#7201a8\"],[0.3333333333333333,\"#9c179e\"],[0.4444444444444444,\"#bd3786\"],[0.5555555555555556,\"#d8576b\"],[0.6666666666666666,\"#ed7953\"],[0.7777777777777778,\"#fb9f3a\"],[0.8888888888888888,\"#fdca26\"],[1.0,\"#f0f921\"]],\"type\":\"contour\"}],\"heatmapgl\":[{\"colorbar\":{\"outlinewidth\":0,\"ticks\":\"\"},\"colorscale\":[[0.0,\"#0d0887\"],[0.1111111111111111,\"#46039f\"],[0.2222222222222222,\"#7201a8\"],[0.3333333333333333,\"#9c179e\"],[0.4444444444444444,\"#bd3786\"],[0.5555555555555556,\"#d8576b\"],[0.6666666666666666,\"#ed7953\"],[0.7777777777777778,\"#fb9f3a\"],[0.8888888888888888,\"#fdca26\"],[1.0,\"#f0f921\"]],\"type\":\"heatmapgl\"}],\"heatmap\":[{\"colorbar\":{\"outlinewidth\":0,\"ticks\":\"\"},\"colorscale\":[[0.0,\"#0d0887\"],[0.1111111111111111,\"#46039f\"],[0.2222222222222222,\"#7201a8\"],[0.3333333333333333,\"#9c179e\"],[0.4444444444444444,\"#bd3786\"],[0.5555555555555556,\"#d8576b\"],[0.6666666666666666,\"#ed7953\"],[0.7777777777777778,\"#fb9f3a\"],[0.8888888888888888,\"#fdca26\"],[1.0,\"#f0f921\"]],\"type\":\"heatmap\"}],\"histogram2dcontour\":[{\"colorbar\":{\"outlinewidth\":0,\"ticks\":\"\"},\"colorscale\":[[0.0,\"#0d0887\"],[0.1111111111111111,\"#46039f\"],[0.2222222222222222,\"#7201a8\"],[0.3333333333333333,\"#9c179e\"],[0.4444444444444444,\"#bd3786\"],[0.5555555555555556,\"#d8576b\"],[0.6666666666666666,\"#ed7953\"],[0.7777777777777778,\"#fb9f3a\"],[0.8888888888888888,\"#fdca26\"],[1.0,\"#f0f921\"]],\"type\":\"histogram2dcontour\"}],\"histogram2d\":[{\"colorbar\":{\"outlinewidth\":0,\"ticks\":\"\"},\"colorscale\":[[0.0,\"#0d0887\"],[0.1111111111111111,\"#46039f\"],[0.2222222222222222,\"#7201a8\"],[0.3333333333333333,\"#9c179e\"],[0.4444444444444444,\"#bd3786\"],[0.5555555555555556,\"#d8576b\"],[0.6666666666666666,\"#ed7953\"],[0.7777777777777778,\"#fb9f3a\"],[0.8888888888888888,\"#fdca26\"],[1.0,\"#f0f921\"]],\"type\":\"histogram2d\"}],\"histogram\":[{\"marker\":{\"pattern\":{\"fillmode\":\"overlay\",\"size\":10,\"solidity\":0.2}},\"type\":\"histogram\"}],\"mesh3d\":[{\"colorbar\":{\"outlinewidth\":0,\"ticks\":\"\"},\"type\":\"mesh3d\"}],\"parcoords\":[{\"line\":{\"colorbar\":{\"outlinewidth\":0,\"ticks\":\"\"}},\"type\":\"parcoords\"}],\"pie\":[{\"automargin\":true,\"type\":\"pie\"}],\"scatter3d\":[{\"line\":{\"colorbar\":{\"outlinewidth\":0,\"ticks\":\"\"}},\"marker\":{\"colorbar\":{\"outlinewidth\":0,\"ticks\":\"\"}},\"type\":\"scatter3d\"}],\"scattercarpet\":[{\"marker\":{\"colorbar\":{\"outlinewidth\":0,\"ticks\":\"\"}},\"type\":\"scattercarpet\"}],\"scattergeo\":[{\"marker\":{\"colorbar\":{\"outlinewidth\":0,\"ticks\":\"\"}},\"type\":\"scattergeo\"}],\"scattergl\":[{\"marker\":{\"colorbar\":{\"outlinewidth\":0,\"ticks\":\"\"}},\"type\":\"scattergl\"}],\"scattermapbox\":[{\"marker\":{\"colorbar\":{\"outlinewidth\":0,\"ticks\":\"\"}},\"type\":\"scattermapbox\"}],\"scatterpolargl\":[{\"marker\":{\"colorbar\":{\"outlinewidth\":0,\"ticks\":\"\"}},\"type\":\"scatterpolargl\"}],\"scatterpolar\":[{\"marker\":{\"colorbar\":{\"outlinewidth\":0,\"ticks\":\"\"}},\"type\":\"scatterpolar\"}],\"scatter\":[{\"fillpattern\":{\"fillmode\":\"overlay\",\"size\":10,\"solidity\":0.2},\"type\":\"scatter\"}],\"scatterternary\":[{\"marker\":{\"colorbar\":{\"outlinewidth\":0,\"ticks\":\"\"}},\"type\":\"scatterternary\"}],\"surface\":[{\"colorbar\":{\"outlinewidth\":0,\"ticks\":\"\"},\"colorscale\":[[0.0,\"#0d0887\"],[0.1111111111111111,\"#46039f\"],[0.2222222222222222,\"#7201a8\"],[0.3333333333333333,\"#9c179e\"],[0.4444444444444444,\"#bd3786\"],[0.5555555555555556,\"#d8576b\"],[0.6666666666666666,\"#ed7953\"],[0.7777777777777778,\"#fb9f3a\"],[0.8888888888888888,\"#fdca26\"],[1.0,\"#f0f921\"]],\"type\":\"surface\"}],\"table\":[{\"cells\":{\"fill\":{\"color\":\"#EBF0F8\"},\"line\":{\"color\":\"white\"}},\"header\":{\"fill\":{\"color\":\"#C8D4E3\"},\"line\":{\"color\":\"white\"}},\"type\":\"table\"}]},\"layout\":{\"annotationdefaults\":{\"arrowcolor\":\"#2a3f5f\",\"arrowhead\":0,\"arrowwidth\":1},\"autotypenumbers\":\"strict\",\"coloraxis\":{\"colorbar\":{\"outlinewidth\":0,\"ticks\":\"\"}},\"colorscale\":{\"diverging\":[[0,\"#8e0152\"],[0.1,\"#c51b7d\"],[0.2,\"#de77ae\"],[0.3,\"#f1b6da\"],[0.4,\"#fde0ef\"],[0.5,\"#f7f7f7\"],[0.6,\"#e6f5d0\"],[0.7,\"#b8e186\"],[0.8,\"#7fbc41\"],[0.9,\"#4d9221\"],[1,\"#276419\"]],\"sequential\":[[0.0,\"#0d0887\"],[0.1111111111111111,\"#46039f\"],[0.2222222222222222,\"#7201a8\"],[0.3333333333333333,\"#9c179e\"],[0.4444444444444444,\"#bd3786\"],[0.5555555555555556,\"#d8576b\"],[0.6666666666666666,\"#ed7953\"],[0.7777777777777778,\"#fb9f3a\"],[0.8888888888888888,\"#fdca26\"],[1.0,\"#f0f921\"]],\"sequentialminus\":[[0.0,\"#0d0887\"],[0.1111111111111111,\"#46039f\"],[0.2222222222222222,\"#7201a8\"],[0.3333333333333333,\"#9c179e\"],[0.4444444444444444,\"#bd3786\"],[0.5555555555555556,\"#d8576b\"],[0.6666666666666666,\"#ed7953\"],[0.7777777777777778,\"#fb9f3a\"],[0.8888888888888888,\"#fdca26\"],[1.0,\"#f0f921\"]]},\"colorway\":[\"#636efa\",\"#EF553B\",\"#00cc96\",\"#ab63fa\",\"#FFA15A\",\"#19d3f3\",\"#FF6692\",\"#B6E880\",\"#FF97FF\",\"#FECB52\"],\"font\":{\"color\":\"#2a3f5f\"},\"geo\":{\"bgcolor\":\"white\",\"lakecolor\":\"white\",\"landcolor\":\"#E5ECF6\",\"showlakes\":true,\"showland\":true,\"subunitcolor\":\"white\"},\"hoverlabel\":{\"align\":\"left\"},\"hovermode\":\"closest\",\"mapbox\":{\"style\":\"light\"},\"paper_bgcolor\":\"white\",\"plot_bgcolor\":\"#E5ECF6\",\"polar\":{\"angularaxis\":{\"gridcolor\":\"white\",\"linecolor\":\"white\",\"ticks\":\"\"},\"bgcolor\":\"#E5ECF6\",\"radialaxis\":{\"gridcolor\":\"white\",\"linecolor\":\"white\",\"ticks\":\"\"}},\"scene\":{\"xaxis\":{\"backgroundcolor\":\"#E5ECF6\",\"gridcolor\":\"white\",\"gridwidth\":2,\"linecolor\":\"white\",\"showbackground\":true,\"ticks\":\"\",\"zerolinecolor\":\"white\"},\"yaxis\":{\"backgroundcolor\":\"#E5ECF6\",\"gridcolor\":\"white\",\"gridwidth\":2,\"linecolor\":\"white\",\"showbackground\":true,\"ticks\":\"\",\"zerolinecolor\":\"white\"},\"zaxis\":{\"backgroundcolor\":\"#E5ECF6\",\"gridcolor\":\"white\",\"gridwidth\":2,\"linecolor\":\"white\",\"showbackground\":true,\"ticks\":\"\",\"zerolinecolor\":\"white\"}},\"shapedefaults\":{\"line\":{\"color\":\"#2a3f5f\"}},\"ternary\":{\"aaxis\":{\"gridcolor\":\"white\",\"linecolor\":\"white\",\"ticks\":\"\"},\"baxis\":{\"gridcolor\":\"white\",\"linecolor\":\"white\",\"ticks\":\"\"},\"bgcolor\":\"#E5ECF6\",\"caxis\":{\"gridcolor\":\"white\",\"linecolor\":\"white\",\"ticks\":\"\"}},\"title\":{\"x\":0.05},\"xaxis\":{\"automargin\":true,\"gridcolor\":\"white\",\"linecolor\":\"white\",\"ticks\":\"\",\"title\":{\"standoff\":15},\"zerolinecolor\":\"white\",\"zerolinewidth\":2},\"yaxis\":{\"automargin\":true,\"gridcolor\":\"white\",\"linecolor\":\"white\",\"ticks\":\"\",\"title\":{\"standoff\":15},\"zerolinecolor\":\"white\",\"zerolinewidth\":2}}},\"title\":{\"font\":{\"color\":\"#4D5663\"},\"text\":\"Fact II: Population growth is lower in higher-income countries\"},\"xaxis\":{\"gridcolor\":\"#E1E5ED\",\"showgrid\":true,\"tickfont\":{\"color\":\"#4D5663\"},\"title\":{\"font\":{\"color\":\"#4D5663\"},\"text\":\"Log GDP per capita\"},\"zerolinecolor\":\"#E1E5ED\"},\"yaxis\":{\"gridcolor\":\"#E1E5ED\",\"showgrid\":true,\"tickfont\":{\"color\":\"#4D5663\"},\"title\":{\"font\":{\"color\":\"#4D5663\"},\"text\":\"Population Growth Rate\"},\"zerolinecolor\":\"#E1E5ED\"}},                        {\"showLink\": true, \"linkText\": \"Export to plot.ly\", \"plotlyServerURL\": \"https://plot.ly\", \"responsive\": true}                    ).then(function(){\n",
              "                            \n",
              "var gd = document.getElementById('17c0289c-95a3-4fb1-8951-72dfe6b7758e');\n",
              "var x = new MutationObserver(function (mutations, observer) {{\n",
              "        var display = window.getComputedStyle(gd).display;\n",
              "        if (!display || display === 'none') {{\n",
              "            console.log([gd, 'removed!']);\n",
              "            Plotly.purge(gd);\n",
              "            observer.disconnect();\n",
              "        }}\n",
              "}});\n",
              "\n",
              "// Listen for the removal of the full notebook cells\n",
              "var notebookContainer = gd.closest('#notebook-container');\n",
              "if (notebookContainer) {{\n",
              "    x.observe(notebookContainer, {childList: true});\n",
              "}}\n",
              "\n",
              "// Listen for the clearing of the current output cell\n",
              "var outputEl = gd.closest('.output');\n",
              "if (outputEl) {{\n",
              "    x.observe(outputEl, {childList: true});\n",
              "}}\n",
              "\n",
              "                        })                };                });            </script>        </div>"
            ]
          },
          "metadata": {},
          "output_type": "display_data"
        }
      ],
      "source": [
        "import numpy as np\n",
        "# wbdata.search_indicators(\"GDP per capita\")\n",
        "\n",
        "indicators = {\"NY.GDP.PCAP.CD\":\"GDP per capita\",\n",
        "              \"SP.DYN.TFRT.IN\":\"Total Fertility Rate\",\n",
        "              \"SP.POP.GROW\":\"Population Growth Rate\",\n",
        "              \"SP.DYN.AMRT.MA\":\"Male Mortality\",\n",
        "              \"SP.DYN.AMRT.FE\":\"Female Mortality\",\n",
        "              \"SP.POP.1564.FE.ZS\":\"% Adult Female\",\n",
        "              \"SP.POP.TOTL.FE.ZS\":\"% Female\"}\n",
        "\n",
        "data = wbdata.get_dataframe(indicators)\n",
        "\n",
        "# Make years ints instead of strings\n",
        "data.reset_index(inplace=True)\n",
        "data['date'] = data['date'].astype(int)\n",
        "data.set_index(['country','date'],inplace=True)\n",
        "\n",
        "df = data.query(\"date==2020\") # Latest year missing some data\n",
        "\n",
        "# All dates now the same; not a useful index\n",
        "df.index = df.index.droplevel('date')\n",
        "\n",
        "df['Log GDP per capita'] = np.log(df['GDP per capita'])\n",
        "\n",
        "df.iplot(kind='scatter', mode='markers', symbol='circle-dot',\n",
        "         x=\"Log GDP per capita\",y=\"Population Growth Rate\",\n",
        "         text=df.reset_index('country')['country'].values.tolist(),\n",
        "         xTitle=\"Log GDP per capita\",yTitle=\"Population Growth Rate\",\n",
        "         title=\"Fact II: Population growth is lower in higher-income countries\")"
      ]
    },
    {
      "cell_type": "markdown",
      "metadata": {},
      "source": [
        "##### Decomposing Population Growth\n",
        "\n"
      ]
    },
    {
      "cell_type": "markdown",
      "metadata": {},
      "source": [
        "Consider the human population at a particular time $t$, and let the\n",
        " size of the population be given by $N_t$ at time $t$.  Also, let\n",
        " $\\phi_t$ be the *share* of the population at time $t$ that are women\n",
        " of child-bearing age (e.g., 15&#x2013;49).\n",
        "\n",
        "Now, as a matter of accounting, population in the next period $t+1$ will be given by\n",
        "$$\n",
        "    N_{t+1} = (1-\\mbox{mortality rate})N_t + \\mbox{TFR}\\cdot\\phi_t N_t.\n",
        " $$\n",
        "\n",
        "Thus, we can think of population growth as depending on mortality, fertility, and the share of the population that can bear children.  \n",
        "\n",
        "We&rsquo;ve seen that population growth is falling over time.  Is the fall due to changes in mortality, fertility, or $\\phi_t$?\n",
        "\n"
      ]
    },
    {
      "cell_type": "markdown",
      "metadata": {},
      "source": [
        "##### Mortality Over Time\n",
        "\n"
      ]
    },
    {
      "cell_type": "markdown",
      "metadata": {},
      "source": [
        "Can mortality changes account for declining population?  Look at\n",
        " deaths per 10,000 people.\n",
        "\n"
      ]
    },
    {
      "cell_type": "code",
      "execution_count": 10,
      "metadata": {},
      "outputs": [
        {
          "data": {
            "application/vnd.plotly.v1+json": {
              "config": {
                "linkText": "Export to plot.ly",
                "plotlyServerURL": "https://plot.ly",
                "showLink": true
              },
              "data": [
                {
                  "line": {
                    "color": "rgba(255, 153, 51, 1.0)",
                    "dash": "solid",
                    "shape": "linear",
                    "width": 1.3
                  },
                  "mode": "lines",
                  "name": "Male Mortality",
                  "text": "",
                  "type": "scatter",
                  "x": [
                    2022,
                    2021,
                    2020,
                    2019,
                    2018,
                    2017,
                    2016,
                    2015,
                    2014,
                    2013,
                    2012,
                    2011,
                    2010,
                    2009,
                    2008,
                    2007,
                    2006,
                    2005,
                    2004,
                    2003,
                    2002,
                    2001,
                    2000,
                    1999,
                    1998,
                    1997,
                    1996,
                    1995,
                    1994,
                    1993,
                    1992,
                    1991,
                    1990,
                    1989,
                    1988,
                    1987,
                    1986,
                    1985,
                    1984,
                    1983,
                    1982,
                    1981,
                    1980,
                    1979,
                    1978,
                    1977,
                    1976,
                    1975,
                    1974,
                    1973,
                    1972,
                    1971,
                    1970,
                    1969,
                    1968,
                    1967,
                    1966,
                    1965,
                    1964,
                    1963,
                    1962,
                    1961,
                    1960
                  ],
                  "y": [
                    "",
                    206.353750140103,
                    182.409280975288,
                    170.291231579291,
                    171.998505698591,
                    174.593775729317,
                    175.764160760224,
                    177.47606641166,
                    182.340308654319,
                    186.16511974753,
                    188.747518575177,
                    191.242417196349,
                    194.136211858161,
                    196.581060228849,
                    200.3394758578,
                    201.519639915346,
                    203.540100263192,
                    207.18462893087,
                    210.024181424358,
                    212.122829065159,
                    213.762172693637,
                    215.840642204769,
                    217.392790147305,
                    219.162040397601,
                    221.059623812343,
                    222.582370684416,
                    226.310690824164,
                    229.33762918991,
                    230.850436186079,
                    232.272739031145,
                    231.798324351615,
                    232.643982687228,
                    234.554798702015,
                    236.648862964109,
                    239.885531319266,
                    241.130248692245,
                    243.758195230433,
                    249.301654334185,
                    254.026432350751,
                    257.595770188348,
                    260.524026582671,
                    264.350648186225,
                    267.778979244448,
                    270.324921267752,
                    273.861700466848,
                    276.216814882764,
                    279.756057527578,
                    284.09157782353,
                    288.730740760914,
                    292.814973764251,
                    299.285358715732,
                    315.888522110013,
                    310.304590506904,
                    315.106776029961,
                    318.471773328609,
                    323.671095388793,
                    328.539265041117,
                    337.657487077999,
                    332.029766235342,
                    338.074201833933,
                    341.855302636778,
                    365.917299719234,
                    386.345709343829
                  ]
                },
                {
                  "line": {
                    "color": "rgba(55, 128, 191, 1.0)",
                    "dash": "solid",
                    "shape": "linear",
                    "width": 1.3
                  },
                  "mode": "lines",
                  "name": "Female Mortality",
                  "text": "",
                  "type": "scatter",
                  "x": [
                    2022,
                    2021,
                    2020,
                    2019,
                    2018,
                    2017,
                    2016,
                    2015,
                    2014,
                    2013,
                    2012,
                    2011,
                    2010,
                    2009,
                    2008,
                    2007,
                    2006,
                    2005,
                    2004,
                    2003,
                    2002,
                    2001,
                    2000,
                    1999,
                    1998,
                    1997,
                    1996,
                    1995,
                    1994,
                    1993,
                    1992,
                    1991,
                    1990,
                    1989,
                    1988,
                    1987,
                    1986,
                    1985,
                    1984,
                    1983,
                    1982,
                    1981,
                    1980,
                    1979,
                    1978,
                    1977,
                    1976,
                    1975,
                    1974,
                    1973,
                    1972,
                    1971,
                    1970,
                    1969,
                    1968,
                    1967,
                    1966,
                    1965,
                    1964,
                    1963,
                    1962,
                    1961,
                    1960
                  ],
                  "y": [
                    "",
                    138.473422190087,
                    119.449661608523,
                    111.119110427971,
                    112.37601379482,
                    113.883011497022,
                    115.176552636072,
                    116.232879607026,
                    116.942393947418,
                    117.809051143638,
                    119.503116267083,
                    121.389514179729,
                    123.671528461495,
                    125.620417723555,
                    129.368353278965,
                    129.94975761839,
                    132.079264475652,
                    135.611448694647,
                    139.129122156291,
                    140.111524150744,
                    141.997046898034,
                    143.57013886004,
                    146.190910158284,
                    147.800005790837,
                    148.94219814203,
                    150.919732700863,
                    153.539934118726,
                    154.436500630359,
                    155.882708847364,
                    156.040741232364,
                    156.786420353495,
                    158.978479361651,
                    158.809312008503,
                    161.34426852614,
                    163.70330237537,
                    165.489759919051,
                    167.773675955097,
                    171.639831601793,
                    174.375768056715,
                    177.406980267898,
                    180.374352686493,
                    184.247641087775,
                    188.772494116918,
                    192.760966536349,
                    197.570502094045,
                    201.992671718421,
                    207.66765947663,
                    211.869261962815,
                    215.838052982455,
                    220.196724136146,
                    225.708923691095,
                    233.450031053935,
                    235.933849801454,
                    238.514098142095,
                    241.938995753845,
                    246.866182284326,
                    252.15158653281,
                    256.825165517128,
                    256.345687314532,
                    261.515942913558,
                    264.599246966128,
                    284.48339478412,
                    302.23839310137
                  ]
                }
              ],
              "layout": {
                "legend": {
                  "bgcolor": "#F5F6F9",
                  "font": {
                    "color": "#4D5663"
                  }
                },
                "paper_bgcolor": "#F5F6F9",
                "plot_bgcolor": "#F5F6F9",
                "template": {
                  "data": {
                    "bar": [
                      {
                        "error_x": {
                          "color": "#2a3f5f"
                        },
                        "error_y": {
                          "color": "#2a3f5f"
                        },
                        "marker": {
                          "line": {
                            "color": "#E5ECF6",
                            "width": 0.5
                          },
                          "pattern": {
                            "fillmode": "overlay",
                            "size": 10,
                            "solidity": 0.2
                          }
                        },
                        "type": "bar"
                      }
                    ],
                    "barpolar": [
                      {
                        "marker": {
                          "line": {
                            "color": "#E5ECF6",
                            "width": 0.5
                          },
                          "pattern": {
                            "fillmode": "overlay",
                            "size": 10,
                            "solidity": 0.2
                          }
                        },
                        "type": "barpolar"
                      }
                    ],
                    "carpet": [
                      {
                        "aaxis": {
                          "endlinecolor": "#2a3f5f",
                          "gridcolor": "white",
                          "linecolor": "white",
                          "minorgridcolor": "white",
                          "startlinecolor": "#2a3f5f"
                        },
                        "baxis": {
                          "endlinecolor": "#2a3f5f",
                          "gridcolor": "white",
                          "linecolor": "white",
                          "minorgridcolor": "white",
                          "startlinecolor": "#2a3f5f"
                        },
                        "type": "carpet"
                      }
                    ],
                    "choropleth": [
                      {
                        "colorbar": {
                          "outlinewidth": 0,
                          "ticks": ""
                        },
                        "type": "choropleth"
                      }
                    ],
                    "contour": [
                      {
                        "colorbar": {
                          "outlinewidth": 0,
                          "ticks": ""
                        },
                        "colorscale": [
                          [
                            0,
                            "#0d0887"
                          ],
                          [
                            0.1111111111111111,
                            "#46039f"
                          ],
                          [
                            0.2222222222222222,
                            "#7201a8"
                          ],
                          [
                            0.3333333333333333,
                            "#9c179e"
                          ],
                          [
                            0.4444444444444444,
                            "#bd3786"
                          ],
                          [
                            0.5555555555555556,
                            "#d8576b"
                          ],
                          [
                            0.6666666666666666,
                            "#ed7953"
                          ],
                          [
                            0.7777777777777778,
                            "#fb9f3a"
                          ],
                          [
                            0.8888888888888888,
                            "#fdca26"
                          ],
                          [
                            1,
                            "#f0f921"
                          ]
                        ],
                        "type": "contour"
                      }
                    ],
                    "contourcarpet": [
                      {
                        "colorbar": {
                          "outlinewidth": 0,
                          "ticks": ""
                        },
                        "type": "contourcarpet"
                      }
                    ],
                    "heatmap": [
                      {
                        "colorbar": {
                          "outlinewidth": 0,
                          "ticks": ""
                        },
                        "colorscale": [
                          [
                            0,
                            "#0d0887"
                          ],
                          [
                            0.1111111111111111,
                            "#46039f"
                          ],
                          [
                            0.2222222222222222,
                            "#7201a8"
                          ],
                          [
                            0.3333333333333333,
                            "#9c179e"
                          ],
                          [
                            0.4444444444444444,
                            "#bd3786"
                          ],
                          [
                            0.5555555555555556,
                            "#d8576b"
                          ],
                          [
                            0.6666666666666666,
                            "#ed7953"
                          ],
                          [
                            0.7777777777777778,
                            "#fb9f3a"
                          ],
                          [
                            0.8888888888888888,
                            "#fdca26"
                          ],
                          [
                            1,
                            "#f0f921"
                          ]
                        ],
                        "type": "heatmap"
                      }
                    ],
                    "heatmapgl": [
                      {
                        "colorbar": {
                          "outlinewidth": 0,
                          "ticks": ""
                        },
                        "colorscale": [
                          [
                            0,
                            "#0d0887"
                          ],
                          [
                            0.1111111111111111,
                            "#46039f"
                          ],
                          [
                            0.2222222222222222,
                            "#7201a8"
                          ],
                          [
                            0.3333333333333333,
                            "#9c179e"
                          ],
                          [
                            0.4444444444444444,
                            "#bd3786"
                          ],
                          [
                            0.5555555555555556,
                            "#d8576b"
                          ],
                          [
                            0.6666666666666666,
                            "#ed7953"
                          ],
                          [
                            0.7777777777777778,
                            "#fb9f3a"
                          ],
                          [
                            0.8888888888888888,
                            "#fdca26"
                          ],
                          [
                            1,
                            "#f0f921"
                          ]
                        ],
                        "type": "heatmapgl"
                      }
                    ],
                    "histogram": [
                      {
                        "marker": {
                          "pattern": {
                            "fillmode": "overlay",
                            "size": 10,
                            "solidity": 0.2
                          }
                        },
                        "type": "histogram"
                      }
                    ],
                    "histogram2d": [
                      {
                        "colorbar": {
                          "outlinewidth": 0,
                          "ticks": ""
                        },
                        "colorscale": [
                          [
                            0,
                            "#0d0887"
                          ],
                          [
                            0.1111111111111111,
                            "#46039f"
                          ],
                          [
                            0.2222222222222222,
                            "#7201a8"
                          ],
                          [
                            0.3333333333333333,
                            "#9c179e"
                          ],
                          [
                            0.4444444444444444,
                            "#bd3786"
                          ],
                          [
                            0.5555555555555556,
                            "#d8576b"
                          ],
                          [
                            0.6666666666666666,
                            "#ed7953"
                          ],
                          [
                            0.7777777777777778,
                            "#fb9f3a"
                          ],
                          [
                            0.8888888888888888,
                            "#fdca26"
                          ],
                          [
                            1,
                            "#f0f921"
                          ]
                        ],
                        "type": "histogram2d"
                      }
                    ],
                    "histogram2dcontour": [
                      {
                        "colorbar": {
                          "outlinewidth": 0,
                          "ticks": ""
                        },
                        "colorscale": [
                          [
                            0,
                            "#0d0887"
                          ],
                          [
                            0.1111111111111111,
                            "#46039f"
                          ],
                          [
                            0.2222222222222222,
                            "#7201a8"
                          ],
                          [
                            0.3333333333333333,
                            "#9c179e"
                          ],
                          [
                            0.4444444444444444,
                            "#bd3786"
                          ],
                          [
                            0.5555555555555556,
                            "#d8576b"
                          ],
                          [
                            0.6666666666666666,
                            "#ed7953"
                          ],
                          [
                            0.7777777777777778,
                            "#fb9f3a"
                          ],
                          [
                            0.8888888888888888,
                            "#fdca26"
                          ],
                          [
                            1,
                            "#f0f921"
                          ]
                        ],
                        "type": "histogram2dcontour"
                      }
                    ],
                    "mesh3d": [
                      {
                        "colorbar": {
                          "outlinewidth": 0,
                          "ticks": ""
                        },
                        "type": "mesh3d"
                      }
                    ],
                    "parcoords": [
                      {
                        "line": {
                          "colorbar": {
                            "outlinewidth": 0,
                            "ticks": ""
                          }
                        },
                        "type": "parcoords"
                      }
                    ],
                    "pie": [
                      {
                        "automargin": true,
                        "type": "pie"
                      }
                    ],
                    "scatter": [
                      {
                        "fillpattern": {
                          "fillmode": "overlay",
                          "size": 10,
                          "solidity": 0.2
                        },
                        "type": "scatter"
                      }
                    ],
                    "scatter3d": [
                      {
                        "line": {
                          "colorbar": {
                            "outlinewidth": 0,
                            "ticks": ""
                          }
                        },
                        "marker": {
                          "colorbar": {
                            "outlinewidth": 0,
                            "ticks": ""
                          }
                        },
                        "type": "scatter3d"
                      }
                    ],
                    "scattercarpet": [
                      {
                        "marker": {
                          "colorbar": {
                            "outlinewidth": 0,
                            "ticks": ""
                          }
                        },
                        "type": "scattercarpet"
                      }
                    ],
                    "scattergeo": [
                      {
                        "marker": {
                          "colorbar": {
                            "outlinewidth": 0,
                            "ticks": ""
                          }
                        },
                        "type": "scattergeo"
                      }
                    ],
                    "scattergl": [
                      {
                        "marker": {
                          "colorbar": {
                            "outlinewidth": 0,
                            "ticks": ""
                          }
                        },
                        "type": "scattergl"
                      }
                    ],
                    "scattermapbox": [
                      {
                        "marker": {
                          "colorbar": {
                            "outlinewidth": 0,
                            "ticks": ""
                          }
                        },
                        "type": "scattermapbox"
                      }
                    ],
                    "scatterpolar": [
                      {
                        "marker": {
                          "colorbar": {
                            "outlinewidth": 0,
                            "ticks": ""
                          }
                        },
                        "type": "scatterpolar"
                      }
                    ],
                    "scatterpolargl": [
                      {
                        "marker": {
                          "colorbar": {
                            "outlinewidth": 0,
                            "ticks": ""
                          }
                        },
                        "type": "scatterpolargl"
                      }
                    ],
                    "scatterternary": [
                      {
                        "marker": {
                          "colorbar": {
                            "outlinewidth": 0,
                            "ticks": ""
                          }
                        },
                        "type": "scatterternary"
                      }
                    ],
                    "surface": [
                      {
                        "colorbar": {
                          "outlinewidth": 0,
                          "ticks": ""
                        },
                        "colorscale": [
                          [
                            0,
                            "#0d0887"
                          ],
                          [
                            0.1111111111111111,
                            "#46039f"
                          ],
                          [
                            0.2222222222222222,
                            "#7201a8"
                          ],
                          [
                            0.3333333333333333,
                            "#9c179e"
                          ],
                          [
                            0.4444444444444444,
                            "#bd3786"
                          ],
                          [
                            0.5555555555555556,
                            "#d8576b"
                          ],
                          [
                            0.6666666666666666,
                            "#ed7953"
                          ],
                          [
                            0.7777777777777778,
                            "#fb9f3a"
                          ],
                          [
                            0.8888888888888888,
                            "#fdca26"
                          ],
                          [
                            1,
                            "#f0f921"
                          ]
                        ],
                        "type": "surface"
                      }
                    ],
                    "table": [
                      {
                        "cells": {
                          "fill": {
                            "color": "#EBF0F8"
                          },
                          "line": {
                            "color": "white"
                          }
                        },
                        "header": {
                          "fill": {
                            "color": "#C8D4E3"
                          },
                          "line": {
                            "color": "white"
                          }
                        },
                        "type": "table"
                      }
                    ]
                  },
                  "layout": {
                    "annotationdefaults": {
                      "arrowcolor": "#2a3f5f",
                      "arrowhead": 0,
                      "arrowwidth": 1
                    },
                    "autotypenumbers": "strict",
                    "coloraxis": {
                      "colorbar": {
                        "outlinewidth": 0,
                        "ticks": ""
                      }
                    },
                    "colorscale": {
                      "diverging": [
                        [
                          0,
                          "#8e0152"
                        ],
                        [
                          0.1,
                          "#c51b7d"
                        ],
                        [
                          0.2,
                          "#de77ae"
                        ],
                        [
                          0.3,
                          "#f1b6da"
                        ],
                        [
                          0.4,
                          "#fde0ef"
                        ],
                        [
                          0.5,
                          "#f7f7f7"
                        ],
                        [
                          0.6,
                          "#e6f5d0"
                        ],
                        [
                          0.7,
                          "#b8e186"
                        ],
                        [
                          0.8,
                          "#7fbc41"
                        ],
                        [
                          0.9,
                          "#4d9221"
                        ],
                        [
                          1,
                          "#276419"
                        ]
                      ],
                      "sequential": [
                        [
                          0,
                          "#0d0887"
                        ],
                        [
                          0.1111111111111111,
                          "#46039f"
                        ],
                        [
                          0.2222222222222222,
                          "#7201a8"
                        ],
                        [
                          0.3333333333333333,
                          "#9c179e"
                        ],
                        [
                          0.4444444444444444,
                          "#bd3786"
                        ],
                        [
                          0.5555555555555556,
                          "#d8576b"
                        ],
                        [
                          0.6666666666666666,
                          "#ed7953"
                        ],
                        [
                          0.7777777777777778,
                          "#fb9f3a"
                        ],
                        [
                          0.8888888888888888,
                          "#fdca26"
                        ],
                        [
                          1,
                          "#f0f921"
                        ]
                      ],
                      "sequentialminus": [
                        [
                          0,
                          "#0d0887"
                        ],
                        [
                          0.1111111111111111,
                          "#46039f"
                        ],
                        [
                          0.2222222222222222,
                          "#7201a8"
                        ],
                        [
                          0.3333333333333333,
                          "#9c179e"
                        ],
                        [
                          0.4444444444444444,
                          "#bd3786"
                        ],
                        [
                          0.5555555555555556,
                          "#d8576b"
                        ],
                        [
                          0.6666666666666666,
                          "#ed7953"
                        ],
                        [
                          0.7777777777777778,
                          "#fb9f3a"
                        ],
                        [
                          0.8888888888888888,
                          "#fdca26"
                        ],
                        [
                          1,
                          "#f0f921"
                        ]
                      ]
                    },
                    "colorway": [
                      "#636efa",
                      "#EF553B",
                      "#00cc96",
                      "#ab63fa",
                      "#FFA15A",
                      "#19d3f3",
                      "#FF6692",
                      "#B6E880",
                      "#FF97FF",
                      "#FECB52"
                    ],
                    "font": {
                      "color": "#2a3f5f"
                    },
                    "geo": {
                      "bgcolor": "white",
                      "lakecolor": "white",
                      "landcolor": "#E5ECF6",
                      "showlakes": true,
                      "showland": true,
                      "subunitcolor": "white"
                    },
                    "hoverlabel": {
                      "align": "left"
                    },
                    "hovermode": "closest",
                    "mapbox": {
                      "style": "light"
                    },
                    "paper_bgcolor": "white",
                    "plot_bgcolor": "#E5ECF6",
                    "polar": {
                      "angularaxis": {
                        "gridcolor": "white",
                        "linecolor": "white",
                        "ticks": ""
                      },
                      "bgcolor": "#E5ECF6",
                      "radialaxis": {
                        "gridcolor": "white",
                        "linecolor": "white",
                        "ticks": ""
                      }
                    },
                    "scene": {
                      "xaxis": {
                        "backgroundcolor": "#E5ECF6",
                        "gridcolor": "white",
                        "gridwidth": 2,
                        "linecolor": "white",
                        "showbackground": true,
                        "ticks": "",
                        "zerolinecolor": "white"
                      },
                      "yaxis": {
                        "backgroundcolor": "#E5ECF6",
                        "gridcolor": "white",
                        "gridwidth": 2,
                        "linecolor": "white",
                        "showbackground": true,
                        "ticks": "",
                        "zerolinecolor": "white"
                      },
                      "zaxis": {
                        "backgroundcolor": "#E5ECF6",
                        "gridcolor": "white",
                        "gridwidth": 2,
                        "linecolor": "white",
                        "showbackground": true,
                        "ticks": "",
                        "zerolinecolor": "white"
                      }
                    },
                    "shapedefaults": {
                      "line": {
                        "color": "#2a3f5f"
                      }
                    },
                    "ternary": {
                      "aaxis": {
                        "gridcolor": "white",
                        "linecolor": "white",
                        "ticks": ""
                      },
                      "baxis": {
                        "gridcolor": "white",
                        "linecolor": "white",
                        "ticks": ""
                      },
                      "bgcolor": "#E5ECF6",
                      "caxis": {
                        "gridcolor": "white",
                        "linecolor": "white",
                        "ticks": ""
                      }
                    },
                    "title": {
                      "x": 0.05
                    },
                    "xaxis": {
                      "automargin": true,
                      "gridcolor": "white",
                      "linecolor": "white",
                      "ticks": "",
                      "title": {
                        "standoff": 15
                      },
                      "zerolinecolor": "white",
                      "zerolinewidth": 2
                    },
                    "yaxis": {
                      "automargin": true,
                      "gridcolor": "white",
                      "linecolor": "white",
                      "ticks": "",
                      "title": {
                        "standoff": 15
                      },
                      "zerolinecolor": "white",
                      "zerolinewidth": 2
                    }
                  }
                },
                "title": {
                  "font": {
                    "color": "#4D5663"
                  },
                  "text": "Deaths per 10,000"
                },
                "xaxis": {
                  "gridcolor": "#E1E5ED",
                  "showgrid": true,
                  "tickfont": {
                    "color": "#4D5663"
                  },
                  "title": {
                    "font": {
                      "color": "#4D5663"
                    },
                    "text": ""
                  },
                  "zerolinecolor": "#E1E5ED"
                },
                "yaxis": {
                  "gridcolor": "#E1E5ED",
                  "showgrid": true,
                  "tickfont": {
                    "color": "#4D5663"
                  },
                  "title": {
                    "font": {
                      "color": "#4D5663"
                    },
                    "text": ""
                  },
                  "zerolinecolor": "#E1E5ED"
                }
              }
            },
            "text/html": [
              "<div>                            <div id=\"3fb007ee-049d-4e47-8320-d1c1806dfdbb\" class=\"plotly-graph-div\" style=\"height:525px; width:100%;\"></div>            <script type=\"text/javascript\">                require([\"plotly\"], function(Plotly) {                    window.PLOTLYENV=window.PLOTLYENV || {};\n",
              "                    window.PLOTLYENV.BASE_URL='https://plot.ly';                                    if (document.getElementById(\"3fb007ee-049d-4e47-8320-d1c1806dfdbb\")) {                    Plotly.newPlot(                        \"3fb007ee-049d-4e47-8320-d1c1806dfdbb\",                        [{\"line\":{\"color\":\"rgba(255, 153, 51, 1.0)\",\"dash\":\"solid\",\"shape\":\"linear\",\"width\":1.3},\"mode\":\"lines\",\"name\":\"Male Mortality\",\"text\":\"\",\"x\":[2022,2021,2020,2019,2018,2017,2016,2015,2014,2013,2012,2011,2010,2009,2008,2007,2006,2005,2004,2003,2002,2001,2000,1999,1998,1997,1996,1995,1994,1993,1992,1991,1990,1989,1988,1987,1986,1985,1984,1983,1982,1981,1980,1979,1978,1977,1976,1975,1974,1973,1972,1971,1970,1969,1968,1967,1966,1965,1964,1963,1962,1961,1960],\"y\":[\"\",206.353750140103,182.409280975288,170.291231579291,171.998505698591,174.593775729317,175.764160760224,177.47606641166,182.340308654319,186.16511974753,188.747518575177,191.242417196349,194.136211858161,196.581060228849,200.3394758578,201.519639915346,203.540100263192,207.18462893087,210.024181424358,212.122829065159,213.762172693637,215.840642204769,217.392790147305,219.162040397601,221.059623812343,222.582370684416,226.310690824164,229.33762918991,230.850436186079,232.272739031145,231.798324351615,232.643982687228,234.554798702015,236.648862964109,239.885531319266,241.130248692245,243.758195230433,249.301654334185,254.026432350751,257.595770188348,260.524026582671,264.350648186225,267.778979244448,270.324921267752,273.861700466848,276.216814882764,279.756057527578,284.09157782353,288.730740760914,292.814973764251,299.285358715732,315.888522110013,310.304590506904,315.106776029961,318.471773328609,323.671095388793,328.539265041117,337.657487077999,332.029766235342,338.074201833933,341.855302636778,365.917299719234,386.345709343829],\"type\":\"scatter\"},{\"line\":{\"color\":\"rgba(55, 128, 191, 1.0)\",\"dash\":\"solid\",\"shape\":\"linear\",\"width\":1.3},\"mode\":\"lines\",\"name\":\"Female Mortality\",\"text\":\"\",\"x\":[2022,2021,2020,2019,2018,2017,2016,2015,2014,2013,2012,2011,2010,2009,2008,2007,2006,2005,2004,2003,2002,2001,2000,1999,1998,1997,1996,1995,1994,1993,1992,1991,1990,1989,1988,1987,1986,1985,1984,1983,1982,1981,1980,1979,1978,1977,1976,1975,1974,1973,1972,1971,1970,1969,1968,1967,1966,1965,1964,1963,1962,1961,1960],\"y\":[\"\",138.473422190087,119.449661608523,111.119110427971,112.37601379482,113.883011497022,115.176552636072,116.232879607026,116.942393947418,117.809051143638,119.503116267083,121.389514179729,123.671528461495,125.620417723555,129.368353278965,129.94975761839,132.079264475652,135.611448694647,139.129122156291,140.111524150744,141.997046898034,143.57013886004,146.190910158284,147.800005790837,148.94219814203,150.919732700863,153.539934118726,154.436500630359,155.882708847364,156.040741232364,156.786420353495,158.978479361651,158.809312008503,161.34426852614,163.70330237537,165.489759919051,167.773675955097,171.639831601793,174.375768056715,177.406980267898,180.374352686493,184.247641087775,188.772494116918,192.760966536349,197.570502094045,201.992671718421,207.66765947663,211.869261962815,215.838052982455,220.196724136146,225.708923691095,233.450031053935,235.933849801454,238.514098142095,241.938995753845,246.866182284326,252.15158653281,256.825165517128,256.345687314532,261.515942913558,264.599246966128,284.48339478412,302.23839310137],\"type\":\"scatter\"}],                        {\"legend\":{\"bgcolor\":\"#F5F6F9\",\"font\":{\"color\":\"#4D5663\"}},\"paper_bgcolor\":\"#F5F6F9\",\"plot_bgcolor\":\"#F5F6F9\",\"template\":{\"data\":{\"barpolar\":[{\"marker\":{\"line\":{\"color\":\"#E5ECF6\",\"width\":0.5},\"pattern\":{\"fillmode\":\"overlay\",\"size\":10,\"solidity\":0.2}},\"type\":\"barpolar\"}],\"bar\":[{\"error_x\":{\"color\":\"#2a3f5f\"},\"error_y\":{\"color\":\"#2a3f5f\"},\"marker\":{\"line\":{\"color\":\"#E5ECF6\",\"width\":0.5},\"pattern\":{\"fillmode\":\"overlay\",\"size\":10,\"solidity\":0.2}},\"type\":\"bar\"}],\"carpet\":[{\"aaxis\":{\"endlinecolor\":\"#2a3f5f\",\"gridcolor\":\"white\",\"linecolor\":\"white\",\"minorgridcolor\":\"white\",\"startlinecolor\":\"#2a3f5f\"},\"baxis\":{\"endlinecolor\":\"#2a3f5f\",\"gridcolor\":\"white\",\"linecolor\":\"white\",\"minorgridcolor\":\"white\",\"startlinecolor\":\"#2a3f5f\"},\"type\":\"carpet\"}],\"choropleth\":[{\"colorbar\":{\"outlinewidth\":0,\"ticks\":\"\"},\"type\":\"choropleth\"}],\"contourcarpet\":[{\"colorbar\":{\"outlinewidth\":0,\"ticks\":\"\"},\"type\":\"contourcarpet\"}],\"contour\":[{\"colorbar\":{\"outlinewidth\":0,\"ticks\":\"\"},\"colorscale\":[[0.0,\"#0d0887\"],[0.1111111111111111,\"#46039f\"],[0.2222222222222222,\"#7201a8\"],[0.3333333333333333,\"#9c179e\"],[0.4444444444444444,\"#bd3786\"],[0.5555555555555556,\"#d8576b\"],[0.6666666666666666,\"#ed7953\"],[0.7777777777777778,\"#fb9f3a\"],[0.8888888888888888,\"#fdca26\"],[1.0,\"#f0f921\"]],\"type\":\"contour\"}],\"heatmapgl\":[{\"colorbar\":{\"outlinewidth\":0,\"ticks\":\"\"},\"colorscale\":[[0.0,\"#0d0887\"],[0.1111111111111111,\"#46039f\"],[0.2222222222222222,\"#7201a8\"],[0.3333333333333333,\"#9c179e\"],[0.4444444444444444,\"#bd3786\"],[0.5555555555555556,\"#d8576b\"],[0.6666666666666666,\"#ed7953\"],[0.7777777777777778,\"#fb9f3a\"],[0.8888888888888888,\"#fdca26\"],[1.0,\"#f0f921\"]],\"type\":\"heatmapgl\"}],\"heatmap\":[{\"colorbar\":{\"outlinewidth\":0,\"ticks\":\"\"},\"colorscale\":[[0.0,\"#0d0887\"],[0.1111111111111111,\"#46039f\"],[0.2222222222222222,\"#7201a8\"],[0.3333333333333333,\"#9c179e\"],[0.4444444444444444,\"#bd3786\"],[0.5555555555555556,\"#d8576b\"],[0.6666666666666666,\"#ed7953\"],[0.7777777777777778,\"#fb9f3a\"],[0.8888888888888888,\"#fdca26\"],[1.0,\"#f0f921\"]],\"type\":\"heatmap\"}],\"histogram2dcontour\":[{\"colorbar\":{\"outlinewidth\":0,\"ticks\":\"\"},\"colorscale\":[[0.0,\"#0d0887\"],[0.1111111111111111,\"#46039f\"],[0.2222222222222222,\"#7201a8\"],[0.3333333333333333,\"#9c179e\"],[0.4444444444444444,\"#bd3786\"],[0.5555555555555556,\"#d8576b\"],[0.6666666666666666,\"#ed7953\"],[0.7777777777777778,\"#fb9f3a\"],[0.8888888888888888,\"#fdca26\"],[1.0,\"#f0f921\"]],\"type\":\"histogram2dcontour\"}],\"histogram2d\":[{\"colorbar\":{\"outlinewidth\":0,\"ticks\":\"\"},\"colorscale\":[[0.0,\"#0d0887\"],[0.1111111111111111,\"#46039f\"],[0.2222222222222222,\"#7201a8\"],[0.3333333333333333,\"#9c179e\"],[0.4444444444444444,\"#bd3786\"],[0.5555555555555556,\"#d8576b\"],[0.6666666666666666,\"#ed7953\"],[0.7777777777777778,\"#fb9f3a\"],[0.8888888888888888,\"#fdca26\"],[1.0,\"#f0f921\"]],\"type\":\"histogram2d\"}],\"histogram\":[{\"marker\":{\"pattern\":{\"fillmode\":\"overlay\",\"size\":10,\"solidity\":0.2}},\"type\":\"histogram\"}],\"mesh3d\":[{\"colorbar\":{\"outlinewidth\":0,\"ticks\":\"\"},\"type\":\"mesh3d\"}],\"parcoords\":[{\"line\":{\"colorbar\":{\"outlinewidth\":0,\"ticks\":\"\"}},\"type\":\"parcoords\"}],\"pie\":[{\"automargin\":true,\"type\":\"pie\"}],\"scatter3d\":[{\"line\":{\"colorbar\":{\"outlinewidth\":0,\"ticks\":\"\"}},\"marker\":{\"colorbar\":{\"outlinewidth\":0,\"ticks\":\"\"}},\"type\":\"scatter3d\"}],\"scattercarpet\":[{\"marker\":{\"colorbar\":{\"outlinewidth\":0,\"ticks\":\"\"}},\"type\":\"scattercarpet\"}],\"scattergeo\":[{\"marker\":{\"colorbar\":{\"outlinewidth\":0,\"ticks\":\"\"}},\"type\":\"scattergeo\"}],\"scattergl\":[{\"marker\":{\"colorbar\":{\"outlinewidth\":0,\"ticks\":\"\"}},\"type\":\"scattergl\"}],\"scattermapbox\":[{\"marker\":{\"colorbar\":{\"outlinewidth\":0,\"ticks\":\"\"}},\"type\":\"scattermapbox\"}],\"scatterpolargl\":[{\"marker\":{\"colorbar\":{\"outlinewidth\":0,\"ticks\":\"\"}},\"type\":\"scatterpolargl\"}],\"scatterpolar\":[{\"marker\":{\"colorbar\":{\"outlinewidth\":0,\"ticks\":\"\"}},\"type\":\"scatterpolar\"}],\"scatter\":[{\"fillpattern\":{\"fillmode\":\"overlay\",\"size\":10,\"solidity\":0.2},\"type\":\"scatter\"}],\"scatterternary\":[{\"marker\":{\"colorbar\":{\"outlinewidth\":0,\"ticks\":\"\"}},\"type\":\"scatterternary\"}],\"surface\":[{\"colorbar\":{\"outlinewidth\":0,\"ticks\":\"\"},\"colorscale\":[[0.0,\"#0d0887\"],[0.1111111111111111,\"#46039f\"],[0.2222222222222222,\"#7201a8\"],[0.3333333333333333,\"#9c179e\"],[0.4444444444444444,\"#bd3786\"],[0.5555555555555556,\"#d8576b\"],[0.6666666666666666,\"#ed7953\"],[0.7777777777777778,\"#fb9f3a\"],[0.8888888888888888,\"#fdca26\"],[1.0,\"#f0f921\"]],\"type\":\"surface\"}],\"table\":[{\"cells\":{\"fill\":{\"color\":\"#EBF0F8\"},\"line\":{\"color\":\"white\"}},\"header\":{\"fill\":{\"color\":\"#C8D4E3\"},\"line\":{\"color\":\"white\"}},\"type\":\"table\"}]},\"layout\":{\"annotationdefaults\":{\"arrowcolor\":\"#2a3f5f\",\"arrowhead\":0,\"arrowwidth\":1},\"autotypenumbers\":\"strict\",\"coloraxis\":{\"colorbar\":{\"outlinewidth\":0,\"ticks\":\"\"}},\"colorscale\":{\"diverging\":[[0,\"#8e0152\"],[0.1,\"#c51b7d\"],[0.2,\"#de77ae\"],[0.3,\"#f1b6da\"],[0.4,\"#fde0ef\"],[0.5,\"#f7f7f7\"],[0.6,\"#e6f5d0\"],[0.7,\"#b8e186\"],[0.8,\"#7fbc41\"],[0.9,\"#4d9221\"],[1,\"#276419\"]],\"sequential\":[[0.0,\"#0d0887\"],[0.1111111111111111,\"#46039f\"],[0.2222222222222222,\"#7201a8\"],[0.3333333333333333,\"#9c179e\"],[0.4444444444444444,\"#bd3786\"],[0.5555555555555556,\"#d8576b\"],[0.6666666666666666,\"#ed7953\"],[0.7777777777777778,\"#fb9f3a\"],[0.8888888888888888,\"#fdca26\"],[1.0,\"#f0f921\"]],\"sequentialminus\":[[0.0,\"#0d0887\"],[0.1111111111111111,\"#46039f\"],[0.2222222222222222,\"#7201a8\"],[0.3333333333333333,\"#9c179e\"],[0.4444444444444444,\"#bd3786\"],[0.5555555555555556,\"#d8576b\"],[0.6666666666666666,\"#ed7953\"],[0.7777777777777778,\"#fb9f3a\"],[0.8888888888888888,\"#fdca26\"],[1.0,\"#f0f921\"]]},\"colorway\":[\"#636efa\",\"#EF553B\",\"#00cc96\",\"#ab63fa\",\"#FFA15A\",\"#19d3f3\",\"#FF6692\",\"#B6E880\",\"#FF97FF\",\"#FECB52\"],\"font\":{\"color\":\"#2a3f5f\"},\"geo\":{\"bgcolor\":\"white\",\"lakecolor\":\"white\",\"landcolor\":\"#E5ECF6\",\"showlakes\":true,\"showland\":true,\"subunitcolor\":\"white\"},\"hoverlabel\":{\"align\":\"left\"},\"hovermode\":\"closest\",\"mapbox\":{\"style\":\"light\"},\"paper_bgcolor\":\"white\",\"plot_bgcolor\":\"#E5ECF6\",\"polar\":{\"angularaxis\":{\"gridcolor\":\"white\",\"linecolor\":\"white\",\"ticks\":\"\"},\"bgcolor\":\"#E5ECF6\",\"radialaxis\":{\"gridcolor\":\"white\",\"linecolor\":\"white\",\"ticks\":\"\"}},\"scene\":{\"xaxis\":{\"backgroundcolor\":\"#E5ECF6\",\"gridcolor\":\"white\",\"gridwidth\":2,\"linecolor\":\"white\",\"showbackground\":true,\"ticks\":\"\",\"zerolinecolor\":\"white\"},\"yaxis\":{\"backgroundcolor\":\"#E5ECF6\",\"gridcolor\":\"white\",\"gridwidth\":2,\"linecolor\":\"white\",\"showbackground\":true,\"ticks\":\"\",\"zerolinecolor\":\"white\"},\"zaxis\":{\"backgroundcolor\":\"#E5ECF6\",\"gridcolor\":\"white\",\"gridwidth\":2,\"linecolor\":\"white\",\"showbackground\":true,\"ticks\":\"\",\"zerolinecolor\":\"white\"}},\"shapedefaults\":{\"line\":{\"color\":\"#2a3f5f\"}},\"ternary\":{\"aaxis\":{\"gridcolor\":\"white\",\"linecolor\":\"white\",\"ticks\":\"\"},\"baxis\":{\"gridcolor\":\"white\",\"linecolor\":\"white\",\"ticks\":\"\"},\"bgcolor\":\"#E5ECF6\",\"caxis\":{\"gridcolor\":\"white\",\"linecolor\":\"white\",\"ticks\":\"\"}},\"title\":{\"x\":0.05},\"xaxis\":{\"automargin\":true,\"gridcolor\":\"white\",\"linecolor\":\"white\",\"ticks\":\"\",\"title\":{\"standoff\":15},\"zerolinecolor\":\"white\",\"zerolinewidth\":2},\"yaxis\":{\"automargin\":true,\"gridcolor\":\"white\",\"linecolor\":\"white\",\"ticks\":\"\",\"title\":{\"standoff\":15},\"zerolinecolor\":\"white\",\"zerolinewidth\":2}}},\"title\":{\"font\":{\"color\":\"#4D5663\"},\"text\":\"Deaths per 10,000\"},\"xaxis\":{\"gridcolor\":\"#E1E5ED\",\"showgrid\":true,\"tickfont\":{\"color\":\"#4D5663\"},\"title\":{\"font\":{\"color\":\"#4D5663\"},\"text\":\"\"},\"zerolinecolor\":\"#E1E5ED\"},\"yaxis\":{\"gridcolor\":\"#E1E5ED\",\"showgrid\":true,\"tickfont\":{\"color\":\"#4D5663\"},\"title\":{\"font\":{\"color\":\"#4D5663\"},\"text\":\"\"},\"zerolinecolor\":\"#E1E5ED\"}},                        {\"showLink\": true, \"linkText\": \"Export to plot.ly\", \"plotlyServerURL\": \"https://plot.ly\", \"responsive\": true}                    ).then(function(){\n",
              "                            \n",
              "var gd = document.getElementById('3fb007ee-049d-4e47-8320-d1c1806dfdbb');\n",
              "var x = new MutationObserver(function (mutations, observer) {{\n",
              "        var display = window.getComputedStyle(gd).display;\n",
              "        if (!display || display === 'none') {{\n",
              "            console.log([gd, 'removed!']);\n",
              "            Plotly.purge(gd);\n",
              "            observer.disconnect();\n",
              "        }}\n",
              "}});\n",
              "\n",
              "// Listen for the removal of the full notebook cells\n",
              "var notebookContainer = gd.closest('#notebook-container');\n",
              "if (notebookContainer) {{\n",
              "    x.observe(notebookContainer, {childList: true});\n",
              "}}\n",
              "\n",
              "// Listen for the clearing of the current output cell\n",
              "var outputEl = gd.closest('.output');\n",
              "if (outputEl) {{\n",
              "    x.observe(outputEl, {childList: true});\n",
              "}}\n",
              "\n",
              "                        })                };                });            </script>        </div>"
            ]
          },
          "metadata": {},
          "output_type": "display_data"
        }
      ],
      "source": [
        "world = data.query(\"country=='World'\")\n",
        "\n",
        "# Drop country index for World data\n",
        "world.index = world.index.droplevel('country')\n",
        "\n",
        "world[[\"Male Mortality\",\"Female Mortality\"]].iplot(title=\"Deaths per 10,000\")"
      ]
    },
    {
      "cell_type": "markdown",
      "metadata": {},
      "source": [
        "##### Adult female share of population over time\n",
        "\n"
      ]
    },
    {
      "cell_type": "markdown",
      "metadata": {},
      "source": [
        "Decreases in population growth could also be due to a decreasing share of adult women, perhaps due to gender selection at birth.  How does this share ($\\phi_t$) vary over time?\n",
        "\n"
      ]
    },
    {
      "cell_type": "code",
      "execution_count": 11,
      "metadata": {},
      "outputs": [
        {
          "data": {
            "application/vnd.plotly.v1+json": {
              "config": {
                "linkText": "Export to plot.ly",
                "plotlyServerURL": "https://plot.ly",
                "showLink": true
              },
              "data": [
                {
                  "line": {
                    "color": "rgba(255, 153, 51, 1.0)",
                    "dash": "solid",
                    "shape": "linear",
                    "width": 1.3
                  },
                  "mode": "lines",
                  "name": "% Adult Female",
                  "text": "",
                  "type": "scatter",
                  "x": [
                    2022,
                    2021,
                    2020,
                    2019,
                    2018,
                    2017,
                    2016,
                    2015,
                    2014,
                    2013,
                    2012,
                    2011,
                    2010,
                    2009,
                    2008,
                    2007,
                    2006,
                    2005,
                    2004,
                    2003,
                    2002,
                    2001,
                    2000,
                    1999,
                    1998,
                    1997,
                    1996,
                    1995,
                    1994,
                    1993,
                    1992,
                    1991,
                    1990,
                    1989,
                    1988,
                    1987,
                    1986,
                    1985,
                    1984,
                    1983,
                    1982,
                    1981,
                    1980,
                    1979,
                    1978,
                    1977,
                    1976,
                    1975,
                    1974,
                    1973,
                    1972,
                    1971,
                    1970,
                    1969,
                    1968,
                    1967,
                    1966,
                    1965,
                    1964,
                    1963,
                    1962,
                    1961,
                    1960
                  ],
                  "y": [
                    32.017596449224676,
                    32.01069475015152,
                    32.0102772472671,
                    32.03391793550546,
                    32.07172049660389,
                    32.1190509948185,
                    32.16991503362311,
                    32.21366719246973,
                    32.256160746749245,
                    32.293551327767375,
                    32.31943309204593,
                    32.3254234332051,
                    32.29730958022279,
                    32.245955582733494,
                    32.184304095180025,
                    32.107851935216125,
                    32.01566616166565,
                    31.89479213354718,
                    31.752069332426846,
                    31.609432580162988,
                    31.463106914474636,
                    31.31217078145005,
                    31.168221971777058,
                    31.02906878671711,
                    30.891280286173046,
                    30.752484838455786,
                    30.61931411563621,
                    30.507021097677903,
                    30.412798140793583,
                    30.342852748519427,
                    30.296805177064417,
                    30.25402073898651,
                    30.217526060933903,
                    30.185832220564425,
                    30.13334231466392,
                    30.067536490562066,
                    29.98846806578371,
                    29.88077793033933,
                    29.750932762588025,
                    29.599946854542303,
                    29.456827480387958,
                    29.32787929516194,
                    29.180891091266943,
                    29.027588767372514,
                    28.850914281485753,
                    28.68281853124027,
                    28.603183285840974,
                    28.57912001493215,
                    28.568078924570944,
                    28.55849467259079,
                    28.523533201804334,
                    28.490593530279863,
                    28.46740350799476,
                    28.446439221920492,
                    28.441815822522912,
                    28.43404920434396,
                    28.428957061846077,
                    28.46103092115594,
                    28.52269975720683,
                    28.631646020372294,
                    28.75758154005197,
                    28.828465194522565,
                    28.883235909617216
                  ]
                }
              ],
              "layout": {
                "legend": {
                  "bgcolor": "#F5F6F9",
                  "font": {
                    "color": "#4D5663"
                  }
                },
                "paper_bgcolor": "#F5F6F9",
                "plot_bgcolor": "#F5F6F9",
                "template": {
                  "data": {
                    "bar": [
                      {
                        "error_x": {
                          "color": "#2a3f5f"
                        },
                        "error_y": {
                          "color": "#2a3f5f"
                        },
                        "marker": {
                          "line": {
                            "color": "#E5ECF6",
                            "width": 0.5
                          },
                          "pattern": {
                            "fillmode": "overlay",
                            "size": 10,
                            "solidity": 0.2
                          }
                        },
                        "type": "bar"
                      }
                    ],
                    "barpolar": [
                      {
                        "marker": {
                          "line": {
                            "color": "#E5ECF6",
                            "width": 0.5
                          },
                          "pattern": {
                            "fillmode": "overlay",
                            "size": 10,
                            "solidity": 0.2
                          }
                        },
                        "type": "barpolar"
                      }
                    ],
                    "carpet": [
                      {
                        "aaxis": {
                          "endlinecolor": "#2a3f5f",
                          "gridcolor": "white",
                          "linecolor": "white",
                          "minorgridcolor": "white",
                          "startlinecolor": "#2a3f5f"
                        },
                        "baxis": {
                          "endlinecolor": "#2a3f5f",
                          "gridcolor": "white",
                          "linecolor": "white",
                          "minorgridcolor": "white",
                          "startlinecolor": "#2a3f5f"
                        },
                        "type": "carpet"
                      }
                    ],
                    "choropleth": [
                      {
                        "colorbar": {
                          "outlinewidth": 0,
                          "ticks": ""
                        },
                        "type": "choropleth"
                      }
                    ],
                    "contour": [
                      {
                        "colorbar": {
                          "outlinewidth": 0,
                          "ticks": ""
                        },
                        "colorscale": [
                          [
                            0,
                            "#0d0887"
                          ],
                          [
                            0.1111111111111111,
                            "#46039f"
                          ],
                          [
                            0.2222222222222222,
                            "#7201a8"
                          ],
                          [
                            0.3333333333333333,
                            "#9c179e"
                          ],
                          [
                            0.4444444444444444,
                            "#bd3786"
                          ],
                          [
                            0.5555555555555556,
                            "#d8576b"
                          ],
                          [
                            0.6666666666666666,
                            "#ed7953"
                          ],
                          [
                            0.7777777777777778,
                            "#fb9f3a"
                          ],
                          [
                            0.8888888888888888,
                            "#fdca26"
                          ],
                          [
                            1,
                            "#f0f921"
                          ]
                        ],
                        "type": "contour"
                      }
                    ],
                    "contourcarpet": [
                      {
                        "colorbar": {
                          "outlinewidth": 0,
                          "ticks": ""
                        },
                        "type": "contourcarpet"
                      }
                    ],
                    "heatmap": [
                      {
                        "colorbar": {
                          "outlinewidth": 0,
                          "ticks": ""
                        },
                        "colorscale": [
                          [
                            0,
                            "#0d0887"
                          ],
                          [
                            0.1111111111111111,
                            "#46039f"
                          ],
                          [
                            0.2222222222222222,
                            "#7201a8"
                          ],
                          [
                            0.3333333333333333,
                            "#9c179e"
                          ],
                          [
                            0.4444444444444444,
                            "#bd3786"
                          ],
                          [
                            0.5555555555555556,
                            "#d8576b"
                          ],
                          [
                            0.6666666666666666,
                            "#ed7953"
                          ],
                          [
                            0.7777777777777778,
                            "#fb9f3a"
                          ],
                          [
                            0.8888888888888888,
                            "#fdca26"
                          ],
                          [
                            1,
                            "#f0f921"
                          ]
                        ],
                        "type": "heatmap"
                      }
                    ],
                    "heatmapgl": [
                      {
                        "colorbar": {
                          "outlinewidth": 0,
                          "ticks": ""
                        },
                        "colorscale": [
                          [
                            0,
                            "#0d0887"
                          ],
                          [
                            0.1111111111111111,
                            "#46039f"
                          ],
                          [
                            0.2222222222222222,
                            "#7201a8"
                          ],
                          [
                            0.3333333333333333,
                            "#9c179e"
                          ],
                          [
                            0.4444444444444444,
                            "#bd3786"
                          ],
                          [
                            0.5555555555555556,
                            "#d8576b"
                          ],
                          [
                            0.6666666666666666,
                            "#ed7953"
                          ],
                          [
                            0.7777777777777778,
                            "#fb9f3a"
                          ],
                          [
                            0.8888888888888888,
                            "#fdca26"
                          ],
                          [
                            1,
                            "#f0f921"
                          ]
                        ],
                        "type": "heatmapgl"
                      }
                    ],
                    "histogram": [
                      {
                        "marker": {
                          "pattern": {
                            "fillmode": "overlay",
                            "size": 10,
                            "solidity": 0.2
                          }
                        },
                        "type": "histogram"
                      }
                    ],
                    "histogram2d": [
                      {
                        "colorbar": {
                          "outlinewidth": 0,
                          "ticks": ""
                        },
                        "colorscale": [
                          [
                            0,
                            "#0d0887"
                          ],
                          [
                            0.1111111111111111,
                            "#46039f"
                          ],
                          [
                            0.2222222222222222,
                            "#7201a8"
                          ],
                          [
                            0.3333333333333333,
                            "#9c179e"
                          ],
                          [
                            0.4444444444444444,
                            "#bd3786"
                          ],
                          [
                            0.5555555555555556,
                            "#d8576b"
                          ],
                          [
                            0.6666666666666666,
                            "#ed7953"
                          ],
                          [
                            0.7777777777777778,
                            "#fb9f3a"
                          ],
                          [
                            0.8888888888888888,
                            "#fdca26"
                          ],
                          [
                            1,
                            "#f0f921"
                          ]
                        ],
                        "type": "histogram2d"
                      }
                    ],
                    "histogram2dcontour": [
                      {
                        "colorbar": {
                          "outlinewidth": 0,
                          "ticks": ""
                        },
                        "colorscale": [
                          [
                            0,
                            "#0d0887"
                          ],
                          [
                            0.1111111111111111,
                            "#46039f"
                          ],
                          [
                            0.2222222222222222,
                            "#7201a8"
                          ],
                          [
                            0.3333333333333333,
                            "#9c179e"
                          ],
                          [
                            0.4444444444444444,
                            "#bd3786"
                          ],
                          [
                            0.5555555555555556,
                            "#d8576b"
                          ],
                          [
                            0.6666666666666666,
                            "#ed7953"
                          ],
                          [
                            0.7777777777777778,
                            "#fb9f3a"
                          ],
                          [
                            0.8888888888888888,
                            "#fdca26"
                          ],
                          [
                            1,
                            "#f0f921"
                          ]
                        ],
                        "type": "histogram2dcontour"
                      }
                    ],
                    "mesh3d": [
                      {
                        "colorbar": {
                          "outlinewidth": 0,
                          "ticks": ""
                        },
                        "type": "mesh3d"
                      }
                    ],
                    "parcoords": [
                      {
                        "line": {
                          "colorbar": {
                            "outlinewidth": 0,
                            "ticks": ""
                          }
                        },
                        "type": "parcoords"
                      }
                    ],
                    "pie": [
                      {
                        "automargin": true,
                        "type": "pie"
                      }
                    ],
                    "scatter": [
                      {
                        "fillpattern": {
                          "fillmode": "overlay",
                          "size": 10,
                          "solidity": 0.2
                        },
                        "type": "scatter"
                      }
                    ],
                    "scatter3d": [
                      {
                        "line": {
                          "colorbar": {
                            "outlinewidth": 0,
                            "ticks": ""
                          }
                        },
                        "marker": {
                          "colorbar": {
                            "outlinewidth": 0,
                            "ticks": ""
                          }
                        },
                        "type": "scatter3d"
                      }
                    ],
                    "scattercarpet": [
                      {
                        "marker": {
                          "colorbar": {
                            "outlinewidth": 0,
                            "ticks": ""
                          }
                        },
                        "type": "scattercarpet"
                      }
                    ],
                    "scattergeo": [
                      {
                        "marker": {
                          "colorbar": {
                            "outlinewidth": 0,
                            "ticks": ""
                          }
                        },
                        "type": "scattergeo"
                      }
                    ],
                    "scattergl": [
                      {
                        "marker": {
                          "colorbar": {
                            "outlinewidth": 0,
                            "ticks": ""
                          }
                        },
                        "type": "scattergl"
                      }
                    ],
                    "scattermapbox": [
                      {
                        "marker": {
                          "colorbar": {
                            "outlinewidth": 0,
                            "ticks": ""
                          }
                        },
                        "type": "scattermapbox"
                      }
                    ],
                    "scatterpolar": [
                      {
                        "marker": {
                          "colorbar": {
                            "outlinewidth": 0,
                            "ticks": ""
                          }
                        },
                        "type": "scatterpolar"
                      }
                    ],
                    "scatterpolargl": [
                      {
                        "marker": {
                          "colorbar": {
                            "outlinewidth": 0,
                            "ticks": ""
                          }
                        },
                        "type": "scatterpolargl"
                      }
                    ],
                    "scatterternary": [
                      {
                        "marker": {
                          "colorbar": {
                            "outlinewidth": 0,
                            "ticks": ""
                          }
                        },
                        "type": "scatterternary"
                      }
                    ],
                    "surface": [
                      {
                        "colorbar": {
                          "outlinewidth": 0,
                          "ticks": ""
                        },
                        "colorscale": [
                          [
                            0,
                            "#0d0887"
                          ],
                          [
                            0.1111111111111111,
                            "#46039f"
                          ],
                          [
                            0.2222222222222222,
                            "#7201a8"
                          ],
                          [
                            0.3333333333333333,
                            "#9c179e"
                          ],
                          [
                            0.4444444444444444,
                            "#bd3786"
                          ],
                          [
                            0.5555555555555556,
                            "#d8576b"
                          ],
                          [
                            0.6666666666666666,
                            "#ed7953"
                          ],
                          [
                            0.7777777777777778,
                            "#fb9f3a"
                          ],
                          [
                            0.8888888888888888,
                            "#fdca26"
                          ],
                          [
                            1,
                            "#f0f921"
                          ]
                        ],
                        "type": "surface"
                      }
                    ],
                    "table": [
                      {
                        "cells": {
                          "fill": {
                            "color": "#EBF0F8"
                          },
                          "line": {
                            "color": "white"
                          }
                        },
                        "header": {
                          "fill": {
                            "color": "#C8D4E3"
                          },
                          "line": {
                            "color": "white"
                          }
                        },
                        "type": "table"
                      }
                    ]
                  },
                  "layout": {
                    "annotationdefaults": {
                      "arrowcolor": "#2a3f5f",
                      "arrowhead": 0,
                      "arrowwidth": 1
                    },
                    "autotypenumbers": "strict",
                    "coloraxis": {
                      "colorbar": {
                        "outlinewidth": 0,
                        "ticks": ""
                      }
                    },
                    "colorscale": {
                      "diverging": [
                        [
                          0,
                          "#8e0152"
                        ],
                        [
                          0.1,
                          "#c51b7d"
                        ],
                        [
                          0.2,
                          "#de77ae"
                        ],
                        [
                          0.3,
                          "#f1b6da"
                        ],
                        [
                          0.4,
                          "#fde0ef"
                        ],
                        [
                          0.5,
                          "#f7f7f7"
                        ],
                        [
                          0.6,
                          "#e6f5d0"
                        ],
                        [
                          0.7,
                          "#b8e186"
                        ],
                        [
                          0.8,
                          "#7fbc41"
                        ],
                        [
                          0.9,
                          "#4d9221"
                        ],
                        [
                          1,
                          "#276419"
                        ]
                      ],
                      "sequential": [
                        [
                          0,
                          "#0d0887"
                        ],
                        [
                          0.1111111111111111,
                          "#46039f"
                        ],
                        [
                          0.2222222222222222,
                          "#7201a8"
                        ],
                        [
                          0.3333333333333333,
                          "#9c179e"
                        ],
                        [
                          0.4444444444444444,
                          "#bd3786"
                        ],
                        [
                          0.5555555555555556,
                          "#d8576b"
                        ],
                        [
                          0.6666666666666666,
                          "#ed7953"
                        ],
                        [
                          0.7777777777777778,
                          "#fb9f3a"
                        ],
                        [
                          0.8888888888888888,
                          "#fdca26"
                        ],
                        [
                          1,
                          "#f0f921"
                        ]
                      ],
                      "sequentialminus": [
                        [
                          0,
                          "#0d0887"
                        ],
                        [
                          0.1111111111111111,
                          "#46039f"
                        ],
                        [
                          0.2222222222222222,
                          "#7201a8"
                        ],
                        [
                          0.3333333333333333,
                          "#9c179e"
                        ],
                        [
                          0.4444444444444444,
                          "#bd3786"
                        ],
                        [
                          0.5555555555555556,
                          "#d8576b"
                        ],
                        [
                          0.6666666666666666,
                          "#ed7953"
                        ],
                        [
                          0.7777777777777778,
                          "#fb9f3a"
                        ],
                        [
                          0.8888888888888888,
                          "#fdca26"
                        ],
                        [
                          1,
                          "#f0f921"
                        ]
                      ]
                    },
                    "colorway": [
                      "#636efa",
                      "#EF553B",
                      "#00cc96",
                      "#ab63fa",
                      "#FFA15A",
                      "#19d3f3",
                      "#FF6692",
                      "#B6E880",
                      "#FF97FF",
                      "#FECB52"
                    ],
                    "font": {
                      "color": "#2a3f5f"
                    },
                    "geo": {
                      "bgcolor": "white",
                      "lakecolor": "white",
                      "landcolor": "#E5ECF6",
                      "showlakes": true,
                      "showland": true,
                      "subunitcolor": "white"
                    },
                    "hoverlabel": {
                      "align": "left"
                    },
                    "hovermode": "closest",
                    "mapbox": {
                      "style": "light"
                    },
                    "paper_bgcolor": "white",
                    "plot_bgcolor": "#E5ECF6",
                    "polar": {
                      "angularaxis": {
                        "gridcolor": "white",
                        "linecolor": "white",
                        "ticks": ""
                      },
                      "bgcolor": "#E5ECF6",
                      "radialaxis": {
                        "gridcolor": "white",
                        "linecolor": "white",
                        "ticks": ""
                      }
                    },
                    "scene": {
                      "xaxis": {
                        "backgroundcolor": "#E5ECF6",
                        "gridcolor": "white",
                        "gridwidth": 2,
                        "linecolor": "white",
                        "showbackground": true,
                        "ticks": "",
                        "zerolinecolor": "white"
                      },
                      "yaxis": {
                        "backgroundcolor": "#E5ECF6",
                        "gridcolor": "white",
                        "gridwidth": 2,
                        "linecolor": "white",
                        "showbackground": true,
                        "ticks": "",
                        "zerolinecolor": "white"
                      },
                      "zaxis": {
                        "backgroundcolor": "#E5ECF6",
                        "gridcolor": "white",
                        "gridwidth": 2,
                        "linecolor": "white",
                        "showbackground": true,
                        "ticks": "",
                        "zerolinecolor": "white"
                      }
                    },
                    "shapedefaults": {
                      "line": {
                        "color": "#2a3f5f"
                      }
                    },
                    "ternary": {
                      "aaxis": {
                        "gridcolor": "white",
                        "linecolor": "white",
                        "ticks": ""
                      },
                      "baxis": {
                        "gridcolor": "white",
                        "linecolor": "white",
                        "ticks": ""
                      },
                      "bgcolor": "#E5ECF6",
                      "caxis": {
                        "gridcolor": "white",
                        "linecolor": "white",
                        "ticks": ""
                      }
                    },
                    "title": {
                      "x": 0.05
                    },
                    "xaxis": {
                      "automargin": true,
                      "gridcolor": "white",
                      "linecolor": "white",
                      "ticks": "",
                      "title": {
                        "standoff": 15
                      },
                      "zerolinecolor": "white",
                      "zerolinewidth": 2
                    },
                    "yaxis": {
                      "automargin": true,
                      "gridcolor": "white",
                      "linecolor": "white",
                      "ticks": "",
                      "title": {
                        "standoff": 15
                      },
                      "zerolinecolor": "white",
                      "zerolinewidth": 2
                    }
                  }
                },
                "title": {
                  "font": {
                    "color": "#4D5663"
                  },
                  "text": "% of Adult Females in World Population"
                },
                "xaxis": {
                  "gridcolor": "#E1E5ED",
                  "showgrid": true,
                  "tickfont": {
                    "color": "#4D5663"
                  },
                  "title": {
                    "font": {
                      "color": "#4D5663"
                    },
                    "text": ""
                  },
                  "zerolinecolor": "#E1E5ED"
                },
                "yaxis": {
                  "gridcolor": "#E1E5ED",
                  "showgrid": true,
                  "tickfont": {
                    "color": "#4D5663"
                  },
                  "title": {
                    "font": {
                      "color": "#4D5663"
                    },
                    "text": ""
                  },
                  "zerolinecolor": "#E1E5ED"
                }
              }
            },
            "text/html": [
              "<div>                            <div id=\"42aa8f82-c696-427d-a8cd-b6ca6475f190\" class=\"plotly-graph-div\" style=\"height:525px; width:100%;\"></div>            <script type=\"text/javascript\">                require([\"plotly\"], function(Plotly) {                    window.PLOTLYENV=window.PLOTLYENV || {};\n",
              "                    window.PLOTLYENV.BASE_URL='https://plot.ly';                                    if (document.getElementById(\"42aa8f82-c696-427d-a8cd-b6ca6475f190\")) {                    Plotly.newPlot(                        \"42aa8f82-c696-427d-a8cd-b6ca6475f190\",                        [{\"line\":{\"color\":\"rgba(255, 153, 51, 1.0)\",\"dash\":\"solid\",\"shape\":\"linear\",\"width\":1.3},\"mode\":\"lines\",\"name\":\"% Adult Female\",\"text\":\"\",\"x\":[2022,2021,2020,2019,2018,2017,2016,2015,2014,2013,2012,2011,2010,2009,2008,2007,2006,2005,2004,2003,2002,2001,2000,1999,1998,1997,1996,1995,1994,1993,1992,1991,1990,1989,1988,1987,1986,1985,1984,1983,1982,1981,1980,1979,1978,1977,1976,1975,1974,1973,1972,1971,1970,1969,1968,1967,1966,1965,1964,1963,1962,1961,1960],\"y\":[32.017596449224676,32.01069475015152,32.0102772472671,32.03391793550546,32.07172049660389,32.1190509948185,32.16991503362311,32.21366719246973,32.256160746749245,32.293551327767375,32.31943309204593,32.3254234332051,32.29730958022279,32.245955582733494,32.184304095180025,32.107851935216125,32.01566616166565,31.89479213354718,31.752069332426846,31.609432580162988,31.463106914474636,31.31217078145005,31.168221971777058,31.02906878671711,30.891280286173046,30.752484838455786,30.61931411563621,30.507021097677903,30.412798140793583,30.342852748519427,30.296805177064417,30.25402073898651,30.217526060933903,30.185832220564425,30.13334231466392,30.067536490562066,29.98846806578371,29.88077793033933,29.750932762588025,29.599946854542303,29.456827480387958,29.32787929516194,29.180891091266943,29.027588767372514,28.850914281485753,28.68281853124027,28.603183285840974,28.57912001493215,28.568078924570944,28.55849467259079,28.523533201804334,28.490593530279863,28.46740350799476,28.446439221920492,28.441815822522912,28.43404920434396,28.428957061846077,28.46103092115594,28.52269975720683,28.631646020372294,28.75758154005197,28.828465194522565,28.883235909617216],\"type\":\"scatter\"}],                        {\"legend\":{\"bgcolor\":\"#F5F6F9\",\"font\":{\"color\":\"#4D5663\"}},\"paper_bgcolor\":\"#F5F6F9\",\"plot_bgcolor\":\"#F5F6F9\",\"template\":{\"data\":{\"barpolar\":[{\"marker\":{\"line\":{\"color\":\"#E5ECF6\",\"width\":0.5},\"pattern\":{\"fillmode\":\"overlay\",\"size\":10,\"solidity\":0.2}},\"type\":\"barpolar\"}],\"bar\":[{\"error_x\":{\"color\":\"#2a3f5f\"},\"error_y\":{\"color\":\"#2a3f5f\"},\"marker\":{\"line\":{\"color\":\"#E5ECF6\",\"width\":0.5},\"pattern\":{\"fillmode\":\"overlay\",\"size\":10,\"solidity\":0.2}},\"type\":\"bar\"}],\"carpet\":[{\"aaxis\":{\"endlinecolor\":\"#2a3f5f\",\"gridcolor\":\"white\",\"linecolor\":\"white\",\"minorgridcolor\":\"white\",\"startlinecolor\":\"#2a3f5f\"},\"baxis\":{\"endlinecolor\":\"#2a3f5f\",\"gridcolor\":\"white\",\"linecolor\":\"white\",\"minorgridcolor\":\"white\",\"startlinecolor\":\"#2a3f5f\"},\"type\":\"carpet\"}],\"choropleth\":[{\"colorbar\":{\"outlinewidth\":0,\"ticks\":\"\"},\"type\":\"choropleth\"}],\"contourcarpet\":[{\"colorbar\":{\"outlinewidth\":0,\"ticks\":\"\"},\"type\":\"contourcarpet\"}],\"contour\":[{\"colorbar\":{\"outlinewidth\":0,\"ticks\":\"\"},\"colorscale\":[[0.0,\"#0d0887\"],[0.1111111111111111,\"#46039f\"],[0.2222222222222222,\"#7201a8\"],[0.3333333333333333,\"#9c179e\"],[0.4444444444444444,\"#bd3786\"],[0.5555555555555556,\"#d8576b\"],[0.6666666666666666,\"#ed7953\"],[0.7777777777777778,\"#fb9f3a\"],[0.8888888888888888,\"#fdca26\"],[1.0,\"#f0f921\"]],\"type\":\"contour\"}],\"heatmapgl\":[{\"colorbar\":{\"outlinewidth\":0,\"ticks\":\"\"},\"colorscale\":[[0.0,\"#0d0887\"],[0.1111111111111111,\"#46039f\"],[0.2222222222222222,\"#7201a8\"],[0.3333333333333333,\"#9c179e\"],[0.4444444444444444,\"#bd3786\"],[0.5555555555555556,\"#d8576b\"],[0.6666666666666666,\"#ed7953\"],[0.7777777777777778,\"#fb9f3a\"],[0.8888888888888888,\"#fdca26\"],[1.0,\"#f0f921\"]],\"type\":\"heatmapgl\"}],\"heatmap\":[{\"colorbar\":{\"outlinewidth\":0,\"ticks\":\"\"},\"colorscale\":[[0.0,\"#0d0887\"],[0.1111111111111111,\"#46039f\"],[0.2222222222222222,\"#7201a8\"],[0.3333333333333333,\"#9c179e\"],[0.4444444444444444,\"#bd3786\"],[0.5555555555555556,\"#d8576b\"],[0.6666666666666666,\"#ed7953\"],[0.7777777777777778,\"#fb9f3a\"],[0.8888888888888888,\"#fdca26\"],[1.0,\"#f0f921\"]],\"type\":\"heatmap\"}],\"histogram2dcontour\":[{\"colorbar\":{\"outlinewidth\":0,\"ticks\":\"\"},\"colorscale\":[[0.0,\"#0d0887\"],[0.1111111111111111,\"#46039f\"],[0.2222222222222222,\"#7201a8\"],[0.3333333333333333,\"#9c179e\"],[0.4444444444444444,\"#bd3786\"],[0.5555555555555556,\"#d8576b\"],[0.6666666666666666,\"#ed7953\"],[0.7777777777777778,\"#fb9f3a\"],[0.8888888888888888,\"#fdca26\"],[1.0,\"#f0f921\"]],\"type\":\"histogram2dcontour\"}],\"histogram2d\":[{\"colorbar\":{\"outlinewidth\":0,\"ticks\":\"\"},\"colorscale\":[[0.0,\"#0d0887\"],[0.1111111111111111,\"#46039f\"],[0.2222222222222222,\"#7201a8\"],[0.3333333333333333,\"#9c179e\"],[0.4444444444444444,\"#bd3786\"],[0.5555555555555556,\"#d8576b\"],[0.6666666666666666,\"#ed7953\"],[0.7777777777777778,\"#fb9f3a\"],[0.8888888888888888,\"#fdca26\"],[1.0,\"#f0f921\"]],\"type\":\"histogram2d\"}],\"histogram\":[{\"marker\":{\"pattern\":{\"fillmode\":\"overlay\",\"size\":10,\"solidity\":0.2}},\"type\":\"histogram\"}],\"mesh3d\":[{\"colorbar\":{\"outlinewidth\":0,\"ticks\":\"\"},\"type\":\"mesh3d\"}],\"parcoords\":[{\"line\":{\"colorbar\":{\"outlinewidth\":0,\"ticks\":\"\"}},\"type\":\"parcoords\"}],\"pie\":[{\"automargin\":true,\"type\":\"pie\"}],\"scatter3d\":[{\"line\":{\"colorbar\":{\"outlinewidth\":0,\"ticks\":\"\"}},\"marker\":{\"colorbar\":{\"outlinewidth\":0,\"ticks\":\"\"}},\"type\":\"scatter3d\"}],\"scattercarpet\":[{\"marker\":{\"colorbar\":{\"outlinewidth\":0,\"ticks\":\"\"}},\"type\":\"scattercarpet\"}],\"scattergeo\":[{\"marker\":{\"colorbar\":{\"outlinewidth\":0,\"ticks\":\"\"}},\"type\":\"scattergeo\"}],\"scattergl\":[{\"marker\":{\"colorbar\":{\"outlinewidth\":0,\"ticks\":\"\"}},\"type\":\"scattergl\"}],\"scattermapbox\":[{\"marker\":{\"colorbar\":{\"outlinewidth\":0,\"ticks\":\"\"}},\"type\":\"scattermapbox\"}],\"scatterpolargl\":[{\"marker\":{\"colorbar\":{\"outlinewidth\":0,\"ticks\":\"\"}},\"type\":\"scatterpolargl\"}],\"scatterpolar\":[{\"marker\":{\"colorbar\":{\"outlinewidth\":0,\"ticks\":\"\"}},\"type\":\"scatterpolar\"}],\"scatter\":[{\"fillpattern\":{\"fillmode\":\"overlay\",\"size\":10,\"solidity\":0.2},\"type\":\"scatter\"}],\"scatterternary\":[{\"marker\":{\"colorbar\":{\"outlinewidth\":0,\"ticks\":\"\"}},\"type\":\"scatterternary\"}],\"surface\":[{\"colorbar\":{\"outlinewidth\":0,\"ticks\":\"\"},\"colorscale\":[[0.0,\"#0d0887\"],[0.1111111111111111,\"#46039f\"],[0.2222222222222222,\"#7201a8\"],[0.3333333333333333,\"#9c179e\"],[0.4444444444444444,\"#bd3786\"],[0.5555555555555556,\"#d8576b\"],[0.6666666666666666,\"#ed7953\"],[0.7777777777777778,\"#fb9f3a\"],[0.8888888888888888,\"#fdca26\"],[1.0,\"#f0f921\"]],\"type\":\"surface\"}],\"table\":[{\"cells\":{\"fill\":{\"color\":\"#EBF0F8\"},\"line\":{\"color\":\"white\"}},\"header\":{\"fill\":{\"color\":\"#C8D4E3\"},\"line\":{\"color\":\"white\"}},\"type\":\"table\"}]},\"layout\":{\"annotationdefaults\":{\"arrowcolor\":\"#2a3f5f\",\"arrowhead\":0,\"arrowwidth\":1},\"autotypenumbers\":\"strict\",\"coloraxis\":{\"colorbar\":{\"outlinewidth\":0,\"ticks\":\"\"}},\"colorscale\":{\"diverging\":[[0,\"#8e0152\"],[0.1,\"#c51b7d\"],[0.2,\"#de77ae\"],[0.3,\"#f1b6da\"],[0.4,\"#fde0ef\"],[0.5,\"#f7f7f7\"],[0.6,\"#e6f5d0\"],[0.7,\"#b8e186\"],[0.8,\"#7fbc41\"],[0.9,\"#4d9221\"],[1,\"#276419\"]],\"sequential\":[[0.0,\"#0d0887\"],[0.1111111111111111,\"#46039f\"],[0.2222222222222222,\"#7201a8\"],[0.3333333333333333,\"#9c179e\"],[0.4444444444444444,\"#bd3786\"],[0.5555555555555556,\"#d8576b\"],[0.6666666666666666,\"#ed7953\"],[0.7777777777777778,\"#fb9f3a\"],[0.8888888888888888,\"#fdca26\"],[1.0,\"#f0f921\"]],\"sequentialminus\":[[0.0,\"#0d0887\"],[0.1111111111111111,\"#46039f\"],[0.2222222222222222,\"#7201a8\"],[0.3333333333333333,\"#9c179e\"],[0.4444444444444444,\"#bd3786\"],[0.5555555555555556,\"#d8576b\"],[0.6666666666666666,\"#ed7953\"],[0.7777777777777778,\"#fb9f3a\"],[0.8888888888888888,\"#fdca26\"],[1.0,\"#f0f921\"]]},\"colorway\":[\"#636efa\",\"#EF553B\",\"#00cc96\",\"#ab63fa\",\"#FFA15A\",\"#19d3f3\",\"#FF6692\",\"#B6E880\",\"#FF97FF\",\"#FECB52\"],\"font\":{\"color\":\"#2a3f5f\"},\"geo\":{\"bgcolor\":\"white\",\"lakecolor\":\"white\",\"landcolor\":\"#E5ECF6\",\"showlakes\":true,\"showland\":true,\"subunitcolor\":\"white\"},\"hoverlabel\":{\"align\":\"left\"},\"hovermode\":\"closest\",\"mapbox\":{\"style\":\"light\"},\"paper_bgcolor\":\"white\",\"plot_bgcolor\":\"#E5ECF6\",\"polar\":{\"angularaxis\":{\"gridcolor\":\"white\",\"linecolor\":\"white\",\"ticks\":\"\"},\"bgcolor\":\"#E5ECF6\",\"radialaxis\":{\"gridcolor\":\"white\",\"linecolor\":\"white\",\"ticks\":\"\"}},\"scene\":{\"xaxis\":{\"backgroundcolor\":\"#E5ECF6\",\"gridcolor\":\"white\",\"gridwidth\":2,\"linecolor\":\"white\",\"showbackground\":true,\"ticks\":\"\",\"zerolinecolor\":\"white\"},\"yaxis\":{\"backgroundcolor\":\"#E5ECF6\",\"gridcolor\":\"white\",\"gridwidth\":2,\"linecolor\":\"white\",\"showbackground\":true,\"ticks\":\"\",\"zerolinecolor\":\"white\"},\"zaxis\":{\"backgroundcolor\":\"#E5ECF6\",\"gridcolor\":\"white\",\"gridwidth\":2,\"linecolor\":\"white\",\"showbackground\":true,\"ticks\":\"\",\"zerolinecolor\":\"white\"}},\"shapedefaults\":{\"line\":{\"color\":\"#2a3f5f\"}},\"ternary\":{\"aaxis\":{\"gridcolor\":\"white\",\"linecolor\":\"white\",\"ticks\":\"\"},\"baxis\":{\"gridcolor\":\"white\",\"linecolor\":\"white\",\"ticks\":\"\"},\"bgcolor\":\"#E5ECF6\",\"caxis\":{\"gridcolor\":\"white\",\"linecolor\":\"white\",\"ticks\":\"\"}},\"title\":{\"x\":0.05},\"xaxis\":{\"automargin\":true,\"gridcolor\":\"white\",\"linecolor\":\"white\",\"ticks\":\"\",\"title\":{\"standoff\":15},\"zerolinecolor\":\"white\",\"zerolinewidth\":2},\"yaxis\":{\"automargin\":true,\"gridcolor\":\"white\",\"linecolor\":\"white\",\"ticks\":\"\",\"title\":{\"standoff\":15},\"zerolinecolor\":\"white\",\"zerolinewidth\":2}}},\"title\":{\"font\":{\"color\":\"#4D5663\"},\"text\":\"% of Adult Females in World Population\"},\"xaxis\":{\"gridcolor\":\"#E1E5ED\",\"showgrid\":true,\"tickfont\":{\"color\":\"#4D5663\"},\"title\":{\"font\":{\"color\":\"#4D5663\"},\"text\":\"\"},\"zerolinecolor\":\"#E1E5ED\"},\"yaxis\":{\"gridcolor\":\"#E1E5ED\",\"showgrid\":true,\"tickfont\":{\"color\":\"#4D5663\"},\"title\":{\"font\":{\"color\":\"#4D5663\"},\"text\":\"\"},\"zerolinecolor\":\"#E1E5ED\"}},                        {\"showLink\": true, \"linkText\": \"Export to plot.ly\", \"plotlyServerURL\": \"https://plot.ly\", \"responsive\": true}                    ).then(function(){\n",
              "                            \n",
              "var gd = document.getElementById('42aa8f82-c696-427d-a8cd-b6ca6475f190');\n",
              "var x = new MutationObserver(function (mutations, observer) {{\n",
              "        var display = window.getComputedStyle(gd).display;\n",
              "        if (!display || display === 'none') {{\n",
              "            console.log([gd, 'removed!']);\n",
              "            Plotly.purge(gd);\n",
              "            observer.disconnect();\n",
              "        }}\n",
              "}});\n",
              "\n",
              "// Listen for the removal of the full notebook cells\n",
              "var notebookContainer = gd.closest('#notebook-container');\n",
              "if (notebookContainer) {{\n",
              "    x.observe(notebookContainer, {childList: true});\n",
              "}}\n",
              "\n",
              "// Listen for the clearing of the current output cell\n",
              "var outputEl = gd.closest('.output');\n",
              "if (outputEl) {{\n",
              "    x.observe(outputEl, {childList: true});\n",
              "}}\n",
              "\n",
              "                        })                };                });            </script>        </div>"
            ]
          },
          "metadata": {},
          "output_type": "display_data"
        }
      ],
      "source": [
        "# % Adult Female is % of females who are adult.\n",
        "# To make a share of total population take product\n",
        "world[\"% Adult Female\"] = world[\"% Adult Female\"]*world[\"% Female\"]/100\n",
        "\n",
        "world[\"% Adult Female\"].iplot(title=\"% of Adult Females in World Population\")"
      ]
    },
    {
      "cell_type": "markdown",
      "metadata": {},
      "source": [
        "##### Fertility over time\n",
        "\n"
      ]
    },
    {
      "cell_type": "markdown",
      "metadata": {},
      "source": [
        "Finally, decreases in population growth could be due to reduced fertility.  How does global fertility vary over time?\n",
        "\n"
      ]
    },
    {
      "cell_type": "code",
      "execution_count": 12,
      "metadata": {},
      "outputs": [
        {
          "data": {
            "application/vnd.plotly.v1+json": {
              "config": {
                "linkText": "Export to plot.ly",
                "plotlyServerURL": "https://plot.ly",
                "showLink": true
              },
              "data": [
                {
                  "line": {
                    "color": "rgba(255, 153, 51, 1.0)",
                    "dash": "solid",
                    "shape": "linear",
                    "width": 1.3
                  },
                  "mode": "lines",
                  "name": "Total Fertility Rate",
                  "text": "",
                  "type": "scatter",
                  "x": [
                    2022,
                    2021,
                    2020,
                    2019,
                    2018,
                    2017,
                    2016,
                    2015,
                    2014,
                    2013,
                    2012,
                    2011,
                    2010,
                    2009,
                    2008,
                    2007,
                    2006,
                    2005,
                    2004,
                    2003,
                    2002,
                    2001,
                    2000,
                    1999,
                    1998,
                    1997,
                    1996,
                    1995,
                    1994,
                    1993,
                    1992,
                    1991,
                    1990,
                    1989,
                    1988,
                    1987,
                    1986,
                    1985,
                    1984,
                    1983,
                    1982,
                    1981,
                    1980,
                    1979,
                    1978,
                    1977,
                    1976,
                    1975,
                    1974,
                    1973,
                    1972,
                    1971,
                    1970,
                    1969,
                    1968,
                    1967,
                    1966,
                    1965,
                    1964,
                    1963,
                    1962,
                    1961,
                    1960
                  ],
                  "y": [
                    "",
                    2.27316335245758,
                    2.29966617574505,
                    2.3606087181835,
                    2.39740742486869,
                    2.45927223821425,
                    2.48115559973118,
                    2.47790957201916,
                    2.5065784810457,
                    2.51424842619762,
                    2.5496430991073,
                    2.53406006630992,
                    2.55458173874789,
                    2.5797615054047,
                    2.59359990782243,
                    2.59427028491608,
                    2.59527910017808,
                    2.6031561062806,
                    2.62139879008116,
                    2.63003724874443,
                    2.65374683882845,
                    2.68064786910707,
                    2.71846496860982,
                    2.70908918800366,
                    2.73605860630137,
                    2.77137413396533,
                    2.81355167107889,
                    2.86143738332609,
                    2.91550595694393,
                    2.96937260917607,
                    3.03803692875779,
                    3.12441170494208,
                    3.30544149103758,
                    3.34634303687336,
                    3.39613123788742,
                    3.4876208531063,
                    3.51731970692646,
                    3.53121535486195,
                    3.56834444590803,
                    3.59433791505987,
                    3.72304547930651,
                    3.70806832634147,
                    3.73471340112249,
                    3.76097268694449,
                    3.77830145094814,
                    3.84639653885135,
                    3.97231465442068,
                    4.0798998170592,
                    4.26371871344688,
                    4.42445965966688,
                    4.55438387026764,
                    4.69591926035808,
                    4.84631056148406,
                    4.88624821241342,
                    4.98243361298717,
                    4.87230896384862,
                    4.97745610236851,
                    5.09354060704565,
                    5.14142044439158,
                    5.32342829673039,
                    5.03517319252654,
                    4.57558682331231,
                    4.69585447747259
                  ]
                }
              ],
              "layout": {
                "legend": {
                  "bgcolor": "#F5F6F9",
                  "font": {
                    "color": "#4D5663"
                  }
                },
                "paper_bgcolor": "#F5F6F9",
                "plot_bgcolor": "#F5F6F9",
                "template": {
                  "data": {
                    "bar": [
                      {
                        "error_x": {
                          "color": "#2a3f5f"
                        },
                        "error_y": {
                          "color": "#2a3f5f"
                        },
                        "marker": {
                          "line": {
                            "color": "#E5ECF6",
                            "width": 0.5
                          },
                          "pattern": {
                            "fillmode": "overlay",
                            "size": 10,
                            "solidity": 0.2
                          }
                        },
                        "type": "bar"
                      }
                    ],
                    "barpolar": [
                      {
                        "marker": {
                          "line": {
                            "color": "#E5ECF6",
                            "width": 0.5
                          },
                          "pattern": {
                            "fillmode": "overlay",
                            "size": 10,
                            "solidity": 0.2
                          }
                        },
                        "type": "barpolar"
                      }
                    ],
                    "carpet": [
                      {
                        "aaxis": {
                          "endlinecolor": "#2a3f5f",
                          "gridcolor": "white",
                          "linecolor": "white",
                          "minorgridcolor": "white",
                          "startlinecolor": "#2a3f5f"
                        },
                        "baxis": {
                          "endlinecolor": "#2a3f5f",
                          "gridcolor": "white",
                          "linecolor": "white",
                          "minorgridcolor": "white",
                          "startlinecolor": "#2a3f5f"
                        },
                        "type": "carpet"
                      }
                    ],
                    "choropleth": [
                      {
                        "colorbar": {
                          "outlinewidth": 0,
                          "ticks": ""
                        },
                        "type": "choropleth"
                      }
                    ],
                    "contour": [
                      {
                        "colorbar": {
                          "outlinewidth": 0,
                          "ticks": ""
                        },
                        "colorscale": [
                          [
                            0,
                            "#0d0887"
                          ],
                          [
                            0.1111111111111111,
                            "#46039f"
                          ],
                          [
                            0.2222222222222222,
                            "#7201a8"
                          ],
                          [
                            0.3333333333333333,
                            "#9c179e"
                          ],
                          [
                            0.4444444444444444,
                            "#bd3786"
                          ],
                          [
                            0.5555555555555556,
                            "#d8576b"
                          ],
                          [
                            0.6666666666666666,
                            "#ed7953"
                          ],
                          [
                            0.7777777777777778,
                            "#fb9f3a"
                          ],
                          [
                            0.8888888888888888,
                            "#fdca26"
                          ],
                          [
                            1,
                            "#f0f921"
                          ]
                        ],
                        "type": "contour"
                      }
                    ],
                    "contourcarpet": [
                      {
                        "colorbar": {
                          "outlinewidth": 0,
                          "ticks": ""
                        },
                        "type": "contourcarpet"
                      }
                    ],
                    "heatmap": [
                      {
                        "colorbar": {
                          "outlinewidth": 0,
                          "ticks": ""
                        },
                        "colorscale": [
                          [
                            0,
                            "#0d0887"
                          ],
                          [
                            0.1111111111111111,
                            "#46039f"
                          ],
                          [
                            0.2222222222222222,
                            "#7201a8"
                          ],
                          [
                            0.3333333333333333,
                            "#9c179e"
                          ],
                          [
                            0.4444444444444444,
                            "#bd3786"
                          ],
                          [
                            0.5555555555555556,
                            "#d8576b"
                          ],
                          [
                            0.6666666666666666,
                            "#ed7953"
                          ],
                          [
                            0.7777777777777778,
                            "#fb9f3a"
                          ],
                          [
                            0.8888888888888888,
                            "#fdca26"
                          ],
                          [
                            1,
                            "#f0f921"
                          ]
                        ],
                        "type": "heatmap"
                      }
                    ],
                    "heatmapgl": [
                      {
                        "colorbar": {
                          "outlinewidth": 0,
                          "ticks": ""
                        },
                        "colorscale": [
                          [
                            0,
                            "#0d0887"
                          ],
                          [
                            0.1111111111111111,
                            "#46039f"
                          ],
                          [
                            0.2222222222222222,
                            "#7201a8"
                          ],
                          [
                            0.3333333333333333,
                            "#9c179e"
                          ],
                          [
                            0.4444444444444444,
                            "#bd3786"
                          ],
                          [
                            0.5555555555555556,
                            "#d8576b"
                          ],
                          [
                            0.6666666666666666,
                            "#ed7953"
                          ],
                          [
                            0.7777777777777778,
                            "#fb9f3a"
                          ],
                          [
                            0.8888888888888888,
                            "#fdca26"
                          ],
                          [
                            1,
                            "#f0f921"
                          ]
                        ],
                        "type": "heatmapgl"
                      }
                    ],
                    "histogram": [
                      {
                        "marker": {
                          "pattern": {
                            "fillmode": "overlay",
                            "size": 10,
                            "solidity": 0.2
                          }
                        },
                        "type": "histogram"
                      }
                    ],
                    "histogram2d": [
                      {
                        "colorbar": {
                          "outlinewidth": 0,
                          "ticks": ""
                        },
                        "colorscale": [
                          [
                            0,
                            "#0d0887"
                          ],
                          [
                            0.1111111111111111,
                            "#46039f"
                          ],
                          [
                            0.2222222222222222,
                            "#7201a8"
                          ],
                          [
                            0.3333333333333333,
                            "#9c179e"
                          ],
                          [
                            0.4444444444444444,
                            "#bd3786"
                          ],
                          [
                            0.5555555555555556,
                            "#d8576b"
                          ],
                          [
                            0.6666666666666666,
                            "#ed7953"
                          ],
                          [
                            0.7777777777777778,
                            "#fb9f3a"
                          ],
                          [
                            0.8888888888888888,
                            "#fdca26"
                          ],
                          [
                            1,
                            "#f0f921"
                          ]
                        ],
                        "type": "histogram2d"
                      }
                    ],
                    "histogram2dcontour": [
                      {
                        "colorbar": {
                          "outlinewidth": 0,
                          "ticks": ""
                        },
                        "colorscale": [
                          [
                            0,
                            "#0d0887"
                          ],
                          [
                            0.1111111111111111,
                            "#46039f"
                          ],
                          [
                            0.2222222222222222,
                            "#7201a8"
                          ],
                          [
                            0.3333333333333333,
                            "#9c179e"
                          ],
                          [
                            0.4444444444444444,
                            "#bd3786"
                          ],
                          [
                            0.5555555555555556,
                            "#d8576b"
                          ],
                          [
                            0.6666666666666666,
                            "#ed7953"
                          ],
                          [
                            0.7777777777777778,
                            "#fb9f3a"
                          ],
                          [
                            0.8888888888888888,
                            "#fdca26"
                          ],
                          [
                            1,
                            "#f0f921"
                          ]
                        ],
                        "type": "histogram2dcontour"
                      }
                    ],
                    "mesh3d": [
                      {
                        "colorbar": {
                          "outlinewidth": 0,
                          "ticks": ""
                        },
                        "type": "mesh3d"
                      }
                    ],
                    "parcoords": [
                      {
                        "line": {
                          "colorbar": {
                            "outlinewidth": 0,
                            "ticks": ""
                          }
                        },
                        "type": "parcoords"
                      }
                    ],
                    "pie": [
                      {
                        "automargin": true,
                        "type": "pie"
                      }
                    ],
                    "scatter": [
                      {
                        "fillpattern": {
                          "fillmode": "overlay",
                          "size": 10,
                          "solidity": 0.2
                        },
                        "type": "scatter"
                      }
                    ],
                    "scatter3d": [
                      {
                        "line": {
                          "colorbar": {
                            "outlinewidth": 0,
                            "ticks": ""
                          }
                        },
                        "marker": {
                          "colorbar": {
                            "outlinewidth": 0,
                            "ticks": ""
                          }
                        },
                        "type": "scatter3d"
                      }
                    ],
                    "scattercarpet": [
                      {
                        "marker": {
                          "colorbar": {
                            "outlinewidth": 0,
                            "ticks": ""
                          }
                        },
                        "type": "scattercarpet"
                      }
                    ],
                    "scattergeo": [
                      {
                        "marker": {
                          "colorbar": {
                            "outlinewidth": 0,
                            "ticks": ""
                          }
                        },
                        "type": "scattergeo"
                      }
                    ],
                    "scattergl": [
                      {
                        "marker": {
                          "colorbar": {
                            "outlinewidth": 0,
                            "ticks": ""
                          }
                        },
                        "type": "scattergl"
                      }
                    ],
                    "scattermapbox": [
                      {
                        "marker": {
                          "colorbar": {
                            "outlinewidth": 0,
                            "ticks": ""
                          }
                        },
                        "type": "scattermapbox"
                      }
                    ],
                    "scatterpolar": [
                      {
                        "marker": {
                          "colorbar": {
                            "outlinewidth": 0,
                            "ticks": ""
                          }
                        },
                        "type": "scatterpolar"
                      }
                    ],
                    "scatterpolargl": [
                      {
                        "marker": {
                          "colorbar": {
                            "outlinewidth": 0,
                            "ticks": ""
                          }
                        },
                        "type": "scatterpolargl"
                      }
                    ],
                    "scatterternary": [
                      {
                        "marker": {
                          "colorbar": {
                            "outlinewidth": 0,
                            "ticks": ""
                          }
                        },
                        "type": "scatterternary"
                      }
                    ],
                    "surface": [
                      {
                        "colorbar": {
                          "outlinewidth": 0,
                          "ticks": ""
                        },
                        "colorscale": [
                          [
                            0,
                            "#0d0887"
                          ],
                          [
                            0.1111111111111111,
                            "#46039f"
                          ],
                          [
                            0.2222222222222222,
                            "#7201a8"
                          ],
                          [
                            0.3333333333333333,
                            "#9c179e"
                          ],
                          [
                            0.4444444444444444,
                            "#bd3786"
                          ],
                          [
                            0.5555555555555556,
                            "#d8576b"
                          ],
                          [
                            0.6666666666666666,
                            "#ed7953"
                          ],
                          [
                            0.7777777777777778,
                            "#fb9f3a"
                          ],
                          [
                            0.8888888888888888,
                            "#fdca26"
                          ],
                          [
                            1,
                            "#f0f921"
                          ]
                        ],
                        "type": "surface"
                      }
                    ],
                    "table": [
                      {
                        "cells": {
                          "fill": {
                            "color": "#EBF0F8"
                          },
                          "line": {
                            "color": "white"
                          }
                        },
                        "header": {
                          "fill": {
                            "color": "#C8D4E3"
                          },
                          "line": {
                            "color": "white"
                          }
                        },
                        "type": "table"
                      }
                    ]
                  },
                  "layout": {
                    "annotationdefaults": {
                      "arrowcolor": "#2a3f5f",
                      "arrowhead": 0,
                      "arrowwidth": 1
                    },
                    "autotypenumbers": "strict",
                    "coloraxis": {
                      "colorbar": {
                        "outlinewidth": 0,
                        "ticks": ""
                      }
                    },
                    "colorscale": {
                      "diverging": [
                        [
                          0,
                          "#8e0152"
                        ],
                        [
                          0.1,
                          "#c51b7d"
                        ],
                        [
                          0.2,
                          "#de77ae"
                        ],
                        [
                          0.3,
                          "#f1b6da"
                        ],
                        [
                          0.4,
                          "#fde0ef"
                        ],
                        [
                          0.5,
                          "#f7f7f7"
                        ],
                        [
                          0.6,
                          "#e6f5d0"
                        ],
                        [
                          0.7,
                          "#b8e186"
                        ],
                        [
                          0.8,
                          "#7fbc41"
                        ],
                        [
                          0.9,
                          "#4d9221"
                        ],
                        [
                          1,
                          "#276419"
                        ]
                      ],
                      "sequential": [
                        [
                          0,
                          "#0d0887"
                        ],
                        [
                          0.1111111111111111,
                          "#46039f"
                        ],
                        [
                          0.2222222222222222,
                          "#7201a8"
                        ],
                        [
                          0.3333333333333333,
                          "#9c179e"
                        ],
                        [
                          0.4444444444444444,
                          "#bd3786"
                        ],
                        [
                          0.5555555555555556,
                          "#d8576b"
                        ],
                        [
                          0.6666666666666666,
                          "#ed7953"
                        ],
                        [
                          0.7777777777777778,
                          "#fb9f3a"
                        ],
                        [
                          0.8888888888888888,
                          "#fdca26"
                        ],
                        [
                          1,
                          "#f0f921"
                        ]
                      ],
                      "sequentialminus": [
                        [
                          0,
                          "#0d0887"
                        ],
                        [
                          0.1111111111111111,
                          "#46039f"
                        ],
                        [
                          0.2222222222222222,
                          "#7201a8"
                        ],
                        [
                          0.3333333333333333,
                          "#9c179e"
                        ],
                        [
                          0.4444444444444444,
                          "#bd3786"
                        ],
                        [
                          0.5555555555555556,
                          "#d8576b"
                        ],
                        [
                          0.6666666666666666,
                          "#ed7953"
                        ],
                        [
                          0.7777777777777778,
                          "#fb9f3a"
                        ],
                        [
                          0.8888888888888888,
                          "#fdca26"
                        ],
                        [
                          1,
                          "#f0f921"
                        ]
                      ]
                    },
                    "colorway": [
                      "#636efa",
                      "#EF553B",
                      "#00cc96",
                      "#ab63fa",
                      "#FFA15A",
                      "#19d3f3",
                      "#FF6692",
                      "#B6E880",
                      "#FF97FF",
                      "#FECB52"
                    ],
                    "font": {
                      "color": "#2a3f5f"
                    },
                    "geo": {
                      "bgcolor": "white",
                      "lakecolor": "white",
                      "landcolor": "#E5ECF6",
                      "showlakes": true,
                      "showland": true,
                      "subunitcolor": "white"
                    },
                    "hoverlabel": {
                      "align": "left"
                    },
                    "hovermode": "closest",
                    "mapbox": {
                      "style": "light"
                    },
                    "paper_bgcolor": "white",
                    "plot_bgcolor": "#E5ECF6",
                    "polar": {
                      "angularaxis": {
                        "gridcolor": "white",
                        "linecolor": "white",
                        "ticks": ""
                      },
                      "bgcolor": "#E5ECF6",
                      "radialaxis": {
                        "gridcolor": "white",
                        "linecolor": "white",
                        "ticks": ""
                      }
                    },
                    "scene": {
                      "xaxis": {
                        "backgroundcolor": "#E5ECF6",
                        "gridcolor": "white",
                        "gridwidth": 2,
                        "linecolor": "white",
                        "showbackground": true,
                        "ticks": "",
                        "zerolinecolor": "white"
                      },
                      "yaxis": {
                        "backgroundcolor": "#E5ECF6",
                        "gridcolor": "white",
                        "gridwidth": 2,
                        "linecolor": "white",
                        "showbackground": true,
                        "ticks": "",
                        "zerolinecolor": "white"
                      },
                      "zaxis": {
                        "backgroundcolor": "#E5ECF6",
                        "gridcolor": "white",
                        "gridwidth": 2,
                        "linecolor": "white",
                        "showbackground": true,
                        "ticks": "",
                        "zerolinecolor": "white"
                      }
                    },
                    "shapedefaults": {
                      "line": {
                        "color": "#2a3f5f"
                      }
                    },
                    "ternary": {
                      "aaxis": {
                        "gridcolor": "white",
                        "linecolor": "white",
                        "ticks": ""
                      },
                      "baxis": {
                        "gridcolor": "white",
                        "linecolor": "white",
                        "ticks": ""
                      },
                      "bgcolor": "#E5ECF6",
                      "caxis": {
                        "gridcolor": "white",
                        "linecolor": "white",
                        "ticks": ""
                      }
                    },
                    "title": {
                      "x": 0.05
                    },
                    "xaxis": {
                      "automargin": true,
                      "gridcolor": "white",
                      "linecolor": "white",
                      "ticks": "",
                      "title": {
                        "standoff": 15
                      },
                      "zerolinecolor": "white",
                      "zerolinewidth": 2
                    },
                    "yaxis": {
                      "automargin": true,
                      "gridcolor": "white",
                      "linecolor": "white",
                      "ticks": "",
                      "title": {
                        "standoff": 15
                      },
                      "zerolinecolor": "white",
                      "zerolinewidth": 2
                    }
                  }
                },
                "title": {
                  "font": {
                    "color": "#4D5663"
                  }
                },
                "xaxis": {
                  "gridcolor": "#E1E5ED",
                  "showgrid": true,
                  "tickfont": {
                    "color": "#4D5663"
                  },
                  "title": {
                    "font": {
                      "color": "#4D5663"
                    },
                    "text": ""
                  },
                  "zerolinecolor": "#E1E5ED"
                },
                "yaxis": {
                  "gridcolor": "#E1E5ED",
                  "showgrid": true,
                  "tickfont": {
                    "color": "#4D5663"
                  },
                  "title": {
                    "font": {
                      "color": "#4D5663"
                    },
                    "text": ""
                  },
                  "zerolinecolor": "#E1E5ED"
                }
              }
            },
            "text/html": [
              "<div>                            <div id=\"f87a122c-b9be-46b3-98a9-f6159534ac23\" class=\"plotly-graph-div\" style=\"height:525px; width:100%;\"></div>            <script type=\"text/javascript\">                require([\"plotly\"], function(Plotly) {                    window.PLOTLYENV=window.PLOTLYENV || {};\n",
              "                    window.PLOTLYENV.BASE_URL='https://plot.ly';                                    if (document.getElementById(\"f87a122c-b9be-46b3-98a9-f6159534ac23\")) {                    Plotly.newPlot(                        \"f87a122c-b9be-46b3-98a9-f6159534ac23\",                        [{\"line\":{\"color\":\"rgba(255, 153, 51, 1.0)\",\"dash\":\"solid\",\"shape\":\"linear\",\"width\":1.3},\"mode\":\"lines\",\"name\":\"Total Fertility Rate\",\"text\":\"\",\"x\":[2022,2021,2020,2019,2018,2017,2016,2015,2014,2013,2012,2011,2010,2009,2008,2007,2006,2005,2004,2003,2002,2001,2000,1999,1998,1997,1996,1995,1994,1993,1992,1991,1990,1989,1988,1987,1986,1985,1984,1983,1982,1981,1980,1979,1978,1977,1976,1975,1974,1973,1972,1971,1970,1969,1968,1967,1966,1965,1964,1963,1962,1961,1960],\"y\":[\"\",2.27316335245758,2.29966617574505,2.3606087181835,2.39740742486869,2.45927223821425,2.48115559973118,2.47790957201916,2.5065784810457,2.51424842619762,2.5496430991073,2.53406006630992,2.55458173874789,2.5797615054047,2.59359990782243,2.59427028491608,2.59527910017808,2.6031561062806,2.62139879008116,2.63003724874443,2.65374683882845,2.68064786910707,2.71846496860982,2.70908918800366,2.73605860630137,2.77137413396533,2.81355167107889,2.86143738332609,2.91550595694393,2.96937260917607,3.03803692875779,3.12441170494208,3.30544149103758,3.34634303687336,3.39613123788742,3.4876208531063,3.51731970692646,3.53121535486195,3.56834444590803,3.59433791505987,3.72304547930651,3.70806832634147,3.73471340112249,3.76097268694449,3.77830145094814,3.84639653885135,3.97231465442068,4.0798998170592,4.26371871344688,4.42445965966688,4.55438387026764,4.69591926035808,4.84631056148406,4.88624821241342,4.98243361298717,4.87230896384862,4.97745610236851,5.09354060704565,5.14142044439158,5.32342829673039,5.03517319252654,4.57558682331231,4.69585447747259],\"type\":\"scatter\"}],                        {\"legend\":{\"bgcolor\":\"#F5F6F9\",\"font\":{\"color\":\"#4D5663\"}},\"paper_bgcolor\":\"#F5F6F9\",\"plot_bgcolor\":\"#F5F6F9\",\"template\":{\"data\":{\"barpolar\":[{\"marker\":{\"line\":{\"color\":\"#E5ECF6\",\"width\":0.5},\"pattern\":{\"fillmode\":\"overlay\",\"size\":10,\"solidity\":0.2}},\"type\":\"barpolar\"}],\"bar\":[{\"error_x\":{\"color\":\"#2a3f5f\"},\"error_y\":{\"color\":\"#2a3f5f\"},\"marker\":{\"line\":{\"color\":\"#E5ECF6\",\"width\":0.5},\"pattern\":{\"fillmode\":\"overlay\",\"size\":10,\"solidity\":0.2}},\"type\":\"bar\"}],\"carpet\":[{\"aaxis\":{\"endlinecolor\":\"#2a3f5f\",\"gridcolor\":\"white\",\"linecolor\":\"white\",\"minorgridcolor\":\"white\",\"startlinecolor\":\"#2a3f5f\"},\"baxis\":{\"endlinecolor\":\"#2a3f5f\",\"gridcolor\":\"white\",\"linecolor\":\"white\",\"minorgridcolor\":\"white\",\"startlinecolor\":\"#2a3f5f\"},\"type\":\"carpet\"}],\"choropleth\":[{\"colorbar\":{\"outlinewidth\":0,\"ticks\":\"\"},\"type\":\"choropleth\"}],\"contourcarpet\":[{\"colorbar\":{\"outlinewidth\":0,\"ticks\":\"\"},\"type\":\"contourcarpet\"}],\"contour\":[{\"colorbar\":{\"outlinewidth\":0,\"ticks\":\"\"},\"colorscale\":[[0.0,\"#0d0887\"],[0.1111111111111111,\"#46039f\"],[0.2222222222222222,\"#7201a8\"],[0.3333333333333333,\"#9c179e\"],[0.4444444444444444,\"#bd3786\"],[0.5555555555555556,\"#d8576b\"],[0.6666666666666666,\"#ed7953\"],[0.7777777777777778,\"#fb9f3a\"],[0.8888888888888888,\"#fdca26\"],[1.0,\"#f0f921\"]],\"type\":\"contour\"}],\"heatmapgl\":[{\"colorbar\":{\"outlinewidth\":0,\"ticks\":\"\"},\"colorscale\":[[0.0,\"#0d0887\"],[0.1111111111111111,\"#46039f\"],[0.2222222222222222,\"#7201a8\"],[0.3333333333333333,\"#9c179e\"],[0.4444444444444444,\"#bd3786\"],[0.5555555555555556,\"#d8576b\"],[0.6666666666666666,\"#ed7953\"],[0.7777777777777778,\"#fb9f3a\"],[0.8888888888888888,\"#fdca26\"],[1.0,\"#f0f921\"]],\"type\":\"heatmapgl\"}],\"heatmap\":[{\"colorbar\":{\"outlinewidth\":0,\"ticks\":\"\"},\"colorscale\":[[0.0,\"#0d0887\"],[0.1111111111111111,\"#46039f\"],[0.2222222222222222,\"#7201a8\"],[0.3333333333333333,\"#9c179e\"],[0.4444444444444444,\"#bd3786\"],[0.5555555555555556,\"#d8576b\"],[0.6666666666666666,\"#ed7953\"],[0.7777777777777778,\"#fb9f3a\"],[0.8888888888888888,\"#fdca26\"],[1.0,\"#f0f921\"]],\"type\":\"heatmap\"}],\"histogram2dcontour\":[{\"colorbar\":{\"outlinewidth\":0,\"ticks\":\"\"},\"colorscale\":[[0.0,\"#0d0887\"],[0.1111111111111111,\"#46039f\"],[0.2222222222222222,\"#7201a8\"],[0.3333333333333333,\"#9c179e\"],[0.4444444444444444,\"#bd3786\"],[0.5555555555555556,\"#d8576b\"],[0.6666666666666666,\"#ed7953\"],[0.7777777777777778,\"#fb9f3a\"],[0.8888888888888888,\"#fdca26\"],[1.0,\"#f0f921\"]],\"type\":\"histogram2dcontour\"}],\"histogram2d\":[{\"colorbar\":{\"outlinewidth\":0,\"ticks\":\"\"},\"colorscale\":[[0.0,\"#0d0887\"],[0.1111111111111111,\"#46039f\"],[0.2222222222222222,\"#7201a8\"],[0.3333333333333333,\"#9c179e\"],[0.4444444444444444,\"#bd3786\"],[0.5555555555555556,\"#d8576b\"],[0.6666666666666666,\"#ed7953\"],[0.7777777777777778,\"#fb9f3a\"],[0.8888888888888888,\"#fdca26\"],[1.0,\"#f0f921\"]],\"type\":\"histogram2d\"}],\"histogram\":[{\"marker\":{\"pattern\":{\"fillmode\":\"overlay\",\"size\":10,\"solidity\":0.2}},\"type\":\"histogram\"}],\"mesh3d\":[{\"colorbar\":{\"outlinewidth\":0,\"ticks\":\"\"},\"type\":\"mesh3d\"}],\"parcoords\":[{\"line\":{\"colorbar\":{\"outlinewidth\":0,\"ticks\":\"\"}},\"type\":\"parcoords\"}],\"pie\":[{\"automargin\":true,\"type\":\"pie\"}],\"scatter3d\":[{\"line\":{\"colorbar\":{\"outlinewidth\":0,\"ticks\":\"\"}},\"marker\":{\"colorbar\":{\"outlinewidth\":0,\"ticks\":\"\"}},\"type\":\"scatter3d\"}],\"scattercarpet\":[{\"marker\":{\"colorbar\":{\"outlinewidth\":0,\"ticks\":\"\"}},\"type\":\"scattercarpet\"}],\"scattergeo\":[{\"marker\":{\"colorbar\":{\"outlinewidth\":0,\"ticks\":\"\"}},\"type\":\"scattergeo\"}],\"scattergl\":[{\"marker\":{\"colorbar\":{\"outlinewidth\":0,\"ticks\":\"\"}},\"type\":\"scattergl\"}],\"scattermapbox\":[{\"marker\":{\"colorbar\":{\"outlinewidth\":0,\"ticks\":\"\"}},\"type\":\"scattermapbox\"}],\"scatterpolargl\":[{\"marker\":{\"colorbar\":{\"outlinewidth\":0,\"ticks\":\"\"}},\"type\":\"scatterpolargl\"}],\"scatterpolar\":[{\"marker\":{\"colorbar\":{\"outlinewidth\":0,\"ticks\":\"\"}},\"type\":\"scatterpolar\"}],\"scatter\":[{\"fillpattern\":{\"fillmode\":\"overlay\",\"size\":10,\"solidity\":0.2},\"type\":\"scatter\"}],\"scatterternary\":[{\"marker\":{\"colorbar\":{\"outlinewidth\":0,\"ticks\":\"\"}},\"type\":\"scatterternary\"}],\"surface\":[{\"colorbar\":{\"outlinewidth\":0,\"ticks\":\"\"},\"colorscale\":[[0.0,\"#0d0887\"],[0.1111111111111111,\"#46039f\"],[0.2222222222222222,\"#7201a8\"],[0.3333333333333333,\"#9c179e\"],[0.4444444444444444,\"#bd3786\"],[0.5555555555555556,\"#d8576b\"],[0.6666666666666666,\"#ed7953\"],[0.7777777777777778,\"#fb9f3a\"],[0.8888888888888888,\"#fdca26\"],[1.0,\"#f0f921\"]],\"type\":\"surface\"}],\"table\":[{\"cells\":{\"fill\":{\"color\":\"#EBF0F8\"},\"line\":{\"color\":\"white\"}},\"header\":{\"fill\":{\"color\":\"#C8D4E3\"},\"line\":{\"color\":\"white\"}},\"type\":\"table\"}]},\"layout\":{\"annotationdefaults\":{\"arrowcolor\":\"#2a3f5f\",\"arrowhead\":0,\"arrowwidth\":1},\"autotypenumbers\":\"strict\",\"coloraxis\":{\"colorbar\":{\"outlinewidth\":0,\"ticks\":\"\"}},\"colorscale\":{\"diverging\":[[0,\"#8e0152\"],[0.1,\"#c51b7d\"],[0.2,\"#de77ae\"],[0.3,\"#f1b6da\"],[0.4,\"#fde0ef\"],[0.5,\"#f7f7f7\"],[0.6,\"#e6f5d0\"],[0.7,\"#b8e186\"],[0.8,\"#7fbc41\"],[0.9,\"#4d9221\"],[1,\"#276419\"]],\"sequential\":[[0.0,\"#0d0887\"],[0.1111111111111111,\"#46039f\"],[0.2222222222222222,\"#7201a8\"],[0.3333333333333333,\"#9c179e\"],[0.4444444444444444,\"#bd3786\"],[0.5555555555555556,\"#d8576b\"],[0.6666666666666666,\"#ed7953\"],[0.7777777777777778,\"#fb9f3a\"],[0.8888888888888888,\"#fdca26\"],[1.0,\"#f0f921\"]],\"sequentialminus\":[[0.0,\"#0d0887\"],[0.1111111111111111,\"#46039f\"],[0.2222222222222222,\"#7201a8\"],[0.3333333333333333,\"#9c179e\"],[0.4444444444444444,\"#bd3786\"],[0.5555555555555556,\"#d8576b\"],[0.6666666666666666,\"#ed7953\"],[0.7777777777777778,\"#fb9f3a\"],[0.8888888888888888,\"#fdca26\"],[1.0,\"#f0f921\"]]},\"colorway\":[\"#636efa\",\"#EF553B\",\"#00cc96\",\"#ab63fa\",\"#FFA15A\",\"#19d3f3\",\"#FF6692\",\"#B6E880\",\"#FF97FF\",\"#FECB52\"],\"font\":{\"color\":\"#2a3f5f\"},\"geo\":{\"bgcolor\":\"white\",\"lakecolor\":\"white\",\"landcolor\":\"#E5ECF6\",\"showlakes\":true,\"showland\":true,\"subunitcolor\":\"white\"},\"hoverlabel\":{\"align\":\"left\"},\"hovermode\":\"closest\",\"mapbox\":{\"style\":\"light\"},\"paper_bgcolor\":\"white\",\"plot_bgcolor\":\"#E5ECF6\",\"polar\":{\"angularaxis\":{\"gridcolor\":\"white\",\"linecolor\":\"white\",\"ticks\":\"\"},\"bgcolor\":\"#E5ECF6\",\"radialaxis\":{\"gridcolor\":\"white\",\"linecolor\":\"white\",\"ticks\":\"\"}},\"scene\":{\"xaxis\":{\"backgroundcolor\":\"#E5ECF6\",\"gridcolor\":\"white\",\"gridwidth\":2,\"linecolor\":\"white\",\"showbackground\":true,\"ticks\":\"\",\"zerolinecolor\":\"white\"},\"yaxis\":{\"backgroundcolor\":\"#E5ECF6\",\"gridcolor\":\"white\",\"gridwidth\":2,\"linecolor\":\"white\",\"showbackground\":true,\"ticks\":\"\",\"zerolinecolor\":\"white\"},\"zaxis\":{\"backgroundcolor\":\"#E5ECF6\",\"gridcolor\":\"white\",\"gridwidth\":2,\"linecolor\":\"white\",\"showbackground\":true,\"ticks\":\"\",\"zerolinecolor\":\"white\"}},\"shapedefaults\":{\"line\":{\"color\":\"#2a3f5f\"}},\"ternary\":{\"aaxis\":{\"gridcolor\":\"white\",\"linecolor\":\"white\",\"ticks\":\"\"},\"baxis\":{\"gridcolor\":\"white\",\"linecolor\":\"white\",\"ticks\":\"\"},\"bgcolor\":\"#E5ECF6\",\"caxis\":{\"gridcolor\":\"white\",\"linecolor\":\"white\",\"ticks\":\"\"}},\"title\":{\"x\":0.05},\"xaxis\":{\"automargin\":true,\"gridcolor\":\"white\",\"linecolor\":\"white\",\"ticks\":\"\",\"title\":{\"standoff\":15},\"zerolinecolor\":\"white\",\"zerolinewidth\":2},\"yaxis\":{\"automargin\":true,\"gridcolor\":\"white\",\"linecolor\":\"white\",\"ticks\":\"\",\"title\":{\"standoff\":15},\"zerolinecolor\":\"white\",\"zerolinewidth\":2}}},\"title\":{\"font\":{\"color\":\"#4D5663\"}},\"xaxis\":{\"gridcolor\":\"#E1E5ED\",\"showgrid\":true,\"tickfont\":{\"color\":\"#4D5663\"},\"title\":{\"font\":{\"color\":\"#4D5663\"},\"text\":\"\"},\"zerolinecolor\":\"#E1E5ED\"},\"yaxis\":{\"gridcolor\":\"#E1E5ED\",\"showgrid\":true,\"tickfont\":{\"color\":\"#4D5663\"},\"title\":{\"font\":{\"color\":\"#4D5663\"},\"text\":\"\"},\"zerolinecolor\":\"#E1E5ED\"}},                        {\"showLink\": true, \"linkText\": \"Export to plot.ly\", \"plotlyServerURL\": \"https://plot.ly\", \"responsive\": true}                    ).then(function(){\n",
              "                            \n",
              "var gd = document.getElementById('f87a122c-b9be-46b3-98a9-f6159534ac23');\n",
              "var x = new MutationObserver(function (mutations, observer) {{\n",
              "        var display = window.getComputedStyle(gd).display;\n",
              "        if (!display || display === 'none') {{\n",
              "            console.log([gd, 'removed!']);\n",
              "            Plotly.purge(gd);\n",
              "            observer.disconnect();\n",
              "        }}\n",
              "}});\n",
              "\n",
              "// Listen for the removal of the full notebook cells\n",
              "var notebookContainer = gd.closest('#notebook-container');\n",
              "if (notebookContainer) {{\n",
              "    x.observe(notebookContainer, {childList: true});\n",
              "}}\n",
              "\n",
              "// Listen for the clearing of the current output cell\n",
              "var outputEl = gd.closest('.output');\n",
              "if (outputEl) {{\n",
              "    x.observe(outputEl, {childList: true});\n",
              "}}\n",
              "\n",
              "                        })                };                });            </script>        </div>"
            ]
          },
          "metadata": {},
          "output_type": "display_data"
        }
      ],
      "source": [
        "world[\"Total Fertility Rate\"].iplot()"
      ]
    },
    {
      "cell_type": "markdown",
      "metadata": {},
      "source": [
        "##### Relation between income and fertility\n",
        "\n"
      ]
    },
    {
      "cell_type": "code",
      "execution_count": 13,
      "metadata": {},
      "outputs": [
        {
          "data": {
            "application/vnd.plotly.v1+json": {
              "config": {
                "linkText": "Export to plot.ly",
                "plotlyServerURL": "https://plot.ly",
                "showLink": true
              },
              "data": [
                {
                  "line": {
                    "color": "rgba(255, 153, 51, 1.0)",
                    "dash": "solid",
                    "shape": "linear",
                    "width": 1.3
                  },
                  "marker": {
                    "size": 12,
                    "symbol": "circle-dot"
                  },
                  "mode": "markers",
                  "name": "Total Fertility Rate",
                  "text": [
                    "Africa Eastern and Southern",
                    "Africa Western and Central",
                    "Arab World",
                    "Caribbean small states",
                    "Central Europe and the Baltics",
                    "Early-demographic dividend",
                    "East Asia & Pacific",
                    "East Asia & Pacific (excluding high income)",
                    "East Asia & Pacific (IDA & IBRD countries)",
                    "Euro area",
                    "Europe & Central Asia",
                    "Europe & Central Asia (excluding high income)",
                    "Europe & Central Asia (IDA & IBRD countries)",
                    "European Union",
                    "Fragile and conflict affected situations",
                    "Heavily indebted poor countries (HIPC)",
                    "High income",
                    "IBRD only",
                    "IDA & IBRD total",
                    "IDA blend",
                    "IDA only",
                    "IDA total",
                    "Late-demographic dividend",
                    "Latin America & Caribbean",
                    "Latin America & Caribbean (excluding high income)",
                    "Latin America & the Caribbean (IDA & IBRD countries)",
                    "Least developed countries: UN classification",
                    "Low & middle income",
                    "Low income",
                    "Lower middle income",
                    "Middle East & North Africa",
                    "Middle East & North Africa (excluding high income)",
                    "Middle East & North Africa (IDA & IBRD countries)",
                    "Middle income",
                    "North America",
                    "Not classified",
                    "OECD members",
                    "Other small states",
                    "Pacific island small states",
                    "Post-demographic dividend",
                    "Pre-demographic dividend",
                    "Small states",
                    "South Asia",
                    "South Asia (IDA & IBRD)",
                    "Sub-Saharan Africa",
                    "Sub-Saharan Africa (excluding high income)",
                    "Sub-Saharan Africa (IDA & IBRD countries)",
                    "Upper middle income",
                    "World",
                    "Afghanistan",
                    "Albania",
                    "Algeria",
                    "American Samoa",
                    "Andorra",
                    "Angola",
                    "Antigua and Barbuda",
                    "Argentina",
                    "Armenia",
                    "Aruba",
                    "Australia",
                    "Austria",
                    "Azerbaijan",
                    "Bahamas, The",
                    "Bahrain",
                    "Bangladesh",
                    "Barbados",
                    "Belarus",
                    "Belgium",
                    "Belize",
                    "Benin",
                    "Bermuda",
                    "Bhutan",
                    "Bolivia",
                    "Bosnia and Herzegovina",
                    "Botswana",
                    "Brazil",
                    "British Virgin Islands",
                    "Brunei Darussalam",
                    "Bulgaria",
                    "Burkina Faso",
                    "Burundi",
                    "Cabo Verde",
                    "Cambodia",
                    "Cameroon",
                    "Canada",
                    "Cayman Islands",
                    "Central African Republic",
                    "Chad",
                    "Channel Islands",
                    "Chile",
                    "China",
                    "Colombia",
                    "Comoros",
                    "Congo, Dem. Rep.",
                    "Congo, Rep.",
                    "Costa Rica",
                    "Cote d'Ivoire",
                    "Croatia",
                    "Cuba",
                    "Curacao",
                    "Cyprus",
                    "Czechia",
                    "Denmark",
                    "Djibouti",
                    "Dominica",
                    "Dominican Republic",
                    "Ecuador",
                    "Egypt, Arab Rep.",
                    "El Salvador",
                    "Equatorial Guinea",
                    "Eritrea",
                    "Estonia",
                    "Eswatini",
                    "Ethiopia",
                    "Faroe Islands",
                    "Fiji",
                    "Finland",
                    "France",
                    "French Polynesia",
                    "Gabon",
                    "Gambia, The",
                    "Georgia",
                    "Germany",
                    "Ghana",
                    "Gibraltar",
                    "Greece",
                    "Greenland",
                    "Grenada",
                    "Guam",
                    "Guatemala",
                    "Guinea",
                    "Guinea-Bissau",
                    "Guyana",
                    "Haiti",
                    "Honduras",
                    "Hong Kong SAR, China",
                    "Hungary",
                    "Iceland",
                    "India",
                    "Indonesia",
                    "Iran, Islamic Rep.",
                    "Iraq",
                    "Ireland",
                    "Isle of Man",
                    "Israel",
                    "Italy",
                    "Jamaica",
                    "Japan",
                    "Jordan",
                    "Kazakhstan",
                    "Kenya",
                    "Kiribati",
                    "Korea, Dem. People's Rep.",
                    "Korea, Rep.",
                    "Kosovo",
                    "Kuwait",
                    "Kyrgyz Republic",
                    "Lao PDR",
                    "Latvia",
                    "Lebanon",
                    "Lesotho",
                    "Liberia",
                    "Libya",
                    "Liechtenstein",
                    "Lithuania",
                    "Luxembourg",
                    "Macao SAR, China",
                    "Madagascar",
                    "Malawi",
                    "Malaysia",
                    "Maldives",
                    "Mali",
                    "Malta",
                    "Marshall Islands",
                    "Mauritania",
                    "Mauritius",
                    "Mexico",
                    "Micronesia, Fed. Sts.",
                    "Moldova",
                    "Monaco",
                    "Mongolia",
                    "Montenegro",
                    "Morocco",
                    "Mozambique",
                    "Myanmar",
                    "Namibia",
                    "Nauru",
                    "Nepal",
                    "Netherlands",
                    "New Caledonia",
                    "New Zealand",
                    "Nicaragua",
                    "Niger",
                    "Nigeria",
                    "North Macedonia",
                    "Northern Mariana Islands",
                    "Norway",
                    "Oman",
                    "Pakistan",
                    "Palau",
                    "Panama",
                    "Papua New Guinea",
                    "Paraguay",
                    "Peru",
                    "Philippines",
                    "Poland",
                    "Portugal",
                    "Puerto Rico",
                    "Qatar",
                    "Romania",
                    "Russian Federation",
                    "Rwanda",
                    "Samoa",
                    "San Marino",
                    "Sao Tome and Principe",
                    "Saudi Arabia",
                    "Senegal",
                    "Serbia",
                    "Seychelles",
                    "Sierra Leone",
                    "Singapore",
                    "Sint Maarten (Dutch part)",
                    "Slovak Republic",
                    "Slovenia",
                    "Solomon Islands",
                    "Somalia",
                    "South Africa",
                    "South Sudan",
                    "Spain",
                    "Sri Lanka",
                    "St. Kitts and Nevis",
                    "St. Lucia",
                    "St. Martin (French part)",
                    "St. Vincent and the Grenadines",
                    "Sudan",
                    "Suriname",
                    "Sweden",
                    "Switzerland",
                    "Syrian Arab Republic",
                    "Tajikistan",
                    "Tanzania",
                    "Thailand",
                    "Timor-Leste",
                    "Togo",
                    "Tonga",
                    "Trinidad and Tobago",
                    "Tunisia",
                    "Turkiye",
                    "Turkmenistan",
                    "Turks and Caicos Islands",
                    "Tuvalu",
                    "Uganda",
                    "Ukraine",
                    "United Arab Emirates",
                    "United Kingdom",
                    "United States",
                    "Uruguay",
                    "Uzbekistan",
                    "Vanuatu",
                    "Venezuela, RB",
                    "Viet Nam",
                    "Virgin Islands (U.S.)",
                    "West Bank and Gaza",
                    "Yemen, Rep.",
                    "Zambia",
                    "Zimbabwe"
                  ],
                  "type": "scatter",
                  "x": [
                    7.212151333974805,
                    7.431344446226868,
                    8.63837357318815,
                    9.087776511740985,
                    9.698795477186636,
                    8.084104567788708,
                    9.348747807703342,
                    9.01954190099539,
                    9.030585203748085,
                    10.55043261278604,
                    10.086716865159742,
                    8.919704398470655,
                    9.042541365093753,
                    10.444548680137816,
                    7.438963168672916,
                    6.875713253879908,
                    10.679267422096812,
                    8.728673210695574,
                    8.49731069903524,
                    7.451484262827903,
                    7.0902843730732785,
                    7.224817218355874,
                    9.182178566868648,
                    8.908312518249113,
                    8.837749417770743,
                    8.879968240861013,
                    6.987364064943767,
                    8.462812466800186,
                    6.4872070014791205,
                    7.660750433540952,
                    8.79174545278664,
                    8.045616570279185,
                    8.04518724912694,
                    8.555991190795998,
                    11.026160077074165,
                    null,
                    10.555584828486792,
                    9.366226753771835,
                    8.215574199063546,
                    10.703262509324471,
                    7.193250539496746,
                    9.278410829586123,
                    7.525017625577813,
                    7.525017625577813,
                    7.306766046477195,
                    7.306161576962512,
                    7.306766046477195,
                    9.066816603513944,
                    9.296723305191017,
                    6.238432232977471,
                    8.583549628641762,
                    8.117954607326162,
                    9.655652741766657,
                    10.524258614642,
                    7.27994285597321,
                    9.63068480445983,
                    9.047920018620248,
                    8.413135768976193,
                    10.086147711237473,
                    10.856462081480364,
                    10.79527036068656,
                    8.349936148660023,
                    10.08573694085603,
                    10.061908554527601,
                    7.711238233634446,
                    9.73403295166171,
                    8.786130351590106,
                    10.727860421048103,
                    8.553555606170049,
                    7.123457738207607,
                    11.587957669644279,
                    8.065057691206844,
                    8.029045975910078,
                    8.715241143751886,
                    8.678473356977108,
                    8.842705575057662,
                    null,
                    10.210212878994183,
                    9.22506566033953,
                    6.7136271916495325,
                    5.379101725964691,
                    8.047637416659937,
                    7.363857568229706,
                    7.338972954927921,
                    10.677054550936717,
                    11.337351159514935,
                    6.076424180251708,
                    6.467344961198433,
                    10.956745488118992,
                    9.485984133419137,
                    9.25039915251705,
                    8.57627104185557,
                    7.326193721496962,
                    6.262763177561134,
                    7.606521383286369,
                    9.407489510954901,
                    7.7617747338988945,
                    9.565908323269909,
                    9.15900207702691,
                    9.702355787353195,
                    10.249960535332633,
                    10.042939854948859,
                    11.015946735800126,
                    7.979934165393947,
                    8.85416100395805,
                    8.877370092744025,
                    8.638560779707866,
                    8.1807568879732,
                    8.284435227774601,
                    8.732133995806468,
                    null,
                    10.068800431873383,
                    8.123529554257717,
                    6.822908024854733,
                    11.038672318184446,
                    8.479634439250471,
                    10.8030332524143,
                    10.575915164157314,
                    9.861920372636838,
                    8.806885641405842,
                    6.556821626297475,
                    8.356024642264972,
                    10.752558330974962,
                    7.6855083790065475,
                    null,
                    9.776636170631441,
                    10.90949241148596,
                    9.040445694556468,
                    10.456822562255251,
                    8.435960848872206,
                    6.978828035741994,
                    6.565628471535645,
                    8.833910775711706,
                    7.157066434831569,
                    7.763922872671974,
                    10.738768425747955,
                    9.688163933727562,
                    10.98272023253888,
                    7.556542825775277,
                    8.267607649692742,
                    7.918053336197682,
                    8.35498886012798,
                    11.361789601701167,
                    11.283897201199787,
                    10.711007328595468,
                    10.371079499845203,
                    8.496432114024165,
                    10.596307895408183,
                    8.293717869645382,
                    9.118404497788553,
                    7.568508781424348,
                    7.247076206105345,
                    null,
                    10.364743624285719,
                    8.36890986542227,
                    10.098137419215908,
                    7.136426903117002,
                    7.860707720705027,
                    9.803457400069211,
                    8.630514291445781,
                    6.821496034987859,
                    6.392803976115832,
                    8.858604406085378,
                    12.015439765780545,
                    9.92240036164718,
                    11.669120086497786,
                    10.531422240746757,
                    6.136439462684824,
                    6.433236819243198,
                    9.226641231220574,
                    8.884169188811958,
                    6.7128421441511605,
                    10.295449777760119,
                    8.620760147741953,
                    7.515503823741949,
                    9.106206091345923,
                    9.093232306605195,
                    8.199577601100916,
                    8.38394575691371,
                    12.114710293325235,
                    8.304290558840266,
                    8.946032491649369,
                    8.088951364932612,
                    6.123768155991217,
                    7.2995363119117345,
                    8.355154551300704,
                    9.222733323349395,
                    7.038072667759684,
                    10.862120469064552,
                    10.459601090029258,
                    10.639708465366981,
                    7.537220839552776,
                    6.336545448185043,
                    7.637530269156349,
                    8.693739810636457,
                    9.758630675866774,
                    11.132250790570772,
                    9.72362036169967,
                    7.187139105074445,
                    9.571457611637642,
                    9.495017925014144,
                    7.8022439381359785,
                    8.585477450615182,
                    8.71006340214304,
                    8.078509239946408,
                    9.668829235162866,
                    10.00975594475802,
                    10.355436329235728,
                    10.865051033117021,
                    9.476348501526942,
                    9.229597890556029,
                    6.65127888603548,
                    8.304673692355749,
                    10.721536574765699,
                    7.675669367468722,
                    9.923195125662602,
                    7.308191699699386,
                    8.953356060535555,
                    9.394328960526682,
                    6.201385545599333,
                    11.023110752274711,
                    10.28271373164365,
                    9.880837521820894,
                    10.14872244550918,
                    7.706370922712645,
                    6.321807441253273,
                    8.657488294998078,
                    null,
                    10.20301035641097,
                    8.256448777947142,
                    9.828422198860617,
                    9.09957916165028,
                    null,
                    9.024776824774525,
                    6.410721639590738,
                    8.475648709693964,
                    10.874984090510637,
                    11.360913314087094,
                    6.2861661150508,
                    6.747974045117349,
                    7.006844154796486,
                    8.853920461261412,
                    7.416714940367943,
                    6.787506155475912,
                    8.435108749746474,
                    9.525581692721273,
                    8.159866328335793,
                    9.064011917421075,
                    8.899780764700472,
                    9.946655334514631,
                    8.449965490217552,
                    6.741560424147449,
                    8.229974292932832,
                    10.535534937260977,
                    10.60204529486517,
                    11.059246017142232,
                    9.658258099820037,
                    7.47267552794803,
                    7.97857039767702,
                    null,
                    8.184889463825673,
                    10.581801392383682,
                    8.081341647925488,
                    6.360459307326557,
                    6.863627544213249,
                    7.22453245956093
                  ],
                  "y": [
                    4.41690032191029,
                    5.0493293781153,
                    3.18600277860242,
                    1.67128940694517,
                    1.55524546735669,
                    2.37773843711176,
                    1.55967009801612,
                    1.59726626178946,
                    1.59451188896135,
                    1.48114408098798,
                    1.67624027600941,
                    1.86684360704119,
                    1.82390332637492,
                    1.50333217825054,
                    4.41189370400275,
                    4.69154037648335,
                    1.53373792454555,
                    1.86703726374514,
                    2.41892626450714,
                    4.13244211960349,
                    3.89271926223483,
                    3.97071781747552,
                    1.46753871655302,
                    1.88407576349433,
                    1.8838141725658,
                    1.89473986587848,
                    4.03388237834914,
                    2.42780907905102,
                    4.69590622497459,
                    2.65619969761873,
                    2.66051651348392,
                    2.70572710770652,
                    2.69579740081228,
                    2.18574634566919,
                    1.6178563043028,
                    "",
                    1.58858262766786,
                    2.88768999430847,
                    3.25862223182425,
                    1.47573815696709,
                    4.91627620452391,
                    2.67793011608451,
                    2.26709778262632,
                    2.26709778262632,
                    4.66682427732449,
                    4.66702349147494,
                    4.66682427732449,
                    1.63140753487471,
                    2.29966617574505,
                    4.75,
                    1.4,
                    2.942,
                    "",
                    "",
                    5.371,
                    1.569,
                    1.911,
                    1.575,
                    1.325,
                    1.581,
                    1.44,
                    1.7,
                    1.394,
                    1.832,
                    2.003,
                    1.628,
                    1.474,
                    1.55,
                    1.999,
                    5.048,
                    1.4,
                    1.433,
                    2.651,
                    1.359,
                    2.836,
                    1.649,
                    0.976,
                    1.796,
                    1.56,
                    4.869,
                    5.177,
                    1.908,
                    2.381,
                    4.543,
                    1.41,
                    "",
                    5.985,
                    6.346,
                    1.447,
                    1.537,
                    1.281,
                    1.737,
                    4.052,
                    6.206,
                    4.234,
                    1.555,
                    4.472,
                    1.48,
                    1.5,
                    1.4,
                    1.328,
                    1.71,
                    1.68,
                    2.848,
                    1.597,
                    2.303,
                    2.051,
                    2.96,
                    1.819,
                    4.346,
                    3.933,
                    1.58,
                    2.89,
                    4.243,
                    2.323,
                    2.495,
                    1.37,
                    1.83,
                    1.705,
                    3.548,
                    4.777,
                    1.971,
                    1.53,
                    3.623,
                    1.855,
                    1.39,
                    2.019,
                    2.023,
                    2.593,
                    2.484,
                    4.489,
                    4.094,
                    2.418,
                    2.869,
                    2.394,
                    0.883,
                    1.59,
                    1.72,
                    2.051,
                    2.194,
                    1.708,
                    3.551,
                    1.63,
                    1.569,
                    2.9,
                    1.24,
                    1.358,
                    1.33,
                    2.873,
                    3.13,
                    3.397,
                    3.333,
                    1.818,
                    0.837,
                    1.529,
                    2.14,
                    3,
                    2.541,
                    1.55,
                    2.103,
                    3.049,
                    4.174,
                    2.507,
                    1.46,
                    1.48,
                    1.36,
                    1.072,
                    3.918,
                    3.995,
                    1.818,
                    1.712,
                    6.035,
                    1.13,
                    2.777,
                    4.455,
                    1.44,
                    1.905,
                    2.754,
                    1.77,
                    "",
                    2.9,
                    1.75,
                    2.353,
                    4.713,
                    2.174,
                    3.349,
                    3.571,
                    2.055,
                    1.54,
                    2.04,
                    1.61,
                    2.349,
                    6.892,
                    5.309,
                    1.31,
                    "",
                    1.48,
                    2.687,
                    3.555,
                    0.85,
                    2.344,
                    3.274,
                    2.497,
                    2.216,
                    2.777,
                    1.39,
                    1.41,
                    0.922,
                    1.816,
                    1.8,
                    1.505,
                    3.873,
                    3.997,
                    "",
                    3.893,
                    2.465,
                    4.454,
                    1.48,
                    2.29,
                    4.08,
                    1.1,
                    1.591,
                    1.59,
                    1.59,
                    4.038,
                    6.417,
                    2.401,
                    4.543,
                    1.19,
                    2,
                    1.55,
                    1.411,
                    2.448,
                    1.814,
                    4.542,
                    2.371,
                    1.67,
                    1.46,
                    2.798,
                    3.237,
                    4.795,
                    1.341,
                    3.247,
                    4.323,
                    3.267,
                    1.631,
                    2.114,
                    1.917,
                    2.701,
                    1.679,
                    3.188,
                    4.693,
                    1.217,
                    1.46,
                    1.56,
                    1.6415,
                    1.477,
                    2.904,
                    3.778,
                    2.23,
                    1.955,
                    2.03,
                    3.57,
                    3.886,
                    4.379,
                    3.545
                  ]
                }
              ],
              "layout": {
                "legend": {
                  "bgcolor": "#F5F6F9",
                  "font": {
                    "color": "#4D5663"
                  }
                },
                "paper_bgcolor": "#F5F6F9",
                "plot_bgcolor": "#F5F6F9",
                "template": {
                  "data": {
                    "bar": [
                      {
                        "error_x": {
                          "color": "#2a3f5f"
                        },
                        "error_y": {
                          "color": "#2a3f5f"
                        },
                        "marker": {
                          "line": {
                            "color": "#E5ECF6",
                            "width": 0.5
                          },
                          "pattern": {
                            "fillmode": "overlay",
                            "size": 10,
                            "solidity": 0.2
                          }
                        },
                        "type": "bar"
                      }
                    ],
                    "barpolar": [
                      {
                        "marker": {
                          "line": {
                            "color": "#E5ECF6",
                            "width": 0.5
                          },
                          "pattern": {
                            "fillmode": "overlay",
                            "size": 10,
                            "solidity": 0.2
                          }
                        },
                        "type": "barpolar"
                      }
                    ],
                    "carpet": [
                      {
                        "aaxis": {
                          "endlinecolor": "#2a3f5f",
                          "gridcolor": "white",
                          "linecolor": "white",
                          "minorgridcolor": "white",
                          "startlinecolor": "#2a3f5f"
                        },
                        "baxis": {
                          "endlinecolor": "#2a3f5f",
                          "gridcolor": "white",
                          "linecolor": "white",
                          "minorgridcolor": "white",
                          "startlinecolor": "#2a3f5f"
                        },
                        "type": "carpet"
                      }
                    ],
                    "choropleth": [
                      {
                        "colorbar": {
                          "outlinewidth": 0,
                          "ticks": ""
                        },
                        "type": "choropleth"
                      }
                    ],
                    "contour": [
                      {
                        "colorbar": {
                          "outlinewidth": 0,
                          "ticks": ""
                        },
                        "colorscale": [
                          [
                            0,
                            "#0d0887"
                          ],
                          [
                            0.1111111111111111,
                            "#46039f"
                          ],
                          [
                            0.2222222222222222,
                            "#7201a8"
                          ],
                          [
                            0.3333333333333333,
                            "#9c179e"
                          ],
                          [
                            0.4444444444444444,
                            "#bd3786"
                          ],
                          [
                            0.5555555555555556,
                            "#d8576b"
                          ],
                          [
                            0.6666666666666666,
                            "#ed7953"
                          ],
                          [
                            0.7777777777777778,
                            "#fb9f3a"
                          ],
                          [
                            0.8888888888888888,
                            "#fdca26"
                          ],
                          [
                            1,
                            "#f0f921"
                          ]
                        ],
                        "type": "contour"
                      }
                    ],
                    "contourcarpet": [
                      {
                        "colorbar": {
                          "outlinewidth": 0,
                          "ticks": ""
                        },
                        "type": "contourcarpet"
                      }
                    ],
                    "heatmap": [
                      {
                        "colorbar": {
                          "outlinewidth": 0,
                          "ticks": ""
                        },
                        "colorscale": [
                          [
                            0,
                            "#0d0887"
                          ],
                          [
                            0.1111111111111111,
                            "#46039f"
                          ],
                          [
                            0.2222222222222222,
                            "#7201a8"
                          ],
                          [
                            0.3333333333333333,
                            "#9c179e"
                          ],
                          [
                            0.4444444444444444,
                            "#bd3786"
                          ],
                          [
                            0.5555555555555556,
                            "#d8576b"
                          ],
                          [
                            0.6666666666666666,
                            "#ed7953"
                          ],
                          [
                            0.7777777777777778,
                            "#fb9f3a"
                          ],
                          [
                            0.8888888888888888,
                            "#fdca26"
                          ],
                          [
                            1,
                            "#f0f921"
                          ]
                        ],
                        "type": "heatmap"
                      }
                    ],
                    "heatmapgl": [
                      {
                        "colorbar": {
                          "outlinewidth": 0,
                          "ticks": ""
                        },
                        "colorscale": [
                          [
                            0,
                            "#0d0887"
                          ],
                          [
                            0.1111111111111111,
                            "#46039f"
                          ],
                          [
                            0.2222222222222222,
                            "#7201a8"
                          ],
                          [
                            0.3333333333333333,
                            "#9c179e"
                          ],
                          [
                            0.4444444444444444,
                            "#bd3786"
                          ],
                          [
                            0.5555555555555556,
                            "#d8576b"
                          ],
                          [
                            0.6666666666666666,
                            "#ed7953"
                          ],
                          [
                            0.7777777777777778,
                            "#fb9f3a"
                          ],
                          [
                            0.8888888888888888,
                            "#fdca26"
                          ],
                          [
                            1,
                            "#f0f921"
                          ]
                        ],
                        "type": "heatmapgl"
                      }
                    ],
                    "histogram": [
                      {
                        "marker": {
                          "pattern": {
                            "fillmode": "overlay",
                            "size": 10,
                            "solidity": 0.2
                          }
                        },
                        "type": "histogram"
                      }
                    ],
                    "histogram2d": [
                      {
                        "colorbar": {
                          "outlinewidth": 0,
                          "ticks": ""
                        },
                        "colorscale": [
                          [
                            0,
                            "#0d0887"
                          ],
                          [
                            0.1111111111111111,
                            "#46039f"
                          ],
                          [
                            0.2222222222222222,
                            "#7201a8"
                          ],
                          [
                            0.3333333333333333,
                            "#9c179e"
                          ],
                          [
                            0.4444444444444444,
                            "#bd3786"
                          ],
                          [
                            0.5555555555555556,
                            "#d8576b"
                          ],
                          [
                            0.6666666666666666,
                            "#ed7953"
                          ],
                          [
                            0.7777777777777778,
                            "#fb9f3a"
                          ],
                          [
                            0.8888888888888888,
                            "#fdca26"
                          ],
                          [
                            1,
                            "#f0f921"
                          ]
                        ],
                        "type": "histogram2d"
                      }
                    ],
                    "histogram2dcontour": [
                      {
                        "colorbar": {
                          "outlinewidth": 0,
                          "ticks": ""
                        },
                        "colorscale": [
                          [
                            0,
                            "#0d0887"
                          ],
                          [
                            0.1111111111111111,
                            "#46039f"
                          ],
                          [
                            0.2222222222222222,
                            "#7201a8"
                          ],
                          [
                            0.3333333333333333,
                            "#9c179e"
                          ],
                          [
                            0.4444444444444444,
                            "#bd3786"
                          ],
                          [
                            0.5555555555555556,
                            "#d8576b"
                          ],
                          [
                            0.6666666666666666,
                            "#ed7953"
                          ],
                          [
                            0.7777777777777778,
                            "#fb9f3a"
                          ],
                          [
                            0.8888888888888888,
                            "#fdca26"
                          ],
                          [
                            1,
                            "#f0f921"
                          ]
                        ],
                        "type": "histogram2dcontour"
                      }
                    ],
                    "mesh3d": [
                      {
                        "colorbar": {
                          "outlinewidth": 0,
                          "ticks": ""
                        },
                        "type": "mesh3d"
                      }
                    ],
                    "parcoords": [
                      {
                        "line": {
                          "colorbar": {
                            "outlinewidth": 0,
                            "ticks": ""
                          }
                        },
                        "type": "parcoords"
                      }
                    ],
                    "pie": [
                      {
                        "automargin": true,
                        "type": "pie"
                      }
                    ],
                    "scatter": [
                      {
                        "fillpattern": {
                          "fillmode": "overlay",
                          "size": 10,
                          "solidity": 0.2
                        },
                        "type": "scatter"
                      }
                    ],
                    "scatter3d": [
                      {
                        "line": {
                          "colorbar": {
                            "outlinewidth": 0,
                            "ticks": ""
                          }
                        },
                        "marker": {
                          "colorbar": {
                            "outlinewidth": 0,
                            "ticks": ""
                          }
                        },
                        "type": "scatter3d"
                      }
                    ],
                    "scattercarpet": [
                      {
                        "marker": {
                          "colorbar": {
                            "outlinewidth": 0,
                            "ticks": ""
                          }
                        },
                        "type": "scattercarpet"
                      }
                    ],
                    "scattergeo": [
                      {
                        "marker": {
                          "colorbar": {
                            "outlinewidth": 0,
                            "ticks": ""
                          }
                        },
                        "type": "scattergeo"
                      }
                    ],
                    "scattergl": [
                      {
                        "marker": {
                          "colorbar": {
                            "outlinewidth": 0,
                            "ticks": ""
                          }
                        },
                        "type": "scattergl"
                      }
                    ],
                    "scattermapbox": [
                      {
                        "marker": {
                          "colorbar": {
                            "outlinewidth": 0,
                            "ticks": ""
                          }
                        },
                        "type": "scattermapbox"
                      }
                    ],
                    "scatterpolar": [
                      {
                        "marker": {
                          "colorbar": {
                            "outlinewidth": 0,
                            "ticks": ""
                          }
                        },
                        "type": "scatterpolar"
                      }
                    ],
                    "scatterpolargl": [
                      {
                        "marker": {
                          "colorbar": {
                            "outlinewidth": 0,
                            "ticks": ""
                          }
                        },
                        "type": "scatterpolargl"
                      }
                    ],
                    "scatterternary": [
                      {
                        "marker": {
                          "colorbar": {
                            "outlinewidth": 0,
                            "ticks": ""
                          }
                        },
                        "type": "scatterternary"
                      }
                    ],
                    "surface": [
                      {
                        "colorbar": {
                          "outlinewidth": 0,
                          "ticks": ""
                        },
                        "colorscale": [
                          [
                            0,
                            "#0d0887"
                          ],
                          [
                            0.1111111111111111,
                            "#46039f"
                          ],
                          [
                            0.2222222222222222,
                            "#7201a8"
                          ],
                          [
                            0.3333333333333333,
                            "#9c179e"
                          ],
                          [
                            0.4444444444444444,
                            "#bd3786"
                          ],
                          [
                            0.5555555555555556,
                            "#d8576b"
                          ],
                          [
                            0.6666666666666666,
                            "#ed7953"
                          ],
                          [
                            0.7777777777777778,
                            "#fb9f3a"
                          ],
                          [
                            0.8888888888888888,
                            "#fdca26"
                          ],
                          [
                            1,
                            "#f0f921"
                          ]
                        ],
                        "type": "surface"
                      }
                    ],
                    "table": [
                      {
                        "cells": {
                          "fill": {
                            "color": "#EBF0F8"
                          },
                          "line": {
                            "color": "white"
                          }
                        },
                        "header": {
                          "fill": {
                            "color": "#C8D4E3"
                          },
                          "line": {
                            "color": "white"
                          }
                        },
                        "type": "table"
                      }
                    ]
                  },
                  "layout": {
                    "annotationdefaults": {
                      "arrowcolor": "#2a3f5f",
                      "arrowhead": 0,
                      "arrowwidth": 1
                    },
                    "autotypenumbers": "strict",
                    "coloraxis": {
                      "colorbar": {
                        "outlinewidth": 0,
                        "ticks": ""
                      }
                    },
                    "colorscale": {
                      "diverging": [
                        [
                          0,
                          "#8e0152"
                        ],
                        [
                          0.1,
                          "#c51b7d"
                        ],
                        [
                          0.2,
                          "#de77ae"
                        ],
                        [
                          0.3,
                          "#f1b6da"
                        ],
                        [
                          0.4,
                          "#fde0ef"
                        ],
                        [
                          0.5,
                          "#f7f7f7"
                        ],
                        [
                          0.6,
                          "#e6f5d0"
                        ],
                        [
                          0.7,
                          "#b8e186"
                        ],
                        [
                          0.8,
                          "#7fbc41"
                        ],
                        [
                          0.9,
                          "#4d9221"
                        ],
                        [
                          1,
                          "#276419"
                        ]
                      ],
                      "sequential": [
                        [
                          0,
                          "#0d0887"
                        ],
                        [
                          0.1111111111111111,
                          "#46039f"
                        ],
                        [
                          0.2222222222222222,
                          "#7201a8"
                        ],
                        [
                          0.3333333333333333,
                          "#9c179e"
                        ],
                        [
                          0.4444444444444444,
                          "#bd3786"
                        ],
                        [
                          0.5555555555555556,
                          "#d8576b"
                        ],
                        [
                          0.6666666666666666,
                          "#ed7953"
                        ],
                        [
                          0.7777777777777778,
                          "#fb9f3a"
                        ],
                        [
                          0.8888888888888888,
                          "#fdca26"
                        ],
                        [
                          1,
                          "#f0f921"
                        ]
                      ],
                      "sequentialminus": [
                        [
                          0,
                          "#0d0887"
                        ],
                        [
                          0.1111111111111111,
                          "#46039f"
                        ],
                        [
                          0.2222222222222222,
                          "#7201a8"
                        ],
                        [
                          0.3333333333333333,
                          "#9c179e"
                        ],
                        [
                          0.4444444444444444,
                          "#bd3786"
                        ],
                        [
                          0.5555555555555556,
                          "#d8576b"
                        ],
                        [
                          0.6666666666666666,
                          "#ed7953"
                        ],
                        [
                          0.7777777777777778,
                          "#fb9f3a"
                        ],
                        [
                          0.8888888888888888,
                          "#fdca26"
                        ],
                        [
                          1,
                          "#f0f921"
                        ]
                      ]
                    },
                    "colorway": [
                      "#636efa",
                      "#EF553B",
                      "#00cc96",
                      "#ab63fa",
                      "#FFA15A",
                      "#19d3f3",
                      "#FF6692",
                      "#B6E880",
                      "#FF97FF",
                      "#FECB52"
                    ],
                    "font": {
                      "color": "#2a3f5f"
                    },
                    "geo": {
                      "bgcolor": "white",
                      "lakecolor": "white",
                      "landcolor": "#E5ECF6",
                      "showlakes": true,
                      "showland": true,
                      "subunitcolor": "white"
                    },
                    "hoverlabel": {
                      "align": "left"
                    },
                    "hovermode": "closest",
                    "mapbox": {
                      "style": "light"
                    },
                    "paper_bgcolor": "white",
                    "plot_bgcolor": "#E5ECF6",
                    "polar": {
                      "angularaxis": {
                        "gridcolor": "white",
                        "linecolor": "white",
                        "ticks": ""
                      },
                      "bgcolor": "#E5ECF6",
                      "radialaxis": {
                        "gridcolor": "white",
                        "linecolor": "white",
                        "ticks": ""
                      }
                    },
                    "scene": {
                      "xaxis": {
                        "backgroundcolor": "#E5ECF6",
                        "gridcolor": "white",
                        "gridwidth": 2,
                        "linecolor": "white",
                        "showbackground": true,
                        "ticks": "",
                        "zerolinecolor": "white"
                      },
                      "yaxis": {
                        "backgroundcolor": "#E5ECF6",
                        "gridcolor": "white",
                        "gridwidth": 2,
                        "linecolor": "white",
                        "showbackground": true,
                        "ticks": "",
                        "zerolinecolor": "white"
                      },
                      "zaxis": {
                        "backgroundcolor": "#E5ECF6",
                        "gridcolor": "white",
                        "gridwidth": 2,
                        "linecolor": "white",
                        "showbackground": true,
                        "ticks": "",
                        "zerolinecolor": "white"
                      }
                    },
                    "shapedefaults": {
                      "line": {
                        "color": "#2a3f5f"
                      }
                    },
                    "ternary": {
                      "aaxis": {
                        "gridcolor": "white",
                        "linecolor": "white",
                        "ticks": ""
                      },
                      "baxis": {
                        "gridcolor": "white",
                        "linecolor": "white",
                        "ticks": ""
                      },
                      "bgcolor": "#E5ECF6",
                      "caxis": {
                        "gridcolor": "white",
                        "linecolor": "white",
                        "ticks": ""
                      }
                    },
                    "title": {
                      "x": 0.05
                    },
                    "xaxis": {
                      "automargin": true,
                      "gridcolor": "white",
                      "linecolor": "white",
                      "ticks": "",
                      "title": {
                        "standoff": 15
                      },
                      "zerolinecolor": "white",
                      "zerolinewidth": 2
                    },
                    "yaxis": {
                      "automargin": true,
                      "gridcolor": "white",
                      "linecolor": "white",
                      "ticks": "",
                      "title": {
                        "standoff": 15
                      },
                      "zerolinecolor": "white",
                      "zerolinewidth": 2
                    }
                  }
                },
                "title": {
                  "font": {
                    "color": "#4D5663"
                  },
                  "text": "Fact II: Women in Poorer Countries Have Higher Fertility"
                },
                "xaxis": {
                  "gridcolor": "#E1E5ED",
                  "showgrid": true,
                  "tickfont": {
                    "color": "#4D5663"
                  },
                  "title": {
                    "font": {
                      "color": "#4D5663"
                    },
                    "text": "Log GDP per capita"
                  },
                  "zerolinecolor": "#E1E5ED"
                },
                "yaxis": {
                  "gridcolor": "#E1E5ED",
                  "showgrid": true,
                  "tickfont": {
                    "color": "#4D5663"
                  },
                  "title": {
                    "font": {
                      "color": "#4D5663"
                    },
                    "text": "Total Fertility Rate"
                  },
                  "zerolinecolor": "#E1E5ED"
                }
              }
            },
            "text/html": [
              "<div>                            <div id=\"c94707c2-25a9-4f04-adfc-d8af26066d82\" class=\"plotly-graph-div\" style=\"height:525px; width:100%;\"></div>            <script type=\"text/javascript\">                require([\"plotly\"], function(Plotly) {                    window.PLOTLYENV=window.PLOTLYENV || {};\n",
              "                    window.PLOTLYENV.BASE_URL='https://plot.ly';                                    if (document.getElementById(\"c94707c2-25a9-4f04-adfc-d8af26066d82\")) {                    Plotly.newPlot(                        \"c94707c2-25a9-4f04-adfc-d8af26066d82\",                        [{\"line\":{\"color\":\"rgba(255, 153, 51, 1.0)\",\"dash\":\"solid\",\"shape\":\"linear\",\"width\":1.3},\"marker\":{\"size\":12,\"symbol\":\"circle-dot\"},\"mode\":\"markers\",\"name\":\"Total Fertility Rate\",\"text\":[\"Africa Eastern and Southern\",\"Africa Western and Central\",\"Arab World\",\"Caribbean small states\",\"Central Europe and the Baltics\",\"Early-demographic dividend\",\"East Asia & Pacific\",\"East Asia & Pacific (excluding high income)\",\"East Asia & Pacific (IDA & IBRD countries)\",\"Euro area\",\"Europe & Central Asia\",\"Europe & Central Asia (excluding high income)\",\"Europe & Central Asia (IDA & IBRD countries)\",\"European Union\",\"Fragile and conflict affected situations\",\"Heavily indebted poor countries (HIPC)\",\"High income\",\"IBRD only\",\"IDA & IBRD total\",\"IDA blend\",\"IDA only\",\"IDA total\",\"Late-demographic dividend\",\"Latin America & Caribbean\",\"Latin America & Caribbean (excluding high income)\",\"Latin America & the Caribbean (IDA & IBRD countries)\",\"Least developed countries: UN classification\",\"Low & middle income\",\"Low income\",\"Lower middle income\",\"Middle East & North Africa\",\"Middle East & North Africa (excluding high income)\",\"Middle East & North Africa (IDA & IBRD countries)\",\"Middle income\",\"North America\",\"Not classified\",\"OECD members\",\"Other small states\",\"Pacific island small states\",\"Post-demographic dividend\",\"Pre-demographic dividend\",\"Small states\",\"South Asia\",\"South Asia (IDA & IBRD)\",\"Sub-Saharan Africa\",\"Sub-Saharan Africa (excluding high income)\",\"Sub-Saharan Africa (IDA & IBRD countries)\",\"Upper middle income\",\"World\",\"Afghanistan\",\"Albania\",\"Algeria\",\"American Samoa\",\"Andorra\",\"Angola\",\"Antigua and Barbuda\",\"Argentina\",\"Armenia\",\"Aruba\",\"Australia\",\"Austria\",\"Azerbaijan\",\"Bahamas, The\",\"Bahrain\",\"Bangladesh\",\"Barbados\",\"Belarus\",\"Belgium\",\"Belize\",\"Benin\",\"Bermuda\",\"Bhutan\",\"Bolivia\",\"Bosnia and Herzegovina\",\"Botswana\",\"Brazil\",\"British Virgin Islands\",\"Brunei Darussalam\",\"Bulgaria\",\"Burkina Faso\",\"Burundi\",\"Cabo Verde\",\"Cambodia\",\"Cameroon\",\"Canada\",\"Cayman Islands\",\"Central African Republic\",\"Chad\",\"Channel Islands\",\"Chile\",\"China\",\"Colombia\",\"Comoros\",\"Congo, Dem. Rep.\",\"Congo, Rep.\",\"Costa Rica\",\"Cote d'Ivoire\",\"Croatia\",\"Cuba\",\"Curacao\",\"Cyprus\",\"Czechia\",\"Denmark\",\"Djibouti\",\"Dominica\",\"Dominican Republic\",\"Ecuador\",\"Egypt, Arab Rep.\",\"El Salvador\",\"Equatorial Guinea\",\"Eritrea\",\"Estonia\",\"Eswatini\",\"Ethiopia\",\"Faroe Islands\",\"Fiji\",\"Finland\",\"France\",\"French Polynesia\",\"Gabon\",\"Gambia, The\",\"Georgia\",\"Germany\",\"Ghana\",\"Gibraltar\",\"Greece\",\"Greenland\",\"Grenada\",\"Guam\",\"Guatemala\",\"Guinea\",\"Guinea-Bissau\",\"Guyana\",\"Haiti\",\"Honduras\",\"Hong Kong SAR, China\",\"Hungary\",\"Iceland\",\"India\",\"Indonesia\",\"Iran, Islamic Rep.\",\"Iraq\",\"Ireland\",\"Isle of Man\",\"Israel\",\"Italy\",\"Jamaica\",\"Japan\",\"Jordan\",\"Kazakhstan\",\"Kenya\",\"Kiribati\",\"Korea, Dem. People's Rep.\",\"Korea, Rep.\",\"Kosovo\",\"Kuwait\",\"Kyrgyz Republic\",\"Lao PDR\",\"Latvia\",\"Lebanon\",\"Lesotho\",\"Liberia\",\"Libya\",\"Liechtenstein\",\"Lithuania\",\"Luxembourg\",\"Macao SAR, China\",\"Madagascar\",\"Malawi\",\"Malaysia\",\"Maldives\",\"Mali\",\"Malta\",\"Marshall Islands\",\"Mauritania\",\"Mauritius\",\"Mexico\",\"Micronesia, Fed. Sts.\",\"Moldova\",\"Monaco\",\"Mongolia\",\"Montenegro\",\"Morocco\",\"Mozambique\",\"Myanmar\",\"Namibia\",\"Nauru\",\"Nepal\",\"Netherlands\",\"New Caledonia\",\"New Zealand\",\"Nicaragua\",\"Niger\",\"Nigeria\",\"North Macedonia\",\"Northern Mariana Islands\",\"Norway\",\"Oman\",\"Pakistan\",\"Palau\",\"Panama\",\"Papua New Guinea\",\"Paraguay\",\"Peru\",\"Philippines\",\"Poland\",\"Portugal\",\"Puerto Rico\",\"Qatar\",\"Romania\",\"Russian Federation\",\"Rwanda\",\"Samoa\",\"San Marino\",\"Sao Tome and Principe\",\"Saudi Arabia\",\"Senegal\",\"Serbia\",\"Seychelles\",\"Sierra Leone\",\"Singapore\",\"Sint Maarten (Dutch part)\",\"Slovak Republic\",\"Slovenia\",\"Solomon Islands\",\"Somalia\",\"South Africa\",\"South Sudan\",\"Spain\",\"Sri Lanka\",\"St. Kitts and Nevis\",\"St. Lucia\",\"St. Martin (French part)\",\"St. Vincent and the Grenadines\",\"Sudan\",\"Suriname\",\"Sweden\",\"Switzerland\",\"Syrian Arab Republic\",\"Tajikistan\",\"Tanzania\",\"Thailand\",\"Timor-Leste\",\"Togo\",\"Tonga\",\"Trinidad and Tobago\",\"Tunisia\",\"Turkiye\",\"Turkmenistan\",\"Turks and Caicos Islands\",\"Tuvalu\",\"Uganda\",\"Ukraine\",\"United Arab Emirates\",\"United Kingdom\",\"United States\",\"Uruguay\",\"Uzbekistan\",\"Vanuatu\",\"Venezuela, RB\",\"Viet Nam\",\"Virgin Islands (U.S.)\",\"West Bank and Gaza\",\"Yemen, Rep.\",\"Zambia\",\"Zimbabwe\"],\"x\":[7.212151333974805,7.431344446226868,8.63837357318815,9.087776511740985,9.698795477186636,8.084104567788708,9.348747807703342,9.01954190099539,9.030585203748085,10.55043261278604,10.086716865159742,8.919704398470655,9.042541365093753,10.444548680137816,7.438963168672916,6.875713253879908,10.679267422096812,8.728673210695574,8.49731069903524,7.451484262827903,7.0902843730732785,7.224817218355874,9.182178566868648,8.908312518249113,8.837749417770743,8.879968240861013,6.987364064943767,8.462812466800186,6.4872070014791205,7.660750433540952,8.79174545278664,8.045616570279185,8.04518724912694,8.555991190795998,11.026160077074165,null,10.555584828486792,9.366226753771835,8.215574199063546,10.703262509324471,7.193250539496746,9.278410829586123,7.525017625577813,7.525017625577813,7.306766046477195,7.306161576962512,7.306766046477195,9.066816603513944,9.296723305191017,6.238432232977471,8.583549628641762,8.117954607326162,9.655652741766657,10.524258614642,7.27994285597321,9.63068480445983,9.047920018620248,8.413135768976193,10.086147711237473,10.856462081480364,10.79527036068656,8.349936148660023,10.08573694085603,10.061908554527601,7.711238233634446,9.73403295166171,8.786130351590106,10.727860421048103,8.553555606170049,7.123457738207607,11.587957669644279,8.065057691206844,8.029045975910078,8.715241143751886,8.678473356977108,8.842705575057662,null,10.210212878994183,9.22506566033953,6.7136271916495325,5.379101725964691,8.047637416659937,7.363857568229706,7.338972954927921,10.677054550936717,11.337351159514935,6.076424180251708,6.467344961198433,10.956745488118992,9.485984133419137,9.25039915251705,8.57627104185557,7.326193721496962,6.262763177561134,7.606521383286369,9.407489510954901,7.7617747338988945,9.565908323269909,9.15900207702691,9.702355787353195,10.249960535332633,10.042939854948859,11.015946735800126,7.979934165393947,8.85416100395805,8.877370092744025,8.638560779707866,8.1807568879732,8.284435227774601,8.732133995806468,null,10.068800431873383,8.123529554257717,6.822908024854733,11.038672318184446,8.479634439250471,10.8030332524143,10.575915164157314,9.861920372636838,8.806885641405842,6.556821626297475,8.356024642264972,10.752558330974962,7.6855083790065475,null,9.776636170631441,10.90949241148596,9.040445694556468,10.456822562255251,8.435960848872206,6.978828035741994,6.565628471535645,8.833910775711706,7.157066434831569,7.763922872671974,10.738768425747955,9.688163933727562,10.98272023253888,7.556542825775277,8.267607649692742,7.918053336197682,8.35498886012798,11.361789601701167,11.283897201199787,10.711007328595468,10.371079499845203,8.496432114024165,10.596307895408183,8.293717869645382,9.118404497788553,7.568508781424348,7.247076206105345,null,10.364743624285719,8.36890986542227,10.098137419215908,7.136426903117002,7.860707720705027,9.803457400069211,8.630514291445781,6.821496034987859,6.392803976115832,8.858604406085378,12.015439765780545,9.92240036164718,11.669120086497786,10.531422240746757,6.136439462684824,6.433236819243198,9.226641231220574,8.884169188811958,6.7128421441511605,10.295449777760119,8.620760147741953,7.515503823741949,9.106206091345923,9.093232306605195,8.199577601100916,8.38394575691371,12.114710293325235,8.304290558840266,8.946032491649369,8.088951364932612,6.123768155991217,7.2995363119117345,8.355154551300704,9.222733323349395,7.038072667759684,10.862120469064552,10.459601090029258,10.639708465366981,7.537220839552776,6.336545448185043,7.637530269156349,8.693739810636457,9.758630675866774,11.132250790570772,9.72362036169967,7.187139105074445,9.571457611637642,9.495017925014144,7.8022439381359785,8.585477450615182,8.71006340214304,8.078509239946408,9.668829235162866,10.00975594475802,10.355436329235728,10.865051033117021,9.476348501526942,9.229597890556029,6.65127888603548,8.304673692355749,10.721536574765699,7.675669367468722,9.923195125662602,7.308191699699386,8.953356060535555,9.394328960526682,6.201385545599333,11.023110752274711,10.28271373164365,9.880837521820894,10.14872244550918,7.706370922712645,6.321807441253273,8.657488294998078,null,10.20301035641097,8.256448777947142,9.828422198860617,9.09957916165028,null,9.024776824774525,6.410721639590738,8.475648709693964,10.874984090510637,11.360913314087094,6.2861661150508,6.747974045117349,7.006844154796486,8.853920461261412,7.416714940367943,6.787506155475912,8.435108749746474,9.525581692721273,8.159866328335793,9.064011917421075,8.899780764700472,9.946655334514631,8.449965490217552,6.741560424147449,8.229974292932832,10.535534937260977,10.60204529486517,11.059246017142232,9.658258099820037,7.47267552794803,7.97857039767702,null,8.184889463825673,10.581801392383682,8.081341647925488,6.360459307326557,6.863627544213249,7.22453245956093],\"y\":[4.41690032191029,5.0493293781153,3.18600277860242,1.67128940694517,1.55524546735669,2.37773843711176,1.55967009801612,1.59726626178946,1.59451188896135,1.48114408098798,1.67624027600941,1.86684360704119,1.82390332637492,1.50333217825054,4.41189370400275,4.69154037648335,1.53373792454555,1.86703726374514,2.41892626450714,4.13244211960349,3.89271926223483,3.97071781747552,1.46753871655302,1.88407576349433,1.8838141725658,1.89473986587848,4.03388237834914,2.42780907905102,4.69590622497459,2.65619969761873,2.66051651348392,2.70572710770652,2.69579740081228,2.18574634566919,1.6178563043028,\"\",1.58858262766786,2.88768999430847,3.25862223182425,1.47573815696709,4.91627620452391,2.67793011608451,2.26709778262632,2.26709778262632,4.66682427732449,4.66702349147494,4.66682427732449,1.63140753487471,2.29966617574505,4.75,1.4,2.942,\"\",\"\",5.371,1.569,1.911,1.575,1.325,1.581,1.44,1.7,1.394,1.832,2.003,1.628,1.474,1.55,1.999,5.048,1.4,1.433,2.651,1.359,2.836,1.649,0.976,1.796,1.56,4.869,5.177,1.908,2.381,4.543,1.41,\"\",5.985,6.346,1.447,1.537,1.281,1.737,4.052,6.206,4.234,1.555,4.472,1.48,1.5,1.4,1.328,1.71,1.68,2.848,1.597,2.303,2.051,2.96,1.819,4.346,3.933,1.58,2.89,4.243,2.323,2.495,1.37,1.83,1.705,3.548,4.777,1.971,1.53,3.623,1.855,1.39,2.019,2.023,2.593,2.484,4.489,4.094,2.418,2.869,2.394,0.883,1.59,1.72,2.051,2.194,1.708,3.551,1.63,1.569,2.9,1.24,1.358,1.33,2.873,3.13,3.397,3.333,1.818,0.837,1.529,2.14,3.0,2.541,1.55,2.103,3.049,4.174,2.507,1.46,1.48,1.36,1.072,3.918,3.995,1.818,1.712,6.035,1.13,2.777,4.455,1.44,1.905,2.754,1.77,\"\",2.9,1.75,2.353,4.713,2.174,3.349,3.571,2.055,1.54,2.04,1.61,2.349,6.892,5.309,1.31,\"\",1.48,2.687,3.555,0.85,2.344,3.274,2.497,2.216,2.777,1.39,1.41,0.922,1.816,1.8,1.505,3.873,3.997,\"\",3.893,2.465,4.454,1.48,2.29,4.08,1.1,1.591,1.59,1.59,4.038,6.417,2.401,4.543,1.19,2.0,1.55,1.411,2.448,1.814,4.542,2.371,1.67,1.46,2.798,3.237,4.795,1.341,3.247,4.323,3.267,1.631,2.114,1.917,2.701,1.679,3.188,4.693,1.217,1.46,1.56,1.6415,1.477,2.904,3.778,2.23,1.955,2.03,3.57,3.886,4.379,3.545],\"type\":\"scatter\"}],                        {\"legend\":{\"bgcolor\":\"#F5F6F9\",\"font\":{\"color\":\"#4D5663\"}},\"paper_bgcolor\":\"#F5F6F9\",\"plot_bgcolor\":\"#F5F6F9\",\"template\":{\"data\":{\"barpolar\":[{\"marker\":{\"line\":{\"color\":\"#E5ECF6\",\"width\":0.5},\"pattern\":{\"fillmode\":\"overlay\",\"size\":10,\"solidity\":0.2}},\"type\":\"barpolar\"}],\"bar\":[{\"error_x\":{\"color\":\"#2a3f5f\"},\"error_y\":{\"color\":\"#2a3f5f\"},\"marker\":{\"line\":{\"color\":\"#E5ECF6\",\"width\":0.5},\"pattern\":{\"fillmode\":\"overlay\",\"size\":10,\"solidity\":0.2}},\"type\":\"bar\"}],\"carpet\":[{\"aaxis\":{\"endlinecolor\":\"#2a3f5f\",\"gridcolor\":\"white\",\"linecolor\":\"white\",\"minorgridcolor\":\"white\",\"startlinecolor\":\"#2a3f5f\"},\"baxis\":{\"endlinecolor\":\"#2a3f5f\",\"gridcolor\":\"white\",\"linecolor\":\"white\",\"minorgridcolor\":\"white\",\"startlinecolor\":\"#2a3f5f\"},\"type\":\"carpet\"}],\"choropleth\":[{\"colorbar\":{\"outlinewidth\":0,\"ticks\":\"\"},\"type\":\"choropleth\"}],\"contourcarpet\":[{\"colorbar\":{\"outlinewidth\":0,\"ticks\":\"\"},\"type\":\"contourcarpet\"}],\"contour\":[{\"colorbar\":{\"outlinewidth\":0,\"ticks\":\"\"},\"colorscale\":[[0.0,\"#0d0887\"],[0.1111111111111111,\"#46039f\"],[0.2222222222222222,\"#7201a8\"],[0.3333333333333333,\"#9c179e\"],[0.4444444444444444,\"#bd3786\"],[0.5555555555555556,\"#d8576b\"],[0.6666666666666666,\"#ed7953\"],[0.7777777777777778,\"#fb9f3a\"],[0.8888888888888888,\"#fdca26\"],[1.0,\"#f0f921\"]],\"type\":\"contour\"}],\"heatmapgl\":[{\"colorbar\":{\"outlinewidth\":0,\"ticks\":\"\"},\"colorscale\":[[0.0,\"#0d0887\"],[0.1111111111111111,\"#46039f\"],[0.2222222222222222,\"#7201a8\"],[0.3333333333333333,\"#9c179e\"],[0.4444444444444444,\"#bd3786\"],[0.5555555555555556,\"#d8576b\"],[0.6666666666666666,\"#ed7953\"],[0.7777777777777778,\"#fb9f3a\"],[0.8888888888888888,\"#fdca26\"],[1.0,\"#f0f921\"]],\"type\":\"heatmapgl\"}],\"heatmap\":[{\"colorbar\":{\"outlinewidth\":0,\"ticks\":\"\"},\"colorscale\":[[0.0,\"#0d0887\"],[0.1111111111111111,\"#46039f\"],[0.2222222222222222,\"#7201a8\"],[0.3333333333333333,\"#9c179e\"],[0.4444444444444444,\"#bd3786\"],[0.5555555555555556,\"#d8576b\"],[0.6666666666666666,\"#ed7953\"],[0.7777777777777778,\"#fb9f3a\"],[0.8888888888888888,\"#fdca26\"],[1.0,\"#f0f921\"]],\"type\":\"heatmap\"}],\"histogram2dcontour\":[{\"colorbar\":{\"outlinewidth\":0,\"ticks\":\"\"},\"colorscale\":[[0.0,\"#0d0887\"],[0.1111111111111111,\"#46039f\"],[0.2222222222222222,\"#7201a8\"],[0.3333333333333333,\"#9c179e\"],[0.4444444444444444,\"#bd3786\"],[0.5555555555555556,\"#d8576b\"],[0.6666666666666666,\"#ed7953\"],[0.7777777777777778,\"#fb9f3a\"],[0.8888888888888888,\"#fdca26\"],[1.0,\"#f0f921\"]],\"type\":\"histogram2dcontour\"}],\"histogram2d\":[{\"colorbar\":{\"outlinewidth\":0,\"ticks\":\"\"},\"colorscale\":[[0.0,\"#0d0887\"],[0.1111111111111111,\"#46039f\"],[0.2222222222222222,\"#7201a8\"],[0.3333333333333333,\"#9c179e\"],[0.4444444444444444,\"#bd3786\"],[0.5555555555555556,\"#d8576b\"],[0.6666666666666666,\"#ed7953\"],[0.7777777777777778,\"#fb9f3a\"],[0.8888888888888888,\"#fdca26\"],[1.0,\"#f0f921\"]],\"type\":\"histogram2d\"}],\"histogram\":[{\"marker\":{\"pattern\":{\"fillmode\":\"overlay\",\"size\":10,\"solidity\":0.2}},\"type\":\"histogram\"}],\"mesh3d\":[{\"colorbar\":{\"outlinewidth\":0,\"ticks\":\"\"},\"type\":\"mesh3d\"}],\"parcoords\":[{\"line\":{\"colorbar\":{\"outlinewidth\":0,\"ticks\":\"\"}},\"type\":\"parcoords\"}],\"pie\":[{\"automargin\":true,\"type\":\"pie\"}],\"scatter3d\":[{\"line\":{\"colorbar\":{\"outlinewidth\":0,\"ticks\":\"\"}},\"marker\":{\"colorbar\":{\"outlinewidth\":0,\"ticks\":\"\"}},\"type\":\"scatter3d\"}],\"scattercarpet\":[{\"marker\":{\"colorbar\":{\"outlinewidth\":0,\"ticks\":\"\"}},\"type\":\"scattercarpet\"}],\"scattergeo\":[{\"marker\":{\"colorbar\":{\"outlinewidth\":0,\"ticks\":\"\"}},\"type\":\"scattergeo\"}],\"scattergl\":[{\"marker\":{\"colorbar\":{\"outlinewidth\":0,\"ticks\":\"\"}},\"type\":\"scattergl\"}],\"scattermapbox\":[{\"marker\":{\"colorbar\":{\"outlinewidth\":0,\"ticks\":\"\"}},\"type\":\"scattermapbox\"}],\"scatterpolargl\":[{\"marker\":{\"colorbar\":{\"outlinewidth\":0,\"ticks\":\"\"}},\"type\":\"scatterpolargl\"}],\"scatterpolar\":[{\"marker\":{\"colorbar\":{\"outlinewidth\":0,\"ticks\":\"\"}},\"type\":\"scatterpolar\"}],\"scatter\":[{\"fillpattern\":{\"fillmode\":\"overlay\",\"size\":10,\"solidity\":0.2},\"type\":\"scatter\"}],\"scatterternary\":[{\"marker\":{\"colorbar\":{\"outlinewidth\":0,\"ticks\":\"\"}},\"type\":\"scatterternary\"}],\"surface\":[{\"colorbar\":{\"outlinewidth\":0,\"ticks\":\"\"},\"colorscale\":[[0.0,\"#0d0887\"],[0.1111111111111111,\"#46039f\"],[0.2222222222222222,\"#7201a8\"],[0.3333333333333333,\"#9c179e\"],[0.4444444444444444,\"#bd3786\"],[0.5555555555555556,\"#d8576b\"],[0.6666666666666666,\"#ed7953\"],[0.7777777777777778,\"#fb9f3a\"],[0.8888888888888888,\"#fdca26\"],[1.0,\"#f0f921\"]],\"type\":\"surface\"}],\"table\":[{\"cells\":{\"fill\":{\"color\":\"#EBF0F8\"},\"line\":{\"color\":\"white\"}},\"header\":{\"fill\":{\"color\":\"#C8D4E3\"},\"line\":{\"color\":\"white\"}},\"type\":\"table\"}]},\"layout\":{\"annotationdefaults\":{\"arrowcolor\":\"#2a3f5f\",\"arrowhead\":0,\"arrowwidth\":1},\"autotypenumbers\":\"strict\",\"coloraxis\":{\"colorbar\":{\"outlinewidth\":0,\"ticks\":\"\"}},\"colorscale\":{\"diverging\":[[0,\"#8e0152\"],[0.1,\"#c51b7d\"],[0.2,\"#de77ae\"],[0.3,\"#f1b6da\"],[0.4,\"#fde0ef\"],[0.5,\"#f7f7f7\"],[0.6,\"#e6f5d0\"],[0.7,\"#b8e186\"],[0.8,\"#7fbc41\"],[0.9,\"#4d9221\"],[1,\"#276419\"]],\"sequential\":[[0.0,\"#0d0887\"],[0.1111111111111111,\"#46039f\"],[0.2222222222222222,\"#7201a8\"],[0.3333333333333333,\"#9c179e\"],[0.4444444444444444,\"#bd3786\"],[0.5555555555555556,\"#d8576b\"],[0.6666666666666666,\"#ed7953\"],[0.7777777777777778,\"#fb9f3a\"],[0.8888888888888888,\"#fdca26\"],[1.0,\"#f0f921\"]],\"sequentialminus\":[[0.0,\"#0d0887\"],[0.1111111111111111,\"#46039f\"],[0.2222222222222222,\"#7201a8\"],[0.3333333333333333,\"#9c179e\"],[0.4444444444444444,\"#bd3786\"],[0.5555555555555556,\"#d8576b\"],[0.6666666666666666,\"#ed7953\"],[0.7777777777777778,\"#fb9f3a\"],[0.8888888888888888,\"#fdca26\"],[1.0,\"#f0f921\"]]},\"colorway\":[\"#636efa\",\"#EF553B\",\"#00cc96\",\"#ab63fa\",\"#FFA15A\",\"#19d3f3\",\"#FF6692\",\"#B6E880\",\"#FF97FF\",\"#FECB52\"],\"font\":{\"color\":\"#2a3f5f\"},\"geo\":{\"bgcolor\":\"white\",\"lakecolor\":\"white\",\"landcolor\":\"#E5ECF6\",\"showlakes\":true,\"showland\":true,\"subunitcolor\":\"white\"},\"hoverlabel\":{\"align\":\"left\"},\"hovermode\":\"closest\",\"mapbox\":{\"style\":\"light\"},\"paper_bgcolor\":\"white\",\"plot_bgcolor\":\"#E5ECF6\",\"polar\":{\"angularaxis\":{\"gridcolor\":\"white\",\"linecolor\":\"white\",\"ticks\":\"\"},\"bgcolor\":\"#E5ECF6\",\"radialaxis\":{\"gridcolor\":\"white\",\"linecolor\":\"white\",\"ticks\":\"\"}},\"scene\":{\"xaxis\":{\"backgroundcolor\":\"#E5ECF6\",\"gridcolor\":\"white\",\"gridwidth\":2,\"linecolor\":\"white\",\"showbackground\":true,\"ticks\":\"\",\"zerolinecolor\":\"white\"},\"yaxis\":{\"backgroundcolor\":\"#E5ECF6\",\"gridcolor\":\"white\",\"gridwidth\":2,\"linecolor\":\"white\",\"showbackground\":true,\"ticks\":\"\",\"zerolinecolor\":\"white\"},\"zaxis\":{\"backgroundcolor\":\"#E5ECF6\",\"gridcolor\":\"white\",\"gridwidth\":2,\"linecolor\":\"white\",\"showbackground\":true,\"ticks\":\"\",\"zerolinecolor\":\"white\"}},\"shapedefaults\":{\"line\":{\"color\":\"#2a3f5f\"}},\"ternary\":{\"aaxis\":{\"gridcolor\":\"white\",\"linecolor\":\"white\",\"ticks\":\"\"},\"baxis\":{\"gridcolor\":\"white\",\"linecolor\":\"white\",\"ticks\":\"\"},\"bgcolor\":\"#E5ECF6\",\"caxis\":{\"gridcolor\":\"white\",\"linecolor\":\"white\",\"ticks\":\"\"}},\"title\":{\"x\":0.05},\"xaxis\":{\"automargin\":true,\"gridcolor\":\"white\",\"linecolor\":\"white\",\"ticks\":\"\",\"title\":{\"standoff\":15},\"zerolinecolor\":\"white\",\"zerolinewidth\":2},\"yaxis\":{\"automargin\":true,\"gridcolor\":\"white\",\"linecolor\":\"white\",\"ticks\":\"\",\"title\":{\"standoff\":15},\"zerolinecolor\":\"white\",\"zerolinewidth\":2}}},\"title\":{\"font\":{\"color\":\"#4D5663\"},\"text\":\"Fact II: Women in Poorer Countries Have Higher Fertility\"},\"xaxis\":{\"gridcolor\":\"#E1E5ED\",\"showgrid\":true,\"tickfont\":{\"color\":\"#4D5663\"},\"title\":{\"font\":{\"color\":\"#4D5663\"},\"text\":\"Log GDP per capita\"},\"zerolinecolor\":\"#E1E5ED\"},\"yaxis\":{\"gridcolor\":\"#E1E5ED\",\"showgrid\":true,\"tickfont\":{\"color\":\"#4D5663\"},\"title\":{\"font\":{\"color\":\"#4D5663\"},\"text\":\"Total Fertility Rate\"},\"zerolinecolor\":\"#E1E5ED\"}},                        {\"showLink\": true, \"linkText\": \"Export to plot.ly\", \"plotlyServerURL\": \"https://plot.ly\", \"responsive\": true}                    ).then(function(){\n",
              "                            \n",
              "var gd = document.getElementById('c94707c2-25a9-4f04-adfc-d8af26066d82');\n",
              "var x = new MutationObserver(function (mutations, observer) {{\n",
              "        var display = window.getComputedStyle(gd).display;\n",
              "        if (!display || display === 'none') {{\n",
              "            console.log([gd, 'removed!']);\n",
              "            Plotly.purge(gd);\n",
              "            observer.disconnect();\n",
              "        }}\n",
              "}});\n",
              "\n",
              "// Listen for the removal of the full notebook cells\n",
              "var notebookContainer = gd.closest('#notebook-container');\n",
              "if (notebookContainer) {{\n",
              "    x.observe(notebookContainer, {childList: true});\n",
              "}}\n",
              "\n",
              "// Listen for the clearing of the current output cell\n",
              "var outputEl = gd.closest('.output');\n",
              "if (outputEl) {{\n",
              "    x.observe(outputEl, {childList: true});\n",
              "}}\n",
              "\n",
              "                        })                };                });            </script>        </div>"
            ]
          },
          "metadata": {},
          "output_type": "display_data"
        }
      ],
      "source": [
        "df.iplot(kind='scatter', mode='markers', symbol='circle-dot',\n",
        "         x=\"Log GDP per capita\",y=\"Total Fertility Rate\",\n",
        "         text=df.reset_index('country')['country'].values.tolist(),\n",
        "         xTitle=\"Log GDP per capita\",yTitle=\"Total Fertility Rate\",\n",
        "         title=\"Fact II: Women in Poorer Countries Have Higher Fertility\")"
      ]
    },
    {
      "cell_type": "markdown",
      "metadata": {},
      "source": [
        "### Understanding Age-Sex Composition\n",
        "\n"
      ]
    },
    {
      "cell_type": "markdown",
      "metadata": {},
      "source": [
        "To relate the total fertility rate (TFR) of a country to population\n",
        " growth, we need to know some other things about the country:\n",
        "\n",
        "1.  Women of child-bearing age, as a proportion of population\n",
        "2.  Mortality rates (which will vary with age)\n",
        "3.  Rates of net migration\n",
        "\n",
        "We won&rsquo;t have much to say about migration yet, but the number of\n",
        "women of child-bearing age and rates of mortality can both be\n",
        "helpfully visualized by constructing *population pyramids* that\n",
        "report information on the age and sex composition of a population at\n",
        "a point in time.\n",
        "\n"
      ]
    },
    {
      "cell_type": "markdown",
      "metadata": {},
      "source": [
        "#### Building a population pyramid\n",
        "\n"
      ]
    },
    {
      "cell_type": "markdown",
      "metadata": {},
      "source": [
        "The next code builds a list of the age-sex counts we want\n",
        " (e.g., how many males are there between the ages of 10-14?).\n",
        "\n"
      ]
    },
    {
      "cell_type": "code",
      "execution_count": 14,
      "metadata": {},
      "outputs": [
        {
          "name": "stdout",
          "output_type": "stream",
          "text": [
            "['0004', '0509', '1014', '1519', '2024', '2529', '3034', '3539', '4044', '4549', '5054', '5559', '6064', '6569', '7074', '7579', '80UP']\n"
          ]
        }
      ],
      "source": [
        "# Data from WDI on age-sex comes in the forms of variables\n",
        "# which take the form \"SP.POP.LLHH.MA\" for males\n",
        "# and \"SP.POP.LLHH.FE\" for females, where LL is the *low* end of\n",
        "# age range, like \"05\" for 5-yo, and HH is the *high* end.\n",
        "\n",
        "# We construct a list of age-ranges.\n",
        "\n",
        "# Start with an empty list of age-rages\n",
        "age_ranges = []\n",
        "\n",
        "# Ranges top out at 80, and go in five year increments\n",
        "for i in range(0,80,5):\n",
        "    age_ranges.append(f\"{i:02d}\"+f\"{i+4:02d}\")\n",
        "\n",
        "age_ranges.append(\"80UP\")\n",
        "\n",
        "print(age_ranges)"
      ]
    },
    {
      "cell_type": "markdown",
      "metadata": {},
      "source": [
        "Next we construct a dictionary of indicators, with labels, that we\n",
        " want to grab.\n",
        "\n"
      ]
    },
    {
      "cell_type": "code",
      "execution_count": 15,
      "metadata": {},
      "outputs": [
        {
          "name": "stdout",
          "output_type": "stream",
          "text": [
            "{'SP.POP.0004.MA': 'Males 0004', 'SP.POP.0509.MA': 'Males 0509', 'SP.POP.1014.MA': 'Males 1014', 'SP.POP.1519.MA': 'Males 1519', 'SP.POP.2024.MA': 'Males 2024', 'SP.POP.2529.MA': 'Males 2529', 'SP.POP.3034.MA': 'Males 3034', 'SP.POP.3539.MA': 'Males 3539', 'SP.POP.4044.MA': 'Males 4044', 'SP.POP.4549.MA': 'Males 4549', 'SP.POP.5054.MA': 'Males 5054', 'SP.POP.5559.MA': 'Males 5559', 'SP.POP.6064.MA': 'Males 6064', 'SP.POP.6569.MA': 'Males 6569', 'SP.POP.7074.MA': 'Males 7074', 'SP.POP.7579.MA': 'Males 7579', 'SP.POP.80UP.MA': 'Males 80UP', 'SP.POP.0004.FE': 'Females 0004', 'SP.POP.0509.FE': 'Females 0509', 'SP.POP.1014.FE': 'Females 1014', 'SP.POP.1519.FE': 'Females 1519', 'SP.POP.2024.FE': 'Females 2024', 'SP.POP.2529.FE': 'Females 2529', 'SP.POP.3034.FE': 'Females 3034', 'SP.POP.3539.FE': 'Females 3539', 'SP.POP.4044.FE': 'Females 4044', 'SP.POP.4549.FE': 'Females 4549', 'SP.POP.5054.FE': 'Females 5054', 'SP.POP.5559.FE': 'Females 5559', 'SP.POP.6064.FE': 'Females 6064', 'SP.POP.6569.FE': 'Females 6569', 'SP.POP.7074.FE': 'Females 7074', 'SP.POP.7579.FE': 'Females 7579', 'SP.POP.80UP.FE': 'Females 80UP'}\n"
          ]
        }
      ],
      "source": [
        "male_variables = {\"SP.POP.\"+age_range+\".MA\":\"Males \"+age_range for age_range in age_ranges}\n",
        "female_variables = {\"SP.POP.\"+age_range+\".FE\":\"Females \"+age_range for age_range in age_ranges}\n",
        "\n",
        "variables = male_variables\n",
        "variables.update(female_variables)\n",
        "\n",
        "print(variables)"
      ]
    },
    {
      "cell_type": "markdown",
      "metadata": {},
      "source": [
        "Get the data!\n",
        "\n"
      ]
    },
    {
      "cell_type": "code",
      "execution_count": 16,
      "metadata": {},
      "outputs": [
        {
          "name": "stdout",
          "output_type": "stream",
          "text": [
            "Males 0004      348811843.0\n",
            "Males 0509      350830365.0\n",
            "Males 1014      336664280.0\n",
            "Males 1519      319156718.0\n",
            "Males 2024      307679629.0\n",
            "Males 2529      306211726.0\n",
            "Males 3034      306266705.0\n",
            "Males 3539      278640311.0\n",
            "Males 4044      248236670.0\n",
            "Males 4549      239355352.0\n",
            "Males 5054      220278991.0\n",
            "Males 5559      189860508.0\n",
            "Males 6064      154440614.0\n",
            "Males 6569      126205526.0\n",
            "Males 7074       87911407.0\n",
            "Males 7579       55248473.0\n",
            "Males 80UP       57359239.0\n",
            "Females 0004    329041541.0\n",
            "Females 0509    329195144.0\n",
            "Females 1014    315193137.0\n",
            "Females 1519    299084307.0\n",
            "Females 2024    289085215.0\n",
            "Females 2529    290518089.0\n",
            "Females 3034    293649516.0\n",
            "Females 3539    269532767.0\n",
            "Females 4044    242130383.0\n",
            "Females 4549    236434353.0\n",
            "Females 5054    221422176.0\n",
            "Females 5559    195883003.0\n",
            "Females 6064    165529683.0\n",
            "Females 6569    141960156.0\n",
            "Females 7074    103925353.0\n",
            "Females 7579     70455922.0\n",
            "Females 80UP     94006592.0\n",
            "dtype: float64\n"
          ]
        }
      ],
      "source": [
        "# WLD is the World; substitute your own code or list of codes.\n",
        "# Remember you can search for the appropriate codes using\n",
        "# wbdata.search_countries(\"\")\n",
        "\n",
        "df = wbdata.get_dataframe(variables,country=\"WLD\")\n",
        "print(df.query(\"date=='2020'\").sum(axis=0))"
      ]
    },
    {
      "cell_type": "markdown",
      "metadata": {},
      "source": [
        "#### Plotting Population Pyramid\n",
        "\n"
      ]
    },
    {
      "cell_type": "markdown",
      "metadata": {},
      "source": [
        "Now we put together some code for the population pyramid.  The structure\n",
        " of the DataFrames is more complicated than it was above, so using the simple `cufflinks` library won&rsquo;t work here (or at least I don&rsquo;t see quite how to do it).   We use a more general `plot.ly` library instead.\n",
        "\n"
      ]
    },
    {
      "cell_type": "code",
      "execution_count": 17,
      "metadata": {},
      "outputs": [
        {
          "data": {
            "text/html": [
              "        <script type=\"text/javascript\">\n",
              "        window.PlotlyConfig = {MathJaxConfig: 'local'};\n",
              "        if (window.MathJax && window.MathJax.Hub && window.MathJax.Hub.Config) {window.MathJax.Hub.Config({SVG: {font: \"STIX-Web\"}});}\n",
              "        if (typeof require !== 'undefined') {\n",
              "        require.undef(\"plotly\");\n",
              "        requirejs.config({\n",
              "            paths: {\n",
              "                'plotly': ['https://cdn.plot.ly/plotly-2.27.0.min']\n",
              "            }\n",
              "        });\n",
              "        require(['plotly'], function(Plotly) {\n",
              "            window._Plotly = Plotly;\n",
              "        });\n",
              "        }\n",
              "        </script>\n",
              "        "
            ]
          },
          "metadata": {},
          "output_type": "display_data"
        },
        {
          "data": {
            "application/vnd.plotly.v1+json": {
              "config": {
                "linkText": "Export to plot.ly",
                "plotlyServerURL": "https://plot.ly",
                "showLink": false
              },
              "data": [
                {
                  "hoverinfo": "skip",
                  "marker": {
                    "color": "purple"
                  },
                  "name": "Men",
                  "orientation": "h",
                  "type": "bar",
                  "x": [
                    348811843,
                    350830365,
                    336664280,
                    319156718,
                    307679629,
                    306211726,
                    306266705,
                    278640311,
                    248236670,
                    239355352,
                    220278991,
                    189860508,
                    154440614,
                    126205526,
                    87911407,
                    55248473,
                    57359239
                  ],
                  "y": [
                    1,
                    6,
                    11,
                    16,
                    21,
                    26,
                    31,
                    36,
                    41,
                    46,
                    51,
                    56,
                    61,
                    66,
                    71,
                    76,
                    81
                  ]
                },
                {
                  "hoverinfo": "skip",
                  "marker": {
                    "color": "pink"
                  },
                  "name": "Women",
                  "orientation": "h",
                  "type": "bar",
                  "x": [
                    -329041541,
                    -329195144,
                    -315193137,
                    -299084307,
                    -289085215,
                    -290518089,
                    -293649516,
                    -269532767,
                    -242130383,
                    -236434353,
                    -221422176,
                    -195883003,
                    -165529683,
                    -141960156,
                    -103925353,
                    -70455922,
                    -94006592
                  ],
                  "y": [
                    1,
                    6,
                    11,
                    16,
                    21,
                    26,
                    31,
                    36,
                    41,
                    46,
                    51,
                    56,
                    61,
                    66,
                    71,
                    76,
                    81
                  ]
                }
              ],
              "layout": {
                "barmode": "overlay",
                "template": {
                  "data": {
                    "bar": [
                      {
                        "error_x": {
                          "color": "#2a3f5f"
                        },
                        "error_y": {
                          "color": "#2a3f5f"
                        },
                        "marker": {
                          "line": {
                            "color": "#E5ECF6",
                            "width": 0.5
                          },
                          "pattern": {
                            "fillmode": "overlay",
                            "size": 10,
                            "solidity": 0.2
                          }
                        },
                        "type": "bar"
                      }
                    ],
                    "barpolar": [
                      {
                        "marker": {
                          "line": {
                            "color": "#E5ECF6",
                            "width": 0.5
                          },
                          "pattern": {
                            "fillmode": "overlay",
                            "size": 10,
                            "solidity": 0.2
                          }
                        },
                        "type": "barpolar"
                      }
                    ],
                    "carpet": [
                      {
                        "aaxis": {
                          "endlinecolor": "#2a3f5f",
                          "gridcolor": "white",
                          "linecolor": "white",
                          "minorgridcolor": "white",
                          "startlinecolor": "#2a3f5f"
                        },
                        "baxis": {
                          "endlinecolor": "#2a3f5f",
                          "gridcolor": "white",
                          "linecolor": "white",
                          "minorgridcolor": "white",
                          "startlinecolor": "#2a3f5f"
                        },
                        "type": "carpet"
                      }
                    ],
                    "choropleth": [
                      {
                        "colorbar": {
                          "outlinewidth": 0,
                          "ticks": ""
                        },
                        "type": "choropleth"
                      }
                    ],
                    "contour": [
                      {
                        "colorbar": {
                          "outlinewidth": 0,
                          "ticks": ""
                        },
                        "colorscale": [
                          [
                            0,
                            "#0d0887"
                          ],
                          [
                            0.1111111111111111,
                            "#46039f"
                          ],
                          [
                            0.2222222222222222,
                            "#7201a8"
                          ],
                          [
                            0.3333333333333333,
                            "#9c179e"
                          ],
                          [
                            0.4444444444444444,
                            "#bd3786"
                          ],
                          [
                            0.5555555555555556,
                            "#d8576b"
                          ],
                          [
                            0.6666666666666666,
                            "#ed7953"
                          ],
                          [
                            0.7777777777777778,
                            "#fb9f3a"
                          ],
                          [
                            0.8888888888888888,
                            "#fdca26"
                          ],
                          [
                            1,
                            "#f0f921"
                          ]
                        ],
                        "type": "contour"
                      }
                    ],
                    "contourcarpet": [
                      {
                        "colorbar": {
                          "outlinewidth": 0,
                          "ticks": ""
                        },
                        "type": "contourcarpet"
                      }
                    ],
                    "heatmap": [
                      {
                        "colorbar": {
                          "outlinewidth": 0,
                          "ticks": ""
                        },
                        "colorscale": [
                          [
                            0,
                            "#0d0887"
                          ],
                          [
                            0.1111111111111111,
                            "#46039f"
                          ],
                          [
                            0.2222222222222222,
                            "#7201a8"
                          ],
                          [
                            0.3333333333333333,
                            "#9c179e"
                          ],
                          [
                            0.4444444444444444,
                            "#bd3786"
                          ],
                          [
                            0.5555555555555556,
                            "#d8576b"
                          ],
                          [
                            0.6666666666666666,
                            "#ed7953"
                          ],
                          [
                            0.7777777777777778,
                            "#fb9f3a"
                          ],
                          [
                            0.8888888888888888,
                            "#fdca26"
                          ],
                          [
                            1,
                            "#f0f921"
                          ]
                        ],
                        "type": "heatmap"
                      }
                    ],
                    "heatmapgl": [
                      {
                        "colorbar": {
                          "outlinewidth": 0,
                          "ticks": ""
                        },
                        "colorscale": [
                          [
                            0,
                            "#0d0887"
                          ],
                          [
                            0.1111111111111111,
                            "#46039f"
                          ],
                          [
                            0.2222222222222222,
                            "#7201a8"
                          ],
                          [
                            0.3333333333333333,
                            "#9c179e"
                          ],
                          [
                            0.4444444444444444,
                            "#bd3786"
                          ],
                          [
                            0.5555555555555556,
                            "#d8576b"
                          ],
                          [
                            0.6666666666666666,
                            "#ed7953"
                          ],
                          [
                            0.7777777777777778,
                            "#fb9f3a"
                          ],
                          [
                            0.8888888888888888,
                            "#fdca26"
                          ],
                          [
                            1,
                            "#f0f921"
                          ]
                        ],
                        "type": "heatmapgl"
                      }
                    ],
                    "histogram": [
                      {
                        "marker": {
                          "pattern": {
                            "fillmode": "overlay",
                            "size": 10,
                            "solidity": 0.2
                          }
                        },
                        "type": "histogram"
                      }
                    ],
                    "histogram2d": [
                      {
                        "colorbar": {
                          "outlinewidth": 0,
                          "ticks": ""
                        },
                        "colorscale": [
                          [
                            0,
                            "#0d0887"
                          ],
                          [
                            0.1111111111111111,
                            "#46039f"
                          ],
                          [
                            0.2222222222222222,
                            "#7201a8"
                          ],
                          [
                            0.3333333333333333,
                            "#9c179e"
                          ],
                          [
                            0.4444444444444444,
                            "#bd3786"
                          ],
                          [
                            0.5555555555555556,
                            "#d8576b"
                          ],
                          [
                            0.6666666666666666,
                            "#ed7953"
                          ],
                          [
                            0.7777777777777778,
                            "#fb9f3a"
                          ],
                          [
                            0.8888888888888888,
                            "#fdca26"
                          ],
                          [
                            1,
                            "#f0f921"
                          ]
                        ],
                        "type": "histogram2d"
                      }
                    ],
                    "histogram2dcontour": [
                      {
                        "colorbar": {
                          "outlinewidth": 0,
                          "ticks": ""
                        },
                        "colorscale": [
                          [
                            0,
                            "#0d0887"
                          ],
                          [
                            0.1111111111111111,
                            "#46039f"
                          ],
                          [
                            0.2222222222222222,
                            "#7201a8"
                          ],
                          [
                            0.3333333333333333,
                            "#9c179e"
                          ],
                          [
                            0.4444444444444444,
                            "#bd3786"
                          ],
                          [
                            0.5555555555555556,
                            "#d8576b"
                          ],
                          [
                            0.6666666666666666,
                            "#ed7953"
                          ],
                          [
                            0.7777777777777778,
                            "#fb9f3a"
                          ],
                          [
                            0.8888888888888888,
                            "#fdca26"
                          ],
                          [
                            1,
                            "#f0f921"
                          ]
                        ],
                        "type": "histogram2dcontour"
                      }
                    ],
                    "mesh3d": [
                      {
                        "colorbar": {
                          "outlinewidth": 0,
                          "ticks": ""
                        },
                        "type": "mesh3d"
                      }
                    ],
                    "parcoords": [
                      {
                        "line": {
                          "colorbar": {
                            "outlinewidth": 0,
                            "ticks": ""
                          }
                        },
                        "type": "parcoords"
                      }
                    ],
                    "pie": [
                      {
                        "automargin": true,
                        "type": "pie"
                      }
                    ],
                    "scatter": [
                      {
                        "fillpattern": {
                          "fillmode": "overlay",
                          "size": 10,
                          "solidity": 0.2
                        },
                        "type": "scatter"
                      }
                    ],
                    "scatter3d": [
                      {
                        "line": {
                          "colorbar": {
                            "outlinewidth": 0,
                            "ticks": ""
                          }
                        },
                        "marker": {
                          "colorbar": {
                            "outlinewidth": 0,
                            "ticks": ""
                          }
                        },
                        "type": "scatter3d"
                      }
                    ],
                    "scattercarpet": [
                      {
                        "marker": {
                          "colorbar": {
                            "outlinewidth": 0,
                            "ticks": ""
                          }
                        },
                        "type": "scattercarpet"
                      }
                    ],
                    "scattergeo": [
                      {
                        "marker": {
                          "colorbar": {
                            "outlinewidth": 0,
                            "ticks": ""
                          }
                        },
                        "type": "scattergeo"
                      }
                    ],
                    "scattergl": [
                      {
                        "marker": {
                          "colorbar": {
                            "outlinewidth": 0,
                            "ticks": ""
                          }
                        },
                        "type": "scattergl"
                      }
                    ],
                    "scattermapbox": [
                      {
                        "marker": {
                          "colorbar": {
                            "outlinewidth": 0,
                            "ticks": ""
                          }
                        },
                        "type": "scattermapbox"
                      }
                    ],
                    "scatterpolar": [
                      {
                        "marker": {
                          "colorbar": {
                            "outlinewidth": 0,
                            "ticks": ""
                          }
                        },
                        "type": "scatterpolar"
                      }
                    ],
                    "scatterpolargl": [
                      {
                        "marker": {
                          "colorbar": {
                            "outlinewidth": 0,
                            "ticks": ""
                          }
                        },
                        "type": "scatterpolargl"
                      }
                    ],
                    "scatterternary": [
                      {
                        "marker": {
                          "colorbar": {
                            "outlinewidth": 0,
                            "ticks": ""
                          }
                        },
                        "type": "scatterternary"
                      }
                    ],
                    "surface": [
                      {
                        "colorbar": {
                          "outlinewidth": 0,
                          "ticks": ""
                        },
                        "colorscale": [
                          [
                            0,
                            "#0d0887"
                          ],
                          [
                            0.1111111111111111,
                            "#46039f"
                          ],
                          [
                            0.2222222222222222,
                            "#7201a8"
                          ],
                          [
                            0.3333333333333333,
                            "#9c179e"
                          ],
                          [
                            0.4444444444444444,
                            "#bd3786"
                          ],
                          [
                            0.5555555555555556,
                            "#d8576b"
                          ],
                          [
                            0.6666666666666666,
                            "#ed7953"
                          ],
                          [
                            0.7777777777777778,
                            "#fb9f3a"
                          ],
                          [
                            0.8888888888888888,
                            "#fdca26"
                          ],
                          [
                            1,
                            "#f0f921"
                          ]
                        ],
                        "type": "surface"
                      }
                    ],
                    "table": [
                      {
                        "cells": {
                          "fill": {
                            "color": "#EBF0F8"
                          },
                          "line": {
                            "color": "white"
                          }
                        },
                        "header": {
                          "fill": {
                            "color": "#C8D4E3"
                          },
                          "line": {
                            "color": "white"
                          }
                        },
                        "type": "table"
                      }
                    ]
                  },
                  "layout": {
                    "annotationdefaults": {
                      "arrowcolor": "#2a3f5f",
                      "arrowhead": 0,
                      "arrowwidth": 1
                    },
                    "autotypenumbers": "strict",
                    "coloraxis": {
                      "colorbar": {
                        "outlinewidth": 0,
                        "ticks": ""
                      }
                    },
                    "colorscale": {
                      "diverging": [
                        [
                          0,
                          "#8e0152"
                        ],
                        [
                          0.1,
                          "#c51b7d"
                        ],
                        [
                          0.2,
                          "#de77ae"
                        ],
                        [
                          0.3,
                          "#f1b6da"
                        ],
                        [
                          0.4,
                          "#fde0ef"
                        ],
                        [
                          0.5,
                          "#f7f7f7"
                        ],
                        [
                          0.6,
                          "#e6f5d0"
                        ],
                        [
                          0.7,
                          "#b8e186"
                        ],
                        [
                          0.8,
                          "#7fbc41"
                        ],
                        [
                          0.9,
                          "#4d9221"
                        ],
                        [
                          1,
                          "#276419"
                        ]
                      ],
                      "sequential": [
                        [
                          0,
                          "#0d0887"
                        ],
                        [
                          0.1111111111111111,
                          "#46039f"
                        ],
                        [
                          0.2222222222222222,
                          "#7201a8"
                        ],
                        [
                          0.3333333333333333,
                          "#9c179e"
                        ],
                        [
                          0.4444444444444444,
                          "#bd3786"
                        ],
                        [
                          0.5555555555555556,
                          "#d8576b"
                        ],
                        [
                          0.6666666666666666,
                          "#ed7953"
                        ],
                        [
                          0.7777777777777778,
                          "#fb9f3a"
                        ],
                        [
                          0.8888888888888888,
                          "#fdca26"
                        ],
                        [
                          1,
                          "#f0f921"
                        ]
                      ],
                      "sequentialminus": [
                        [
                          0,
                          "#0d0887"
                        ],
                        [
                          0.1111111111111111,
                          "#46039f"
                        ],
                        [
                          0.2222222222222222,
                          "#7201a8"
                        ],
                        [
                          0.3333333333333333,
                          "#9c179e"
                        ],
                        [
                          0.4444444444444444,
                          "#bd3786"
                        ],
                        [
                          0.5555555555555556,
                          "#d8576b"
                        ],
                        [
                          0.6666666666666666,
                          "#ed7953"
                        ],
                        [
                          0.7777777777777778,
                          "#fb9f3a"
                        ],
                        [
                          0.8888888888888888,
                          "#fdca26"
                        ],
                        [
                          1,
                          "#f0f921"
                        ]
                      ]
                    },
                    "colorway": [
                      "#636efa",
                      "#EF553B",
                      "#00cc96",
                      "#ab63fa",
                      "#FFA15A",
                      "#19d3f3",
                      "#FF6692",
                      "#B6E880",
                      "#FF97FF",
                      "#FECB52"
                    ],
                    "font": {
                      "color": "#2a3f5f"
                    },
                    "geo": {
                      "bgcolor": "white",
                      "lakecolor": "white",
                      "landcolor": "#E5ECF6",
                      "showlakes": true,
                      "showland": true,
                      "subunitcolor": "white"
                    },
                    "hoverlabel": {
                      "align": "left"
                    },
                    "hovermode": "closest",
                    "mapbox": {
                      "style": "light"
                    },
                    "paper_bgcolor": "white",
                    "plot_bgcolor": "#E5ECF6",
                    "polar": {
                      "angularaxis": {
                        "gridcolor": "white",
                        "linecolor": "white",
                        "ticks": ""
                      },
                      "bgcolor": "#E5ECF6",
                      "radialaxis": {
                        "gridcolor": "white",
                        "linecolor": "white",
                        "ticks": ""
                      }
                    },
                    "scene": {
                      "xaxis": {
                        "backgroundcolor": "#E5ECF6",
                        "gridcolor": "white",
                        "gridwidth": 2,
                        "linecolor": "white",
                        "showbackground": true,
                        "ticks": "",
                        "zerolinecolor": "white"
                      },
                      "yaxis": {
                        "backgroundcolor": "#E5ECF6",
                        "gridcolor": "white",
                        "gridwidth": 2,
                        "linecolor": "white",
                        "showbackground": true,
                        "ticks": "",
                        "zerolinecolor": "white"
                      },
                      "zaxis": {
                        "backgroundcolor": "#E5ECF6",
                        "gridcolor": "white",
                        "gridwidth": 2,
                        "linecolor": "white",
                        "showbackground": true,
                        "ticks": "",
                        "zerolinecolor": "white"
                      }
                    },
                    "shapedefaults": {
                      "line": {
                        "color": "#2a3f5f"
                      }
                    },
                    "ternary": {
                      "aaxis": {
                        "gridcolor": "white",
                        "linecolor": "white",
                        "ticks": ""
                      },
                      "baxis": {
                        "gridcolor": "white",
                        "linecolor": "white",
                        "ticks": ""
                      },
                      "bgcolor": "#E5ECF6",
                      "caxis": {
                        "gridcolor": "white",
                        "linecolor": "white",
                        "ticks": ""
                      }
                    },
                    "title": {
                      "x": 0.05
                    },
                    "xaxis": {
                      "automargin": true,
                      "gridcolor": "white",
                      "linecolor": "white",
                      "ticks": "",
                      "title": {
                        "standoff": 15
                      },
                      "zerolinecolor": "white",
                      "zerolinewidth": 2
                    },
                    "yaxis": {
                      "automargin": true,
                      "gridcolor": "white",
                      "linecolor": "white",
                      "ticks": "",
                      "title": {
                        "standoff": 15
                      },
                      "zerolinecolor": "white",
                      "zerolinewidth": 2
                    }
                  }
                },
                "xaxis": {
                  "title": {
                    "text": "Number"
                  }
                },
                "yaxis": {
                  "range": [
                    0,
                    90
                  ],
                  "title": {
                    "text": "Age"
                  }
                }
              }
            },
            "text/html": [
              "<div>                            <div id=\"3586f4a1-6a82-414f-8469-de4dead2b057\" class=\"plotly-graph-div\" style=\"height:525px; width:100%;\"></div>            <script type=\"text/javascript\">                require([\"plotly\"], function(Plotly) {                    window.PLOTLYENV=window.PLOTLYENV || {};                                    if (document.getElementById(\"3586f4a1-6a82-414f-8469-de4dead2b057\")) {                    Plotly.newPlot(                        \"3586f4a1-6a82-414f-8469-de4dead2b057\",                        [{\"hoverinfo\":\"skip\",\"marker\":{\"color\":\"purple\"},\"name\":\"Men\",\"orientation\":\"h\",\"x\":[348811843.0,350830365.0,336664280.0,319156718.0,307679629.0,306211726.0,306266705.0,278640311.0,248236670.0,239355352.0,220278991.0,189860508.0,154440614.0,126205526.0,87911407.0,55248473.0,57359239.0],\"y\":[1,6,11,16,21,26,31,36,41,46,51,56,61,66,71,76,81],\"type\":\"bar\"},{\"hoverinfo\":\"skip\",\"marker\":{\"color\":\"pink\"},\"name\":\"Women\",\"orientation\":\"h\",\"x\":[-329041541.0,-329195144.0,-315193137.0,-299084307.0,-289085215.0,-290518089.0,-293649516.0,-269532767.0,-242130383.0,-236434353.0,-221422176.0,-195883003.0,-165529683.0,-141960156.0,-103925353.0,-70455922.0,-94006592.0],\"y\":[1,6,11,16,21,26,31,36,41,46,51,56,61,66,71,76,81],\"type\":\"bar\"}],                        {\"barmode\":\"overlay\",\"template\":{\"data\":{\"barpolar\":[{\"marker\":{\"line\":{\"color\":\"#E5ECF6\",\"width\":0.5},\"pattern\":{\"fillmode\":\"overlay\",\"size\":10,\"solidity\":0.2}},\"type\":\"barpolar\"}],\"bar\":[{\"error_x\":{\"color\":\"#2a3f5f\"},\"error_y\":{\"color\":\"#2a3f5f\"},\"marker\":{\"line\":{\"color\":\"#E5ECF6\",\"width\":0.5},\"pattern\":{\"fillmode\":\"overlay\",\"size\":10,\"solidity\":0.2}},\"type\":\"bar\"}],\"carpet\":[{\"aaxis\":{\"endlinecolor\":\"#2a3f5f\",\"gridcolor\":\"white\",\"linecolor\":\"white\",\"minorgridcolor\":\"white\",\"startlinecolor\":\"#2a3f5f\"},\"baxis\":{\"endlinecolor\":\"#2a3f5f\",\"gridcolor\":\"white\",\"linecolor\":\"white\",\"minorgridcolor\":\"white\",\"startlinecolor\":\"#2a3f5f\"},\"type\":\"carpet\"}],\"choropleth\":[{\"colorbar\":{\"outlinewidth\":0,\"ticks\":\"\"},\"type\":\"choropleth\"}],\"contourcarpet\":[{\"colorbar\":{\"outlinewidth\":0,\"ticks\":\"\"},\"type\":\"contourcarpet\"}],\"contour\":[{\"colorbar\":{\"outlinewidth\":0,\"ticks\":\"\"},\"colorscale\":[[0.0,\"#0d0887\"],[0.1111111111111111,\"#46039f\"],[0.2222222222222222,\"#7201a8\"],[0.3333333333333333,\"#9c179e\"],[0.4444444444444444,\"#bd3786\"],[0.5555555555555556,\"#d8576b\"],[0.6666666666666666,\"#ed7953\"],[0.7777777777777778,\"#fb9f3a\"],[0.8888888888888888,\"#fdca26\"],[1.0,\"#f0f921\"]],\"type\":\"contour\"}],\"heatmapgl\":[{\"colorbar\":{\"outlinewidth\":0,\"ticks\":\"\"},\"colorscale\":[[0.0,\"#0d0887\"],[0.1111111111111111,\"#46039f\"],[0.2222222222222222,\"#7201a8\"],[0.3333333333333333,\"#9c179e\"],[0.4444444444444444,\"#bd3786\"],[0.5555555555555556,\"#d8576b\"],[0.6666666666666666,\"#ed7953\"],[0.7777777777777778,\"#fb9f3a\"],[0.8888888888888888,\"#fdca26\"],[1.0,\"#f0f921\"]],\"type\":\"heatmapgl\"}],\"heatmap\":[{\"colorbar\":{\"outlinewidth\":0,\"ticks\":\"\"},\"colorscale\":[[0.0,\"#0d0887\"],[0.1111111111111111,\"#46039f\"],[0.2222222222222222,\"#7201a8\"],[0.3333333333333333,\"#9c179e\"],[0.4444444444444444,\"#bd3786\"],[0.5555555555555556,\"#d8576b\"],[0.6666666666666666,\"#ed7953\"],[0.7777777777777778,\"#fb9f3a\"],[0.8888888888888888,\"#fdca26\"],[1.0,\"#f0f921\"]],\"type\":\"heatmap\"}],\"histogram2dcontour\":[{\"colorbar\":{\"outlinewidth\":0,\"ticks\":\"\"},\"colorscale\":[[0.0,\"#0d0887\"],[0.1111111111111111,\"#46039f\"],[0.2222222222222222,\"#7201a8\"],[0.3333333333333333,\"#9c179e\"],[0.4444444444444444,\"#bd3786\"],[0.5555555555555556,\"#d8576b\"],[0.6666666666666666,\"#ed7953\"],[0.7777777777777778,\"#fb9f3a\"],[0.8888888888888888,\"#fdca26\"],[1.0,\"#f0f921\"]],\"type\":\"histogram2dcontour\"}],\"histogram2d\":[{\"colorbar\":{\"outlinewidth\":0,\"ticks\":\"\"},\"colorscale\":[[0.0,\"#0d0887\"],[0.1111111111111111,\"#46039f\"],[0.2222222222222222,\"#7201a8\"],[0.3333333333333333,\"#9c179e\"],[0.4444444444444444,\"#bd3786\"],[0.5555555555555556,\"#d8576b\"],[0.6666666666666666,\"#ed7953\"],[0.7777777777777778,\"#fb9f3a\"],[0.8888888888888888,\"#fdca26\"],[1.0,\"#f0f921\"]],\"type\":\"histogram2d\"}],\"histogram\":[{\"marker\":{\"pattern\":{\"fillmode\":\"overlay\",\"size\":10,\"solidity\":0.2}},\"type\":\"histogram\"}],\"mesh3d\":[{\"colorbar\":{\"outlinewidth\":0,\"ticks\":\"\"},\"type\":\"mesh3d\"}],\"parcoords\":[{\"line\":{\"colorbar\":{\"outlinewidth\":0,\"ticks\":\"\"}},\"type\":\"parcoords\"}],\"pie\":[{\"automargin\":true,\"type\":\"pie\"}],\"scatter3d\":[{\"line\":{\"colorbar\":{\"outlinewidth\":0,\"ticks\":\"\"}},\"marker\":{\"colorbar\":{\"outlinewidth\":0,\"ticks\":\"\"}},\"type\":\"scatter3d\"}],\"scattercarpet\":[{\"marker\":{\"colorbar\":{\"outlinewidth\":0,\"ticks\":\"\"}},\"type\":\"scattercarpet\"}],\"scattergeo\":[{\"marker\":{\"colorbar\":{\"outlinewidth\":0,\"ticks\":\"\"}},\"type\":\"scattergeo\"}],\"scattergl\":[{\"marker\":{\"colorbar\":{\"outlinewidth\":0,\"ticks\":\"\"}},\"type\":\"scattergl\"}],\"scattermapbox\":[{\"marker\":{\"colorbar\":{\"outlinewidth\":0,\"ticks\":\"\"}},\"type\":\"scattermapbox\"}],\"scatterpolargl\":[{\"marker\":{\"colorbar\":{\"outlinewidth\":0,\"ticks\":\"\"}},\"type\":\"scatterpolargl\"}],\"scatterpolar\":[{\"marker\":{\"colorbar\":{\"outlinewidth\":0,\"ticks\":\"\"}},\"type\":\"scatterpolar\"}],\"scatter\":[{\"fillpattern\":{\"fillmode\":\"overlay\",\"size\":10,\"solidity\":0.2},\"type\":\"scatter\"}],\"scatterternary\":[{\"marker\":{\"colorbar\":{\"outlinewidth\":0,\"ticks\":\"\"}},\"type\":\"scatterternary\"}],\"surface\":[{\"colorbar\":{\"outlinewidth\":0,\"ticks\":\"\"},\"colorscale\":[[0.0,\"#0d0887\"],[0.1111111111111111,\"#46039f\"],[0.2222222222222222,\"#7201a8\"],[0.3333333333333333,\"#9c179e\"],[0.4444444444444444,\"#bd3786\"],[0.5555555555555556,\"#d8576b\"],[0.6666666666666666,\"#ed7953\"],[0.7777777777777778,\"#fb9f3a\"],[0.8888888888888888,\"#fdca26\"],[1.0,\"#f0f921\"]],\"type\":\"surface\"}],\"table\":[{\"cells\":{\"fill\":{\"color\":\"#EBF0F8\"},\"line\":{\"color\":\"white\"}},\"header\":{\"fill\":{\"color\":\"#C8D4E3\"},\"line\":{\"color\":\"white\"}},\"type\":\"table\"}]},\"layout\":{\"annotationdefaults\":{\"arrowcolor\":\"#2a3f5f\",\"arrowhead\":0,\"arrowwidth\":1},\"autotypenumbers\":\"strict\",\"coloraxis\":{\"colorbar\":{\"outlinewidth\":0,\"ticks\":\"\"}},\"colorscale\":{\"diverging\":[[0,\"#8e0152\"],[0.1,\"#c51b7d\"],[0.2,\"#de77ae\"],[0.3,\"#f1b6da\"],[0.4,\"#fde0ef\"],[0.5,\"#f7f7f7\"],[0.6,\"#e6f5d0\"],[0.7,\"#b8e186\"],[0.8,\"#7fbc41\"],[0.9,\"#4d9221\"],[1,\"#276419\"]],\"sequential\":[[0.0,\"#0d0887\"],[0.1111111111111111,\"#46039f\"],[0.2222222222222222,\"#7201a8\"],[0.3333333333333333,\"#9c179e\"],[0.4444444444444444,\"#bd3786\"],[0.5555555555555556,\"#d8576b\"],[0.6666666666666666,\"#ed7953\"],[0.7777777777777778,\"#fb9f3a\"],[0.8888888888888888,\"#fdca26\"],[1.0,\"#f0f921\"]],\"sequentialminus\":[[0.0,\"#0d0887\"],[0.1111111111111111,\"#46039f\"],[0.2222222222222222,\"#7201a8\"],[0.3333333333333333,\"#9c179e\"],[0.4444444444444444,\"#bd3786\"],[0.5555555555555556,\"#d8576b\"],[0.6666666666666666,\"#ed7953\"],[0.7777777777777778,\"#fb9f3a\"],[0.8888888888888888,\"#fdca26\"],[1.0,\"#f0f921\"]]},\"colorway\":[\"#636efa\",\"#EF553B\",\"#00cc96\",\"#ab63fa\",\"#FFA15A\",\"#19d3f3\",\"#FF6692\",\"#B6E880\",\"#FF97FF\",\"#FECB52\"],\"font\":{\"color\":\"#2a3f5f\"},\"geo\":{\"bgcolor\":\"white\",\"lakecolor\":\"white\",\"landcolor\":\"#E5ECF6\",\"showlakes\":true,\"showland\":true,\"subunitcolor\":\"white\"},\"hoverlabel\":{\"align\":\"left\"},\"hovermode\":\"closest\",\"mapbox\":{\"style\":\"light\"},\"paper_bgcolor\":\"white\",\"plot_bgcolor\":\"#E5ECF6\",\"polar\":{\"angularaxis\":{\"gridcolor\":\"white\",\"linecolor\":\"white\",\"ticks\":\"\"},\"bgcolor\":\"#E5ECF6\",\"radialaxis\":{\"gridcolor\":\"white\",\"linecolor\":\"white\",\"ticks\":\"\"}},\"scene\":{\"xaxis\":{\"backgroundcolor\":\"#E5ECF6\",\"gridcolor\":\"white\",\"gridwidth\":2,\"linecolor\":\"white\",\"showbackground\":true,\"ticks\":\"\",\"zerolinecolor\":\"white\"},\"yaxis\":{\"backgroundcolor\":\"#E5ECF6\",\"gridcolor\":\"white\",\"gridwidth\":2,\"linecolor\":\"white\",\"showbackground\":true,\"ticks\":\"\",\"zerolinecolor\":\"white\"},\"zaxis\":{\"backgroundcolor\":\"#E5ECF6\",\"gridcolor\":\"white\",\"gridwidth\":2,\"linecolor\":\"white\",\"showbackground\":true,\"ticks\":\"\",\"zerolinecolor\":\"white\"}},\"shapedefaults\":{\"line\":{\"color\":\"#2a3f5f\"}},\"ternary\":{\"aaxis\":{\"gridcolor\":\"white\",\"linecolor\":\"white\",\"ticks\":\"\"},\"baxis\":{\"gridcolor\":\"white\",\"linecolor\":\"white\",\"ticks\":\"\"},\"bgcolor\":\"#E5ECF6\",\"caxis\":{\"gridcolor\":\"white\",\"linecolor\":\"white\",\"ticks\":\"\"}},\"title\":{\"x\":0.05},\"xaxis\":{\"automargin\":true,\"gridcolor\":\"white\",\"linecolor\":\"white\",\"ticks\":\"\",\"title\":{\"standoff\":15},\"zerolinecolor\":\"white\",\"zerolinewidth\":2},\"yaxis\":{\"automargin\":true,\"gridcolor\":\"white\",\"linecolor\":\"white\",\"ticks\":\"\",\"title\":{\"standoff\":15},\"zerolinecolor\":\"white\",\"zerolinewidth\":2}}},\"xaxis\":{\"title\":{\"text\":\"Number\"}},\"yaxis\":{\"range\":[0,90],\"title\":{\"text\":\"Age\"}}},                        {\"responsive\": true}                    ).then(function(){\n",
              "                            \n",
              "var gd = document.getElementById('3586f4a1-6a82-414f-8469-de4dead2b057');\n",
              "var x = new MutationObserver(function (mutations, observer) {{\n",
              "        var display = window.getComputedStyle(gd).display;\n",
              "        if (!display || display === 'none') {{\n",
              "            console.log([gd, 'removed!']);\n",
              "            Plotly.purge(gd);\n",
              "            observer.disconnect();\n",
              "        }}\n",
              "}});\n",
              "\n",
              "// Listen for the removal of the full notebook cells\n",
              "var notebookContainer = gd.closest('#notebook-container');\n",
              "if (notebookContainer) {{\n",
              "    x.observe(notebookContainer, {childList: true});\n",
              "}}\n",
              "\n",
              "// Listen for the clearing of the current output cell\n",
              "var outputEl = gd.closest('.output');\n",
              "if (outputEl) {{\n",
              "    x.observe(outputEl, {childList: true});\n",
              "}}\n",
              "\n",
              "                        })                };                });            </script>        </div>"
            ]
          },
          "metadata": {},
          "output_type": "display_data"
        }
      ],
      "source": [
        "import plotly.offline as py\n",
        "import plotly.graph_objs as go\n",
        "import pandas as pd\n",
        "import numpy as np\n",
        "\n",
        "py.init_notebook_mode(connected=True)\n",
        "\n",
        "layout = go.Layout(barmode='overlay',\n",
        "                   yaxis=go.layout.YAxis(range=[0, 90], title='Age'),\n",
        "                   xaxis=go.layout.XAxis(title='Number'))\n",
        "\n",
        "year = 2020\n",
        "\n",
        "bins = [go.Bar(x = df.loc[str(year),:].filter(regex=\"Male\").values,\n",
        "               y = [int(s[:2])+1 for s in age_ranges],\n",
        "               orientation='h',\n",
        "               name='Men',\n",
        "               marker=dict(color='purple'),\n",
        "               hoverinfo='skip'\n",
        "               ),\n",
        "\n",
        "        go.Bar(x = -df.loc[str(year),:].filter(regex=\"Female\").values,\n",
        "               y=[int(s[:2])+1 for s in age_ranges],\n",
        "               orientation='h',\n",
        "               name='Women',\n",
        "               marker=dict(color='pink'),\n",
        "               hoverinfo='skip',\n",
        "               )\n",
        "        ]\n",
        "py.iplot(dict(data=bins, layout=layout))"
      ]
    },
    {
      "cell_type": "markdown",
      "metadata": {},
      "source": [
        "#### Changes in Pyramid Over Time\n",
        "\n"
      ]
    },
    {
      "cell_type": "markdown",
      "metadata": {},
      "source": [
        "Let&rsquo;s try a more ambitious visualization, showing how the shape of the population pyramid has changed decade by decade.\n",
        "\n"
      ]
    },
    {
      "cell_type": "code",
      "execution_count": 18,
      "metadata": {},
      "outputs": [
        {
          "data": {
            "application/vnd.plotly.v1+json": {
              "config": {
                "linkText": "Export to plot.ly",
                "plotlyServerURL": "https://plot.ly",
                "showLink": false
              },
              "data": [
                {
                  "hoverinfo": "skip",
                  "name": "Men 2020",
                  "orientation": "h",
                  "type": "bar",
                  "x": [
                    348811843,
                    350830365,
                    336664280,
                    319156718,
                    307679629,
                    306211726,
                    306266705,
                    278640311,
                    248236670,
                    239355352,
                    220278991,
                    189860508,
                    154440614,
                    126205526,
                    87911407,
                    55248473,
                    57359239
                  ],
                  "y": [
                    1,
                    6,
                    11,
                    16,
                    21,
                    26,
                    31,
                    36,
                    41,
                    46,
                    51,
                    56,
                    61,
                    66,
                    71,
                    76,
                    81
                  ]
                },
                {
                  "hoverinfo": "skip",
                  "name": "Men 2000",
                  "orientation": "h",
                  "type": "bar",
                  "x": [
                    319947454,
                    317085952,
                    319870427,
                    293445532,
                    263094592,
                    256458181,
                    241585037,
                    216703667,
                    187436101,
                    166501073,
                    131738554,
                    102296144,
                    90035292,
                    71463003,
                    53316050,
                    32840343,
                    25022711
                  ],
                  "y": [
                    1,
                    6,
                    11,
                    16,
                    21,
                    26,
                    31,
                    36,
                    41,
                    46,
                    51,
                    56,
                    61,
                    66,
                    71,
                    76,
                    81
                  ]
                },
                {
                  "hoverinfo": "skip",
                  "name": "Men 1980",
                  "orientation": "h",
                  "type": "bar",
                  "x": [
                    280764201,
                    269517615,
                    254320531,
                    229605798,
                    200112152,
                    180986318,
                    147779090,
                    120596456,
                    114432269,
                    101742304,
                    90547234,
                    72797464,
                    54728199,
                    45560238,
                    31983959,
                    18860825,
                    12616643
                  ],
                  "y": [
                    1,
                    6,
                    11,
                    16,
                    21,
                    26,
                    31,
                    36,
                    41,
                    46,
                    51,
                    56,
                    61,
                    66,
                    71,
                    76,
                    81
                  ]
                },
                {
                  "hoverinfo": "skip",
                  "name": "Women 2020",
                  "orientation": "h",
                  "type": "bar",
                  "x": [
                    -329041541,
                    -329195144,
                    -315193137,
                    -299084307,
                    -289085215,
                    -290518089,
                    -293649516,
                    -269532767,
                    -242130383,
                    -236434353,
                    -221422176,
                    -195883003,
                    -165529683,
                    -141960156,
                    -103925353,
                    -70455922,
                    -94006592
                  ],
                  "y": [
                    1,
                    6,
                    11,
                    16,
                    21,
                    26,
                    31,
                    36,
                    41,
                    46,
                    51,
                    56,
                    61,
                    66,
                    71,
                    76,
                    81
                  ]
                },
                {
                  "hoverinfo": "skip",
                  "name": "Women 2000",
                  "orientation": "h",
                  "type": "bar",
                  "x": [
                    -299176185,
                    -297917803,
                    -302850456,
                    -280015254,
                    -252662959,
                    -248149260,
                    -235168152,
                    -212545788,
                    -185210979,
                    -166483260,
                    -133190888,
                    -105259506,
                    -96389771,
                    -80630658,
                    -65710609,
                    -47015814,
                    -47104089
                  ],
                  "y": [
                    1,
                    6,
                    11,
                    16,
                    21,
                    26,
                    31,
                    36,
                    41,
                    46,
                    51,
                    56,
                    61,
                    66,
                    71,
                    76,
                    81
                  ]
                },
                {
                  "hoverinfo": "skip",
                  "name": "Women 1980",
                  "orientation": "h",
                  "type": "bar",
                  "x": [
                    -267412793,
                    -256998617,
                    -243007693,
                    -220578126,
                    -193604096,
                    -176040198,
                    -143616280,
                    -117063946,
                    -111724821,
                    -100334966,
                    -91860082,
                    -79514338,
                    -61979997,
                    -55944386,
                    -42979023,
                    -28700454,
                    -24037333
                  ],
                  "y": [
                    1,
                    6,
                    11,
                    16,
                    21,
                    26,
                    31,
                    36,
                    41,
                    46,
                    51,
                    56,
                    61,
                    66,
                    71,
                    76,
                    81
                  ]
                }
              ],
              "layout": {
                "barmode": "overlay",
                "template": {
                  "data": {
                    "bar": [
                      {
                        "error_x": {
                          "color": "#2a3f5f"
                        },
                        "error_y": {
                          "color": "#2a3f5f"
                        },
                        "marker": {
                          "line": {
                            "color": "#E5ECF6",
                            "width": 0.5
                          },
                          "pattern": {
                            "fillmode": "overlay",
                            "size": 10,
                            "solidity": 0.2
                          }
                        },
                        "type": "bar"
                      }
                    ],
                    "barpolar": [
                      {
                        "marker": {
                          "line": {
                            "color": "#E5ECF6",
                            "width": 0.5
                          },
                          "pattern": {
                            "fillmode": "overlay",
                            "size": 10,
                            "solidity": 0.2
                          }
                        },
                        "type": "barpolar"
                      }
                    ],
                    "carpet": [
                      {
                        "aaxis": {
                          "endlinecolor": "#2a3f5f",
                          "gridcolor": "white",
                          "linecolor": "white",
                          "minorgridcolor": "white",
                          "startlinecolor": "#2a3f5f"
                        },
                        "baxis": {
                          "endlinecolor": "#2a3f5f",
                          "gridcolor": "white",
                          "linecolor": "white",
                          "minorgridcolor": "white",
                          "startlinecolor": "#2a3f5f"
                        },
                        "type": "carpet"
                      }
                    ],
                    "choropleth": [
                      {
                        "colorbar": {
                          "outlinewidth": 0,
                          "ticks": ""
                        },
                        "type": "choropleth"
                      }
                    ],
                    "contour": [
                      {
                        "colorbar": {
                          "outlinewidth": 0,
                          "ticks": ""
                        },
                        "colorscale": [
                          [
                            0,
                            "#0d0887"
                          ],
                          [
                            0.1111111111111111,
                            "#46039f"
                          ],
                          [
                            0.2222222222222222,
                            "#7201a8"
                          ],
                          [
                            0.3333333333333333,
                            "#9c179e"
                          ],
                          [
                            0.4444444444444444,
                            "#bd3786"
                          ],
                          [
                            0.5555555555555556,
                            "#d8576b"
                          ],
                          [
                            0.6666666666666666,
                            "#ed7953"
                          ],
                          [
                            0.7777777777777778,
                            "#fb9f3a"
                          ],
                          [
                            0.8888888888888888,
                            "#fdca26"
                          ],
                          [
                            1,
                            "#f0f921"
                          ]
                        ],
                        "type": "contour"
                      }
                    ],
                    "contourcarpet": [
                      {
                        "colorbar": {
                          "outlinewidth": 0,
                          "ticks": ""
                        },
                        "type": "contourcarpet"
                      }
                    ],
                    "heatmap": [
                      {
                        "colorbar": {
                          "outlinewidth": 0,
                          "ticks": ""
                        },
                        "colorscale": [
                          [
                            0,
                            "#0d0887"
                          ],
                          [
                            0.1111111111111111,
                            "#46039f"
                          ],
                          [
                            0.2222222222222222,
                            "#7201a8"
                          ],
                          [
                            0.3333333333333333,
                            "#9c179e"
                          ],
                          [
                            0.4444444444444444,
                            "#bd3786"
                          ],
                          [
                            0.5555555555555556,
                            "#d8576b"
                          ],
                          [
                            0.6666666666666666,
                            "#ed7953"
                          ],
                          [
                            0.7777777777777778,
                            "#fb9f3a"
                          ],
                          [
                            0.8888888888888888,
                            "#fdca26"
                          ],
                          [
                            1,
                            "#f0f921"
                          ]
                        ],
                        "type": "heatmap"
                      }
                    ],
                    "heatmapgl": [
                      {
                        "colorbar": {
                          "outlinewidth": 0,
                          "ticks": ""
                        },
                        "colorscale": [
                          [
                            0,
                            "#0d0887"
                          ],
                          [
                            0.1111111111111111,
                            "#46039f"
                          ],
                          [
                            0.2222222222222222,
                            "#7201a8"
                          ],
                          [
                            0.3333333333333333,
                            "#9c179e"
                          ],
                          [
                            0.4444444444444444,
                            "#bd3786"
                          ],
                          [
                            0.5555555555555556,
                            "#d8576b"
                          ],
                          [
                            0.6666666666666666,
                            "#ed7953"
                          ],
                          [
                            0.7777777777777778,
                            "#fb9f3a"
                          ],
                          [
                            0.8888888888888888,
                            "#fdca26"
                          ],
                          [
                            1,
                            "#f0f921"
                          ]
                        ],
                        "type": "heatmapgl"
                      }
                    ],
                    "histogram": [
                      {
                        "marker": {
                          "pattern": {
                            "fillmode": "overlay",
                            "size": 10,
                            "solidity": 0.2
                          }
                        },
                        "type": "histogram"
                      }
                    ],
                    "histogram2d": [
                      {
                        "colorbar": {
                          "outlinewidth": 0,
                          "ticks": ""
                        },
                        "colorscale": [
                          [
                            0,
                            "#0d0887"
                          ],
                          [
                            0.1111111111111111,
                            "#46039f"
                          ],
                          [
                            0.2222222222222222,
                            "#7201a8"
                          ],
                          [
                            0.3333333333333333,
                            "#9c179e"
                          ],
                          [
                            0.4444444444444444,
                            "#bd3786"
                          ],
                          [
                            0.5555555555555556,
                            "#d8576b"
                          ],
                          [
                            0.6666666666666666,
                            "#ed7953"
                          ],
                          [
                            0.7777777777777778,
                            "#fb9f3a"
                          ],
                          [
                            0.8888888888888888,
                            "#fdca26"
                          ],
                          [
                            1,
                            "#f0f921"
                          ]
                        ],
                        "type": "histogram2d"
                      }
                    ],
                    "histogram2dcontour": [
                      {
                        "colorbar": {
                          "outlinewidth": 0,
                          "ticks": ""
                        },
                        "colorscale": [
                          [
                            0,
                            "#0d0887"
                          ],
                          [
                            0.1111111111111111,
                            "#46039f"
                          ],
                          [
                            0.2222222222222222,
                            "#7201a8"
                          ],
                          [
                            0.3333333333333333,
                            "#9c179e"
                          ],
                          [
                            0.4444444444444444,
                            "#bd3786"
                          ],
                          [
                            0.5555555555555556,
                            "#d8576b"
                          ],
                          [
                            0.6666666666666666,
                            "#ed7953"
                          ],
                          [
                            0.7777777777777778,
                            "#fb9f3a"
                          ],
                          [
                            0.8888888888888888,
                            "#fdca26"
                          ],
                          [
                            1,
                            "#f0f921"
                          ]
                        ],
                        "type": "histogram2dcontour"
                      }
                    ],
                    "mesh3d": [
                      {
                        "colorbar": {
                          "outlinewidth": 0,
                          "ticks": ""
                        },
                        "type": "mesh3d"
                      }
                    ],
                    "parcoords": [
                      {
                        "line": {
                          "colorbar": {
                            "outlinewidth": 0,
                            "ticks": ""
                          }
                        },
                        "type": "parcoords"
                      }
                    ],
                    "pie": [
                      {
                        "automargin": true,
                        "type": "pie"
                      }
                    ],
                    "scatter": [
                      {
                        "fillpattern": {
                          "fillmode": "overlay",
                          "size": 10,
                          "solidity": 0.2
                        },
                        "type": "scatter"
                      }
                    ],
                    "scatter3d": [
                      {
                        "line": {
                          "colorbar": {
                            "outlinewidth": 0,
                            "ticks": ""
                          }
                        },
                        "marker": {
                          "colorbar": {
                            "outlinewidth": 0,
                            "ticks": ""
                          }
                        },
                        "type": "scatter3d"
                      }
                    ],
                    "scattercarpet": [
                      {
                        "marker": {
                          "colorbar": {
                            "outlinewidth": 0,
                            "ticks": ""
                          }
                        },
                        "type": "scattercarpet"
                      }
                    ],
                    "scattergeo": [
                      {
                        "marker": {
                          "colorbar": {
                            "outlinewidth": 0,
                            "ticks": ""
                          }
                        },
                        "type": "scattergeo"
                      }
                    ],
                    "scattergl": [
                      {
                        "marker": {
                          "colorbar": {
                            "outlinewidth": 0,
                            "ticks": ""
                          }
                        },
                        "type": "scattergl"
                      }
                    ],
                    "scattermapbox": [
                      {
                        "marker": {
                          "colorbar": {
                            "outlinewidth": 0,
                            "ticks": ""
                          }
                        },
                        "type": "scattermapbox"
                      }
                    ],
                    "scatterpolar": [
                      {
                        "marker": {
                          "colorbar": {
                            "outlinewidth": 0,
                            "ticks": ""
                          }
                        },
                        "type": "scatterpolar"
                      }
                    ],
                    "scatterpolargl": [
                      {
                        "marker": {
                          "colorbar": {
                            "outlinewidth": 0,
                            "ticks": ""
                          }
                        },
                        "type": "scatterpolargl"
                      }
                    ],
                    "scatterternary": [
                      {
                        "marker": {
                          "colorbar": {
                            "outlinewidth": 0,
                            "ticks": ""
                          }
                        },
                        "type": "scatterternary"
                      }
                    ],
                    "surface": [
                      {
                        "colorbar": {
                          "outlinewidth": 0,
                          "ticks": ""
                        },
                        "colorscale": [
                          [
                            0,
                            "#0d0887"
                          ],
                          [
                            0.1111111111111111,
                            "#46039f"
                          ],
                          [
                            0.2222222222222222,
                            "#7201a8"
                          ],
                          [
                            0.3333333333333333,
                            "#9c179e"
                          ],
                          [
                            0.4444444444444444,
                            "#bd3786"
                          ],
                          [
                            0.5555555555555556,
                            "#d8576b"
                          ],
                          [
                            0.6666666666666666,
                            "#ed7953"
                          ],
                          [
                            0.7777777777777778,
                            "#fb9f3a"
                          ],
                          [
                            0.8888888888888888,
                            "#fdca26"
                          ],
                          [
                            1,
                            "#f0f921"
                          ]
                        ],
                        "type": "surface"
                      }
                    ],
                    "table": [
                      {
                        "cells": {
                          "fill": {
                            "color": "#EBF0F8"
                          },
                          "line": {
                            "color": "white"
                          }
                        },
                        "header": {
                          "fill": {
                            "color": "#C8D4E3"
                          },
                          "line": {
                            "color": "white"
                          }
                        },
                        "type": "table"
                      }
                    ]
                  },
                  "layout": {
                    "annotationdefaults": {
                      "arrowcolor": "#2a3f5f",
                      "arrowhead": 0,
                      "arrowwidth": 1
                    },
                    "autotypenumbers": "strict",
                    "coloraxis": {
                      "colorbar": {
                        "outlinewidth": 0,
                        "ticks": ""
                      }
                    },
                    "colorscale": {
                      "diverging": [
                        [
                          0,
                          "#8e0152"
                        ],
                        [
                          0.1,
                          "#c51b7d"
                        ],
                        [
                          0.2,
                          "#de77ae"
                        ],
                        [
                          0.3,
                          "#f1b6da"
                        ],
                        [
                          0.4,
                          "#fde0ef"
                        ],
                        [
                          0.5,
                          "#f7f7f7"
                        ],
                        [
                          0.6,
                          "#e6f5d0"
                        ],
                        [
                          0.7,
                          "#b8e186"
                        ],
                        [
                          0.8,
                          "#7fbc41"
                        ],
                        [
                          0.9,
                          "#4d9221"
                        ],
                        [
                          1,
                          "#276419"
                        ]
                      ],
                      "sequential": [
                        [
                          0,
                          "#0d0887"
                        ],
                        [
                          0.1111111111111111,
                          "#46039f"
                        ],
                        [
                          0.2222222222222222,
                          "#7201a8"
                        ],
                        [
                          0.3333333333333333,
                          "#9c179e"
                        ],
                        [
                          0.4444444444444444,
                          "#bd3786"
                        ],
                        [
                          0.5555555555555556,
                          "#d8576b"
                        ],
                        [
                          0.6666666666666666,
                          "#ed7953"
                        ],
                        [
                          0.7777777777777778,
                          "#fb9f3a"
                        ],
                        [
                          0.8888888888888888,
                          "#fdca26"
                        ],
                        [
                          1,
                          "#f0f921"
                        ]
                      ],
                      "sequentialminus": [
                        [
                          0,
                          "#0d0887"
                        ],
                        [
                          0.1111111111111111,
                          "#46039f"
                        ],
                        [
                          0.2222222222222222,
                          "#7201a8"
                        ],
                        [
                          0.3333333333333333,
                          "#9c179e"
                        ],
                        [
                          0.4444444444444444,
                          "#bd3786"
                        ],
                        [
                          0.5555555555555556,
                          "#d8576b"
                        ],
                        [
                          0.6666666666666666,
                          "#ed7953"
                        ],
                        [
                          0.7777777777777778,
                          "#fb9f3a"
                        ],
                        [
                          0.8888888888888888,
                          "#fdca26"
                        ],
                        [
                          1,
                          "#f0f921"
                        ]
                      ]
                    },
                    "colorway": [
                      "#636efa",
                      "#EF553B",
                      "#00cc96",
                      "#ab63fa",
                      "#FFA15A",
                      "#19d3f3",
                      "#FF6692",
                      "#B6E880",
                      "#FF97FF",
                      "#FECB52"
                    ],
                    "font": {
                      "color": "#2a3f5f"
                    },
                    "geo": {
                      "bgcolor": "white",
                      "lakecolor": "white",
                      "landcolor": "#E5ECF6",
                      "showlakes": true,
                      "showland": true,
                      "subunitcolor": "white"
                    },
                    "hoverlabel": {
                      "align": "left"
                    },
                    "hovermode": "closest",
                    "mapbox": {
                      "style": "light"
                    },
                    "paper_bgcolor": "white",
                    "plot_bgcolor": "#E5ECF6",
                    "polar": {
                      "angularaxis": {
                        "gridcolor": "white",
                        "linecolor": "white",
                        "ticks": ""
                      },
                      "bgcolor": "#E5ECF6",
                      "radialaxis": {
                        "gridcolor": "white",
                        "linecolor": "white",
                        "ticks": ""
                      }
                    },
                    "scene": {
                      "xaxis": {
                        "backgroundcolor": "#E5ECF6",
                        "gridcolor": "white",
                        "gridwidth": 2,
                        "linecolor": "white",
                        "showbackground": true,
                        "ticks": "",
                        "zerolinecolor": "white"
                      },
                      "yaxis": {
                        "backgroundcolor": "#E5ECF6",
                        "gridcolor": "white",
                        "gridwidth": 2,
                        "linecolor": "white",
                        "showbackground": true,
                        "ticks": "",
                        "zerolinecolor": "white"
                      },
                      "zaxis": {
                        "backgroundcolor": "#E5ECF6",
                        "gridcolor": "white",
                        "gridwidth": 2,
                        "linecolor": "white",
                        "showbackground": true,
                        "ticks": "",
                        "zerolinecolor": "white"
                      }
                    },
                    "shapedefaults": {
                      "line": {
                        "color": "#2a3f5f"
                      }
                    },
                    "ternary": {
                      "aaxis": {
                        "gridcolor": "white",
                        "linecolor": "white",
                        "ticks": ""
                      },
                      "baxis": {
                        "gridcolor": "white",
                        "linecolor": "white",
                        "ticks": ""
                      },
                      "bgcolor": "#E5ECF6",
                      "caxis": {
                        "gridcolor": "white",
                        "linecolor": "white",
                        "ticks": ""
                      }
                    },
                    "title": {
                      "x": 0.05
                    },
                    "xaxis": {
                      "automargin": true,
                      "gridcolor": "white",
                      "linecolor": "white",
                      "ticks": "",
                      "title": {
                        "standoff": 15
                      },
                      "zerolinecolor": "white",
                      "zerolinewidth": 2
                    },
                    "yaxis": {
                      "automargin": true,
                      "gridcolor": "white",
                      "linecolor": "white",
                      "ticks": "",
                      "title": {
                        "standoff": 15
                      },
                      "zerolinecolor": "white",
                      "zerolinewidth": 2
                    }
                  }
                },
                "xaxis": {
                  "title": {
                    "text": "Number"
                  }
                },
                "yaxis": {
                  "range": [
                    0,
                    90
                  ],
                  "title": {
                    "text": "Age"
                  }
                }
              }
            },
            "text/html": [
              "<div>                            <div id=\"dd810eb2-e79a-411a-8b15-78fcc97f3a35\" class=\"plotly-graph-div\" style=\"height:525px; width:100%;\"></div>            <script type=\"text/javascript\">                require([\"plotly\"], function(Plotly) {                    window.PLOTLYENV=window.PLOTLYENV || {};                                    if (document.getElementById(\"dd810eb2-e79a-411a-8b15-78fcc97f3a35\")) {                    Plotly.newPlot(                        \"dd810eb2-e79a-411a-8b15-78fcc97f3a35\",                        [{\"hoverinfo\":\"skip\",\"name\":\"Men 2020\",\"orientation\":\"h\",\"x\":[348811843.0,350830365.0,336664280.0,319156718.0,307679629.0,306211726.0,306266705.0,278640311.0,248236670.0,239355352.0,220278991.0,189860508.0,154440614.0,126205526.0,87911407.0,55248473.0,57359239.0],\"y\":[1,6,11,16,21,26,31,36,41,46,51,56,61,66,71,76,81],\"type\":\"bar\"},{\"hoverinfo\":\"skip\",\"name\":\"Men 2000\",\"orientation\":\"h\",\"x\":[319947454.0,317085952.0,319870427.0,293445532.0,263094592.0,256458181.0,241585037.0,216703667.0,187436101.0,166501073.0,131738554.0,102296144.0,90035292.0,71463003.0,53316050.0,32840343.0,25022711.0],\"y\":[1,6,11,16,21,26,31,36,41,46,51,56,61,66,71,76,81],\"type\":\"bar\"},{\"hoverinfo\":\"skip\",\"name\":\"Men 1980\",\"orientation\":\"h\",\"x\":[280764201.0,269517615.0,254320531.0,229605798.0,200112152.0,180986318.0,147779090.0,120596456.0,114432269.0,101742304.0,90547234.0,72797464.0,54728199.0,45560238.0,31983959.0,18860825.0,12616643.0],\"y\":[1,6,11,16,21,26,31,36,41,46,51,56,61,66,71,76,81],\"type\":\"bar\"},{\"hoverinfo\":\"skip\",\"name\":\"Women 2020\",\"orientation\":\"h\",\"x\":[-329041541.0,-329195144.0,-315193137.0,-299084307.0,-289085215.0,-290518089.0,-293649516.0,-269532767.0,-242130383.0,-236434353.0,-221422176.0,-195883003.0,-165529683.0,-141960156.0,-103925353.0,-70455922.0,-94006592.0],\"y\":[1,6,11,16,21,26,31,36,41,46,51,56,61,66,71,76,81],\"type\":\"bar\"},{\"hoverinfo\":\"skip\",\"name\":\"Women 2000\",\"orientation\":\"h\",\"x\":[-299176185.0,-297917803.0,-302850456.0,-280015254.0,-252662959.0,-248149260.0,-235168152.0,-212545788.0,-185210979.0,-166483260.0,-133190888.0,-105259506.0,-96389771.0,-80630658.0,-65710609.0,-47015814.0,-47104089.0],\"y\":[1,6,11,16,21,26,31,36,41,46,51,56,61,66,71,76,81],\"type\":\"bar\"},{\"hoverinfo\":\"skip\",\"name\":\"Women 1980\",\"orientation\":\"h\",\"x\":[-267412793.0,-256998617.0,-243007693.0,-220578126.0,-193604096.0,-176040198.0,-143616280.0,-117063946.0,-111724821.0,-100334966.0,-91860082.0,-79514338.0,-61979997.0,-55944386.0,-42979023.0,-28700454.0,-24037333.0],\"y\":[1,6,11,16,21,26,31,36,41,46,51,56,61,66,71,76,81],\"type\":\"bar\"}],                        {\"barmode\":\"overlay\",\"template\":{\"data\":{\"barpolar\":[{\"marker\":{\"line\":{\"color\":\"#E5ECF6\",\"width\":0.5},\"pattern\":{\"fillmode\":\"overlay\",\"size\":10,\"solidity\":0.2}},\"type\":\"barpolar\"}],\"bar\":[{\"error_x\":{\"color\":\"#2a3f5f\"},\"error_y\":{\"color\":\"#2a3f5f\"},\"marker\":{\"line\":{\"color\":\"#E5ECF6\",\"width\":0.5},\"pattern\":{\"fillmode\":\"overlay\",\"size\":10,\"solidity\":0.2}},\"type\":\"bar\"}],\"carpet\":[{\"aaxis\":{\"endlinecolor\":\"#2a3f5f\",\"gridcolor\":\"white\",\"linecolor\":\"white\",\"minorgridcolor\":\"white\",\"startlinecolor\":\"#2a3f5f\"},\"baxis\":{\"endlinecolor\":\"#2a3f5f\",\"gridcolor\":\"white\",\"linecolor\":\"white\",\"minorgridcolor\":\"white\",\"startlinecolor\":\"#2a3f5f\"},\"type\":\"carpet\"}],\"choropleth\":[{\"colorbar\":{\"outlinewidth\":0,\"ticks\":\"\"},\"type\":\"choropleth\"}],\"contourcarpet\":[{\"colorbar\":{\"outlinewidth\":0,\"ticks\":\"\"},\"type\":\"contourcarpet\"}],\"contour\":[{\"colorbar\":{\"outlinewidth\":0,\"ticks\":\"\"},\"colorscale\":[[0.0,\"#0d0887\"],[0.1111111111111111,\"#46039f\"],[0.2222222222222222,\"#7201a8\"],[0.3333333333333333,\"#9c179e\"],[0.4444444444444444,\"#bd3786\"],[0.5555555555555556,\"#d8576b\"],[0.6666666666666666,\"#ed7953\"],[0.7777777777777778,\"#fb9f3a\"],[0.8888888888888888,\"#fdca26\"],[1.0,\"#f0f921\"]],\"type\":\"contour\"}],\"heatmapgl\":[{\"colorbar\":{\"outlinewidth\":0,\"ticks\":\"\"},\"colorscale\":[[0.0,\"#0d0887\"],[0.1111111111111111,\"#46039f\"],[0.2222222222222222,\"#7201a8\"],[0.3333333333333333,\"#9c179e\"],[0.4444444444444444,\"#bd3786\"],[0.5555555555555556,\"#d8576b\"],[0.6666666666666666,\"#ed7953\"],[0.7777777777777778,\"#fb9f3a\"],[0.8888888888888888,\"#fdca26\"],[1.0,\"#f0f921\"]],\"type\":\"heatmapgl\"}],\"heatmap\":[{\"colorbar\":{\"outlinewidth\":0,\"ticks\":\"\"},\"colorscale\":[[0.0,\"#0d0887\"],[0.1111111111111111,\"#46039f\"],[0.2222222222222222,\"#7201a8\"],[0.3333333333333333,\"#9c179e\"],[0.4444444444444444,\"#bd3786\"],[0.5555555555555556,\"#d8576b\"],[0.6666666666666666,\"#ed7953\"],[0.7777777777777778,\"#fb9f3a\"],[0.8888888888888888,\"#fdca26\"],[1.0,\"#f0f921\"]],\"type\":\"heatmap\"}],\"histogram2dcontour\":[{\"colorbar\":{\"outlinewidth\":0,\"ticks\":\"\"},\"colorscale\":[[0.0,\"#0d0887\"],[0.1111111111111111,\"#46039f\"],[0.2222222222222222,\"#7201a8\"],[0.3333333333333333,\"#9c179e\"],[0.4444444444444444,\"#bd3786\"],[0.5555555555555556,\"#d8576b\"],[0.6666666666666666,\"#ed7953\"],[0.7777777777777778,\"#fb9f3a\"],[0.8888888888888888,\"#fdca26\"],[1.0,\"#f0f921\"]],\"type\":\"histogram2dcontour\"}],\"histogram2d\":[{\"colorbar\":{\"outlinewidth\":0,\"ticks\":\"\"},\"colorscale\":[[0.0,\"#0d0887\"],[0.1111111111111111,\"#46039f\"],[0.2222222222222222,\"#7201a8\"],[0.3333333333333333,\"#9c179e\"],[0.4444444444444444,\"#bd3786\"],[0.5555555555555556,\"#d8576b\"],[0.6666666666666666,\"#ed7953\"],[0.7777777777777778,\"#fb9f3a\"],[0.8888888888888888,\"#fdca26\"],[1.0,\"#f0f921\"]],\"type\":\"histogram2d\"}],\"histogram\":[{\"marker\":{\"pattern\":{\"fillmode\":\"overlay\",\"size\":10,\"solidity\":0.2}},\"type\":\"histogram\"}],\"mesh3d\":[{\"colorbar\":{\"outlinewidth\":0,\"ticks\":\"\"},\"type\":\"mesh3d\"}],\"parcoords\":[{\"line\":{\"colorbar\":{\"outlinewidth\":0,\"ticks\":\"\"}},\"type\":\"parcoords\"}],\"pie\":[{\"automargin\":true,\"type\":\"pie\"}],\"scatter3d\":[{\"line\":{\"colorbar\":{\"outlinewidth\":0,\"ticks\":\"\"}},\"marker\":{\"colorbar\":{\"outlinewidth\":0,\"ticks\":\"\"}},\"type\":\"scatter3d\"}],\"scattercarpet\":[{\"marker\":{\"colorbar\":{\"outlinewidth\":0,\"ticks\":\"\"}},\"type\":\"scattercarpet\"}],\"scattergeo\":[{\"marker\":{\"colorbar\":{\"outlinewidth\":0,\"ticks\":\"\"}},\"type\":\"scattergeo\"}],\"scattergl\":[{\"marker\":{\"colorbar\":{\"outlinewidth\":0,\"ticks\":\"\"}},\"type\":\"scattergl\"}],\"scattermapbox\":[{\"marker\":{\"colorbar\":{\"outlinewidth\":0,\"ticks\":\"\"}},\"type\":\"scattermapbox\"}],\"scatterpolargl\":[{\"marker\":{\"colorbar\":{\"outlinewidth\":0,\"ticks\":\"\"}},\"type\":\"scatterpolargl\"}],\"scatterpolar\":[{\"marker\":{\"colorbar\":{\"outlinewidth\":0,\"ticks\":\"\"}},\"type\":\"scatterpolar\"}],\"scatter\":[{\"fillpattern\":{\"fillmode\":\"overlay\",\"size\":10,\"solidity\":0.2},\"type\":\"scatter\"}],\"scatterternary\":[{\"marker\":{\"colorbar\":{\"outlinewidth\":0,\"ticks\":\"\"}},\"type\":\"scatterternary\"}],\"surface\":[{\"colorbar\":{\"outlinewidth\":0,\"ticks\":\"\"},\"colorscale\":[[0.0,\"#0d0887\"],[0.1111111111111111,\"#46039f\"],[0.2222222222222222,\"#7201a8\"],[0.3333333333333333,\"#9c179e\"],[0.4444444444444444,\"#bd3786\"],[0.5555555555555556,\"#d8576b\"],[0.6666666666666666,\"#ed7953\"],[0.7777777777777778,\"#fb9f3a\"],[0.8888888888888888,\"#fdca26\"],[1.0,\"#f0f921\"]],\"type\":\"surface\"}],\"table\":[{\"cells\":{\"fill\":{\"color\":\"#EBF0F8\"},\"line\":{\"color\":\"white\"}},\"header\":{\"fill\":{\"color\":\"#C8D4E3\"},\"line\":{\"color\":\"white\"}},\"type\":\"table\"}]},\"layout\":{\"annotationdefaults\":{\"arrowcolor\":\"#2a3f5f\",\"arrowhead\":0,\"arrowwidth\":1},\"autotypenumbers\":\"strict\",\"coloraxis\":{\"colorbar\":{\"outlinewidth\":0,\"ticks\":\"\"}},\"colorscale\":{\"diverging\":[[0,\"#8e0152\"],[0.1,\"#c51b7d\"],[0.2,\"#de77ae\"],[0.3,\"#f1b6da\"],[0.4,\"#fde0ef\"],[0.5,\"#f7f7f7\"],[0.6,\"#e6f5d0\"],[0.7,\"#b8e186\"],[0.8,\"#7fbc41\"],[0.9,\"#4d9221\"],[1,\"#276419\"]],\"sequential\":[[0.0,\"#0d0887\"],[0.1111111111111111,\"#46039f\"],[0.2222222222222222,\"#7201a8\"],[0.3333333333333333,\"#9c179e\"],[0.4444444444444444,\"#bd3786\"],[0.5555555555555556,\"#d8576b\"],[0.6666666666666666,\"#ed7953\"],[0.7777777777777778,\"#fb9f3a\"],[0.8888888888888888,\"#fdca26\"],[1.0,\"#f0f921\"]],\"sequentialminus\":[[0.0,\"#0d0887\"],[0.1111111111111111,\"#46039f\"],[0.2222222222222222,\"#7201a8\"],[0.3333333333333333,\"#9c179e\"],[0.4444444444444444,\"#bd3786\"],[0.5555555555555556,\"#d8576b\"],[0.6666666666666666,\"#ed7953\"],[0.7777777777777778,\"#fb9f3a\"],[0.8888888888888888,\"#fdca26\"],[1.0,\"#f0f921\"]]},\"colorway\":[\"#636efa\",\"#EF553B\",\"#00cc96\",\"#ab63fa\",\"#FFA15A\",\"#19d3f3\",\"#FF6692\",\"#B6E880\",\"#FF97FF\",\"#FECB52\"],\"font\":{\"color\":\"#2a3f5f\"},\"geo\":{\"bgcolor\":\"white\",\"lakecolor\":\"white\",\"landcolor\":\"#E5ECF6\",\"showlakes\":true,\"showland\":true,\"subunitcolor\":\"white\"},\"hoverlabel\":{\"align\":\"left\"},\"hovermode\":\"closest\",\"mapbox\":{\"style\":\"light\"},\"paper_bgcolor\":\"white\",\"plot_bgcolor\":\"#E5ECF6\",\"polar\":{\"angularaxis\":{\"gridcolor\":\"white\",\"linecolor\":\"white\",\"ticks\":\"\"},\"bgcolor\":\"#E5ECF6\",\"radialaxis\":{\"gridcolor\":\"white\",\"linecolor\":\"white\",\"ticks\":\"\"}},\"scene\":{\"xaxis\":{\"backgroundcolor\":\"#E5ECF6\",\"gridcolor\":\"white\",\"gridwidth\":2,\"linecolor\":\"white\",\"showbackground\":true,\"ticks\":\"\",\"zerolinecolor\":\"white\"},\"yaxis\":{\"backgroundcolor\":\"#E5ECF6\",\"gridcolor\":\"white\",\"gridwidth\":2,\"linecolor\":\"white\",\"showbackground\":true,\"ticks\":\"\",\"zerolinecolor\":\"white\"},\"zaxis\":{\"backgroundcolor\":\"#E5ECF6\",\"gridcolor\":\"white\",\"gridwidth\":2,\"linecolor\":\"white\",\"showbackground\":true,\"ticks\":\"\",\"zerolinecolor\":\"white\"}},\"shapedefaults\":{\"line\":{\"color\":\"#2a3f5f\"}},\"ternary\":{\"aaxis\":{\"gridcolor\":\"white\",\"linecolor\":\"white\",\"ticks\":\"\"},\"baxis\":{\"gridcolor\":\"white\",\"linecolor\":\"white\",\"ticks\":\"\"},\"bgcolor\":\"#E5ECF6\",\"caxis\":{\"gridcolor\":\"white\",\"linecolor\":\"white\",\"ticks\":\"\"}},\"title\":{\"x\":0.05},\"xaxis\":{\"automargin\":true,\"gridcolor\":\"white\",\"linecolor\":\"white\",\"ticks\":\"\",\"title\":{\"standoff\":15},\"zerolinecolor\":\"white\",\"zerolinewidth\":2},\"yaxis\":{\"automargin\":true,\"gridcolor\":\"white\",\"linecolor\":\"white\",\"ticks\":\"\",\"title\":{\"standoff\":15},\"zerolinecolor\":\"white\",\"zerolinewidth\":2}}},\"xaxis\":{\"title\":{\"text\":\"Number\"}},\"yaxis\":{\"range\":[0,90],\"title\":{\"text\":\"Age\"}}},                        {\"responsive\": true}                    ).then(function(){\n",
              "                            \n",
              "var gd = document.getElementById('dd810eb2-e79a-411a-8b15-78fcc97f3a35');\n",
              "var x = new MutationObserver(function (mutations, observer) {{\n",
              "        var display = window.getComputedStyle(gd).display;\n",
              "        if (!display || display === 'none') {{\n",
              "            console.log([gd, 'removed!']);\n",
              "            Plotly.purge(gd);\n",
              "            observer.disconnect();\n",
              "        }}\n",
              "}});\n",
              "\n",
              "// Listen for the removal of the full notebook cells\n",
              "var notebookContainer = gd.closest('#notebook-container');\n",
              "if (notebookContainer) {{\n",
              "    x.observe(notebookContainer, {childList: true});\n",
              "}}\n",
              "\n",
              "// Listen for the clearing of the current output cell\n",
              "var outputEl = gd.closest('.output');\n",
              "if (outputEl) {{\n",
              "    x.observe(outputEl, {childList: true});\n",
              "}}\n",
              "\n",
              "                        })                };                });            </script>        </div>"
            ]
          },
          "metadata": {},
          "output_type": "display_data"
        }
      ],
      "source": [
        "# Count down by increments of 20 years\n",
        "years = range(2020,1960,-20)\n",
        "\n",
        "# This makes a list of graphs, year by year\n",
        "bins = [go.Bar(x = df.loc[str(year),:].filter(regex=\"Male\").values,\n",
        "               y = [int(s[:2])+1 for s in age_ranges],\n",
        "               orientation='h',\n",
        "               name='Men {:d}'.format(year),\n",
        "               hoverinfo='skip'\n",
        "              )\n",
        "        for year in years]\n",
        "          \n",
        "bins += [go.Bar(x = -df.loc[str(year),:].filter(regex=\"Female\").values,\n",
        "                y=[int(s[:2])+1 for s in age_ranges],\n",
        "                orientation='h',\n",
        "                name='Women {:d}'.format(year),\n",
        "                hoverinfo='skip',\n",
        "               )\n",
        "         for year in years]\n",
        "\n",
        "py.iplot(dict(data=bins, layout=layout))"
      ]
    },
    {
      "cell_type": "markdown",
      "metadata": {},
      "source": []
    }
  ],
  "metadata": {
    "kernelspec": {
      "display_name": "Python 3",
      "language": "python",
      "name": "python3"
    },
    "language_info": {
      "codemirror_mode": {
        "name": "ipython",
        "version": 3
      },
      "file_extension": ".py",
      "mimetype": "text/x-python",
      "name": "python",
      "nbconvert_exporter": "python",
      "pygments_lexer": "ipython3",
      "version": "3.8.0"
    },
    "org": null
  },
  "nbformat": 4,
  "nbformat_minor": 0
}
