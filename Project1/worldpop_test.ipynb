{
 "cells": [
  {
   "cell_type": "code",
   "execution_count": 1,
   "metadata": {},
   "outputs": [
    {
     "ename": "ModuleNotFoundError",
     "evalue": "No module named 'team_malthus'",
     "output_type": "error",
     "traceback": [
      "\u001b[0;31m---------------------------------------------------------------------------\u001b[0m",
      "\u001b[0;31mModuleNotFoundError\u001b[0m                       Traceback (most recent call last)",
      "Cell \u001b[0;32mIn[1], line 7\u001b[0m\n\u001b[1;32m      3\u001b[0m \u001b[38;5;28;01mimport\u001b[39;00m \u001b[38;5;21;01mmatplotlib\u001b[39;00m\u001b[38;5;21;01m.\u001b[39;00m\u001b[38;5;21;01mpyplot\u001b[39;00m \u001b[38;5;28;01mas\u001b[39;00m \u001b[38;5;21;01mplt\u001b[39;00m \n\u001b[1;32m      5\u001b[0m sys\u001b[38;5;241m.\u001b[39mpath\u001b[38;5;241m.\u001b[39mappend(\u001b[38;5;124m'\u001b[39m\u001b[38;5;124m./src\u001b[39m\u001b[38;5;124m'\u001b[39m)\n\u001b[0;32m----> 7\u001b[0m \u001b[38;5;28;01mfrom\u001b[39;00m \u001b[38;5;21;01mteam_malthus\u001b[39;00m \u001b[38;5;28;01mimport\u001b[39;00m pop\n\u001b[1;32m      8\u001b[0m \u001b[38;5;28;01mfrom\u001b[39;00m \u001b[38;5;21;01mteam_malthus\u001b[39;00m \u001b[38;5;28;01mimport\u001b[39;00m worldpop\n",
      "\u001b[0;31mModuleNotFoundError\u001b[0m: No module named 'team_malthus'"
     ]
    }
   ],
   "source": [
    "\n",
    "import sys\n",
    "import numpy as np\n",
    "import matplotlib.pyplot as plt \n",
    "\n",
    "sys.path.append('./src')\n",
    "\n",
    "from team_malthus import pop\n",
    "from team_malthus import worldpop\n"
   ]
  },
  {
   "cell_type": "code",
   "execution_count": null,
   "metadata": {},
   "outputs": [],
   "source": [
    "polygon = \"\"\"{\"type\":\"FeatureCollection\",\"features\":[{\"type\":\"Feature\",\"properties\":{},\"geometry\":{ \"type\": \"Polygon\", \"coordinates\": [ [ [ 16.496742359554229, -19.872651217111134 ], [ 19.883257497523321, -19.872651217111134 ], [ 19.883257497523321, -21.948257269414771 ], [ 16.514949430188473, -21.893636057512044 ], [ 16.496742359554229, -19.872651217111134 ] ] ] }}]}\"\"\"\n",
    "\n",
    "agesexpyramid_df = worldpop.population_by_area(year, polygon)\n",
    "agesexpyramid_df['class'] = agesexpyramid_df['class'].astype(int)\n",
    "agesexpyramid_df_sorted = agesexpyramid_df.sort_values(by='class')\n",
    "\n",
    "# Plotting the DataFrame\n",
    "fig, ax = plt.subplots()\n",
    "\n",
    "# Stacking the male and female data for each age group\n",
    "ages = agesexpyramid_df_sorted['age']\n",
    "male_counts = agesexpyramid_df_sorted['male']\n",
    "female_counts = -agesexpyramid_df_sorted['female']  # Negate for left side of the pyramid\n",
    "\n",
    "ax.barh(ages, male_counts, label='Male')\n",
    "ax.barh(ages, female_counts, label='Female', color='pink')\n",
    "\n",
    "ax.set_xlabel('Rural Population Count')\n",
    "ax.set_title('Age-Sex Pyramid')\n",
    "ax.legend()\n",
    "\n",
    "# Display the plot\n",
    "\n",
    "\n",
    "\n",
    "plt.show()"
   ]
  }
 ],
 "metadata": {
  "kernelspec": {
   "display_name": ".venv",
   "language": "python",
   "name": "python3"
  },
  "language_info": {
   "codemirror_mode": {
    "name": "ipython",
    "version": 3
   },
   "file_extension": ".py",
   "mimetype": "text/x-python",
   "name": "python",
   "nbconvert_exporter": "python",
   "pygments_lexer": "ipython3",
   "version": "3.10.12"
  }
 },
 "nbformat": 4,
 "nbformat_minor": 2
}
