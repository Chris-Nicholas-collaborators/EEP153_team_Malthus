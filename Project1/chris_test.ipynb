{
 "cells": [
  {
   "cell_type": "code",
   "execution_count": null,
   "metadata": {},
   "outputs": [],
   "source": [
    "# a place to experiment with the demos of:"
   ]
  },
  {
   "cell_type": "code",
   "execution_count": 3,
   "metadata": {},
   "outputs": [
    {
     "name": "stdout",
     "output_type": "stream",
     "text": [
      "Collecting wbdata\n",
      "  Using cached wbdata-0.3.0-py3-none-any.whl (14 kB)\n",
      "Collecting appdirs<2.0,>=1.4 (from wbdata)\n",
      "  Using cached appdirs-1.4.4-py2.py3-none-any.whl (9.6 kB)\n",
      "Requirement already satisfied: decorator>=4.0 in ./.venv/lib/python3.8/site-packages (from wbdata) (5.1.1)\n",
      "Collecting requests>=2.0 (from wbdata)\n",
      "  Using cached requests-2.31.0-py3-none-any.whl.metadata (4.6 kB)\n",
      "Collecting tabulate>=0.8.5 (from wbdata)\n",
      "  Using cached tabulate-0.9.0-py3-none-any.whl (35 kB)\n",
      "Collecting charset-normalizer<4,>=2 (from requests>=2.0->wbdata)\n",
      "  Using cached charset_normalizer-3.3.2-cp38-cp38-macosx_10_9_x86_64.whl.metadata (33 kB)\n",
      "Collecting idna<4,>=2.5 (from requests>=2.0->wbdata)\n",
      "  Using cached idna-3.6-py3-none-any.whl.metadata (9.9 kB)\n",
      "Collecting urllib3<3,>=1.21.1 (from requests>=2.0->wbdata)\n",
      "  Using cached urllib3-2.1.0-py3-none-any.whl.metadata (6.4 kB)\n",
      "Collecting certifi>=2017.4.17 (from requests>=2.0->wbdata)\n",
      "  Using cached certifi-2023.11.17-py3-none-any.whl.metadata (2.2 kB)\n",
      "Using cached requests-2.31.0-py3-none-any.whl (62 kB)\n",
      "Using cached certifi-2023.11.17-py3-none-any.whl (162 kB)\n",
      "Using cached charset_normalizer-3.3.2-cp38-cp38-macosx_10_9_x86_64.whl (121 kB)\n",
      "Using cached idna-3.6-py3-none-any.whl (61 kB)\n",
      "Using cached urllib3-2.1.0-py3-none-any.whl (104 kB)\n",
      "Installing collected packages: appdirs, urllib3, tabulate, idna, charset-normalizer, certifi, requests, wbdata\n",
      "Successfully installed appdirs-1.4.4 certifi-2023.11.17 charset-normalizer-3.3.2 idna-3.6 requests-2.31.0 tabulate-0.9.0 urllib3-2.1.0 wbdata-0.3.0\n",
      "Note: you may need to restart the kernel to use updated packages.\n"
     ]
    },
    {
     "data": {
      "text/plain": [
       "  id  name\n",
       "----  --------------------------------------------------------------------\n",
       "   1  Doing Business\n",
       "   2  World Development Indicators\n",
       "   3  Worldwide Governance Indicators\n",
       "   5  Subnational Malnutrition Database\n",
       "   6  International Debt Statistics\n",
       "  11  Africa Development Indicators\n",
       "  12  Education Statistics\n",
       "  13  Enterprise Surveys\n",
       "  14  Gender Statistics\n",
       "  15  Global Economic Monitor\n",
       "  16  Health Nutrition and Population Statistics\n",
       "  18  IDA Results Measurement System\n",
       "  19  Millennium Development Goals\n",
       "  20  Quarterly Public Sector Debt\n",
       "  22  Quarterly External Debt Statistics SDDS\n",
       "  23  Quarterly External Debt Statistics GDDS\n",
       "  25  Jobs\n",
       "  27  Global Economic Prospects\n",
       "  28  Global Financial Inclusion\n",
       "  29  The Atlas of Social Protection: Indicators of Resilience and Equity\n",
       "  30  Exporter Dynamics Database – Indicators at Country-Year Level\n",
       "  31  Country Policy and Institutional Assessment\n",
       "  32  Global Financial Development\n",
       "  33  G20 Financial Inclusion Indicators\n",
       "  34  Global Partnership for Education\n",
       "  35  Sustainable Energy for All\n",
       "  37  LAC Equity Lab\n",
       "  38  Subnational Poverty\n",
       "  39  Health Nutrition and Population Statistics by Wealth Quintile\n",
       "  40  Population estimates and projections\n",
       "  41  Country Partnership Strategy for India (FY2013 - 17)\n",
       "  43  Adjusted Net Savings\n",
       "  45  Indonesia Database for Policy and Economic Research\n",
       "  46  Sustainable Development Goals\n",
       "  50  Subnational Population\n",
       "  54  Joint External Debt Hub\n",
       "  57  WDI Database Archives\n",
       "  58  Universal Health Coverage\n",
       "  59  Wealth Accounts\n",
       "  60  Economic Fitness\n",
       "  61  PPPs Regulatory Quality\n",
       "  62  International Comparison Program (ICP) 2011\n",
       "  63  Human Capital Index\n",
       "  64  Worldwide Bureaucracy Indicators\n",
       "  65  Health Equity and Financial Protection Indicators\n",
       "  66  Logistics Performance Index\n",
       "  67  PEFA 2011\n",
       "  68  PEFA 2016\n",
       "  69  Global Financial Inclusion and Consumer Protection Survey\n",
       "  70  Economic Fitness 2\n",
       "  71  International Comparison Program (ICP) 2005\n",
       "  73  Global Financial Inclusion and Consumer Protection Survey (Internal)\n",
       "  75  Environment, Social and Governance (ESG) Data\n",
       "  76  Remittance Prices Worldwide (Sending Countries)\n",
       "  77  Remittance Prices Worldwide (Receiving Countries)\n",
       "  78  ICP 2017\n",
       "  79  PEFA_GRPFM\n",
       "  80  Gender Disaggregated Labor Database (GDLD)\n",
       "  81  International Debt Statistics: DSSI\n",
       "  82  Global Public Procurement\n",
       "  83  Statistical Performance Indicators (SPI)\n",
       "  84  Education Policy\n",
       "  85  PEFA_2021_SNG\n",
       "  86  Global Jobs Indicators Database (JOIN)\n",
       "  87  Country Climate and Development Report (CCDR)\n",
       "  88  Food Prices for Nutrition\n",
       "  89  Identification for Development (ID4D) Data"
      ]
     },
     "execution_count": 3,
     "metadata": {},
     "output_type": "execute_result"
    }
   ],
   "source": [
    "%pip install wbdata\n",
    "import wbdata\n",
    "wbdata.get_source() "
   ]
  },
  {
   "cell_type": "code",
   "execution_count": null,
   "metadata": {},
   "outputs": [],
   "source": []
  }
 ],
 "metadata": {
  "kernelspec": {
   "display_name": ".venv",
   "language": "python",
   "name": "python3"
  },
  "language_info": {
   "codemirror_mode": {
    "name": "ipython",
    "version": 3
   },
   "file_extension": ".py",
   "mimetype": "text/x-python",
   "name": "python",
   "nbconvert_exporter": "python",
   "pygments_lexer": "ipython3",
   "version": "3.8.0"
  }
 },
 "nbformat": 4,
 "nbformat_minor": 2
}
