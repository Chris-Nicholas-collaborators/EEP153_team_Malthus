{
 "cells": [
  {
   "cell_type": "markdown",
   "metadata": {},
   "source": [
    "## [EEP153] Week 6\n",
    "\n"
   ]
  },
  {
   "cell_type": "markdown",
   "metadata": {},
   "source": [
    "Some programming learning goals for week 6:\n",
    "\n",
    "1.  String formatting and operations\n",
    "2.  Exceptions\n",
    "3.  More useful pandas practice\n",
    "\n"
   ]
  },
  {
   "cell_type": "markdown",
   "metadata": {},
   "source": [
    "### 1. String Formatting Exercise\n",
    "\n"
   ]
  },
  {
   "cell_type": "markdown",
   "metadata": {},
   "source": [
    "Use [https://pyformat.info/>](https://pyformat.info/>)as a reference. \n",
    "\n"
   ]
  },
  {
   "cell_type": "code",
   "execution_count": 1,
   "metadata": {},
   "outputs": [],
   "source": [
    "myCat = { \"Name\":\"Beatrice\", \"Age\":7,\"Nickname\":\"Queen B\"}\n",
    "\n",
    "# Exercise: Print out the string \"My cat's name is Beatrice, but we usually call her Queen B.\""
   ]
  },
  {
   "cell_type": "markdown",
   "metadata": {},
   "source": [
    "#### 2. Errors\n",
    "\n"
   ]
  },
  {
   "cell_type": "markdown",
   "metadata": {},
   "source": [
    "There are two types of errors: syntax errors, and exceptions.\n",
    "\n",
    "Syntax errors occur when the parser detects an incorrect statement.\n",
    "Exception errors occur when whenever syntactically correct Python code\n",
    "results in an error. Python comes with various built-in exceptions as\n",
    "well as the possibility to create self-defined exceptions.\n",
    "\n"
   ]
  },
  {
   "cell_type": "markdown",
   "metadata": {},
   "source": [
    "##### Raising an exception\n",
    "\n"
   ]
  },
  {
   "cell_type": "markdown",
   "metadata": {},
   "source": [
    "We can use raise to throw an exception if a condition occurs. For\n",
    "example: run the code below, then un-comment the second line of code and\n",
    "run again.\n",
    "\n"
   ]
  },
  {
   "cell_type": "code",
   "execution_count": 1,
   "metadata": {},
   "outputs": [],
   "source": [
    "x = '50'\n",
    "#if isinstance(x,(str)): raise Exception('x should not be formatted as a string')\n",
    "print(x)"
   ]
  },
  {
   "cell_type": "markdown",
   "metadata": {},
   "source": [
    "##### Try, Except, Finally\n",
    "\n"
   ]
  },
  {
   "cell_type": "markdown",
   "metadata": {},
   "source": [
    "A try block lets you test a block of code for errors, an except block\n",
    "lets you handle the error, and a finally block lets you execute code,\n",
    "regardless of the result of the try- and except blocks. \n",
    "\n",
    " You can have multiple except blocks, which allow you to\n",
    "respond in a particular way to different types of errors.\n",
    "\n",
    " In the example below, try running the code as is, then\n",
    "after un-commenting the first line. See you if you can fix the error.\n",
    "\n"
   ]
  },
  {
   "cell_type": "code",
   "execution_count": 1,
   "metadata": {},
   "outputs": [],
   "source": [
    "#w = 20\n",
    "y = '25'\n",
    "try:\n",
    "    print('w = ' + w)\n",
    "except NameError:\n",
    "    print(\"Variable w is not defined\")\n",
    "except:  # You *can* catch all errors, but probably shouldn't.\n",
    "    print(\"Something else went wrong\")\n",
    "finally:\n",
    "    print('y = ' + y)"
   ]
  },
  {
   "cell_type": "markdown",
   "metadata": {},
   "source": [
    "#### 3. More useful pandas practice\n",
    "\n"
   ]
  },
  {
   "cell_type": "code",
   "execution_count": 1,
   "metadata": {},
   "outputs": [],
   "source": [
    "import pandas as pd\n",
    "import numpy as np\n",
    "\n",
    "#sample dataset from https://ww2.amstat.org/censusatschool/"
   ]
  },
  {
   "cell_type": "code",
   "execution_count": 1,
   "metadata": {},
   "outputs": [],
   "source": [
    "#If your dataset is located in the same folder as your code, reading a CSV is straightforward:\n",
    "\n",
    "df = pd.read_csv('Example_CAStudents.csv')\n",
    "df.head()"
   ]
  },
  {
   "cell_type": "code",
   "execution_count": 1,
   "metadata": {},
   "outputs": [],
   "source": [
    "df.index"
   ]
  },
  {
   "cell_type": "code",
   "execution_count": 1,
   "metadata": {},
   "outputs": [],
   "source": [
    "df.columns"
   ]
  },
  {
   "cell_type": "code",
   "execution_count": 1,
   "metadata": {},
   "outputs": [],
   "source": [
    "#describe() shows a quick statistic summary of your data:\n",
    "df.describe()"
   ]
  },
  {
   "cell_type": "markdown",
   "metadata": {},
   "source": [
    "##### Quick manipulations\n",
    "\n"
   ]
  },
  {
   "cell_type": "code",
   "execution_count": 1,
   "metadata": {},
   "outputs": [],
   "source": [
    "#to transpose your data:\n",
    "df.T\n",
    "\n",
    "#to sort your data by a colum (say we wanted to sort by age, or the column 'Ageyears')\n",
    "df.sort_values(by='Ageyears')"
   ]
  },
  {
   "cell_type": "markdown",
   "metadata": {},
   "source": [
    "##### Selecting data\n",
    "\n"
   ]
  },
  {
   "cell_type": "code",
   "execution_count": 1,
   "metadata": {},
   "outputs": [],
   "source": [
    "#selecting a single column (these methods get the same result)\n",
    "h_1 = df['Height_cm']\n",
    "h_2 = df.Height_cm"
   ]
  },
  {
   "cell_type": "code",
   "execution_count": 1,
   "metadata": {},
   "outputs": [],
   "source": [
    "#selecting a subset of columns (note that both endpoints are included in the selection)\n",
    "df.loc[:, ['Country','ClassGrade']]"
   ]
  },
  {
   "cell_type": "code",
   "execution_count": 1,
   "metadata": {},
   "outputs": [],
   "source": [
    "#selecting a subset of rows (note that the second endpoint is *not* included in the selection)\n",
    "df[0:2]"
   ]
  },
  {
   "cell_type": "code",
   "execution_count": 1,
   "metadata": {},
   "outputs": [],
   "source": [
    "#getting a single value\n",
    "df.at[1, 'Superpower']"
   ]
  },
  {
   "cell_type": "code",
   "execution_count": 1,
   "metadata": {},
   "outputs": [],
   "source": [
    "# Exercise: use pandas manipulations to construct a sub-dataset of the 5 tallest girls, sorted by age, \n",
    "#    and removing from the data all of the \"hours\" columns (ie Work_At_Home_Hours)\n",
    "\n",
    "s = #your code here"
   ]
  }
 ],
 "metadata": {
  "kernelspec": {
   "display_name": "Python 3",
   "language": "python",
   "name": "python3"
  },
  "language_info": {
   "codemirror_mode": {
    "name": "ipython",
    "version": 3
   },
   "file_extension": ".py",
   "mimetype": "text/x-python",
   "name": "python",
   "nbconvert_exporter": "python",
   "pygments_lexer": "ipython3",
   "version": "3.7.1"
  },
  "org": null
 },
 "nbformat": 4,
 "nbformat_minor": 1
}
