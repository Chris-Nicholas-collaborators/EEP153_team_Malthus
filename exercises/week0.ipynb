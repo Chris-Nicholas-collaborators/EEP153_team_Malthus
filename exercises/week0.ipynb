{
  "cells": [
    {
      "cell_type": "markdown",
      "metadata": {},
      "source": [
        "## [EEP153] Week 0\n\n"
      ]
    },
    {
      "cell_type": "markdown",
      "metadata": {},
      "source": [
        "### Learning goals\n\n"
      ]
    },
    {
      "cell_type": "markdown",
      "metadata": {},
      "source": [
        "1.  Open a `jupyter` notebook on `datahub.berkeley.edu`.\n2.  Understand simple `python` expressions.\n3.  Work with lists & dictionaries.\n4.  Work with `pandas.DataFrames`.\n5.  Submit indication of completion.\n\n"
      ]
    },
    {
      "cell_type": "markdown",
      "metadata": {},
      "source": [
        "#### Simple Expressions\n\n"
      ]
    },
    {
      "cell_type": "markdown",
      "metadata": {},
      "source": [
        "Python is a general purpose language, extended via *modules*.\nOne important aspect of python are *expressions*.  Here are some examples:\n\n"
      ]
    },
    {
      "cell_type": "code",
      "execution_count": 1,
      "metadata": {},
      "outputs": [],
      "source": [
        "# Arithmetic \n1 + 1\n\n# String (Delineated using single- or double-quotes)\n\"Hello world!\"\n\n# To see output, using a \"print\" statement:\nprint(1+1)\nprint(\"Hello\" + \"world!\")"
      ]
    },
    {
      "cell_type": "markdown",
      "metadata": {},
      "source": [
        "The above provides examples of:\n\n-   **Comments:** Text that begins with a &ldquo;#&rdquo; character.\n-   **Function calls:** Something that takes arguments (in parentheses)\n    and returns some output.  Here &ldquo;print&rdquo; is a\n    function.\n-   **Objects:** 1 and &ldquo;Hello&rdquo; are examples of objects.\n-   **Operators:** &ldquo;+&rdquo; is an operator.  Notice that it functions\n    differently depending on what it&rsquo;s operating on;\n    that&rsquo;s because its operation depends on the `type`\n    of the objects (*operands*) it&rsquo;s operating on.\n\nPredict the output of the following two lines:\n\n"
      ]
    },
    {
      "cell_type": "code",
      "execution_count": 1,
      "metadata": {},
      "outputs": [],
      "source": [
        "print(type(1+1))\nprint(type(\"Hello\"))"
      ]
    },
    {
      "cell_type": "markdown",
      "metadata": {},
      "source": [
        "#### Lists\n\n"
      ]
    },
    {
      "cell_type": "markdown",
      "metadata": {},
      "source": [
        "Strings and integers are simple examples of different data types (or\nobjects).  A very important type that is more complicated are\n`lists`.  Here are some examples.  Examine them, and predict the output:\n\n"
      ]
    },
    {
      "cell_type": "code",
      "execution_count": 1,
      "metadata": {},
      "outputs": [],
      "source": [
        "a = [1,2,3]\nb = [\"Hello\",\"world\"]\n\nc = a + b\nprint(c)\nprint(len(c))  # Here len returns the \"length\" of the list."
      ]
    },
    {
      "cell_type": "markdown",
      "metadata": {},
      "source": [
        "Extra optional practice to refresh yourself with list manipulation and slicing.\nExamine these first, then predict the output.\n\n"
      ]
    },
    {
      "cell_type": "code",
      "execution_count": 1,
      "metadata": {},
      "outputs": [],
      "source": [
        "print(c[2]) # Remember how Python counts arrays.\nprint(c[1:2]) # Why does Python only return one item instead of two?\nprint(b[0]*4)\nprint(c[0::2])\nprint(list(map(lambda x: x*2,a)))"
      ]
    },
    {
      "cell_type": "markdown",
      "metadata": {},
      "source": [
        "#### Dictionaries\n\n"
      ]
    },
    {
      "cell_type": "markdown",
      "metadata": {},
      "source": [
        "Another very basic kind of compound object are `dicts` (dictionaries;\nalso called associative arrays or hashes in other languages).  Predict\nthe output:\n\n"
      ]
    },
    {
      "cell_type": "code",
      "execution_count": 1,
      "metadata": {},
      "outputs": [],
      "source": [
        "d = {'name': \"Barney\", 'species': \"Dinosaur\", 'age': 27, 'color': \"Purple\"}\n\nprint(\"{name} the {species} is {color}.\".format(**d))"
      ]
    },
    {
      "cell_type": "markdown",
      "metadata": {},
      "source": [
        "#### DataFrames\n\n"
      ]
    },
    {
      "cell_type": "markdown",
      "metadata": {},
      "source": [
        "A much more complicated data structure is provided by a module called\n`pandas`; you can find a quick tutorial at\n[http://pandas.pydata.org/pandas-docs/version/0.23/10min.html](http://pandas.pydata.org/pandas-docs/version/0.23/10min.html).  The\nDataFrame object will be very important for us.\n\nThe `pandas` module provides a data structure called a `DataFrame`.\nThese are basically rectangular arrays of data, with names for rows\nand columns, rather like a spreadsheet.  In fact, one important thing\none can do with DataFrames is to import data *from* spreadsheets.\n\n"
      ]
    },
    {
      "cell_type": "code",
      "execution_count": 1,
      "metadata": {},
      "outputs": [],
      "source": [
        "import pandas as pd\n\n# Try looking at https://docs.google.com/spreadsheets/d/1ObK5N_5aVXzVHE7ZXWBg0kQvPS3k1enRwsUjhytwh5A in your browser.\nSHEET = \"https://docs.google.com/spreadsheets/d/1q1ikP1CXCcLf_Tq6VbhoskOYRvn_nDU5MHStIoVzMgA\"\n\n# The following line goes on-line and turns the spreadsheet into a pandas DataFrame:\ndf = pd.read_csv(SHEET + \"/export?format=csv\")\n\n# This line will show us only the first five rows of data. Try removing .head() to see the full list of items.\n# Guess what happens if you replace .head() with .tail(). Try it out!\ndf.head()"
      ]
    },
    {
      "cell_type": "markdown",
      "metadata": {},
      "source": [
        "If this worked (!) you should be able to see some data from a recent\nshopping trip of mine.  What are the different variables available in\nthe DataFrame `df`?  They correspond to the *columns* of the spreadsheet.\n\n"
      ]
    },
    {
      "cell_type": "code",
      "execution_count": 1,
      "metadata": {},
      "outputs": [],
      "source": [
        "df.columns"
      ]
    },
    {
      "cell_type": "markdown",
      "metadata": {},
      "source": [
        "Now, what else can we do?  Let&rsquo;s figure out how much my total grocery\nbill was:\n\n"
      ]
    },
    {
      "cell_type": "code",
      "execution_count": 1,
      "metadata": {},
      "outputs": [],
      "source": [
        "df['Price'].sum()"
      ]
    },
    {
      "cell_type": "markdown",
      "metadata": {},
      "source": [
        "Let&rsquo;s say I&rsquo;m on a budget. Naturally, we&rsquo;d want to identify the item(s)\nI&rsquo;m spending the most on. We can sort the values to investigate further.\n\n"
      ]
    },
    {
      "cell_type": "code",
      "execution_count": 1,
      "metadata": {},
      "outputs": [],
      "source": [
        "# Note that we're indicating we want to sort by the 'Price' column and specify that it should be in descending order.\ndf.sort_values(by='Price', ascending=False).head()"
      ]
    },
    {
      "cell_type": "markdown",
      "metadata": {},
      "source": [
        "Everything here looks straightforward, but let&rsquo;s take a closer look at\nRed Endive and calculate the price per pound to make comparison easier.\n\n"
      ]
    },
    {
      "cell_type": "code",
      "execution_count": 1,
      "metadata": {},
      "outputs": [],
      "source": [
        "# This line selects the 7th item in the dataframe (note the index number is 6 because we start counting at 0 when we use Python)\n# and selects the 'Price' value for this particular item. It divides it by 'Quantity' to get the price per pound.\ndf.iloc[6]['Price']/df.iloc[6]['Quantity']"
      ]
    },
    {
      "cell_type": "markdown",
      "metadata": {},
      "source": [
        "You&rsquo;ll find throughout the semester that unit price is a pretty useful statistic\nto calculate. Let&rsquo;s do it for all the items on this grocery list. Thankfully we\ndon&rsquo;t have to do this one by one.\n\n"
      ]
    },
    {
      "cell_type": "code",
      "execution_count": 1,
      "metadata": {},
      "outputs": [],
      "source": [
        "# This line creates a new column in our dataframe named 'Unit Price' and populates each row with the respective price value \n# divided by the quantity value.\ndf['Unit Price'] = df['Price']/df['Quantity']\ndf.head()"
      ]
    },
    {
      "cell_type": "markdown",
      "metadata": {},
      "source": [
        "Almost there! Let&rsquo;s pare down our dataframe to look more friendly to the eye. We\ndon&rsquo;t want to see the following columns: Date, Location, NDB. Also, we only want to see\nthe first five items of the dataframe. \n\nIn the previous blocks, we used .iloc which stands for index (or integer) location. We used integers to specify which\ncolumns we wanted. In this section, we&rsquo;ll use .loc which allows us to use column labels. For extra practice, try to\nachieve the same result but by using .iloc instead.\n\n"
      ]
    },
    {
      "cell_type": "code",
      "execution_count": 1,
      "metadata": {},
      "outputs": [],
      "source": [
        "# Note that in both the .iloc and .loc syntax, the first set of parameters refer to rows and the second set refer to columns.\ndf.loc[0:5, ['Food', 'Quantity', 'Units', 'Price', 'Unit Price']]"
      ]
    },
    {
      "cell_type": "markdown",
      "metadata": {},
      "source": [
        "Here&rsquo;s one last exercise that might be useful. Often times you will only want to view data\nthat fits a certain criterion. In this case, let&rsquo;s only look at items where the unit price\nis less than 1.\n\n"
      ]
    },
    {
      "cell_type": "code",
      "execution_count": 1,
      "metadata": {},
      "outputs": [],
      "source": [
        "# This line will return all rows in the dataframe where the Unit Price is < 1. Using what we've covered prior,\n# modify the view of this dataframe to only include Food and Unit Price.\ndf[df['Unit Price'] < 1]"
      ]
    },
    {
      "cell_type": "markdown",
      "metadata": {},
      "source": [
        "Extra things to refresh that may be helpful for Project 1: basic visualizations, datatypes, index, joins.\n\n"
      ]
    },
    {
      "cell_type": "markdown",
      "metadata": {},
      "source": [
        "#### Final words\n\n"
      ]
    },
    {
      "cell_type": "markdown",
      "metadata": {},
      "source": [
        "Throughout this class, you will be exposed to a variety of Python modules and tools and the data that you work with\nmay or may not be cleaned. In any case, learning how to find and use online documentation/resources is a\nvaluable skill that will benefit you greatly in this course and beyond. Be sure to utilize our course discussion\nfor any questions you might have - there&rsquo;s a good chance a peer may have a similar question or have the answer.\nAs the semester goes on, course staff will update the &ldquo;Useful Links/Resources&rdquo; post with any outside Python resources \nthat may be helpful for the whole class.\n\n"
      ]
    }
  ],
  "metadata": {
    "org": null,
    "kernelspec": {
      "display_name": "Python 3",
      "language": "python",
      "name": "python3"
    },
    "language_info": {
      "codemirror_mode": {
        "name": "ipython",
        "version": 3
      },
      "file_extension": ".py",
      "mimetype": "text/x-python",
      "name": "python",
      "nbconvert_exporter": "python",
      "pygments_lexer": "ipython3",
      "version": "3.5.2"
    }
  },
  "nbformat": 4,
  "nbformat_minor": 0
}
