{
 "cells": [
  {
   "cell_type": "markdown",
   "metadata": {},
   "source": [
    "# EEP 153 Python Intro 2: Functions, Conditionals, For Loops"
   ]
  },
  {
   "cell_type": "markdown",
   "metadata": {},
   "source": [
    "**For students who have not had exposure to coding before** (Adapted from Data 8 & EEP 153 past materials)"
   ]
  },
  {
   "cell_type": "markdown",
   "metadata": {},
   "source": [
    "Learning Goals:\n",
    "1. Learn how to write simple Python functions\n",
    "2. Understand how to write and use if/else statements \n",
    "3. Learn to iterate through a list with for Loops"
   ]
  },
  {
   "cell_type": "markdown",
   "metadata": {},
   "source": [
    "## 1. Python Functions"
   ]
  },
  {
   "cell_type": "markdown",
   "metadata": {},
   "source": [
    "A function is an organizable and reusable block of code that is ran when it is called. For example:"
   ]
  },
  {
   "cell_type": "code",
   "execution_count": 17,
   "metadata": {},
   "outputs": [],
   "source": [
    "#define the function\n",
    "def add_numbers(x,y):\n",
    "    return x+y"
   ]
  },
  {
   "cell_type": "code",
   "execution_count": 18,
   "metadata": {},
   "outputs": [
    {
     "data": {
      "text/plain": [
       "3"
      ]
     },
     "execution_count": 18,
     "metadata": {},
     "output_type": "execute_result"
    }
   ],
   "source": [
    "#call the function\n",
    "add_numbers(1,2)"
   ]
  },
  {
   "cell_type": "markdown",
   "metadata": {},
   "source": [
    "You can now call add_numbers any time in this notebook, instead of manually typing numbers to add every time. Let's look at a few more examples."
   ]
  },
  {
   "cell_type": "code",
   "execution_count": 19,
   "metadata": {},
   "outputs": [],
   "source": [
    "def is_even(num):\n",
    "    if num%2 == 0:\n",
    "        return True\n",
    "    else:\n",
    "        return False"
   ]
  },
  {
   "cell_type": "code",
   "execution_count": 20,
   "metadata": {},
   "outputs": [
    {
     "data": {
      "text/plain": [
       "True"
      ]
     },
     "execution_count": 20,
     "metadata": {},
     "output_type": "execute_result"
    }
   ],
   "source": [
    "is_even(1234)"
   ]
  },
  {
   "cell_type": "code",
   "execution_count": 22,
   "metadata": {},
   "outputs": [],
   "source": [
    "def buzzer(y):\n",
    "    for i in list(range(y+1)):\n",
    "        if i%5 == 0:\n",
    "            print ('Buzz!')\n",
    "        else:\n",
    "            print (i)"
   ]
  },
  {
   "cell_type": "code",
   "execution_count": 23,
   "metadata": {},
   "outputs": [
    {
     "name": "stdout",
     "output_type": "stream",
     "text": [
      "Buzz!\n",
      "1\n",
      "2\n",
      "3\n",
      "4\n",
      "Buzz!\n",
      "6\n",
      "7\n",
      "8\n",
      "9\n",
      "Buzz!\n"
     ]
    }
   ],
   "source": [
    "buzzer(10)"
   ]
  },
  {
   "cell_type": "markdown",
   "metadata": {},
   "source": [
    "## 2. Conditional Statements"
   ]
  },
  {
   "cell_type": "markdown",
   "metadata": {},
   "source": [
    "This is an introduction to if/else statements in Python. These help with decision making when certain conditions are satisfied. If statements work very well within functions."
   ]
  },
  {
   "cell_type": "code",
   "execution_count": 30,
   "metadata": {},
   "outputs": [
    {
     "data": {
      "text/plain": [
       "'a is not greater than b'"
      ]
     },
     "execution_count": 30,
     "metadata": {},
     "output_type": "execute_result"
    }
   ],
   "source": [
    "#Example 1\n",
    "a = 5\n",
    "b = 10\n",
    "def greater_than(a,b):\n",
    "    if a > b:\n",
    "        return (\"a is greater than b\")\n",
    "    else:\n",
    "        return (\"a is not greater than b\")\n",
    "greater_than(a,b)"
   ]
  },
  {
   "cell_type": "markdown",
   "metadata": {},
   "source": [
    "Basically, what this function does is compare a to b, the inputs of the function. If the conditional a > b is met, then the function returns \"a is greater than b\". In all other conditionals (hence the else), the function returns \"a is not greater than b.\""
   ]
  },
  {
   "cell_type": "code",
   "execution_count": 31,
   "metadata": {},
   "outputs": [
    {
     "data": {
      "text/plain": [
       "'n is positive'"
      ]
     },
     "execution_count": 31,
     "metadata": {},
     "output_type": "execute_result"
    }
   ],
   "source": [
    "#Example 2\n",
    "def is_positive(n):\n",
    "    if n > 0:\n",
    "        return 'n is positive'\n",
    "    elif n == 0:\n",
    "        return 'n is equal to zero'\n",
    "    else:\n",
    "        return 'n is negative'\n",
    "is_positive(23)"
   ]
  },
  {
   "cell_type": "markdown",
   "metadata": {},
   "source": [
    "In this function, we are evaluating whether the input, n, is positive or negative. If n is positive, we return \"n is positive\". Using the phrase 'elif', AKA Python's \"else if\", n is equal to 0, we return \"n is equal to zero.\" Lastly, we write else to include all other situations (which represents when n is a negative number), to return \"n is negative.\""
   ]
  },
  {
   "cell_type": "markdown",
   "metadata": {},
   "source": [
    "## 3. For Loops"
   ]
  },
  {
   "cell_type": "markdown",
   "metadata": {},
   "source": [
    "For loops are the most common form of iteration in Python, used to iterate over a sequence (such as a list or array). "
   ]
  },
  {
   "cell_type": "code",
   "execution_count": 4,
   "metadata": {},
   "outputs": [
    {
     "name": "stdout",
     "output_type": "stream",
     "text": [
      "a\n",
      "b\n",
      "c\n",
      "d\n",
      "e\n"
     ]
    }
   ],
   "source": [
    "#Example 1\n",
    "first_letters = ['a', 'b', 'c', 'd', 'e']\n",
    "\n",
    "for letter in first_letters:\n",
    "    print (letter)"
   ]
  },
  {
   "cell_type": "markdown",
   "metadata": {},
   "source": [
    "In this example, we define first letters as a list of the first 5 letters of the alphabet. Then, we examine the for loop: for each object (we call this object i) in the list first_letters, we want to print object i. So when we run the function, we will print out each object one by one in the list first_letters by iterating through the list."
   ]
  },
  {
   "cell_type": "code",
   "execution_count": 6,
   "metadata": {},
   "outputs": [
    {
     "data": {
      "text/plain": [
       "[0, 1, 2, 3, 4, 5, 6, 7, 8, 9]"
      ]
     },
     "execution_count": 6,
     "metadata": {},
     "output_type": "execute_result"
    }
   ],
   "source": [
    "#Example 2\n",
    "numbers = list(range(10))\n",
    "numbers"
   ]
  },
  {
   "cell_type": "code",
   "execution_count": 8,
   "metadata": {},
   "outputs": [
    {
     "name": "stdout",
     "output_type": "stream",
     "text": [
      "0\n",
      "2\n",
      "4\n",
      "6\n",
      "8\n"
     ]
    }
   ],
   "source": [
    "for i in numbers:\n",
    "    if i%2 == 0:\n",
    "        print (i)\n",
    "    else:\n",
    "        pass"
   ]
  },
  {
   "cell_type": "markdown",
   "metadata": {},
   "source": [
    "In this example, I added an if statement into the for loop. This for loop goes through the list numbers element by element. If the element is divisible by 2, print element i. Otherwise, the element is ignored. "
   ]
  }
 ],
 "metadata": {
  "kernelspec": {
   "display_name": "Python 3",
   "language": "python",
   "name": "python3"
  },
  "language_info": {
   "codemirror_mode": {
    "name": "ipython",
    "version": 3
   },
   "file_extension": ".py",
   "mimetype": "text/x-python",
   "name": "python",
   "nbconvert_exporter": "python",
   "pygments_lexer": "ipython3",
   "version": "3.8.3"
  }
 },
 "nbformat": 4,
 "nbformat_minor": 4
}
